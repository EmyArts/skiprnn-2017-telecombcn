{
 "cells": [
  {
   "cell_type": "code",
   "execution_count": 522,
   "metadata": {
    "pycharm": {
     "name": "#%% Import files\n"
    }
   },
   "outputs": [],
   "source": [
    "import pandas as pd\n",
    "import os\n",
    "import numpy as np\n",
    "import matplotlib.pyplot as plt\n",
    "import pickle\n",
    "import matplotlib\n",
    "from matplotlib.lines import Line2D\n",
    "\n",
    "folder = '../../AfterFailure'"
   ]
  },
  {
   "cell_type": "code",
   "execution_count": 523,
   "outputs": [
    {
     "name": "stdout",
     "output_type": "stream",
     "text": [
      "Total number of Nans: 23\n"
     ]
    }
   ],
   "source": [
    "csvs = []\n",
    "\n",
    "count_nan = 0\n",
    "for i, file in enumerate(os.listdir(folder + '/csvs')):\n",
    "    df = pd.read_csv(folder + '/csvs' + '/' + file)\n",
    "    if (df.batch_size == 64).any():\n",
    "        df.rename(columns={'Unnamed: 0' : 'epoch'}, inplace=True)\n",
    "        count_nan += df.shape[0] * df.shape[1] - np.sum(df.count())\n",
    "        df['list_index'] = len(csvs)\n",
    "        filename = file.split(\"_\")\n",
    "        # print(filename[0][-2:].isdigit())\n",
    "        if filename[0][-2:].isdigit(): df['exp'] = filename[0][-2:]\n",
    "        else: df['exp'] = filename[0][-1]\n",
    "        csvs.append(df)\n",
    "\n",
    "print(f\"Total number of Nans: {count_nan}\")"
   ],
   "metadata": {
    "collapsed": false,
    "pycharm": {
     "name": "#%%\n"
    }
   }
  },
  {
   "cell_type": "code",
   "execution_count": 524,
   "metadata": {
    "pycharm": {
     "name": "#%%\n"
    }
   },
   "outputs": [
    {
     "name": "stdout",
     "output_type": "stream",
     "text": [
      "[[], [], [], [], [], [], [], [], [], [], [], [], [], [], [], [], [], [], [], [], [], [], [], [], [], [], [], [], [], [], [], [], [], [], [], [], [], [], [], [], [], [], [], [], [], [], [], [], [], [], [], [], [], [], [], [], [], [], [], []]\n"
     ]
    }
   ],
   "source": [
    "nan_index = []\n",
    "for i, df in enumerate(csvs):\n",
    "    nan_index.append(list(df[(df['val_acc'].isnull()) | (df['train_acc'].isnull()) |(df['train_updates'].isnull()) | (df['val_updates'].isnull())].index))\n",
    "\n",
    "print(nan_index)"
   ]
  },
  {
   "cell_type": "code",
   "execution_count": 525,
   "metadata": {
    "pycharm": {
     "name": "#%%\n"
    }
   },
   "outputs": [],
   "source": [
    "# weird_acc = []\n",
    "# for i, df in enumerate(csvs):\n",
    "#     weird_acc.append(list(df[(df['val_acc']>1) | (df['val_acc']<0.1) | (df['train_acc']>1) | (df['train_acc']<0.1)].index))\n",
    "# # for df in csvs:\n",
    "# #     df.drop(df[(df['val_acc']>1) | (df['val_acc']<0)].index, inplace = True)\n",
    "#\n",
    "# see = [csvs[i].iloc[l[0]] for i, l in enumerate(weird_acc) if l]\n",
    "#\n",
    "# early_stopped_dfs = []\n",
    "# for i in range(len(csvs)):\n",
    "#     n = nan_index[i]\n",
    "#     v = weird_acc[i]\n",
    "#     if n and v:\n",
    "#         early_stopped_dfs.append(csvs[i].iloc[[min(min(v), min(n))]])\n",
    "#     elif n:\n",
    "#         early_stopped_dfs.append(csvs[i].iloc[[min(n)]])\n",
    "#     elif v:\n",
    "#         early_stopped_dfs.append(csvs[i].iloc[[min(v)]])\n",
    "#"
   ]
  },
  {
   "cell_type": "code",
   "execution_count": 526,
   "metadata": {
    "pycharm": {
     "name": "#%%\n"
    }
   },
   "outputs": [],
   "source": [
    "# early_stopped = pd.concat(early_stopped_dfs)\n",
    "# early_stopped.drop(columns=['val_acc', 'train_acc', 'val_updates', 'train_updates', 'early_stopping'], inplace=True)\n",
    "# print(\"Networks that stopped early\")\n",
    "# early_stopped\n",
    "# csvs[0].columns\n",
    "# csvs[2]\n",
    "# for df in csvs:\n",
    "#     print(len(df))"
   ]
  },
  {
   "cell_type": "code",
   "execution_count": 527,
   "metadata": {
    "pycharm": {
     "name": "#%%\n"
    }
   },
   "outputs": [],
   "source": [
    "# manual_early_stopping = {4: 36,5: 28, 12: 12, 14:27, 32:18, 35:23, 41:35, 46: 12,53:12}\n",
    "#\n",
    "# for key, val in manual_early_stopping.items():\n",
    "#     csvs[key].drop(labels = range(val, 40), inplace=True)"
   ]
  },
  {
   "cell_type": "code",
   "execution_count": 528,
   "metadata": {
    "pycharm": {
     "name": "#%%\n"
    }
   },
   "outputs": [
    {
     "data": {
      "text/plain": "         epoch  batch_size  cost_per_sample  hidden_units  learning_rate  \\\ncount 4.73E+03    4.73E+03         4.73E+03      4.73E+03       4.73E+03   \nmean  4.54E+01    6.40E+01         3.03E-04      3.20E+01       2.50E-04   \nstd   3.13E+01    0.00E+00         4.32E-04      0.00E+00       0.00E+00   \nmin   0.00E+00    6.40E+01         1.00E-06      3.20E+01       2.50E-04   \n25%   1.90E+01    6.40E+01         1.00E-05      3.20E+01       2.50E-04   \n50%   4.00E+01    6.40E+01         1.00E-04      3.20E+01       2.50E-04   \n75%   6.80E+01    6.40E+01         1.00E-03      3.20E+01       2.50E-04   \nmax   1.24E+02    6.40E+01         1.00E-03      3.20E+01       2.50E-04   \n\n       surprisal_cost    trial  val_acc  val_updates  train_acc  \\\ncount        4.73E+03 4.73E+03 4.73E+03     4.73E+03   4.73E+03   \nmean         1.62E-02 1.01E+00 7.20E-01     6.60E-01   7.31E-01   \nstd          3.40E-02 7.96E-01 1.14E-01     3.07E-01   1.23E-01   \nmin          0.00E+00 0.00E+00 4.93E-01     1.90E-02   4.88E-01   \n25%          1.00E-04 0.00E+00 6.57E-01     3.18E-01   6.64E-01   \n50%          1.00E-03 1.00E+00 7.62E-01     6.91E-01   7.72E-01   \n75%          1.00E-02 2.00E+00 8.16E-01     9.99E-01   8.33E-01   \nmax          1.00E-01 2.00E+00 8.58E-01     1.00E+00   8.98E-01   \n\n       train_updates  entropy_loss  budget_loss  surprisal_loss  list_index  \ncount       4.73E+03      4.70E+03     4.73E+03        4.73E+03    4.73E+03  \nmean        6.59E-01      5.06E-01     2.50E-02        4.55E-02    2.92E+01  \nstd         3.04E-01      1.37E-01     3.87E-02        1.22E-01    1.77E+01  \nmin         1.89E-02      2.60E-01     2.23E-05        0.00E+00    0.00E+00  \n25%         3.14E-01      3.83E-01     1.45E-03        9.24E-05    1.35E+01  \n50%         6.76E-01      4.84E-01     3.56E-03        8.04E-04    3.00E+01  \n75%         9.99E-01      6.33E-01     5.47E-02        3.33E-02    4.40E+01  \nmax         1.00E+00      7.17E-01     2.30E-01        6.88E-01    5.90E+01  ",
      "text/html": "<div>\n<style scoped>\n    .dataframe tbody tr th:only-of-type {\n        vertical-align: middle;\n    }\n\n    .dataframe tbody tr th {\n        vertical-align: top;\n    }\n\n    .dataframe thead th {\n        text-align: right;\n    }\n</style>\n<table border=\"1\" class=\"dataframe\">\n  <thead>\n    <tr style=\"text-align: right;\">\n      <th></th>\n      <th>epoch</th>\n      <th>batch_size</th>\n      <th>cost_per_sample</th>\n      <th>hidden_units</th>\n      <th>learning_rate</th>\n      <th>surprisal_cost</th>\n      <th>trial</th>\n      <th>val_acc</th>\n      <th>val_updates</th>\n      <th>train_acc</th>\n      <th>train_updates</th>\n      <th>entropy_loss</th>\n      <th>budget_loss</th>\n      <th>surprisal_loss</th>\n      <th>list_index</th>\n    </tr>\n  </thead>\n  <tbody>\n    <tr>\n      <th>count</th>\n      <td>4.73E+03</td>\n      <td>4.73E+03</td>\n      <td>4.73E+03</td>\n      <td>4.73E+03</td>\n      <td>4.73E+03</td>\n      <td>4.73E+03</td>\n      <td>4.73E+03</td>\n      <td>4.73E+03</td>\n      <td>4.73E+03</td>\n      <td>4.73E+03</td>\n      <td>4.73E+03</td>\n      <td>4.70E+03</td>\n      <td>4.73E+03</td>\n      <td>4.73E+03</td>\n      <td>4.73E+03</td>\n    </tr>\n    <tr>\n      <th>mean</th>\n      <td>4.54E+01</td>\n      <td>6.40E+01</td>\n      <td>3.03E-04</td>\n      <td>3.20E+01</td>\n      <td>2.50E-04</td>\n      <td>1.62E-02</td>\n      <td>1.01E+00</td>\n      <td>7.20E-01</td>\n      <td>6.60E-01</td>\n      <td>7.31E-01</td>\n      <td>6.59E-01</td>\n      <td>5.06E-01</td>\n      <td>2.50E-02</td>\n      <td>4.55E-02</td>\n      <td>2.92E+01</td>\n    </tr>\n    <tr>\n      <th>std</th>\n      <td>3.13E+01</td>\n      <td>0.00E+00</td>\n      <td>4.32E-04</td>\n      <td>0.00E+00</td>\n      <td>0.00E+00</td>\n      <td>3.40E-02</td>\n      <td>7.96E-01</td>\n      <td>1.14E-01</td>\n      <td>3.07E-01</td>\n      <td>1.23E-01</td>\n      <td>3.04E-01</td>\n      <td>1.37E-01</td>\n      <td>3.87E-02</td>\n      <td>1.22E-01</td>\n      <td>1.77E+01</td>\n    </tr>\n    <tr>\n      <th>min</th>\n      <td>0.00E+00</td>\n      <td>6.40E+01</td>\n      <td>1.00E-06</td>\n      <td>3.20E+01</td>\n      <td>2.50E-04</td>\n      <td>0.00E+00</td>\n      <td>0.00E+00</td>\n      <td>4.93E-01</td>\n      <td>1.90E-02</td>\n      <td>4.88E-01</td>\n      <td>1.89E-02</td>\n      <td>2.60E-01</td>\n      <td>2.23E-05</td>\n      <td>0.00E+00</td>\n      <td>0.00E+00</td>\n    </tr>\n    <tr>\n      <th>25%</th>\n      <td>1.90E+01</td>\n      <td>6.40E+01</td>\n      <td>1.00E-05</td>\n      <td>3.20E+01</td>\n      <td>2.50E-04</td>\n      <td>1.00E-04</td>\n      <td>0.00E+00</td>\n      <td>6.57E-01</td>\n      <td>3.18E-01</td>\n      <td>6.64E-01</td>\n      <td>3.14E-01</td>\n      <td>3.83E-01</td>\n      <td>1.45E-03</td>\n      <td>9.24E-05</td>\n      <td>1.35E+01</td>\n    </tr>\n    <tr>\n      <th>50%</th>\n      <td>4.00E+01</td>\n      <td>6.40E+01</td>\n      <td>1.00E-04</td>\n      <td>3.20E+01</td>\n      <td>2.50E-04</td>\n      <td>1.00E-03</td>\n      <td>1.00E+00</td>\n      <td>7.62E-01</td>\n      <td>6.91E-01</td>\n      <td>7.72E-01</td>\n      <td>6.76E-01</td>\n      <td>4.84E-01</td>\n      <td>3.56E-03</td>\n      <td>8.04E-04</td>\n      <td>3.00E+01</td>\n    </tr>\n    <tr>\n      <th>75%</th>\n      <td>6.80E+01</td>\n      <td>6.40E+01</td>\n      <td>1.00E-03</td>\n      <td>3.20E+01</td>\n      <td>2.50E-04</td>\n      <td>1.00E-02</td>\n      <td>2.00E+00</td>\n      <td>8.16E-01</td>\n      <td>9.99E-01</td>\n      <td>8.33E-01</td>\n      <td>9.99E-01</td>\n      <td>6.33E-01</td>\n      <td>5.47E-02</td>\n      <td>3.33E-02</td>\n      <td>4.40E+01</td>\n    </tr>\n    <tr>\n      <th>max</th>\n      <td>1.24E+02</td>\n      <td>6.40E+01</td>\n      <td>1.00E-03</td>\n      <td>3.20E+01</td>\n      <td>2.50E-04</td>\n      <td>1.00E-01</td>\n      <td>2.00E+00</td>\n      <td>8.58E-01</td>\n      <td>1.00E+00</td>\n      <td>8.98E-01</td>\n      <td>1.00E+00</td>\n      <td>7.17E-01</td>\n      <td>2.30E-01</td>\n      <td>6.88E-01</td>\n      <td>5.90E+01</td>\n    </tr>\n  </tbody>\n</table>\n</div>"
     },
     "execution_count": 528,
     "metadata": {},
     "output_type": "execute_result"
    }
   ],
   "source": [
    "big_df = pd.concat(csvs)\n",
    "big_df.describe()"
   ]
  },
  {
   "cell_type": "code",
   "execution_count": 529,
   "metadata": {
    "pycharm": {
     "name": "#%%\n"
    }
   },
   "outputs": [
    {
     "data": {
      "text/plain": "<matplotlib.axes._subplots.AxesSubplot at 0x188f0779388>"
     },
     "execution_count": 529,
     "metadata": {},
     "output_type": "execute_result"
    },
    {
     "data": {
      "text/plain": "<Figure size 720x720 with 1 Axes>",
      "image/png": "[encoded data removed]"
     },
     "metadata": {
      "needs_background": "light"
     },
     "output_type": "display_data"
    }
   ],
   "source": [
    "big_df['val_acc'].hist(figsize=(10, 10))"
   ]
  },
  {
   "cell_type": "code",
   "execution_count": 530,
   "metadata": {
    "pycharm": {
     "name": "#%%\n"
    }
   },
   "outputs": [],
   "source": [
    "best_rows = []\n",
    "best_accs = []\n",
    "for df in csvs:\n",
    "    best_accs.append(df.loc[:, 'val_acc'].max())\n",
    "    best_rows.append(df.loc[df.loc[:, 'val_acc'].argmax()].to_dict())"
   ]
  },
  {
   "cell_type": "code",
   "execution_count": 531,
   "metadata": {
    "pycharm": {
     "name": "#%%\n"
    }
   },
   "outputs": [],
   "source": [
    "best_df = pd.DataFrame(best_rows)\n",
    "best_df = best_df.drop(columns= [\"learning_rate\", \"hidden_units\", \"batch_size\", \"early_stopping\"])\n",
    "\n",
    "original = best_df[best_df['surprisal_cost'] == 0]\n",
    "surprisal = best_df[best_df['surprisal_cost'] != 0]"
   ]
  },
  {
   "cell_type": "code",
   "execution_count": 532,
   "metadata": {
    "pycharm": {
     "name": "#%%\n"
    }
   },
   "outputs": [
    {
     "name": "stdout",
     "output_type": "stream",
     "text": [
      "No surprisal\n"
     ]
    },
    {
     "data": {
      "text/plain": "    epoch  cost_per_sample  surprisal_cost  trial  val_acc  val_updates  \\\n0      99         1.00E-03        0.00E+00      0 8.25E-01     3.26E-01   \n1      99         1.00E-03        0.00E+00      1 8.33E-01     3.24E-01   \n2      50         1.00E-03        0.00E+00      2 8.04E-01     3.24E-01   \n3      49         1.00E-05        0.00E+00      0 8.45E-01     7.11E-01   \n4      94         1.00E-05        0.00E+00      1 8.55E-01     7.98E-01   \n5      98         1.00E-05        0.00E+00      2 8.52E-01     8.00E-01   \n18    123         1.00E-06        0.00E+00      0 8.56E-01     8.76E-01   \n19     34         1.00E-06        0.00E+00      1 7.10E-01     9.14E-01   \n20     21         1.00E-06        0.00E+00      2 6.64E-01     8.43E-01   \n45     62         1.00E-04        0.00E+00      0 8.47E-01     5.90E-01   \n46     93         1.00E-04        0.00E+00      1 8.53E-01     7.14E-01   \n47     76         1.00E-04        0.00E+00      2 8.47E-01     6.33E-01   \n\n    train_acc  train_updates  entropy_loss  budget_loss  surprisal_loss  \\\n0    8.41E-01       3.11E-01      3.73E-01     7.15E-02        0.00E+00   \n1    8.41E-01       3.01E-01      3.71E-01     6.92E-02        0.00E+00   \n2    8.07E-01       3.17E-01      4.23E-01     7.31E-02        0.00E+00   \n3    8.45E-01       6.63E-01      3.60E-01     1.53E-03        0.00E+00   \n4    8.81E-01       7.76E-01      2.90E-01     1.79E-03        0.00E+00   \n5    8.67E-01       7.87E-01      3.26E-01     1.81E-03        0.00E+00   \n18   8.90E-01       8.74E-01      2.81E-01     2.01E-04        0.00E+00   \n19   6.93E-01       9.20E-01      6.09E-01     2.12E-04        0.00E+00   \n20   6.76E-01       8.73E-01      6.21E-01     2.01E-04        0.00E+00   \n45   8.51E-01       6.08E-01      3.42E-01     1.40E-02        0.00E+00   \n46   8.68E-01       6.48E-01      3.14E-01     1.49E-02        0.00E+00   \n47   8.68E-01       5.92E-01      3.16E-01     1.36E-02        0.00E+00   \n\n    list_index exp  \n0            0   0  \n1            1   0  \n2            2   0  \n3            3  10  \n4            4  10  \n5            5  10  \n18          18  15  \n19          19  15  \n20          20  15  \n45          45   5  \n46          46   5  \n47          47   5  ",
      "text/html": "<div>\n<style scoped>\n    .dataframe tbody tr th:only-of-type {\n        vertical-align: middle;\n    }\n\n    .dataframe tbody tr th {\n        vertical-align: top;\n    }\n\n    .dataframe thead th {\n        text-align: right;\n    }\n</style>\n<table border=\"1\" class=\"dataframe\">\n  <thead>\n    <tr style=\"text-align: right;\">\n      <th></th>\n      <th>epoch</th>\n      <th>cost_per_sample</th>\n      <th>surprisal_cost</th>\n      <th>trial</th>\n      <th>val_acc</th>\n      <th>val_updates</th>\n      <th>train_acc</th>\n      <th>train_updates</th>\n      <th>entropy_loss</th>\n      <th>budget_loss</th>\n      <th>surprisal_loss</th>\n      <th>list_index</th>\n      <th>exp</th>\n    </tr>\n  </thead>\n  <tbody>\n    <tr>\n      <th>0</th>\n      <td>99</td>\n      <td>1.00E-03</td>\n      <td>0.00E+00</td>\n      <td>0</td>\n      <td>8.25E-01</td>\n      <td>3.26E-01</td>\n      <td>8.41E-01</td>\n      <td>3.11E-01</td>\n      <td>3.73E-01</td>\n      <td>7.15E-02</td>\n      <td>0.00E+00</td>\n      <td>0</td>\n      <td>0</td>\n    </tr>\n    <tr>\n      <th>1</th>\n      <td>99</td>\n      <td>1.00E-03</td>\n      <td>0.00E+00</td>\n      <td>1</td>\n      <td>8.33E-01</td>\n      <td>3.24E-01</td>\n      <td>8.41E-01</td>\n      <td>3.01E-01</td>\n      <td>3.71E-01</td>\n      <td>6.92E-02</td>\n      <td>0.00E+00</td>\n      <td>1</td>\n      <td>0</td>\n    </tr>\n    <tr>\n      <th>2</th>\n      <td>50</td>\n      <td>1.00E-03</td>\n      <td>0.00E+00</td>\n      <td>2</td>\n      <td>8.04E-01</td>\n      <td>3.24E-01</td>\n      <td>8.07E-01</td>\n      <td>3.17E-01</td>\n      <td>4.23E-01</td>\n      <td>7.31E-02</td>\n      <td>0.00E+00</td>\n      <td>2</td>\n      <td>0</td>\n    </tr>\n    <tr>\n      <th>3</th>\n      <td>49</td>\n      <td>1.00E-05</td>\n      <td>0.00E+00</td>\n      <td>0</td>\n      <td>8.45E-01</td>\n      <td>7.11E-01</td>\n      <td>8.45E-01</td>\n      <td>6.63E-01</td>\n      <td>3.60E-01</td>\n      <td>1.53E-03</td>\n      <td>0.00E+00</td>\n      <td>3</td>\n      <td>10</td>\n    </tr>\n    <tr>\n      <th>4</th>\n      <td>94</td>\n      <td>1.00E-05</td>\n      <td>0.00E+00</td>\n      <td>1</td>\n      <td>8.55E-01</td>\n      <td>7.98E-01</td>\n      <td>8.81E-01</td>\n      <td>7.76E-01</td>\n      <td>2.90E-01</td>\n      <td>1.79E-03</td>\n      <td>0.00E+00</td>\n      <td>4</td>\n      <td>10</td>\n    </tr>\n    <tr>\n      <th>5</th>\n      <td>98</td>\n      <td>1.00E-05</td>\n      <td>0.00E+00</td>\n      <td>2</td>\n      <td>8.52E-01</td>\n      <td>8.00E-01</td>\n      <td>8.67E-01</td>\n      <td>7.87E-01</td>\n      <td>3.26E-01</td>\n      <td>1.81E-03</td>\n      <td>0.00E+00</td>\n      <td>5</td>\n      <td>10</td>\n    </tr>\n    <tr>\n      <th>18</th>\n      <td>123</td>\n      <td>1.00E-06</td>\n      <td>0.00E+00</td>\n      <td>0</td>\n      <td>8.56E-01</td>\n      <td>8.76E-01</td>\n      <td>8.90E-01</td>\n      <td>8.74E-01</td>\n      <td>2.81E-01</td>\n      <td>2.01E-04</td>\n      <td>0.00E+00</td>\n      <td>18</td>\n      <td>15</td>\n    </tr>\n    <tr>\n      <th>19</th>\n      <td>34</td>\n      <td>1.00E-06</td>\n      <td>0.00E+00</td>\n      <td>1</td>\n      <td>7.10E-01</td>\n      <td>9.14E-01</td>\n      <td>6.93E-01</td>\n      <td>9.20E-01</td>\n      <td>6.09E-01</td>\n      <td>2.12E-04</td>\n      <td>0.00E+00</td>\n      <td>19</td>\n      <td>15</td>\n    </tr>\n    <tr>\n      <th>20</th>\n      <td>21</td>\n      <td>1.00E-06</td>\n      <td>0.00E+00</td>\n      <td>2</td>\n      <td>6.64E-01</td>\n      <td>8.43E-01</td>\n      <td>6.76E-01</td>\n      <td>8.73E-01</td>\n      <td>6.21E-01</td>\n      <td>2.01E-04</td>\n      <td>0.00E+00</td>\n      <td>20</td>\n      <td>15</td>\n    </tr>\n    <tr>\n      <th>45</th>\n      <td>62</td>\n      <td>1.00E-04</td>\n      <td>0.00E+00</td>\n      <td>0</td>\n      <td>8.47E-01</td>\n      <td>5.90E-01</td>\n      <td>8.51E-01</td>\n      <td>6.08E-01</td>\n      <td>3.42E-01</td>\n      <td>1.40E-02</td>\n      <td>0.00E+00</td>\n      <td>45</td>\n      <td>5</td>\n    </tr>\n    <tr>\n      <th>46</th>\n      <td>93</td>\n      <td>1.00E-04</td>\n      <td>0.00E+00</td>\n      <td>1</td>\n      <td>8.53E-01</td>\n      <td>7.14E-01</td>\n      <td>8.68E-01</td>\n      <td>6.48E-01</td>\n      <td>3.14E-01</td>\n      <td>1.49E-02</td>\n      <td>0.00E+00</td>\n      <td>46</td>\n      <td>5</td>\n    </tr>\n    <tr>\n      <th>47</th>\n      <td>76</td>\n      <td>1.00E-04</td>\n      <td>0.00E+00</td>\n      <td>2</td>\n      <td>8.47E-01</td>\n      <td>6.33E-01</td>\n      <td>8.68E-01</td>\n      <td>5.92E-01</td>\n      <td>3.16E-01</td>\n      <td>1.36E-02</td>\n      <td>0.00E+00</td>\n      <td>47</td>\n      <td>5</td>\n    </tr>\n  </tbody>\n</table>\n</div>"
     },
     "execution_count": 532,
     "metadata": {},
     "output_type": "execute_result"
    }
   ],
   "source": [
    "print(\"No surprisal\")\n",
    "original"
   ]
  },
  {
   "cell_type": "code",
   "execution_count": 533,
   "outputs": [
    {
     "name": "stdout",
     "output_type": "stream",
     "text": [
      "With surprisal\n"
     ]
    },
    {
     "data": {
      "text/plain": "    epoch  cost_per_sample  surprisal_cost  trial  val_acc  val_updates  \\\n6      10         1.00E-05        1.00E-01      0 6.79E-01     1.00E+00   \n7      87         1.00E-05        1.00E-01      1 7.18E-01     9.99E-01   \n8      64         1.00E-05        1.00E-01      2 6.94E-01     1.00E+00   \n9      77         1.00E-05        1.00E-02      0 6.62E-01     1.00E+00   \n10    122         1.00E-05        1.00E-02      1 7.20E-01     9.98E-01   \n11     21         1.00E-05        1.00E-02      2 6.91E-01     1.00E+00   \n12     33         1.00E-05        1.00E-03      0 7.08E-01     9.99E-01   \n13     67         1.00E-05        1.00E-03      1 7.21E-01     9.99E-01   \n14     92         1.00E-05        1.00E-03      2 7.08E-01     9.99E-01   \n15     15         1.00E-05        1.00E-04      0 6.61E-01     3.63E-01   \n16    114         1.00E-05        1.00E-04      1 8.58E-01     7.12E-01   \n17    117         1.00E-05        1.00E-04      2 8.52E-01     7.81E-01   \n21     15         1.00E-06        1.00E-01      0 5.14E-01     1.00E+00   \n22     12         1.00E-06        1.00E-01      1 5.10E-01     1.00E+00   \n23     31         1.00E-06        1.00E-01      2 6.74E-01     1.00E+00   \n24     27         1.00E-06        1.00E-02      0 7.06E-01     1.00E+00   \n25     70         1.00E-06        1.00E-02      1 7.00E-01     9.99E-01   \n26     66         1.00E-06        1.00E-02      2 7.14E-01     9.99E-01   \n27     48         1.00E-06        1.00E-03      0 7.23E-01     1.00E+00   \n28    101         1.00E-06        1.00E-03      1 8.43E-01     7.56E-01   \n29     31         1.00E-06        1.00E-03      2 6.99E-01     1.00E+00   \n30     21         1.00E-06        1.00E-04      0 7.00E-01     6.29E-01   \n31    123         1.00E-06        1.00E-04      1 8.47E-01     9.11E-01   \n32     63         1.00E-06        1.00E-04      2 8.53E-01     8.16E-01   \n33     48         1.00E-03        1.00E-01      0 8.16E-01     3.44E-01   \n34     27         1.00E-03        1.00E-01      1 6.73E-01     1.00E+00   \n35     20         1.00E-03        1.00E-01      2 6.74E-01     9.99E-01   \n36     85         1.00E-03        1.00E-02      0 8.27E-01     3.54E-01   \n37     86         1.00E-03        1.00E-02      1 8.32E-01     3.53E-01   \n38     56         1.00E-03        1.00E-02      2 8.12E-01     3.19E-01   \n39    121         1.00E-03        1.00E-03      0 8.38E-01     3.28E-01   \n40     86         1.00E-03        1.00E-03      1 8.29E-01     3.32E-01   \n41     55         1.00E-03        1.00E-03      2 8.16E-01     3.37E-01   \n42     92         1.00E-03        1.00E-04      0 8.20E-01     3.18E-01   \n43     76         1.00E-03        1.00E-04      1 8.29E-01     3.26E-01   \n44     78         1.00E-03        1.00E-04      2 8.23E-01     3.15E-01   \n48     28         1.00E-04        1.00E-01      0 6.80E-01     1.00E+00   \n49     54         1.00E-04        1.00E-01      1 8.31E-01     9.99E-01   \n50     74         1.00E-04        1.00E-01      2 6.98E-01     1.00E+00   \n51     78         1.00E-04        1.00E-02      0 8.58E-01     6.57E-01   \n52     49         1.00E-04        1.00E-02      1 7.11E-01     9.99E-01   \n53     18         1.00E-04        1.00E-02      2 6.48E-01     1.72E-01   \n54     29         1.00E-04        1.00E-03      0 6.81E-01     9.97E-01   \n55     33         1.00E-04        1.00E-03      1 7.08E-01     9.99E-01   \n56    123         1.00E-04        1.00E-03      2 8.50E-01     7.43E-01   \n57    123         1.00E-04        1.00E-04      0 8.56E-01     6.80E-01   \n58     17         1.00E-04        1.00E-04      1 6.58E-01     2.37E-01   \n59     79         1.00E-04        1.00E-04      2 8.55E-01     6.57E-01   \n\n    train_acc  train_updates  entropy_loss  budget_loss  surprisal_loss  \\\n6    6.68E-01       1.00E+00      6.35E-01     2.30E-03        1.66E-02   \n7    7.05E-01       1.00E+00      6.00E-01     2.30E-03        3.92E-01   \n8    6.90E-01       1.00E+00      6.12E-01     2.30E-03        9.24E-02   \n9    6.46E-01       9.99E-01      6.42E-01     2.30E-03        4.05E-02   \n10   7.28E-01       9.98E-01      5.79E-01     2.30E-03        4.28E-02   \n11   6.82E-01       1.00E+00      6.21E-01     2.30E-03        8.88E-04   \n12   6.91E-01       9.99E-01      6.13E-01     2.30E-03        4.04E-03   \n13   7.11E-01       9.99E-01      5.95E-01     2.30E-03        4.13E-03   \n14   7.06E-01       9.99E-01      5.94E-01     2.30E-03        5.12E-03   \n15   6.43E-01       2.90E-01      6.47E-01     6.67E-04        6.87E-04   \n16   8.89E-01       6.79E-01      2.81E-01     1.56E-03        6.82E-04   \n17   8.85E-01       7.76E-01      2.89E-01     1.79E-03        6.85E-04   \n21   5.14E-01       1.00E+00      6.89E-01     2.30E-04        4.85E-01   \n22   5.13E-01       1.00E+00      6.89E-01     2.30E-04        3.54E-01   \n23   6.68E-01       1.00E+00      6.34E-01     2.30E-04        3.72E-01   \n24   6.97E-01       1.00E+00      6.11E-01     2.30E-04        1.94E-02   \n25   6.82E-01       9.99E-01      6.20E-01     2.30E-04        3.76E-02   \n26   7.12E-01       9.99E-01      5.99E-01     2.30E-04        3.28E-02   \n27   7.17E-01       1.00E+00      5.89E-01     2.30E-04        1.98E-03   \n28   8.65E-01       7.28E-01      3.60E-01     1.68E-04        6.87E-03   \n29   6.84E-01       1.00E+00      6.21E-01     2.30E-04        2.78E-03   \n30   6.83E-01       7.27E-01      6.18E-01     1.67E-04        6.70E-04   \n31   8.79E-01       8.70E-01      3.14E-01     2.00E-04        6.86E-04   \n32   8.59E-01       8.26E-01      3.33E-01     1.90E-04        6.97E-04   \n33   8.10E-01       3.14E-01      4.17E-01     7.24E-02        6.84E-01   \n34   6.64E-01       9.99E-01      6.39E-01     2.30E-01        2.53E-01   \n35   6.65E-01       1.00E+00      6.37E-01     2.30E-01        3.03E-01   \n36   8.35E-01       3.12E-01      3.82E-01     7.20E-02        6.86E-02   \n37   8.36E-01       3.18E-01      3.73E-01     7.33E-02        6.85E-02   \n38   8.11E-01       3.08E-01      4.18E-01     7.10E-02        6.87E-02   \n39   8.42E-01       2.92E-01      3.69E-01     6.72E-02        6.86E-03   \n40   8.33E-01       2.95E-01      3.88E-01     6.78E-02        6.86E-03   \n41   8.19E-01       2.86E-01      4.12E-01     6.58E-02        6.86E-03   \n42   8.35E-01       3.05E-01      3.79E-01     7.03E-02        6.86E-04   \n43   8.36E-01       3.04E-01      3.80E-01     7.01E-02        6.87E-04   \n44   8.31E-01       3.14E-01      3.89E-01     7.24E-02        6.86E-04   \n48   6.35E-01       1.00E+00      6.37E-01     2.30E-02        3.45E-01   \n49   8.25E-01       1.00E+00      3.94E-01     2.30E-02        4.51E-01   \n50   6.85E-01       9.99E-01      6.18E-01     2.30E-02        4.13E-01   \n51   8.70E-01       6.13E-01      3.09E-01     1.41E-02        6.86E-02   \n52   7.04E-01       9.99E-01      6.04E-01     2.30E-02        3.73E-02   \n53   6.39E-01       1.67E-01      6.48E-01     3.86E-03        6.85E-02   \n54   6.71E-01       9.97E-01      6.29E-01     2.30E-02        6.05E-03   \n55   7.00E-01       1.00E+00      5.99E-01     2.30E-02        4.68E-03   \n56   8.90E-01       6.97E-01      2.73E-01     1.61E-02        6.86E-03   \n57   8.84E-01       6.30E-01      2.89E-01     1.45E-02        6.87E-04   \n58   5.99E-01       2.09E-01      6.67E-01     4.81E-03        6.85E-04   \n59   8.66E-01       5.85E-01      3.22E-01     1.35E-02        6.88E-04   \n\n    list_index exp  \n6            6  11  \n7            7  11  \n8            8  11  \n9            9  12  \n10          10  12  \n11          11  12  \n12          12  13  \n13          13  13  \n14          14  13  \n15          15  14  \n16          16  14  \n17          17  14  \n21          21  16  \n22          22  16  \n23          23  16  \n24          24  17  \n25          25  17  \n26          26  17  \n27          27  18  \n28          28  18  \n29          29  18  \n30          30  19  \n31          31  19  \n32          32  19  \n33          33   1  \n34          34   1  \n35          35   1  \n36          36   2  \n37          37   2  \n38          38   2  \n39          39   3  \n40          40   3  \n41          41   3  \n42          42   4  \n43          43   4  \n44          44   4  \n48          48   6  \n49          49   6  \n50          50   6  \n51          51   7  \n52          52   7  \n53          53   7  \n54          54   8  \n55          55   8  \n56          56   8  \n57          57   9  \n58          58   9  \n59          59   9  ",
      "text/html": "<div>\n<style scoped>\n    .dataframe tbody tr th:only-of-type {\n        vertical-align: middle;\n    }\n\n    .dataframe tbody tr th {\n        vertical-align: top;\n    }\n\n    .dataframe thead th {\n        text-align: right;\n    }\n</style>\n<table border=\"1\" class=\"dataframe\">\n  <thead>\n    <tr style=\"text-align: right;\">\n      <th></th>\n      <th>epoch</th>\n      <th>cost_per_sample</th>\n      <th>surprisal_cost</th>\n      <th>trial</th>\n      <th>val_acc</th>\n      <th>val_updates</th>\n      <th>train_acc</th>\n      <th>train_updates</th>\n      <th>entropy_loss</th>\n      <th>budget_loss</th>\n      <th>surprisal_loss</th>\n      <th>list_index</th>\n      <th>exp</th>\n    </tr>\n  </thead>\n  <tbody>\n    <tr>\n      <th>6</th>\n      <td>10</td>\n      <td>1.00E-05</td>\n      <td>1.00E-01</td>\n      <td>0</td>\n      <td>6.79E-01</td>\n      <td>1.00E+00</td>\n      <td>6.68E-01</td>\n      <td>1.00E+00</td>\n      <td>6.35E-01</td>\n      <td>2.30E-03</td>\n      <td>1.66E-02</td>\n      <td>6</td>\n      <td>11</td>\n    </tr>\n    <tr>\n      <th>7</th>\n      <td>87</td>\n      <td>1.00E-05</td>\n      <td>1.00E-01</td>\n      <td>1</td>\n      <td>7.18E-01</td>\n      <td>9.99E-01</td>\n      <td>7.05E-01</td>\n      <td>1.00E+00</td>\n      <td>6.00E-01</td>\n      <td>2.30E-03</td>\n      <td>3.92E-01</td>\n      <td>7</td>\n      <td>11</td>\n    </tr>\n    <tr>\n      <th>8</th>\n      <td>64</td>\n      <td>1.00E-05</td>\n      <td>1.00E-01</td>\n      <td>2</td>\n      <td>6.94E-01</td>\n      <td>1.00E+00</td>\n      <td>6.90E-01</td>\n      <td>1.00E+00</td>\n      <td>6.12E-01</td>\n      <td>2.30E-03</td>\n      <td>9.24E-02</td>\n      <td>8</td>\n      <td>11</td>\n    </tr>\n    <tr>\n      <th>9</th>\n      <td>77</td>\n      <td>1.00E-05</td>\n      <td>1.00E-02</td>\n      <td>0</td>\n      <td>6.62E-01</td>\n      <td>1.00E+00</td>\n      <td>6.46E-01</td>\n      <td>9.99E-01</td>\n      <td>6.42E-01</td>\n      <td>2.30E-03</td>\n      <td>4.05E-02</td>\n      <td>9</td>\n      <td>12</td>\n    </tr>\n    <tr>\n      <th>10</th>\n      <td>122</td>\n      <td>1.00E-05</td>\n      <td>1.00E-02</td>\n      <td>1</td>\n      <td>7.20E-01</td>\n      <td>9.98E-01</td>\n      <td>7.28E-01</td>\n      <td>9.98E-01</td>\n      <td>5.79E-01</td>\n      <td>2.30E-03</td>\n      <td>4.28E-02</td>\n      <td>10</td>\n      <td>12</td>\n    </tr>\n    <tr>\n      <th>11</th>\n      <td>21</td>\n      <td>1.00E-05</td>\n      <td>1.00E-02</td>\n      <td>2</td>\n      <td>6.91E-01</td>\n      <td>1.00E+00</td>\n      <td>6.82E-01</td>\n      <td>1.00E+00</td>\n      <td>6.21E-01</td>\n      <td>2.30E-03</td>\n      <td>8.88E-04</td>\n      <td>11</td>\n      <td>12</td>\n    </tr>\n    <tr>\n      <th>12</th>\n      <td>33</td>\n      <td>1.00E-05</td>\n      <td>1.00E-03</td>\n      <td>0</td>\n      <td>7.08E-01</td>\n      <td>9.99E-01</td>\n      <td>6.91E-01</td>\n      <td>9.99E-01</td>\n      <td>6.13E-01</td>\n      <td>2.30E-03</td>\n      <td>4.04E-03</td>\n      <td>12</td>\n      <td>13</td>\n    </tr>\n    <tr>\n      <th>13</th>\n      <td>67</td>\n      <td>1.00E-05</td>\n      <td>1.00E-03</td>\n      <td>1</td>\n      <td>7.21E-01</td>\n      <td>9.99E-01</td>\n      <td>7.11E-01</td>\n      <td>9.99E-01</td>\n      <td>5.95E-01</td>\n      <td>2.30E-03</td>\n      <td>4.13E-03</td>\n      <td>13</td>\n      <td>13</td>\n    </tr>\n    <tr>\n      <th>14</th>\n      <td>92</td>\n      <td>1.00E-05</td>\n      <td>1.00E-03</td>\n      <td>2</td>\n      <td>7.08E-01</td>\n      <td>9.99E-01</td>\n      <td>7.06E-01</td>\n      <td>9.99E-01</td>\n      <td>5.94E-01</td>\n      <td>2.30E-03</td>\n      <td>5.12E-03</td>\n      <td>14</td>\n      <td>13</td>\n    </tr>\n    <tr>\n      <th>15</th>\n      <td>15</td>\n      <td>1.00E-05</td>\n      <td>1.00E-04</td>\n      <td>0</td>\n      <td>6.61E-01</td>\n      <td>3.63E-01</td>\n      <td>6.43E-01</td>\n      <td>2.90E-01</td>\n      <td>6.47E-01</td>\n      <td>6.67E-04</td>\n      <td>6.87E-04</td>\n      <td>15</td>\n      <td>14</td>\n    </tr>\n    <tr>\n      <th>16</th>\n      <td>114</td>\n      <td>1.00E-05</td>\n      <td>1.00E-04</td>\n      <td>1</td>\n      <td>8.58E-01</td>\n      <td>7.12E-01</td>\n      <td>8.89E-01</td>\n      <td>6.79E-01</td>\n      <td>2.81E-01</td>\n      <td>1.56E-03</td>\n      <td>6.82E-04</td>\n      <td>16</td>\n      <td>14</td>\n    </tr>\n    <tr>\n      <th>17</th>\n      <td>117</td>\n      <td>1.00E-05</td>\n      <td>1.00E-04</td>\n      <td>2</td>\n      <td>8.52E-01</td>\n      <td>7.81E-01</td>\n      <td>8.85E-01</td>\n      <td>7.76E-01</td>\n      <td>2.89E-01</td>\n      <td>1.79E-03</td>\n      <td>6.85E-04</td>\n      <td>17</td>\n      <td>14</td>\n    </tr>\n    <tr>\n      <th>21</th>\n      <td>15</td>\n      <td>1.00E-06</td>\n      <td>1.00E-01</td>\n      <td>0</td>\n      <td>5.14E-01</td>\n      <td>1.00E+00</td>\n      <td>5.14E-01</td>\n      <td>1.00E+00</td>\n      <td>6.89E-01</td>\n      <td>2.30E-04</td>\n      <td>4.85E-01</td>\n      <td>21</td>\n      <td>16</td>\n    </tr>\n    <tr>\n      <th>22</th>\n      <td>12</td>\n      <td>1.00E-06</td>\n      <td>1.00E-01</td>\n      <td>1</td>\n      <td>5.10E-01</td>\n      <td>1.00E+00</td>\n      <td>5.13E-01</td>\n      <td>1.00E+00</td>\n      <td>6.89E-01</td>\n      <td>2.30E-04</td>\n      <td>3.54E-01</td>\n      <td>22</td>\n      <td>16</td>\n    </tr>\n    <tr>\n      <th>23</th>\n      <td>31</td>\n      <td>1.00E-06</td>\n      <td>1.00E-01</td>\n      <td>2</td>\n      <td>6.74E-01</td>\n      <td>1.00E+00</td>\n      <td>6.68E-01</td>\n      <td>1.00E+00</td>\n      <td>6.34E-01</td>\n      <td>2.30E-04</td>\n      <td>3.72E-01</td>\n      <td>23</td>\n      <td>16</td>\n    </tr>\n    <tr>\n      <th>24</th>\n      <td>27</td>\n      <td>1.00E-06</td>\n      <td>1.00E-02</td>\n      <td>0</td>\n      <td>7.06E-01</td>\n      <td>1.00E+00</td>\n      <td>6.97E-01</td>\n      <td>1.00E+00</td>\n      <td>6.11E-01</td>\n      <td>2.30E-04</td>\n      <td>1.94E-02</td>\n      <td>24</td>\n      <td>17</td>\n    </tr>\n    <tr>\n      <th>25</th>\n      <td>70</td>\n      <td>1.00E-06</td>\n      <td>1.00E-02</td>\n      <td>1</td>\n      <td>7.00E-01</td>\n      <td>9.99E-01</td>\n      <td>6.82E-01</td>\n      <td>9.99E-01</td>\n      <td>6.20E-01</td>\n      <td>2.30E-04</td>\n      <td>3.76E-02</td>\n      <td>25</td>\n      <td>17</td>\n    </tr>\n    <tr>\n      <th>26</th>\n      <td>66</td>\n      <td>1.00E-06</td>\n      <td>1.00E-02</td>\n      <td>2</td>\n      <td>7.14E-01</td>\n      <td>9.99E-01</td>\n      <td>7.12E-01</td>\n      <td>9.99E-01</td>\n      <td>5.99E-01</td>\n      <td>2.30E-04</td>\n      <td>3.28E-02</td>\n      <td>26</td>\n      <td>17</td>\n    </tr>\n    <tr>\n      <th>27</th>\n      <td>48</td>\n      <td>1.00E-06</td>\n      <td>1.00E-03</td>\n      <td>0</td>\n      <td>7.23E-01</td>\n      <td>1.00E+00</td>\n      <td>7.17E-01</td>\n      <td>1.00E+00</td>\n      <td>5.89E-01</td>\n      <td>2.30E-04</td>\n      <td>1.98E-03</td>\n      <td>27</td>\n      <td>18</td>\n    </tr>\n    <tr>\n      <th>28</th>\n      <td>101</td>\n      <td>1.00E-06</td>\n      <td>1.00E-03</td>\n      <td>1</td>\n      <td>8.43E-01</td>\n      <td>7.56E-01</td>\n      <td>8.65E-01</td>\n      <td>7.28E-01</td>\n      <td>3.60E-01</td>\n      <td>1.68E-04</td>\n      <td>6.87E-03</td>\n      <td>28</td>\n      <td>18</td>\n    </tr>\n    <tr>\n      <th>29</th>\n      <td>31</td>\n      <td>1.00E-06</td>\n      <td>1.00E-03</td>\n      <td>2</td>\n      <td>6.99E-01</td>\n      <td>1.00E+00</td>\n      <td>6.84E-01</td>\n      <td>1.00E+00</td>\n      <td>6.21E-01</td>\n      <td>2.30E-04</td>\n      <td>2.78E-03</td>\n      <td>29</td>\n      <td>18</td>\n    </tr>\n    <tr>\n      <th>30</th>\n      <td>21</td>\n      <td>1.00E-06</td>\n      <td>1.00E-04</td>\n      <td>0</td>\n      <td>7.00E-01</td>\n      <td>6.29E-01</td>\n      <td>6.83E-01</td>\n      <td>7.27E-01</td>\n      <td>6.18E-01</td>\n      <td>1.67E-04</td>\n      <td>6.70E-04</td>\n      <td>30</td>\n      <td>19</td>\n    </tr>\n    <tr>\n      <th>31</th>\n      <td>123</td>\n      <td>1.00E-06</td>\n      <td>1.00E-04</td>\n      <td>1</td>\n      <td>8.47E-01</td>\n      <td>9.11E-01</td>\n      <td>8.79E-01</td>\n      <td>8.70E-01</td>\n      <td>3.14E-01</td>\n      <td>2.00E-04</td>\n      <td>6.86E-04</td>\n      <td>31</td>\n      <td>19</td>\n    </tr>\n    <tr>\n      <th>32</th>\n      <td>63</td>\n      <td>1.00E-06</td>\n      <td>1.00E-04</td>\n      <td>2</td>\n      <td>8.53E-01</td>\n      <td>8.16E-01</td>\n      <td>8.59E-01</td>\n      <td>8.26E-01</td>\n      <td>3.33E-01</td>\n      <td>1.90E-04</td>\n      <td>6.97E-04</td>\n      <td>32</td>\n      <td>19</td>\n    </tr>\n    <tr>\n      <th>33</th>\n      <td>48</td>\n      <td>1.00E-03</td>\n      <td>1.00E-01</td>\n      <td>0</td>\n      <td>8.16E-01</td>\n      <td>3.44E-01</td>\n      <td>8.10E-01</td>\n      <td>3.14E-01</td>\n      <td>4.17E-01</td>\n      <td>7.24E-02</td>\n      <td>6.84E-01</td>\n      <td>33</td>\n      <td>1</td>\n    </tr>\n    <tr>\n      <th>34</th>\n      <td>27</td>\n      <td>1.00E-03</td>\n      <td>1.00E-01</td>\n      <td>1</td>\n      <td>6.73E-01</td>\n      <td>1.00E+00</td>\n      <td>6.64E-01</td>\n      <td>9.99E-01</td>\n      <td>6.39E-01</td>\n      <td>2.30E-01</td>\n      <td>2.53E-01</td>\n      <td>34</td>\n      <td>1</td>\n    </tr>\n    <tr>\n      <th>35</th>\n      <td>20</td>\n      <td>1.00E-03</td>\n      <td>1.00E-01</td>\n      <td>2</td>\n      <td>6.74E-01</td>\n      <td>9.99E-01</td>\n      <td>6.65E-01</td>\n      <td>1.00E+00</td>\n      <td>6.37E-01</td>\n      <td>2.30E-01</td>\n      <td>3.03E-01</td>\n      <td>35</td>\n      <td>1</td>\n    </tr>\n    <tr>\n      <th>36</th>\n      <td>85</td>\n      <td>1.00E-03</td>\n      <td>1.00E-02</td>\n      <td>0</td>\n      <td>8.27E-01</td>\n      <td>3.54E-01</td>\n      <td>8.35E-01</td>\n      <td>3.12E-01</td>\n      <td>3.82E-01</td>\n      <td>7.20E-02</td>\n      <td>6.86E-02</td>\n      <td>36</td>\n      <td>2</td>\n    </tr>\n    <tr>\n      <th>37</th>\n      <td>86</td>\n      <td>1.00E-03</td>\n      <td>1.00E-02</td>\n      <td>1</td>\n      <td>8.32E-01</td>\n      <td>3.53E-01</td>\n      <td>8.36E-01</td>\n      <td>3.18E-01</td>\n      <td>3.73E-01</td>\n      <td>7.33E-02</td>\n      <td>6.85E-02</td>\n      <td>37</td>\n      <td>2</td>\n    </tr>\n    <tr>\n      <th>38</th>\n      <td>56</td>\n      <td>1.00E-03</td>\n      <td>1.00E-02</td>\n      <td>2</td>\n      <td>8.12E-01</td>\n      <td>3.19E-01</td>\n      <td>8.11E-01</td>\n      <td>3.08E-01</td>\n      <td>4.18E-01</td>\n      <td>7.10E-02</td>\n      <td>6.87E-02</td>\n      <td>38</td>\n      <td>2</td>\n    </tr>\n    <tr>\n      <th>39</th>\n      <td>121</td>\n      <td>1.00E-03</td>\n      <td>1.00E-03</td>\n      <td>0</td>\n      <td>8.38E-01</td>\n      <td>3.28E-01</td>\n      <td>8.42E-01</td>\n      <td>2.92E-01</td>\n      <td>3.69E-01</td>\n      <td>6.72E-02</td>\n      <td>6.86E-03</td>\n      <td>39</td>\n      <td>3</td>\n    </tr>\n    <tr>\n      <th>40</th>\n      <td>86</td>\n      <td>1.00E-03</td>\n      <td>1.00E-03</td>\n      <td>1</td>\n      <td>8.29E-01</td>\n      <td>3.32E-01</td>\n      <td>8.33E-01</td>\n      <td>2.95E-01</td>\n      <td>3.88E-01</td>\n      <td>6.78E-02</td>\n      <td>6.86E-03</td>\n      <td>40</td>\n      <td>3</td>\n    </tr>\n    <tr>\n      <th>41</th>\n      <td>55</td>\n      <td>1.00E-03</td>\n      <td>1.00E-03</td>\n      <td>2</td>\n      <td>8.16E-01</td>\n      <td>3.37E-01</td>\n      <td>8.19E-01</td>\n      <td>2.86E-01</td>\n      <td>4.12E-01</td>\n      <td>6.58E-02</td>\n      <td>6.86E-03</td>\n      <td>41</td>\n      <td>3</td>\n    </tr>\n    <tr>\n      <th>42</th>\n      <td>92</td>\n      <td>1.00E-03</td>\n      <td>1.00E-04</td>\n      <td>0</td>\n      <td>8.20E-01</td>\n      <td>3.18E-01</td>\n      <td>8.35E-01</td>\n      <td>3.05E-01</td>\n      <td>3.79E-01</td>\n      <td>7.03E-02</td>\n      <td>6.86E-04</td>\n      <td>42</td>\n      <td>4</td>\n    </tr>\n    <tr>\n      <th>43</th>\n      <td>76</td>\n      <td>1.00E-03</td>\n      <td>1.00E-04</td>\n      <td>1</td>\n      <td>8.29E-01</td>\n      <td>3.26E-01</td>\n      <td>8.36E-01</td>\n      <td>3.04E-01</td>\n      <td>3.80E-01</td>\n      <td>7.01E-02</td>\n      <td>6.87E-04</td>\n      <td>43</td>\n      <td>4</td>\n    </tr>\n    <tr>\n      <th>44</th>\n      <td>78</td>\n      <td>1.00E-03</td>\n      <td>1.00E-04</td>\n      <td>2</td>\n      <td>8.23E-01</td>\n      <td>3.15E-01</td>\n      <td>8.31E-01</td>\n      <td>3.14E-01</td>\n      <td>3.89E-01</td>\n      <td>7.24E-02</td>\n      <td>6.86E-04</td>\n      <td>44</td>\n      <td>4</td>\n    </tr>\n    <tr>\n      <th>48</th>\n      <td>28</td>\n      <td>1.00E-04</td>\n      <td>1.00E-01</td>\n      <td>0</td>\n      <td>6.80E-01</td>\n      <td>1.00E+00</td>\n      <td>6.35E-01</td>\n      <td>1.00E+00</td>\n      <td>6.37E-01</td>\n      <td>2.30E-02</td>\n      <td>3.45E-01</td>\n      <td>48</td>\n      <td>6</td>\n    </tr>\n    <tr>\n      <th>49</th>\n      <td>54</td>\n      <td>1.00E-04</td>\n      <td>1.00E-01</td>\n      <td>1</td>\n      <td>8.31E-01</td>\n      <td>9.99E-01</td>\n      <td>8.25E-01</td>\n      <td>1.00E+00</td>\n      <td>3.94E-01</td>\n      <td>2.30E-02</td>\n      <td>4.51E-01</td>\n      <td>49</td>\n      <td>6</td>\n    </tr>\n    <tr>\n      <th>50</th>\n      <td>74</td>\n      <td>1.00E-04</td>\n      <td>1.00E-01</td>\n      <td>2</td>\n      <td>6.98E-01</td>\n      <td>1.00E+00</td>\n      <td>6.85E-01</td>\n      <td>9.99E-01</td>\n      <td>6.18E-01</td>\n      <td>2.30E-02</td>\n      <td>4.13E-01</td>\n      <td>50</td>\n      <td>6</td>\n    </tr>\n    <tr>\n      <th>51</th>\n      <td>78</td>\n      <td>1.00E-04</td>\n      <td>1.00E-02</td>\n      <td>0</td>\n      <td>8.58E-01</td>\n      <td>6.57E-01</td>\n      <td>8.70E-01</td>\n      <td>6.13E-01</td>\n      <td>3.09E-01</td>\n      <td>1.41E-02</td>\n      <td>6.86E-02</td>\n      <td>51</td>\n      <td>7</td>\n    </tr>\n    <tr>\n      <th>52</th>\n      <td>49</td>\n      <td>1.00E-04</td>\n      <td>1.00E-02</td>\n      <td>1</td>\n      <td>7.11E-01</td>\n      <td>9.99E-01</td>\n      <td>7.04E-01</td>\n      <td>9.99E-01</td>\n      <td>6.04E-01</td>\n      <td>2.30E-02</td>\n      <td>3.73E-02</td>\n      <td>52</td>\n      <td>7</td>\n    </tr>\n    <tr>\n      <th>53</th>\n      <td>18</td>\n      <td>1.00E-04</td>\n      <td>1.00E-02</td>\n      <td>2</td>\n      <td>6.48E-01</td>\n      <td>1.72E-01</td>\n      <td>6.39E-01</td>\n      <td>1.67E-01</td>\n      <td>6.48E-01</td>\n      <td>3.86E-03</td>\n      <td>6.85E-02</td>\n      <td>53</td>\n      <td>7</td>\n    </tr>\n    <tr>\n      <th>54</th>\n      <td>29</td>\n      <td>1.00E-04</td>\n      <td>1.00E-03</td>\n      <td>0</td>\n      <td>6.81E-01</td>\n      <td>9.97E-01</td>\n      <td>6.71E-01</td>\n      <td>9.97E-01</td>\n      <td>6.29E-01</td>\n      <td>2.30E-02</td>\n      <td>6.05E-03</td>\n      <td>54</td>\n      <td>8</td>\n    </tr>\n    <tr>\n      <th>55</th>\n      <td>33</td>\n      <td>1.00E-04</td>\n      <td>1.00E-03</td>\n      <td>1</td>\n      <td>7.08E-01</td>\n      <td>9.99E-01</td>\n      <td>7.00E-01</td>\n      <td>1.00E+00</td>\n      <td>5.99E-01</td>\n      <td>2.30E-02</td>\n      <td>4.68E-03</td>\n      <td>55</td>\n      <td>8</td>\n    </tr>\n    <tr>\n      <th>56</th>\n      <td>123</td>\n      <td>1.00E-04</td>\n      <td>1.00E-03</td>\n      <td>2</td>\n      <td>8.50E-01</td>\n      <td>7.43E-01</td>\n      <td>8.90E-01</td>\n      <td>6.97E-01</td>\n      <td>2.73E-01</td>\n      <td>1.61E-02</td>\n      <td>6.86E-03</td>\n      <td>56</td>\n      <td>8</td>\n    </tr>\n    <tr>\n      <th>57</th>\n      <td>123</td>\n      <td>1.00E-04</td>\n      <td>1.00E-04</td>\n      <td>0</td>\n      <td>8.56E-01</td>\n      <td>6.80E-01</td>\n      <td>8.84E-01</td>\n      <td>6.30E-01</td>\n      <td>2.89E-01</td>\n      <td>1.45E-02</td>\n      <td>6.87E-04</td>\n      <td>57</td>\n      <td>9</td>\n    </tr>\n    <tr>\n      <th>58</th>\n      <td>17</td>\n      <td>1.00E-04</td>\n      <td>1.00E-04</td>\n      <td>1</td>\n      <td>6.58E-01</td>\n      <td>2.37E-01</td>\n      <td>5.99E-01</td>\n      <td>2.09E-01</td>\n      <td>6.67E-01</td>\n      <td>4.81E-03</td>\n      <td>6.85E-04</td>\n      <td>58</td>\n      <td>9</td>\n    </tr>\n    <tr>\n      <th>59</th>\n      <td>79</td>\n      <td>1.00E-04</td>\n      <td>1.00E-04</td>\n      <td>2</td>\n      <td>8.55E-01</td>\n      <td>6.57E-01</td>\n      <td>8.66E-01</td>\n      <td>5.85E-01</td>\n      <td>3.22E-01</td>\n      <td>1.35E-02</td>\n      <td>6.88E-04</td>\n      <td>59</td>\n      <td>9</td>\n    </tr>\n  </tbody>\n</table>\n</div>"
     },
     "execution_count": 533,
     "metadata": {},
     "output_type": "execute_result"
    }
   ],
   "source": [
    "print(\"With surprisal\")\n",
    "surprisal"
   ],
   "metadata": {
    "collapsed": false,
    "pycharm": {
     "name": "#%%\n"
    }
   }
  },
  {
   "cell_type": "code",
   "execution_count": 534,
   "outputs": [
    {
     "name": "stdout",
     "output_type": "stream",
     "text": [
      "Dataframe with all best epochs for Validation accuracy\n"
     ]
    },
    {
     "data": {
      "text/plain": "    epoch  cost_per_sample  surprisal_cost  trial  val_acc  val_updates  \\\n6      10         1.00E-05        1.00E-01      0 6.79E-01     1.00E+00   \n22     12         1.00E-06        1.00E-01      1 5.10E-01     1.00E+00   \n15     15         1.00E-05        1.00E-04      0 6.61E-01     3.63E-01   \n21     15         1.00E-06        1.00E-01      0 5.14E-01     1.00E+00   \n58     17         1.00E-04        1.00E-04      1 6.58E-01     2.37E-01   \n53     18         1.00E-04        1.00E-02      2 6.48E-01     1.72E-01   \n35     20         1.00E-03        1.00E-01      2 6.74E-01     9.99E-01   \n30     21         1.00E-06        1.00E-04      0 7.00E-01     6.29E-01   \n20     21         1.00E-06        0.00E+00      2 6.64E-01     8.43E-01   \n11     21         1.00E-05        1.00E-02      2 6.91E-01     1.00E+00   \n34     27         1.00E-03        1.00E-01      1 6.73E-01     1.00E+00   \n24     27         1.00E-06        1.00E-02      0 7.06E-01     1.00E+00   \n48     28         1.00E-04        1.00E-01      0 6.80E-01     1.00E+00   \n54     29         1.00E-04        1.00E-03      0 6.81E-01     9.97E-01   \n23     31         1.00E-06        1.00E-01      2 6.74E-01     1.00E+00   \n29     31         1.00E-06        1.00E-03      2 6.99E-01     1.00E+00   \n55     33         1.00E-04        1.00E-03      1 7.08E-01     9.99E-01   \n12     33         1.00E-05        1.00E-03      0 7.08E-01     9.99E-01   \n19     34         1.00E-06        0.00E+00      1 7.10E-01     9.14E-01   \n33     48         1.00E-03        1.00E-01      0 8.16E-01     3.44E-01   \n27     48         1.00E-06        1.00E-03      0 7.23E-01     1.00E+00   \n3      49         1.00E-05        0.00E+00      0 8.45E-01     7.11E-01   \n52     49         1.00E-04        1.00E-02      1 7.11E-01     9.99E-01   \n2      50         1.00E-03        0.00E+00      2 8.04E-01     3.24E-01   \n49     54         1.00E-04        1.00E-01      1 8.31E-01     9.99E-01   \n41     55         1.00E-03        1.00E-03      2 8.16E-01     3.37E-01   \n38     56         1.00E-03        1.00E-02      2 8.12E-01     3.19E-01   \n45     62         1.00E-04        0.00E+00      0 8.47E-01     5.90E-01   \n32     63         1.00E-06        1.00E-04      2 8.53E-01     8.16E-01   \n8      64         1.00E-05        1.00E-01      2 6.94E-01     1.00E+00   \n26     66         1.00E-06        1.00E-02      2 7.14E-01     9.99E-01   \n13     67         1.00E-05        1.00E-03      1 7.21E-01     9.99E-01   \n25     70         1.00E-06        1.00E-02      1 7.00E-01     9.99E-01   \n50     74         1.00E-04        1.00E-01      2 6.98E-01     1.00E+00   \n47     76         1.00E-04        0.00E+00      2 8.47E-01     6.33E-01   \n43     76         1.00E-03        1.00E-04      1 8.29E-01     3.26E-01   \n9      77         1.00E-05        1.00E-02      0 6.62E-01     1.00E+00   \n44     78         1.00E-03        1.00E-04      2 8.23E-01     3.15E-01   \n51     78         1.00E-04        1.00E-02      0 8.58E-01     6.57E-01   \n59     79         1.00E-04        1.00E-04      2 8.55E-01     6.57E-01   \n36     85         1.00E-03        1.00E-02      0 8.27E-01     3.54E-01   \n40     86         1.00E-03        1.00E-03      1 8.29E-01     3.32E-01   \n37     86         1.00E-03        1.00E-02      1 8.32E-01     3.53E-01   \n7      87         1.00E-05        1.00E-01      1 7.18E-01     9.99E-01   \n42     92         1.00E-03        1.00E-04      0 8.20E-01     3.18E-01   \n14     92         1.00E-05        1.00E-03      2 7.08E-01     9.99E-01   \n46     93         1.00E-04        0.00E+00      1 8.53E-01     7.14E-01   \n4      94         1.00E-05        0.00E+00      1 8.55E-01     7.98E-01   \n5      98         1.00E-05        0.00E+00      2 8.52E-01     8.00E-01   \n1      99         1.00E-03        0.00E+00      1 8.33E-01     3.24E-01   \n0      99         1.00E-03        0.00E+00      0 8.25E-01     3.26E-01   \n28    101         1.00E-06        1.00E-03      1 8.43E-01     7.56E-01   \n16    114         1.00E-05        1.00E-04      1 8.58E-01     7.12E-01   \n17    117         1.00E-05        1.00E-04      2 8.52E-01     7.81E-01   \n39    121         1.00E-03        1.00E-03      0 8.38E-01     3.28E-01   \n10    122         1.00E-05        1.00E-02      1 7.20E-01     9.98E-01   \n18    123         1.00E-06        0.00E+00      0 8.56E-01     8.76E-01   \n31    123         1.00E-06        1.00E-04      1 8.47E-01     9.11E-01   \n56    123         1.00E-04        1.00E-03      2 8.50E-01     7.43E-01   \n57    123         1.00E-04        1.00E-04      0 8.56E-01     6.80E-01   \n\n    train_acc  train_updates  entropy_loss  budget_loss  surprisal_loss  \\\n6    6.68E-01       1.00E+00      6.35E-01     2.30E-03        1.66E-02   \n22   5.13E-01       1.00E+00      6.89E-01     2.30E-04        3.54E-01   \n15   6.43E-01       2.90E-01      6.47E-01     6.67E-04        6.87E-04   \n21   5.14E-01       1.00E+00      6.89E-01     2.30E-04        4.85E-01   \n58   5.99E-01       2.09E-01      6.67E-01     4.81E-03        6.85E-04   \n53   6.39E-01       1.67E-01      6.48E-01     3.86E-03        6.85E-02   \n35   6.65E-01       1.00E+00      6.37E-01     2.30E-01        3.03E-01   \n30   6.83E-01       7.27E-01      6.18E-01     1.67E-04        6.70E-04   \n20   6.76E-01       8.73E-01      6.21E-01     2.01E-04        0.00E+00   \n11   6.82E-01       1.00E+00      6.21E-01     2.30E-03        8.88E-04   \n34   6.64E-01       9.99E-01      6.39E-01     2.30E-01        2.53E-01   \n24   6.97E-01       1.00E+00      6.11E-01     2.30E-04        1.94E-02   \n48   6.35E-01       1.00E+00      6.37E-01     2.30E-02        3.45E-01   \n54   6.71E-01       9.97E-01      6.29E-01     2.30E-02        6.05E-03   \n23   6.68E-01       1.00E+00      6.34E-01     2.30E-04        3.72E-01   \n29   6.84E-01       1.00E+00      6.21E-01     2.30E-04        2.78E-03   \n55   7.00E-01       1.00E+00      5.99E-01     2.30E-02        4.68E-03   \n12   6.91E-01       9.99E-01      6.13E-01     2.30E-03        4.04E-03   \n19   6.93E-01       9.20E-01      6.09E-01     2.12E-04        0.00E+00   \n33   8.10E-01       3.14E-01      4.17E-01     7.24E-02        6.84E-01   \n27   7.17E-01       1.00E+00      5.89E-01     2.30E-04        1.98E-03   \n3    8.45E-01       6.63E-01      3.60E-01     1.53E-03        0.00E+00   \n52   7.04E-01       9.99E-01      6.04E-01     2.30E-02        3.73E-02   \n2    8.07E-01       3.17E-01      4.23E-01     7.31E-02        0.00E+00   \n49   8.25E-01       1.00E+00      3.94E-01     2.30E-02        4.51E-01   \n41   8.19E-01       2.86E-01      4.12E-01     6.58E-02        6.86E-03   \n38   8.11E-01       3.08E-01      4.18E-01     7.10E-02        6.87E-02   \n45   8.51E-01       6.08E-01      3.42E-01     1.40E-02        0.00E+00   \n32   8.59E-01       8.26E-01      3.33E-01     1.90E-04        6.97E-04   \n8    6.90E-01       1.00E+00      6.12E-01     2.30E-03        9.24E-02   \n26   7.12E-01       9.99E-01      5.99E-01     2.30E-04        3.28E-02   \n13   7.11E-01       9.99E-01      5.95E-01     2.30E-03        4.13E-03   \n25   6.82E-01       9.99E-01      6.20E-01     2.30E-04        3.76E-02   \n50   6.85E-01       9.99E-01      6.18E-01     2.30E-02        4.13E-01   \n47   8.68E-01       5.92E-01      3.16E-01     1.36E-02        0.00E+00   \n43   8.36E-01       3.04E-01      3.80E-01     7.01E-02        6.87E-04   \n9    6.46E-01       9.99E-01      6.42E-01     2.30E-03        4.05E-02   \n44   8.31E-01       3.14E-01      3.89E-01     7.24E-02        6.86E-04   \n51   8.70E-01       6.13E-01      3.09E-01     1.41E-02        6.86E-02   \n59   8.66E-01       5.85E-01      3.22E-01     1.35E-02        6.88E-04   \n36   8.35E-01       3.12E-01      3.82E-01     7.20E-02        6.86E-02   \n40   8.33E-01       2.95E-01      3.88E-01     6.78E-02        6.86E-03   \n37   8.36E-01       3.18E-01      3.73E-01     7.33E-02        6.85E-02   \n7    7.05E-01       1.00E+00      6.00E-01     2.30E-03        3.92E-01   \n42   8.35E-01       3.05E-01      3.79E-01     7.03E-02        6.86E-04   \n14   7.06E-01       9.99E-01      5.94E-01     2.30E-03        5.12E-03   \n46   8.68E-01       6.48E-01      3.14E-01     1.49E-02        0.00E+00   \n4    8.81E-01       7.76E-01      2.90E-01     1.79E-03        0.00E+00   \n5    8.67E-01       7.87E-01      3.26E-01     1.81E-03        0.00E+00   \n1    8.41E-01       3.01E-01      3.71E-01     6.92E-02        0.00E+00   \n0    8.41E-01       3.11E-01      3.73E-01     7.15E-02        0.00E+00   \n28   8.65E-01       7.28E-01      3.60E-01     1.68E-04        6.87E-03   \n16   8.89E-01       6.79E-01      2.81E-01     1.56E-03        6.82E-04   \n17   8.85E-01       7.76E-01      2.89E-01     1.79E-03        6.85E-04   \n39   8.42E-01       2.92E-01      3.69E-01     6.72E-02        6.86E-03   \n10   7.28E-01       9.98E-01      5.79E-01     2.30E-03        4.28E-02   \n18   8.90E-01       8.74E-01      2.81E-01     2.01E-04        0.00E+00   \n31   8.79E-01       8.70E-01      3.14E-01     2.00E-04        6.86E-04   \n56   8.90E-01       6.97E-01      2.73E-01     1.61E-02        6.86E-03   \n57   8.84E-01       6.30E-01      2.89E-01     1.45E-02        6.87E-04   \n\n    list_index exp  \n6            6  11  \n22          22  16  \n15          15  14  \n21          21  16  \n58          58   9  \n53          53   7  \n35          35   1  \n30          30  19  \n20          20  15  \n11          11  12  \n34          34   1  \n24          24  17  \n48          48   6  \n54          54   8  \n23          23  16  \n29          29  18  \n55          55   8  \n12          12  13  \n19          19  15  \n33          33   1  \n27          27  18  \n3            3  10  \n52          52   7  \n2            2   0  \n49          49   6  \n41          41   3  \n38          38   2  \n45          45   5  \n32          32  19  \n8            8  11  \n26          26  17  \n13          13  13  \n25          25  17  \n50          50   6  \n47          47   5  \n43          43   4  \n9            9  12  \n44          44   4  \n51          51   7  \n59          59   9  \n36          36   2  \n40          40   3  \n37          37   2  \n7            7  11  \n42          42   4  \n14          14  13  \n46          46   5  \n4            4  10  \n5            5  10  \n1            1   0  \n0            0   0  \n28          28  18  \n16          16  14  \n17          17  14  \n39          39   3  \n10          10  12  \n18          18  15  \n31          31  19  \n56          56   8  \n57          57   9  ",
      "text/html": "<div>\n<style scoped>\n    .dataframe tbody tr th:only-of-type {\n        vertical-align: middle;\n    }\n\n    .dataframe tbody tr th {\n        vertical-align: top;\n    }\n\n    .dataframe thead th {\n        text-align: right;\n    }\n</style>\n<table border=\"1\" class=\"dataframe\">\n  <thead>\n    <tr style=\"text-align: right;\">\n      <th></th>\n      <th>epoch</th>\n      <th>cost_per_sample</th>\n      <th>surprisal_cost</th>\n      <th>trial</th>\n      <th>val_acc</th>\n      <th>val_updates</th>\n      <th>train_acc</th>\n      <th>train_updates</th>\n      <th>entropy_loss</th>\n      <th>budget_loss</th>\n      <th>surprisal_loss</th>\n      <th>list_index</th>\n      <th>exp</th>\n    </tr>\n  </thead>\n  <tbody>\n    <tr>\n      <th>6</th>\n      <td>10</td>\n      <td>1.00E-05</td>\n      <td>1.00E-01</td>\n      <td>0</td>\n      <td>6.79E-01</td>\n      <td>1.00E+00</td>\n      <td>6.68E-01</td>\n      <td>1.00E+00</td>\n      <td>6.35E-01</td>\n      <td>2.30E-03</td>\n      <td>1.66E-02</td>\n      <td>6</td>\n      <td>11</td>\n    </tr>\n    <tr>\n      <th>22</th>\n      <td>12</td>\n      <td>1.00E-06</td>\n      <td>1.00E-01</td>\n      <td>1</td>\n      <td>5.10E-01</td>\n      <td>1.00E+00</td>\n      <td>5.13E-01</td>\n      <td>1.00E+00</td>\n      <td>6.89E-01</td>\n      <td>2.30E-04</td>\n      <td>3.54E-01</td>\n      <td>22</td>\n      <td>16</td>\n    </tr>\n    <tr>\n      <th>15</th>\n      <td>15</td>\n      <td>1.00E-05</td>\n      <td>1.00E-04</td>\n      <td>0</td>\n      <td>6.61E-01</td>\n      <td>3.63E-01</td>\n      <td>6.43E-01</td>\n      <td>2.90E-01</td>\n      <td>6.47E-01</td>\n      <td>6.67E-04</td>\n      <td>6.87E-04</td>\n      <td>15</td>\n      <td>14</td>\n    </tr>\n    <tr>\n      <th>21</th>\n      <td>15</td>\n      <td>1.00E-06</td>\n      <td>1.00E-01</td>\n      <td>0</td>\n      <td>5.14E-01</td>\n      <td>1.00E+00</td>\n      <td>5.14E-01</td>\n      <td>1.00E+00</td>\n      <td>6.89E-01</td>\n      <td>2.30E-04</td>\n      <td>4.85E-01</td>\n      <td>21</td>\n      <td>16</td>\n    </tr>\n    <tr>\n      <th>58</th>\n      <td>17</td>\n      <td>1.00E-04</td>\n      <td>1.00E-04</td>\n      <td>1</td>\n      <td>6.58E-01</td>\n      <td>2.37E-01</td>\n      <td>5.99E-01</td>\n      <td>2.09E-01</td>\n      <td>6.67E-01</td>\n      <td>4.81E-03</td>\n      <td>6.85E-04</td>\n      <td>58</td>\n      <td>9</td>\n    </tr>\n    <tr>\n      <th>53</th>\n      <td>18</td>\n      <td>1.00E-04</td>\n      <td>1.00E-02</td>\n      <td>2</td>\n      <td>6.48E-01</td>\n      <td>1.72E-01</td>\n      <td>6.39E-01</td>\n      <td>1.67E-01</td>\n      <td>6.48E-01</td>\n      <td>3.86E-03</td>\n      <td>6.85E-02</td>\n      <td>53</td>\n      <td>7</td>\n    </tr>\n    <tr>\n      <th>35</th>\n      <td>20</td>\n      <td>1.00E-03</td>\n      <td>1.00E-01</td>\n      <td>2</td>\n      <td>6.74E-01</td>\n      <td>9.99E-01</td>\n      <td>6.65E-01</td>\n      <td>1.00E+00</td>\n      <td>6.37E-01</td>\n      <td>2.30E-01</td>\n      <td>3.03E-01</td>\n      <td>35</td>\n      <td>1</td>\n    </tr>\n    <tr>\n      <th>30</th>\n      <td>21</td>\n      <td>1.00E-06</td>\n      <td>1.00E-04</td>\n      <td>0</td>\n      <td>7.00E-01</td>\n      <td>6.29E-01</td>\n      <td>6.83E-01</td>\n      <td>7.27E-01</td>\n      <td>6.18E-01</td>\n      <td>1.67E-04</td>\n      <td>6.70E-04</td>\n      <td>30</td>\n      <td>19</td>\n    </tr>\n    <tr>\n      <th>20</th>\n      <td>21</td>\n      <td>1.00E-06</td>\n      <td>0.00E+00</td>\n      <td>2</td>\n      <td>6.64E-01</td>\n      <td>8.43E-01</td>\n      <td>6.76E-01</td>\n      <td>8.73E-01</td>\n      <td>6.21E-01</td>\n      <td>2.01E-04</td>\n      <td>0.00E+00</td>\n      <td>20</td>\n      <td>15</td>\n    </tr>\n    <tr>\n      <th>11</th>\n      <td>21</td>\n      <td>1.00E-05</td>\n      <td>1.00E-02</td>\n      <td>2</td>\n      <td>6.91E-01</td>\n      <td>1.00E+00</td>\n      <td>6.82E-01</td>\n      <td>1.00E+00</td>\n      <td>6.21E-01</td>\n      <td>2.30E-03</td>\n      <td>8.88E-04</td>\n      <td>11</td>\n      <td>12</td>\n    </tr>\n    <tr>\n      <th>34</th>\n      <td>27</td>\n      <td>1.00E-03</td>\n      <td>1.00E-01</td>\n      <td>1</td>\n      <td>6.73E-01</td>\n      <td>1.00E+00</td>\n      <td>6.64E-01</td>\n      <td>9.99E-01</td>\n      <td>6.39E-01</td>\n      <td>2.30E-01</td>\n      <td>2.53E-01</td>\n      <td>34</td>\n      <td>1</td>\n    </tr>\n    <tr>\n      <th>24</th>\n      <td>27</td>\n      <td>1.00E-06</td>\n      <td>1.00E-02</td>\n      <td>0</td>\n      <td>7.06E-01</td>\n      <td>1.00E+00</td>\n      <td>6.97E-01</td>\n      <td>1.00E+00</td>\n      <td>6.11E-01</td>\n      <td>2.30E-04</td>\n      <td>1.94E-02</td>\n      <td>24</td>\n      <td>17</td>\n    </tr>\n    <tr>\n      <th>48</th>\n      <td>28</td>\n      <td>1.00E-04</td>\n      <td>1.00E-01</td>\n      <td>0</td>\n      <td>6.80E-01</td>\n      <td>1.00E+00</td>\n      <td>6.35E-01</td>\n      <td>1.00E+00</td>\n      <td>6.37E-01</td>\n      <td>2.30E-02</td>\n      <td>3.45E-01</td>\n      <td>48</td>\n      <td>6</td>\n    </tr>\n    <tr>\n      <th>54</th>\n      <td>29</td>\n      <td>1.00E-04</td>\n      <td>1.00E-03</td>\n      <td>0</td>\n      <td>6.81E-01</td>\n      <td>9.97E-01</td>\n      <td>6.71E-01</td>\n      <td>9.97E-01</td>\n      <td>6.29E-01</td>\n      <td>2.30E-02</td>\n      <td>6.05E-03</td>\n      <td>54</td>\n      <td>8</td>\n    </tr>\n    <tr>\n      <th>23</th>\n      <td>31</td>\n      <td>1.00E-06</td>\n      <td>1.00E-01</td>\n      <td>2</td>\n      <td>6.74E-01</td>\n      <td>1.00E+00</td>\n      <td>6.68E-01</td>\n      <td>1.00E+00</td>\n      <td>6.34E-01</td>\n      <td>2.30E-04</td>\n      <td>3.72E-01</td>\n      <td>23</td>\n      <td>16</td>\n    </tr>\n    <tr>\n      <th>29</th>\n      <td>31</td>\n      <td>1.00E-06</td>\n      <td>1.00E-03</td>\n      <td>2</td>\n      <td>6.99E-01</td>\n      <td>1.00E+00</td>\n      <td>6.84E-01</td>\n      <td>1.00E+00</td>\n      <td>6.21E-01</td>\n      <td>2.30E-04</td>\n      <td>2.78E-03</td>\n      <td>29</td>\n      <td>18</td>\n    </tr>\n    <tr>\n      <th>55</th>\n      <td>33</td>\n      <td>1.00E-04</td>\n      <td>1.00E-03</td>\n      <td>1</td>\n      <td>7.08E-01</td>\n      <td>9.99E-01</td>\n      <td>7.00E-01</td>\n      <td>1.00E+00</td>\n      <td>5.99E-01</td>\n      <td>2.30E-02</td>\n      <td>4.68E-03</td>\n      <td>55</td>\n      <td>8</td>\n    </tr>\n    <tr>\n      <th>12</th>\n      <td>33</td>\n      <td>1.00E-05</td>\n      <td>1.00E-03</td>\n      <td>0</td>\n      <td>7.08E-01</td>\n      <td>9.99E-01</td>\n      <td>6.91E-01</td>\n      <td>9.99E-01</td>\n      <td>6.13E-01</td>\n      <td>2.30E-03</td>\n      <td>4.04E-03</td>\n      <td>12</td>\n      <td>13</td>\n    </tr>\n    <tr>\n      <th>19</th>\n      <td>34</td>\n      <td>1.00E-06</td>\n      <td>0.00E+00</td>\n      <td>1</td>\n      <td>7.10E-01</td>\n      <td>9.14E-01</td>\n      <td>6.93E-01</td>\n      <td>9.20E-01</td>\n      <td>6.09E-01</td>\n      <td>2.12E-04</td>\n      <td>0.00E+00</td>\n      <td>19</td>\n      <td>15</td>\n    </tr>\n    <tr>\n      <th>33</th>\n      <td>48</td>\n      <td>1.00E-03</td>\n      <td>1.00E-01</td>\n      <td>0</td>\n      <td>8.16E-01</td>\n      <td>3.44E-01</td>\n      <td>8.10E-01</td>\n      <td>3.14E-01</td>\n      <td>4.17E-01</td>\n      <td>7.24E-02</td>\n      <td>6.84E-01</td>\n      <td>33</td>\n      <td>1</td>\n    </tr>\n    <tr>\n      <th>27</th>\n      <td>48</td>\n      <td>1.00E-06</td>\n      <td>1.00E-03</td>\n      <td>0</td>\n      <td>7.23E-01</td>\n      <td>1.00E+00</td>\n      <td>7.17E-01</td>\n      <td>1.00E+00</td>\n      <td>5.89E-01</td>\n      <td>2.30E-04</td>\n      <td>1.98E-03</td>\n      <td>27</td>\n      <td>18</td>\n    </tr>\n    <tr>\n      <th>3</th>\n      <td>49</td>\n      <td>1.00E-05</td>\n      <td>0.00E+00</td>\n      <td>0</td>\n      <td>8.45E-01</td>\n      <td>7.11E-01</td>\n      <td>8.45E-01</td>\n      <td>6.63E-01</td>\n      <td>3.60E-01</td>\n      <td>1.53E-03</td>\n      <td>0.00E+00</td>\n      <td>3</td>\n      <td>10</td>\n    </tr>\n    <tr>\n      <th>52</th>\n      <td>49</td>\n      <td>1.00E-04</td>\n      <td>1.00E-02</td>\n      <td>1</td>\n      <td>7.11E-01</td>\n      <td>9.99E-01</td>\n      <td>7.04E-01</td>\n      <td>9.99E-01</td>\n      <td>6.04E-01</td>\n      <td>2.30E-02</td>\n      <td>3.73E-02</td>\n      <td>52</td>\n      <td>7</td>\n    </tr>\n    <tr>\n      <th>2</th>\n      <td>50</td>\n      <td>1.00E-03</td>\n      <td>0.00E+00</td>\n      <td>2</td>\n      <td>8.04E-01</td>\n      <td>3.24E-01</td>\n      <td>8.07E-01</td>\n      <td>3.17E-01</td>\n      <td>4.23E-01</td>\n      <td>7.31E-02</td>\n      <td>0.00E+00</td>\n      <td>2</td>\n      <td>0</td>\n    </tr>\n    <tr>\n      <th>49</th>\n      <td>54</td>\n      <td>1.00E-04</td>\n      <td>1.00E-01</td>\n      <td>1</td>\n      <td>8.31E-01</td>\n      <td>9.99E-01</td>\n      <td>8.25E-01</td>\n      <td>1.00E+00</td>\n      <td>3.94E-01</td>\n      <td>2.30E-02</td>\n      <td>4.51E-01</td>\n      <td>49</td>\n      <td>6</td>\n    </tr>\n    <tr>\n      <th>41</th>\n      <td>55</td>\n      <td>1.00E-03</td>\n      <td>1.00E-03</td>\n      <td>2</td>\n      <td>8.16E-01</td>\n      <td>3.37E-01</td>\n      <td>8.19E-01</td>\n      <td>2.86E-01</td>\n      <td>4.12E-01</td>\n      <td>6.58E-02</td>\n      <td>6.86E-03</td>\n      <td>41</td>\n      <td>3</td>\n    </tr>\n    <tr>\n      <th>38</th>\n      <td>56</td>\n      <td>1.00E-03</td>\n      <td>1.00E-02</td>\n      <td>2</td>\n      <td>8.12E-01</td>\n      <td>3.19E-01</td>\n      <td>8.11E-01</td>\n      <td>3.08E-01</td>\n      <td>4.18E-01</td>\n      <td>7.10E-02</td>\n      <td>6.87E-02</td>\n      <td>38</td>\n      <td>2</td>\n    </tr>\n    <tr>\n      <th>45</th>\n      <td>62</td>\n      <td>1.00E-04</td>\n      <td>0.00E+00</td>\n      <td>0</td>\n      <td>8.47E-01</td>\n      <td>5.90E-01</td>\n      <td>8.51E-01</td>\n      <td>6.08E-01</td>\n      <td>3.42E-01</td>\n      <td>1.40E-02</td>\n      <td>0.00E+00</td>\n      <td>45</td>\n      <td>5</td>\n    </tr>\n    <tr>\n      <th>32</th>\n      <td>63</td>\n      <td>1.00E-06</td>\n      <td>1.00E-04</td>\n      <td>2</td>\n      <td>8.53E-01</td>\n      <td>8.16E-01</td>\n      <td>8.59E-01</td>\n      <td>8.26E-01</td>\n      <td>3.33E-01</td>\n      <td>1.90E-04</td>\n      <td>6.97E-04</td>\n      <td>32</td>\n      <td>19</td>\n    </tr>\n    <tr>\n      <th>8</th>\n      <td>64</td>\n      <td>1.00E-05</td>\n      <td>1.00E-01</td>\n      <td>2</td>\n      <td>6.94E-01</td>\n      <td>1.00E+00</td>\n      <td>6.90E-01</td>\n      <td>1.00E+00</td>\n      <td>6.12E-01</td>\n      <td>2.30E-03</td>\n      <td>9.24E-02</td>\n      <td>8</td>\n      <td>11</td>\n    </tr>\n    <tr>\n      <th>26</th>\n      <td>66</td>\n      <td>1.00E-06</td>\n      <td>1.00E-02</td>\n      <td>2</td>\n      <td>7.14E-01</td>\n      <td>9.99E-01</td>\n      <td>7.12E-01</td>\n      <td>9.99E-01</td>\n      <td>5.99E-01</td>\n      <td>2.30E-04</td>\n      <td>3.28E-02</td>\n      <td>26</td>\n      <td>17</td>\n    </tr>\n    <tr>\n      <th>13</th>\n      <td>67</td>\n      <td>1.00E-05</td>\n      <td>1.00E-03</td>\n      <td>1</td>\n      <td>7.21E-01</td>\n      <td>9.99E-01</td>\n      <td>7.11E-01</td>\n      <td>9.99E-01</td>\n      <td>5.95E-01</td>\n      <td>2.30E-03</td>\n      <td>4.13E-03</td>\n      <td>13</td>\n      <td>13</td>\n    </tr>\n    <tr>\n      <th>25</th>\n      <td>70</td>\n      <td>1.00E-06</td>\n      <td>1.00E-02</td>\n      <td>1</td>\n      <td>7.00E-01</td>\n      <td>9.99E-01</td>\n      <td>6.82E-01</td>\n      <td>9.99E-01</td>\n      <td>6.20E-01</td>\n      <td>2.30E-04</td>\n      <td>3.76E-02</td>\n      <td>25</td>\n      <td>17</td>\n    </tr>\n    <tr>\n      <th>50</th>\n      <td>74</td>\n      <td>1.00E-04</td>\n      <td>1.00E-01</td>\n      <td>2</td>\n      <td>6.98E-01</td>\n      <td>1.00E+00</td>\n      <td>6.85E-01</td>\n      <td>9.99E-01</td>\n      <td>6.18E-01</td>\n      <td>2.30E-02</td>\n      <td>4.13E-01</td>\n      <td>50</td>\n      <td>6</td>\n    </tr>\n    <tr>\n      <th>47</th>\n      <td>76</td>\n      <td>1.00E-04</td>\n      <td>0.00E+00</td>\n      <td>2</td>\n      <td>8.47E-01</td>\n      <td>6.33E-01</td>\n      <td>8.68E-01</td>\n      <td>5.92E-01</td>\n      <td>3.16E-01</td>\n      <td>1.36E-02</td>\n      <td>0.00E+00</td>\n      <td>47</td>\n      <td>5</td>\n    </tr>\n    <tr>\n      <th>43</th>\n      <td>76</td>\n      <td>1.00E-03</td>\n      <td>1.00E-04</td>\n      <td>1</td>\n      <td>8.29E-01</td>\n      <td>3.26E-01</td>\n      <td>8.36E-01</td>\n      <td>3.04E-01</td>\n      <td>3.80E-01</td>\n      <td>7.01E-02</td>\n      <td>6.87E-04</td>\n      <td>43</td>\n      <td>4</td>\n    </tr>\n    <tr>\n      <th>9</th>\n      <td>77</td>\n      <td>1.00E-05</td>\n      <td>1.00E-02</td>\n      <td>0</td>\n      <td>6.62E-01</td>\n      <td>1.00E+00</td>\n      <td>6.46E-01</td>\n      <td>9.99E-01</td>\n      <td>6.42E-01</td>\n      <td>2.30E-03</td>\n      <td>4.05E-02</td>\n      <td>9</td>\n      <td>12</td>\n    </tr>\n    <tr>\n      <th>44</th>\n      <td>78</td>\n      <td>1.00E-03</td>\n      <td>1.00E-04</td>\n      <td>2</td>\n      <td>8.23E-01</td>\n      <td>3.15E-01</td>\n      <td>8.31E-01</td>\n      <td>3.14E-01</td>\n      <td>3.89E-01</td>\n      <td>7.24E-02</td>\n      <td>6.86E-04</td>\n      <td>44</td>\n      <td>4</td>\n    </tr>\n    <tr>\n      <th>51</th>\n      <td>78</td>\n      <td>1.00E-04</td>\n      <td>1.00E-02</td>\n      <td>0</td>\n      <td>8.58E-01</td>\n      <td>6.57E-01</td>\n      <td>8.70E-01</td>\n      <td>6.13E-01</td>\n      <td>3.09E-01</td>\n      <td>1.41E-02</td>\n      <td>6.86E-02</td>\n      <td>51</td>\n      <td>7</td>\n    </tr>\n    <tr>\n      <th>59</th>\n      <td>79</td>\n      <td>1.00E-04</td>\n      <td>1.00E-04</td>\n      <td>2</td>\n      <td>8.55E-01</td>\n      <td>6.57E-01</td>\n      <td>8.66E-01</td>\n      <td>5.85E-01</td>\n      <td>3.22E-01</td>\n      <td>1.35E-02</td>\n      <td>6.88E-04</td>\n      <td>59</td>\n      <td>9</td>\n    </tr>\n    <tr>\n      <th>36</th>\n      <td>85</td>\n      <td>1.00E-03</td>\n      <td>1.00E-02</td>\n      <td>0</td>\n      <td>8.27E-01</td>\n      <td>3.54E-01</td>\n      <td>8.35E-01</td>\n      <td>3.12E-01</td>\n      <td>3.82E-01</td>\n      <td>7.20E-02</td>\n      <td>6.86E-02</td>\n      <td>36</td>\n      <td>2</td>\n    </tr>\n    <tr>\n      <th>40</th>\n      <td>86</td>\n      <td>1.00E-03</td>\n      <td>1.00E-03</td>\n      <td>1</td>\n      <td>8.29E-01</td>\n      <td>3.32E-01</td>\n      <td>8.33E-01</td>\n      <td>2.95E-01</td>\n      <td>3.88E-01</td>\n      <td>6.78E-02</td>\n      <td>6.86E-03</td>\n      <td>40</td>\n      <td>3</td>\n    </tr>\n    <tr>\n      <th>37</th>\n      <td>86</td>\n      <td>1.00E-03</td>\n      <td>1.00E-02</td>\n      <td>1</td>\n      <td>8.32E-01</td>\n      <td>3.53E-01</td>\n      <td>8.36E-01</td>\n      <td>3.18E-01</td>\n      <td>3.73E-01</td>\n      <td>7.33E-02</td>\n      <td>6.85E-02</td>\n      <td>37</td>\n      <td>2</td>\n    </tr>\n    <tr>\n      <th>7</th>\n      <td>87</td>\n      <td>1.00E-05</td>\n      <td>1.00E-01</td>\n      <td>1</td>\n      <td>7.18E-01</td>\n      <td>9.99E-01</td>\n      <td>7.05E-01</td>\n      <td>1.00E+00</td>\n      <td>6.00E-01</td>\n      <td>2.30E-03</td>\n      <td>3.92E-01</td>\n      <td>7</td>\n      <td>11</td>\n    </tr>\n    <tr>\n      <th>42</th>\n      <td>92</td>\n      <td>1.00E-03</td>\n      <td>1.00E-04</td>\n      <td>0</td>\n      <td>8.20E-01</td>\n      <td>3.18E-01</td>\n      <td>8.35E-01</td>\n      <td>3.05E-01</td>\n      <td>3.79E-01</td>\n      <td>7.03E-02</td>\n      <td>6.86E-04</td>\n      <td>42</td>\n      <td>4</td>\n    </tr>\n    <tr>\n      <th>14</th>\n      <td>92</td>\n      <td>1.00E-05</td>\n      <td>1.00E-03</td>\n      <td>2</td>\n      <td>7.08E-01</td>\n      <td>9.99E-01</td>\n      <td>7.06E-01</td>\n      <td>9.99E-01</td>\n      <td>5.94E-01</td>\n      <td>2.30E-03</td>\n      <td>5.12E-03</td>\n      <td>14</td>\n      <td>13</td>\n    </tr>\n    <tr>\n      <th>46</th>\n      <td>93</td>\n      <td>1.00E-04</td>\n      <td>0.00E+00</td>\n      <td>1</td>\n      <td>8.53E-01</td>\n      <td>7.14E-01</td>\n      <td>8.68E-01</td>\n      <td>6.48E-01</td>\n      <td>3.14E-01</td>\n      <td>1.49E-02</td>\n      <td>0.00E+00</td>\n      <td>46</td>\n      <td>5</td>\n    </tr>\n    <tr>\n      <th>4</th>\n      <td>94</td>\n      <td>1.00E-05</td>\n      <td>0.00E+00</td>\n      <td>1</td>\n      <td>8.55E-01</td>\n      <td>7.98E-01</td>\n      <td>8.81E-01</td>\n      <td>7.76E-01</td>\n      <td>2.90E-01</td>\n      <td>1.79E-03</td>\n      <td>0.00E+00</td>\n      <td>4</td>\n      <td>10</td>\n    </tr>\n    <tr>\n      <th>5</th>\n      <td>98</td>\n      <td>1.00E-05</td>\n      <td>0.00E+00</td>\n      <td>2</td>\n      <td>8.52E-01</td>\n      <td>8.00E-01</td>\n      <td>8.67E-01</td>\n      <td>7.87E-01</td>\n      <td>3.26E-01</td>\n      <td>1.81E-03</td>\n      <td>0.00E+00</td>\n      <td>5</td>\n      <td>10</td>\n    </tr>\n    <tr>\n      <th>1</th>\n      <td>99</td>\n      <td>1.00E-03</td>\n      <td>0.00E+00</td>\n      <td>1</td>\n      <td>8.33E-01</td>\n      <td>3.24E-01</td>\n      <td>8.41E-01</td>\n      <td>3.01E-01</td>\n      <td>3.71E-01</td>\n      <td>6.92E-02</td>\n      <td>0.00E+00</td>\n      <td>1</td>\n      <td>0</td>\n    </tr>\n    <tr>\n      <th>0</th>\n      <td>99</td>\n      <td>1.00E-03</td>\n      <td>0.00E+00</td>\n      <td>0</td>\n      <td>8.25E-01</td>\n      <td>3.26E-01</td>\n      <td>8.41E-01</td>\n      <td>3.11E-01</td>\n      <td>3.73E-01</td>\n      <td>7.15E-02</td>\n      <td>0.00E+00</td>\n      <td>0</td>\n      <td>0</td>\n    </tr>\n    <tr>\n      <th>28</th>\n      <td>101</td>\n      <td>1.00E-06</td>\n      <td>1.00E-03</td>\n      <td>1</td>\n      <td>8.43E-01</td>\n      <td>7.56E-01</td>\n      <td>8.65E-01</td>\n      <td>7.28E-01</td>\n      <td>3.60E-01</td>\n      <td>1.68E-04</td>\n      <td>6.87E-03</td>\n      <td>28</td>\n      <td>18</td>\n    </tr>\n    <tr>\n      <th>16</th>\n      <td>114</td>\n      <td>1.00E-05</td>\n      <td>1.00E-04</td>\n      <td>1</td>\n      <td>8.58E-01</td>\n      <td>7.12E-01</td>\n      <td>8.89E-01</td>\n      <td>6.79E-01</td>\n      <td>2.81E-01</td>\n      <td>1.56E-03</td>\n      <td>6.82E-04</td>\n      <td>16</td>\n      <td>14</td>\n    </tr>\n    <tr>\n      <th>17</th>\n      <td>117</td>\n      <td>1.00E-05</td>\n      <td>1.00E-04</td>\n      <td>2</td>\n      <td>8.52E-01</td>\n      <td>7.81E-01</td>\n      <td>8.85E-01</td>\n      <td>7.76E-01</td>\n      <td>2.89E-01</td>\n      <td>1.79E-03</td>\n      <td>6.85E-04</td>\n      <td>17</td>\n      <td>14</td>\n    </tr>\n    <tr>\n      <th>39</th>\n      <td>121</td>\n      <td>1.00E-03</td>\n      <td>1.00E-03</td>\n      <td>0</td>\n      <td>8.38E-01</td>\n      <td>3.28E-01</td>\n      <td>8.42E-01</td>\n      <td>2.92E-01</td>\n      <td>3.69E-01</td>\n      <td>6.72E-02</td>\n      <td>6.86E-03</td>\n      <td>39</td>\n      <td>3</td>\n    </tr>\n    <tr>\n      <th>10</th>\n      <td>122</td>\n      <td>1.00E-05</td>\n      <td>1.00E-02</td>\n      <td>1</td>\n      <td>7.20E-01</td>\n      <td>9.98E-01</td>\n      <td>7.28E-01</td>\n      <td>9.98E-01</td>\n      <td>5.79E-01</td>\n      <td>2.30E-03</td>\n      <td>4.28E-02</td>\n      <td>10</td>\n      <td>12</td>\n    </tr>\n    <tr>\n      <th>18</th>\n      <td>123</td>\n      <td>1.00E-06</td>\n      <td>0.00E+00</td>\n      <td>0</td>\n      <td>8.56E-01</td>\n      <td>8.76E-01</td>\n      <td>8.90E-01</td>\n      <td>8.74E-01</td>\n      <td>2.81E-01</td>\n      <td>2.01E-04</td>\n      <td>0.00E+00</td>\n      <td>18</td>\n      <td>15</td>\n    </tr>\n    <tr>\n      <th>31</th>\n      <td>123</td>\n      <td>1.00E-06</td>\n      <td>1.00E-04</td>\n      <td>1</td>\n      <td>8.47E-01</td>\n      <td>9.11E-01</td>\n      <td>8.79E-01</td>\n      <td>8.70E-01</td>\n      <td>3.14E-01</td>\n      <td>2.00E-04</td>\n      <td>6.86E-04</td>\n      <td>31</td>\n      <td>19</td>\n    </tr>\n    <tr>\n      <th>56</th>\n      <td>123</td>\n      <td>1.00E-04</td>\n      <td>1.00E-03</td>\n      <td>2</td>\n      <td>8.50E-01</td>\n      <td>7.43E-01</td>\n      <td>8.90E-01</td>\n      <td>6.97E-01</td>\n      <td>2.73E-01</td>\n      <td>1.61E-02</td>\n      <td>6.86E-03</td>\n      <td>56</td>\n      <td>8</td>\n    </tr>\n    <tr>\n      <th>57</th>\n      <td>123</td>\n      <td>1.00E-04</td>\n      <td>1.00E-04</td>\n      <td>0</td>\n      <td>8.56E-01</td>\n      <td>6.80E-01</td>\n      <td>8.84E-01</td>\n      <td>6.30E-01</td>\n      <td>2.89E-01</td>\n      <td>1.45E-02</td>\n      <td>6.87E-04</td>\n      <td>57</td>\n      <td>9</td>\n    </tr>\n  </tbody>\n</table>\n</div>"
     },
     "execution_count": 534,
     "metadata": {},
     "output_type": "execute_result"
    }
   ],
   "source": [
    "print(\"Dataframe with all best epochs for Validation accuracy\")\n",
    "best_df.sort_values(by='epoch')\n"
   ],
   "metadata": {
    "collapsed": false,
    "pycharm": {
     "name": "#%%\n"
    }
   }
  },
  {
   "cell_type": "code",
   "execution_count": 535,
   "metadata": {
    "pycharm": {
     "name": "#%%\n"
    }
   },
   "outputs": [
    {
     "name": "stdout",
     "output_type": "stream",
     "text": [
      "Dataframe with one per trials\n"
     ]
    },
    {
     "data": {
      "text/plain": "    cost_per_sample  surprisal_cost    epoch    trial  val_acc  val_updates  \\\n0          1.00E-06        0.00E+00 5.93E+01 1.00E+00 7.43E-01     8.78E-01   \n1          1.00E-06        1.00E-04 6.90E+01 1.00E+00 8.00E-01     7.86E-01   \n2          1.00E-06        1.00E-03 6.00E+01 1.00E+00 7.55E-01     9.19E-01   \n3          1.00E-06        1.00E-02 5.43E+01 1.00E+00 7.07E-01     9.99E-01   \n4          1.00E-06        1.00E-01 1.93E+01 1.00E+00 5.66E-01     1.00E+00   \n5          1.00E-05        0.00E+00 8.03E+01 1.00E+00 8.51E-01     7.70E-01   \n6          1.00E-05        1.00E-04 8.20E+01 1.00E+00 7.91E-01     6.18E-01   \n7          1.00E-05        1.00E-03 6.40E+01 1.00E+00 7.13E-01     9.99E-01   \n8          1.00E-05        1.00E-02 7.33E+01 1.00E+00 6.91E-01     9.99E-01   \n9          1.00E-05        1.00E-01 5.37E+01 1.00E+00 6.97E-01     1.00E+00   \n10         1.00E-04        0.00E+00 7.70E+01 1.00E+00 8.49E-01     6.46E-01   \n11         1.00E-04        1.00E-04 7.30E+01 1.00E+00 7.90E-01     5.25E-01   \n12         1.00E-04        1.00E-03 6.17E+01 1.00E+00 7.46E-01     9.13E-01   \n13         1.00E-04        1.00E-02 4.83E+01 1.00E+00 7.39E-01     6.09E-01   \n14         1.00E-04        1.00E-01 5.20E+01 1.00E+00 7.36E-01     1.00E+00   \n15         1.00E-03        0.00E+00 8.27E+01 1.00E+00 8.21E-01     3.24E-01   \n16         1.00E-03        1.00E-04 8.20E+01 1.00E+00 8.24E-01     3.20E-01   \n17         1.00E-03        1.00E-03 8.73E+01 1.00E+00 8.27E-01     3.32E-01   \n18         1.00E-03        1.00E-02 7.57E+01 1.00E+00 8.24E-01     3.42E-01   \n19         1.00E-03        1.00E-01 3.17E+01 1.00E+00 7.21E-01     7.81E-01   \n\n    train_acc  train_updates  entropy_loss  budget_loss  surprisal_loss  \\\n0    7.53E-01       8.89E-01      5.04E-01     2.05E-04        0.00E+00   \n1    8.07E-01       8.08E-01      4.22E-01     1.86E-04        6.84E-04   \n2    7.55E-01       9.09E-01      5.23E-01     2.09E-04        3.88E-03   \n3    6.97E-01       1.00E+00      6.10E-01     2.30E-04        2.99E-02   \n4    5.65E-01       1.00E+00      6.70E-01     2.30E-04        4.04E-01   \n5    8.64E-01       7.42E-01      3.25E-01     1.71E-03        0.00E+00   \n6    8.06E-01       5.81E-01      4.05E-01     1.34E-03        6.85E-04   \n7    7.03E-01       9.99E-01      6.01E-01     2.30E-03        4.43E-03   \n8    6.85E-01       9.99E-01      6.14E-01     2.30E-03        2.81E-02   \n9    6.88E-01       1.00E+00      6.16E-01     2.30E-03        1.67E-01   \n10   8.62E-01       6.16E-01      3.24E-01     1.42E-02        0.00E+00   \n11   7.83E-01       4.75E-01      4.26E-01     1.09E-02        6.87E-04   \n12   7.54E-01       8.98E-01      5.01E-01     2.07E-02        5.86E-03   \n13   7.38E-01       5.93E-01      5.20E-01     1.37E-02        5.81E-02   \n14   7.15E-01       1.00E+00      5.50E-01     2.30E-02        4.03E-01   \n15   8.29E-01       3.09E-01      3.89E-01     7.13E-02        0.00E+00   \n16   8.34E-01       3.08E-01      3.82E-01     7.09E-02        6.86E-04   \n17   8.31E-01       2.91E-01      3.90E-01     6.69E-02        6.86E-03   \n18   8.27E-01       3.13E-01      3.91E-01     7.21E-02        6.86E-02   \n19   7.13E-01       7.71E-01      5.64E-01     1.78E-01        4.14E-01   \n\n    list_index  \n0     1.90E+01  \n1     3.10E+01  \n2     2.80E+01  \n3     2.50E+01  \n4     2.20E+01  \n5     4.00E+00  \n6     1.60E+01  \n7     1.30E+01  \n8     1.00E+01  \n9     7.00E+00  \n10    4.60E+01  \n11    5.80E+01  \n12    5.50E+01  \n13    5.20E+01  \n14    4.90E+01  \n15    1.00E+00  \n16    4.30E+01  \n17    4.00E+01  \n18    3.70E+01  \n19    3.40E+01  ",
      "text/html": "<div>\n<style scoped>\n    .dataframe tbody tr th:only-of-type {\n        vertical-align: middle;\n    }\n\n    .dataframe tbody tr th {\n        vertical-align: top;\n    }\n\n    .dataframe thead th {\n        text-align: right;\n    }\n</style>\n<table border=\"1\" class=\"dataframe\">\n  <thead>\n    <tr style=\"text-align: right;\">\n      <th></th>\n      <th>cost_per_sample</th>\n      <th>surprisal_cost</th>\n      <th>epoch</th>\n      <th>trial</th>\n      <th>val_acc</th>\n      <th>val_updates</th>\n      <th>train_acc</th>\n      <th>train_updates</th>\n      <th>entropy_loss</th>\n      <th>budget_loss</th>\n      <th>surprisal_loss</th>\n      <th>list_index</th>\n    </tr>\n  </thead>\n  <tbody>\n    <tr>\n      <th>0</th>\n      <td>1.00E-06</td>\n      <td>0.00E+00</td>\n      <td>5.93E+01</td>\n      <td>1.00E+00</td>\n      <td>7.43E-01</td>\n      <td>8.78E-01</td>\n      <td>7.53E-01</td>\n      <td>8.89E-01</td>\n      <td>5.04E-01</td>\n      <td>2.05E-04</td>\n      <td>0.00E+00</td>\n      <td>1.90E+01</td>\n    </tr>\n    <tr>\n      <th>1</th>\n      <td>1.00E-06</td>\n      <td>1.00E-04</td>\n      <td>6.90E+01</td>\n      <td>1.00E+00</td>\n      <td>8.00E-01</td>\n      <td>7.86E-01</td>\n      <td>8.07E-01</td>\n      <td>8.08E-01</td>\n      <td>4.22E-01</td>\n      <td>1.86E-04</td>\n      <td>6.84E-04</td>\n      <td>3.10E+01</td>\n    </tr>\n    <tr>\n      <th>2</th>\n      <td>1.00E-06</td>\n      <td>1.00E-03</td>\n      <td>6.00E+01</td>\n      <td>1.00E+00</td>\n      <td>7.55E-01</td>\n      <td>9.19E-01</td>\n      <td>7.55E-01</td>\n      <td>9.09E-01</td>\n      <td>5.23E-01</td>\n      <td>2.09E-04</td>\n      <td>3.88E-03</td>\n      <td>2.80E+01</td>\n    </tr>\n    <tr>\n      <th>3</th>\n      <td>1.00E-06</td>\n      <td>1.00E-02</td>\n      <td>5.43E+01</td>\n      <td>1.00E+00</td>\n      <td>7.07E-01</td>\n      <td>9.99E-01</td>\n      <td>6.97E-01</td>\n      <td>1.00E+00</td>\n      <td>6.10E-01</td>\n      <td>2.30E-04</td>\n      <td>2.99E-02</td>\n      <td>2.50E+01</td>\n    </tr>\n    <tr>\n      <th>4</th>\n      <td>1.00E-06</td>\n      <td>1.00E-01</td>\n      <td>1.93E+01</td>\n      <td>1.00E+00</td>\n      <td>5.66E-01</td>\n      <td>1.00E+00</td>\n      <td>5.65E-01</td>\n      <td>1.00E+00</td>\n      <td>6.70E-01</td>\n      <td>2.30E-04</td>\n      <td>4.04E-01</td>\n      <td>2.20E+01</td>\n    </tr>\n    <tr>\n      <th>5</th>\n      <td>1.00E-05</td>\n      <td>0.00E+00</td>\n      <td>8.03E+01</td>\n      <td>1.00E+00</td>\n      <td>8.51E-01</td>\n      <td>7.70E-01</td>\n      <td>8.64E-01</td>\n      <td>7.42E-01</td>\n      <td>3.25E-01</td>\n      <td>1.71E-03</td>\n      <td>0.00E+00</td>\n      <td>4.00E+00</td>\n    </tr>\n    <tr>\n      <th>6</th>\n      <td>1.00E-05</td>\n      <td>1.00E-04</td>\n      <td>8.20E+01</td>\n      <td>1.00E+00</td>\n      <td>7.91E-01</td>\n      <td>6.18E-01</td>\n      <td>8.06E-01</td>\n      <td>5.81E-01</td>\n      <td>4.05E-01</td>\n      <td>1.34E-03</td>\n      <td>6.85E-04</td>\n      <td>1.60E+01</td>\n    </tr>\n    <tr>\n      <th>7</th>\n      <td>1.00E-05</td>\n      <td>1.00E-03</td>\n      <td>6.40E+01</td>\n      <td>1.00E+00</td>\n      <td>7.13E-01</td>\n      <td>9.99E-01</td>\n      <td>7.03E-01</td>\n      <td>9.99E-01</td>\n      <td>6.01E-01</td>\n      <td>2.30E-03</td>\n      <td>4.43E-03</td>\n      <td>1.30E+01</td>\n    </tr>\n    <tr>\n      <th>8</th>\n      <td>1.00E-05</td>\n      <td>1.00E-02</td>\n      <td>7.33E+01</td>\n      <td>1.00E+00</td>\n      <td>6.91E-01</td>\n      <td>9.99E-01</td>\n      <td>6.85E-01</td>\n      <td>9.99E-01</td>\n      <td>6.14E-01</td>\n      <td>2.30E-03</td>\n      <td>2.81E-02</td>\n      <td>1.00E+01</td>\n    </tr>\n    <tr>\n      <th>9</th>\n      <td>1.00E-05</td>\n      <td>1.00E-01</td>\n      <td>5.37E+01</td>\n      <td>1.00E+00</td>\n      <td>6.97E-01</td>\n      <td>1.00E+00</td>\n      <td>6.88E-01</td>\n      <td>1.00E+00</td>\n      <td>6.16E-01</td>\n      <td>2.30E-03</td>\n      <td>1.67E-01</td>\n      <td>7.00E+00</td>\n    </tr>\n    <tr>\n      <th>10</th>\n      <td>1.00E-04</td>\n      <td>0.00E+00</td>\n      <td>7.70E+01</td>\n      <td>1.00E+00</td>\n      <td>8.49E-01</td>\n      <td>6.46E-01</td>\n      <td>8.62E-01</td>\n      <td>6.16E-01</td>\n      <td>3.24E-01</td>\n      <td>1.42E-02</td>\n      <td>0.00E+00</td>\n      <td>4.60E+01</td>\n    </tr>\n    <tr>\n      <th>11</th>\n      <td>1.00E-04</td>\n      <td>1.00E-04</td>\n      <td>7.30E+01</td>\n      <td>1.00E+00</td>\n      <td>7.90E-01</td>\n      <td>5.25E-01</td>\n      <td>7.83E-01</td>\n      <td>4.75E-01</td>\n      <td>4.26E-01</td>\n      <td>1.09E-02</td>\n      <td>6.87E-04</td>\n      <td>5.80E+01</td>\n    </tr>\n    <tr>\n      <th>12</th>\n      <td>1.00E-04</td>\n      <td>1.00E-03</td>\n      <td>6.17E+01</td>\n      <td>1.00E+00</td>\n      <td>7.46E-01</td>\n      <td>9.13E-01</td>\n      <td>7.54E-01</td>\n      <td>8.98E-01</td>\n      <td>5.01E-01</td>\n      <td>2.07E-02</td>\n      <td>5.86E-03</td>\n      <td>5.50E+01</td>\n    </tr>\n    <tr>\n      <th>13</th>\n      <td>1.00E-04</td>\n      <td>1.00E-02</td>\n      <td>4.83E+01</td>\n      <td>1.00E+00</td>\n      <td>7.39E-01</td>\n      <td>6.09E-01</td>\n      <td>7.38E-01</td>\n      <td>5.93E-01</td>\n      <td>5.20E-01</td>\n      <td>1.37E-02</td>\n      <td>5.81E-02</td>\n      <td>5.20E+01</td>\n    </tr>\n    <tr>\n      <th>14</th>\n      <td>1.00E-04</td>\n      <td>1.00E-01</td>\n      <td>5.20E+01</td>\n      <td>1.00E+00</td>\n      <td>7.36E-01</td>\n      <td>1.00E+00</td>\n      <td>7.15E-01</td>\n      <td>1.00E+00</td>\n      <td>5.50E-01</td>\n      <td>2.30E-02</td>\n      <td>4.03E-01</td>\n      <td>4.90E+01</td>\n    </tr>\n    <tr>\n      <th>15</th>\n      <td>1.00E-03</td>\n      <td>0.00E+00</td>\n      <td>8.27E+01</td>\n      <td>1.00E+00</td>\n      <td>8.21E-01</td>\n      <td>3.24E-01</td>\n      <td>8.29E-01</td>\n      <td>3.09E-01</td>\n      <td>3.89E-01</td>\n      <td>7.13E-02</td>\n      <td>0.00E+00</td>\n      <td>1.00E+00</td>\n    </tr>\n    <tr>\n      <th>16</th>\n      <td>1.00E-03</td>\n      <td>1.00E-04</td>\n      <td>8.20E+01</td>\n      <td>1.00E+00</td>\n      <td>8.24E-01</td>\n      <td>3.20E-01</td>\n      <td>8.34E-01</td>\n      <td>3.08E-01</td>\n      <td>3.82E-01</td>\n      <td>7.09E-02</td>\n      <td>6.86E-04</td>\n      <td>4.30E+01</td>\n    </tr>\n    <tr>\n      <th>17</th>\n      <td>1.00E-03</td>\n      <td>1.00E-03</td>\n      <td>8.73E+01</td>\n      <td>1.00E+00</td>\n      <td>8.27E-01</td>\n      <td>3.32E-01</td>\n      <td>8.31E-01</td>\n      <td>2.91E-01</td>\n      <td>3.90E-01</td>\n      <td>6.69E-02</td>\n      <td>6.86E-03</td>\n      <td>4.00E+01</td>\n    </tr>\n    <tr>\n      <th>18</th>\n      <td>1.00E-03</td>\n      <td>1.00E-02</td>\n      <td>7.57E+01</td>\n      <td>1.00E+00</td>\n      <td>8.24E-01</td>\n      <td>3.42E-01</td>\n      <td>8.27E-01</td>\n      <td>3.13E-01</td>\n      <td>3.91E-01</td>\n      <td>7.21E-02</td>\n      <td>6.86E-02</td>\n      <td>3.70E+01</td>\n    </tr>\n    <tr>\n      <th>19</th>\n      <td>1.00E-03</td>\n      <td>1.00E-01</td>\n      <td>3.17E+01</td>\n      <td>1.00E+00</td>\n      <td>7.21E-01</td>\n      <td>7.81E-01</td>\n      <td>7.13E-01</td>\n      <td>7.71E-01</td>\n      <td>5.64E-01</td>\n      <td>1.78E-01</td>\n      <td>4.14E-01</td>\n      <td>3.40E+01</td>\n    </tr>\n  </tbody>\n</table>\n</div>"
     },
     "execution_count": 535,
     "metadata": {},
     "output_type": "execute_result"
    }
   ],
   "source": [
    "print(\"Dataframe with one per trials\")\n",
    "# mean_df = best_df.groupby(by=[\"cost_per_sample\", \"surprisal_cost\"])\n",
    "# sorted = best_df.groupby([\"cost_per_sample\", \"surprisal_cost\"], sort=\"val_acc\")\n",
    "sorted = best_df.groupby([\"cost_per_sample\", \"surprisal_cost\"], sort=\"test_acc\")\n",
    "# sorted = best_df.groupby([\"surprisal_cost\"], sort=\"val_acc\")\n",
    "trial_mean = sorted.mean().reset_index()\n",
    "# trial_cps_mean = best_df.groupby([\"surprisal_cost\"], sort=\"val_acc\").mean().reset_index()\n",
    "trial_mean"
   ]
  },
  {
   "cell_type": "code",
   "execution_count": 536,
   "metadata": {
    "pycharm": {
     "name": "#%%\n"
    }
   },
   "outputs": [
    {
     "data": {
      "text/plain": "Index(['cost_per_sample', 'surprisal_cost', 'epoch', 'trial', 'val_acc',\n       'val_updates', 'train_acc', 'train_updates', 'entropy_loss',\n       'budget_loss', 'surprisal_loss', 'list_index'],\n      dtype='object')"
     },
     "execution_count": 536,
     "metadata": {},
     "output_type": "execute_result"
    }
   ],
   "source": [
    "trial_mean.columns"
   ]
  },
  {
   "cell_type": "code",
   "execution_count": 537,
   "outputs": [
    {
     "name": "stderr",
     "output_type": "stream",
     "text": [
      "C:\\Users\\emyms\\anaconda3\\envs\\skiprnn-2017-telecombcn\\lib\\site-packages\\pandas\\core\\series.py:679: RuntimeWarning: divide by zero encountered in log10\n",
      "  result = getattr(ufunc, method)(*inputs, **kwargs)\n"
     ]
    },
    {
     "name": "stdout",
     "output_type": "stream",
     "text": [
      "-6.0 -3.0\n",
      "0 0.0\n",
      "5 0.3333333333333333\n",
      "10 0.6666666666666666\n",
      "15 1.0\n"
     ]
    },
    {
     "data": {
      "text/plain": "<Figure size 1440x1296 with 2 Axes>",
      "image/png": "[encoded data removed]"
     },
     "metadata": {
      "needs_background": "light"
     },
     "output_type": "display_data"
    }
   ],
   "source": [
    "# Figure for last gridsearch.\n",
    "pd.set_option('display.float_format', '{:.2E}'.format)\n",
    "SMALL_SIZE = 14\n",
    "MEDIUM_SIZE = 14\n",
    "BIGGER_SIZE = 16\n",
    "\n",
    "plt.rc('font', size=SMALL_SIZE)          # controls default text sizes\n",
    "plt.rc('axes', titlesize=SMALL_SIZE)     # fontsize of the axes title\n",
    "plt.rc('axes', labelsize=MEDIUM_SIZE)    # fontsize of the x and y labels\n",
    "plt.rc('xtick', labelsize=SMALL_SIZE)    # fontsize of the tick labels\n",
    "plt.rc('ytick', labelsize=SMALL_SIZE)    # fontsize of the tick labels\n",
    "plt.rc('legend', fontsize=SMALL_SIZE)    # legend fontsize\n",
    "plt.rc('figure', titlesize=BIGGER_SIZE)\n",
    "\n",
    "# trial_mean['val_acc'].corr(trial_mean['surprisal_cost'], method='pearson')\n",
    "fig, ax = plt.subplots(figsize=(20, 18))\n",
    "cax = ax.scatter(x=np.log10(trial_mean['surprisal_cost']), y=trial_mean['val_acc'], c=np.log10(trial_mean['cost_per_sample']), marker='o', s=50)\n",
    "# ax.plot(np.log10(trial_cps_mean['surprisal_cost']), (trial_cps_mean['val_updates']/2520)*100, c='orange', label=\"mean\")\n",
    "min = np.log10(trial_mean['cost_per_sample'].min())\n",
    "max = np.log10(trial_mean['cost_per_sample'].max())\n",
    "print(min, max)\n",
    "cmap = matplotlib.cm.get_cmap('viridis')\n",
    "norm = matplotlib.colors.Normalize(vmin=min, vmax=max)\n",
    "for id, row in trial_mean[trial_mean['surprisal_cost'] == 0].iterrows():\n",
    "    print(id, norm(np.log10(row['cost_per_sample'])))\n",
    "    ax.axhline(row['val_acc'], linestyle=':', color=cmap(norm(np.log10(row['cost_per_sample']))))\n",
    "plt.xticks([-4, -3, -2, -1], [0.0001, 0.001, 0.01, 0.1])\n",
    "plt.yticks([0.3, 0.4, 0.5, 0.6, 0.7, 0.8, 0.9, 1.0], [\"30%\", \"40%\", \"50%\", \"60%\", \"70%\", \"80%\", \"90%\", \"100%\"])\n",
    "plt.ylim((0.3, 1.01))\n",
    "cbar = fig.colorbar(cax, ticks=np.log10(trial_mean['cost_per_sample']))\n",
    "cbar.ax.set_yticklabels(trial_mean['cost_per_sample'].apply(lambda x: '%1.0e'%x))\n",
    "cbar.set_label(r\"$\\lambda$\", rotation=0, labelpad=15, size=MEDIUM_SIZE)\n",
    "ax.set_xlabel(r\"$\\gamma$\")\n",
    "ax.set_ylabel(\"Accuracy\")\n",
    "fig.suptitle(r\"Influence of $\\lambda$, $\\gamma$ on words read\")\n",
    "plt.legend([Line2D([0],[0],linestyle=':', c=\"black\")], ['no surprisal'])\n",
    "plt.savefig(\"gridsearch_fig_accuracy.png\")\n"
   ],
   "metadata": {
    "collapsed": false,
    "pycharm": {
     "name": "#%%\n"
    }
   }
  },
  {
   "cell_type": "code",
   "execution_count": 538,
   "outputs": [
    {
     "name": "stdout",
     "output_type": "stream",
     "text": [
      "Clearer visualization\n"
     ]
    },
    {
     "data": {
      "text/plain": "                                count  acc_mean  acc_best  acc_worst  acc_std  \\\ncost_per_sample surprisal_cost                                                  \n1.00E-05        0.00E+00            3  8.51E-01  8.55E-01   8.45E-01 4.97E-03   \n1.00E-04        0.00E+00            3  8.49E-01  8.53E-01   8.47E-01 3.76E-03   \n1.00E-03        0.00E+00            3  8.21E-01  8.33E-01   8.04E-01 1.49E-02   \n                1.00E-04            3  8.24E-01  8.29E-01   8.20E-01 4.48E-03   \n                1.00E-03            3  8.27E-01  8.38E-01   8.16E-01 1.14E-02   \n                1.00E-02            3  8.24E-01  8.32E-01   8.12E-01 1.07E-02   \n\n                                updates_mean  updates_std  epoch_mean  \ncost_per_sample surprisal_cost                                         \n1.00E-05        0.00E+00            7.70E-01     5.10E-02    8.03E+01  \n1.00E-04        0.00E+00            6.46E-01     6.29E-02    7.70E+01  \n1.00E-03        0.00E+00            3.24E-01     9.34E-04    8.27E+01  \n                1.00E-04            3.20E-01     5.79E-03    8.20E+01  \n                1.00E-03            3.32E-01     4.58E-03    8.73E+01  \n                1.00E-02            3.42E-01     2.00E-02    7.57E+01  ",
      "text/html": "<div>\n<style scoped>\n    .dataframe tbody tr th:only-of-type {\n        vertical-align: middle;\n    }\n\n    .dataframe tbody tr th {\n        vertical-align: top;\n    }\n\n    .dataframe thead th {\n        text-align: right;\n    }\n</style>\n<table border=\"1\" class=\"dataframe\">\n  <thead>\n    <tr style=\"text-align: right;\">\n      <th></th>\n      <th></th>\n      <th>count</th>\n      <th>acc_mean</th>\n      <th>acc_best</th>\n      <th>acc_worst</th>\n      <th>acc_std</th>\n      <th>updates_mean</th>\n      <th>updates_std</th>\n      <th>epoch_mean</th>\n    </tr>\n    <tr>\n      <th>cost_per_sample</th>\n      <th>surprisal_cost</th>\n      <th></th>\n      <th></th>\n      <th></th>\n      <th></th>\n      <th></th>\n      <th></th>\n      <th></th>\n      <th></th>\n    </tr>\n  </thead>\n  <tbody>\n    <tr>\n      <th>1.00E-05</th>\n      <th>0.00E+00</th>\n      <td>3</td>\n      <td>8.51E-01</td>\n      <td>8.55E-01</td>\n      <td>8.45E-01</td>\n      <td>4.97E-03</td>\n      <td>7.70E-01</td>\n      <td>5.10E-02</td>\n      <td>8.03E+01</td>\n    </tr>\n    <tr>\n      <th>1.00E-04</th>\n      <th>0.00E+00</th>\n      <td>3</td>\n      <td>8.49E-01</td>\n      <td>8.53E-01</td>\n      <td>8.47E-01</td>\n      <td>3.76E-03</td>\n      <td>6.46E-01</td>\n      <td>6.29E-02</td>\n      <td>7.70E+01</td>\n    </tr>\n    <tr>\n      <th rowspan=\"4\" valign=\"top\">1.00E-03</th>\n      <th>0.00E+00</th>\n      <td>3</td>\n      <td>8.21E-01</td>\n      <td>8.33E-01</td>\n      <td>8.04E-01</td>\n      <td>1.49E-02</td>\n      <td>3.24E-01</td>\n      <td>9.34E-04</td>\n      <td>8.27E+01</td>\n    </tr>\n    <tr>\n      <th>1.00E-04</th>\n      <td>3</td>\n      <td>8.24E-01</td>\n      <td>8.29E-01</td>\n      <td>8.20E-01</td>\n      <td>4.48E-03</td>\n      <td>3.20E-01</td>\n      <td>5.79E-03</td>\n      <td>8.20E+01</td>\n    </tr>\n    <tr>\n      <th>1.00E-03</th>\n      <td>3</td>\n      <td>8.27E-01</td>\n      <td>8.38E-01</td>\n      <td>8.16E-01</td>\n      <td>1.14E-02</td>\n      <td>3.32E-01</td>\n      <td>4.58E-03</td>\n      <td>8.73E+01</td>\n    </tr>\n    <tr>\n      <th>1.00E-02</th>\n      <td>3</td>\n      <td>8.24E-01</td>\n      <td>8.32E-01</td>\n      <td>8.12E-01</td>\n      <td>1.07E-02</td>\n      <td>3.42E-01</td>\n      <td>2.00E-02</td>\n      <td>7.57E+01</td>\n    </tr>\n  </tbody>\n</table>\n</div>"
     },
     "execution_count": 538,
     "metadata": {},
     "output_type": "execute_result"
    }
   ],
   "source": [
    "# mean_df = mean_df.max()\n",
    "# mean_df.sort_values(by='val_acc')\n",
    "print(\"Clearer visualization\")\n",
    "# , axis=1, names=[\"acc_mean\", \"acc_std\", \"updates_mean\",\n",
    "# \"updates_std\"])\n",
    "view = pd.DataFrame({'count': sorted.val_acc.count(),\n",
    "                     'acc_mean': sorted.val_acc.mean(),\n",
    "                     'acc_best': sorted.val_acc.max(),\n",
    "                     'acc_worst': sorted.val_acc.min(),\n",
    "                     'acc_std': sorted.val_acc.std(),\n",
    "                     'updates_mean': sorted.val_updates.mean(),\n",
    "                     'updates_std': sorted.val_updates.std(),\n",
    "                     'epoch_mean': sorted.epoch.mean()})\n",
    "# view.rename(columns=[\"acc_mean\", \"acc_std\", \"updates_mean\", \"updates_std\"])\n",
    "view[view['acc_mean'] > 0.8]"
   ],
   "metadata": {
    "collapsed": false,
    "pycharm": {
     "name": "#%%\n"
    }
   }
  },
  {
   "cell_type": "code",
   "execution_count": 539,
   "outputs": [],
   "source": [
    "# lr0001 = [csv for csv in csvs if csv['learning_rate'][0]==0.0001 and csv['hidden_units'][0]==32]\n",
    "\n",
    "# temp = bs64_best.loc[(best_df['hidden_units']==96)]"
   ],
   "metadata": {
    "collapsed": false,
    "pycharm": {
     "name": "#%%\n"
    }
   }
  },
  {
   "cell_type": "code",
   "execution_count": 540,
   "metadata": {
    "pycharm": {
     "name": "#%%\n"
    }
   },
   "outputs": [
    {
     "name": "stderr",
     "output_type": "stream",
     "text": [
      "C:\\Users\\emyms\\anaconda3\\envs\\skiprnn-2017-telecombcn\\lib\\site-packages\\ipykernel_launcher.py:6: RuntimeWarning: More than 20 figures have been opened. Figures created through the pyplot interface (`matplotlib.pyplot.figure`) are retained until explicitly closed and may consume too much memory. (To control this warning, see the rcParam `figure.max_open_warning`).\n",
      "  \n",
      "C:\\Users\\emyms\\anaconda3\\envs\\skiprnn-2017-telecombcn\\lib\\site-packages\\ipykernel_launcher.py:6: RuntimeWarning: More than 20 figures have been opened. Figures created through the pyplot interface (`matplotlib.pyplot.figure`) are retained until explicitly closed and may consume too much memory. (To control this warning, see the rcParam `figure.max_open_warning`).\n",
      "  \n",
      "C:\\Users\\emyms\\anaconda3\\envs\\skiprnn-2017-telecombcn\\lib\\site-packages\\ipykernel_launcher.py:6: RuntimeWarning: More than 20 figures have been opened. Figures created through the pyplot interface (`matplotlib.pyplot.figure`) are retained until explicitly closed and may consume too much memory. (To control this warning, see the rcParam `figure.max_open_warning`).\n",
      "  \n",
      "C:\\Users\\emyms\\anaconda3\\envs\\skiprnn-2017-telecombcn\\lib\\site-packages\\ipykernel_launcher.py:6: RuntimeWarning: More than 20 figures have been opened. Figures created through the pyplot interface (`matplotlib.pyplot.figure`) are retained until explicitly closed and may consume too much memory. (To control this warning, see the rcParam `figure.max_open_warning`).\n",
      "  \n",
      "C:\\Users\\emyms\\anaconda3\\envs\\skiprnn-2017-telecombcn\\lib\\site-packages\\ipykernel_launcher.py:6: RuntimeWarning: More than 20 figures have been opened. Figures created through the pyplot interface (`matplotlib.pyplot.figure`) are retained until explicitly closed and may consume too much memory. (To control this warning, see the rcParam `figure.max_open_warning`).\n",
      "  \n",
      "C:\\Users\\emyms\\anaconda3\\envs\\skiprnn-2017-telecombcn\\lib\\site-packages\\ipykernel_launcher.py:6: RuntimeWarning: More than 20 figures have been opened. Figures created through the pyplot interface (`matplotlib.pyplot.figure`) are retained until explicitly closed and may consume too much memory. (To control this warning, see the rcParam `figure.max_open_warning`).\n",
      "  \n",
      "C:\\Users\\emyms\\anaconda3\\envs\\skiprnn-2017-telecombcn\\lib\\site-packages\\ipykernel_launcher.py:6: RuntimeWarning: More than 20 figures have been opened. Figures created through the pyplot interface (`matplotlib.pyplot.figure`) are retained until explicitly closed and may consume too much memory. (To control this warning, see the rcParam `figure.max_open_warning`).\n",
      "  \n",
      "C:\\Users\\emyms\\anaconda3\\envs\\skiprnn-2017-telecombcn\\lib\\site-packages\\ipykernel_launcher.py:6: RuntimeWarning: More than 20 figures have been opened. Figures created through the pyplot interface (`matplotlib.pyplot.figure`) are retained until explicitly closed and may consume too much memory. (To control this warning, see the rcParam `figure.max_open_warning`).\n",
      "  \n",
      "C:\\Users\\emyms\\anaconda3\\envs\\skiprnn-2017-telecombcn\\lib\\site-packages\\ipykernel_launcher.py:6: RuntimeWarning: More than 20 figures have been opened. Figures created through the pyplot interface (`matplotlib.pyplot.figure`) are retained until explicitly closed and may consume too much memory. (To control this warning, see the rcParam `figure.max_open_warning`).\n",
      "  \n",
      "C:\\Users\\emyms\\anaconda3\\envs\\skiprnn-2017-telecombcn\\lib\\site-packages\\ipykernel_launcher.py:6: RuntimeWarning: More than 20 figures have been opened. Figures created through the pyplot interface (`matplotlib.pyplot.figure`) are retained until explicitly closed and may consume too much memory. (To control this warning, see the rcParam `figure.max_open_warning`).\n",
      "  \n",
      "C:\\Users\\emyms\\anaconda3\\envs\\skiprnn-2017-telecombcn\\lib\\site-packages\\ipykernel_launcher.py:6: RuntimeWarning: More than 20 figures have been opened. Figures created through the pyplot interface (`matplotlib.pyplot.figure`) are retained until explicitly closed and may consume too much memory. (To control this warning, see the rcParam `figure.max_open_warning`).\n",
      "  \n",
      "C:\\Users\\emyms\\anaconda3\\envs\\skiprnn-2017-telecombcn\\lib\\site-packages\\ipykernel_launcher.py:6: RuntimeWarning: More than 20 figures have been opened. Figures created through the pyplot interface (`matplotlib.pyplot.figure`) are retained until explicitly closed and may consume too much memory. (To control this warning, see the rcParam `figure.max_open_warning`).\n",
      "  \n",
      "C:\\Users\\emyms\\anaconda3\\envs\\skiprnn-2017-telecombcn\\lib\\site-packages\\ipykernel_launcher.py:6: RuntimeWarning: More than 20 figures have been opened. Figures created through the pyplot interface (`matplotlib.pyplot.figure`) are retained until explicitly closed and may consume too much memory. (To control this warning, see the rcParam `figure.max_open_warning`).\n",
      "  \n",
      "C:\\Users\\emyms\\anaconda3\\envs\\skiprnn-2017-telecombcn\\lib\\site-packages\\ipykernel_launcher.py:6: RuntimeWarning: More than 20 figures have been opened. Figures created through the pyplot interface (`matplotlib.pyplot.figure`) are retained until explicitly closed and may consume too much memory. (To control this warning, see the rcParam `figure.max_open_warning`).\n",
      "  \n",
      "C:\\Users\\emyms\\anaconda3\\envs\\skiprnn-2017-telecombcn\\lib\\site-packages\\ipykernel_launcher.py:6: RuntimeWarning: More than 20 figures have been opened. Figures created through the pyplot interface (`matplotlib.pyplot.figure`) are retained until explicitly closed and may consume too much memory. (To control this warning, see the rcParam `figure.max_open_warning`).\n",
      "  \n",
      "C:\\Users\\emyms\\anaconda3\\envs\\skiprnn-2017-telecombcn\\lib\\site-packages\\ipykernel_launcher.py:6: RuntimeWarning: More than 20 figures have been opened. Figures created through the pyplot interface (`matplotlib.pyplot.figure`) are retained until explicitly closed and may consume too much memory. (To control this warning, see the rcParam `figure.max_open_warning`).\n",
      "  \n",
      "C:\\Users\\emyms\\anaconda3\\envs\\skiprnn-2017-telecombcn\\lib\\site-packages\\ipykernel_launcher.py:6: RuntimeWarning: More than 20 figures have been opened. Figures created through the pyplot interface (`matplotlib.pyplot.figure`) are retained until explicitly closed and may consume too much memory. (To control this warning, see the rcParam `figure.max_open_warning`).\n",
      "  \n",
      "C:\\Users\\emyms\\anaconda3\\envs\\skiprnn-2017-telecombcn\\lib\\site-packages\\ipykernel_launcher.py:6: RuntimeWarning: More than 20 figures have been opened. Figures created through the pyplot interface (`matplotlib.pyplot.figure`) are retained until explicitly closed and may consume too much memory. (To control this warning, see the rcParam `figure.max_open_warning`).\n",
      "  \n",
      "C:\\Users\\emyms\\anaconda3\\envs\\skiprnn-2017-telecombcn\\lib\\site-packages\\ipykernel_launcher.py:6: RuntimeWarning: More than 20 figures have been opened. Figures created through the pyplot interface (`matplotlib.pyplot.figure`) are retained until explicitly closed and may consume too much memory. (To control this warning, see the rcParam `figure.max_open_warning`).\n",
      "  \n",
      "C:\\Users\\emyms\\anaconda3\\envs\\skiprnn-2017-telecombcn\\lib\\site-packages\\ipykernel_launcher.py:6: RuntimeWarning: More than 20 figures have been opened. Figures created through the pyplot interface (`matplotlib.pyplot.figure`) are retained until explicitly closed and may consume too much memory. (To control this warning, see the rcParam `figure.max_open_warning`).\n",
      "  \n",
      "C:\\Users\\emyms\\anaconda3\\envs\\skiprnn-2017-telecombcn\\lib\\site-packages\\ipykernel_launcher.py:6: RuntimeWarning: More than 20 figures have been opened. Figures created through the pyplot interface (`matplotlib.pyplot.figure`) are retained until explicitly closed and may consume too much memory. (To control this warning, see the rcParam `figure.max_open_warning`).\n",
      "  \n",
      "C:\\Users\\emyms\\anaconda3\\envs\\skiprnn-2017-telecombcn\\lib\\site-packages\\ipykernel_launcher.py:6: RuntimeWarning: More than 20 figures have been opened. Figures created through the pyplot interface (`matplotlib.pyplot.figure`) are retained until explicitly closed and may consume too much memory. (To control this warning, see the rcParam `figure.max_open_warning`).\n",
      "  \n",
      "C:\\Users\\emyms\\anaconda3\\envs\\skiprnn-2017-telecombcn\\lib\\site-packages\\ipykernel_launcher.py:6: RuntimeWarning: More than 20 figures have been opened. Figures created through the pyplot interface (`matplotlib.pyplot.figure`) are retained until explicitly closed and may consume too much memory. (To control this warning, see the rcParam `figure.max_open_warning`).\n",
      "  \n",
      "C:\\Users\\emyms\\anaconda3\\envs\\skiprnn-2017-telecombcn\\lib\\site-packages\\ipykernel_launcher.py:6: RuntimeWarning: More than 20 figures have been opened. Figures created through the pyplot interface (`matplotlib.pyplot.figure`) are retained until explicitly closed and may consume too much memory. (To control this warning, see the rcParam `figure.max_open_warning`).\n",
      "  \n",
      "C:\\Users\\emyms\\anaconda3\\envs\\skiprnn-2017-telecombcn\\lib\\site-packages\\ipykernel_launcher.py:6: RuntimeWarning: More than 20 figures have been opened. Figures created through the pyplot interface (`matplotlib.pyplot.figure`) are retained until explicitly closed and may consume too much memory. (To control this warning, see the rcParam `figure.max_open_warning`).\n",
      "  \n",
      "C:\\Users\\emyms\\anaconda3\\envs\\skiprnn-2017-telecombcn\\lib\\site-packages\\ipykernel_launcher.py:6: RuntimeWarning: More than 20 figures have been opened. Figures created through the pyplot interface (`matplotlib.pyplot.figure`) are retained until explicitly closed and may consume too much memory. (To control this warning, see the rcParam `figure.max_open_warning`).\n",
      "  \n",
      "C:\\Users\\emyms\\anaconda3\\envs\\skiprnn-2017-telecombcn\\lib\\site-packages\\ipykernel_launcher.py:6: RuntimeWarning: More than 20 figures have been opened. Figures created through the pyplot interface (`matplotlib.pyplot.figure`) are retained until explicitly closed and may consume too much memory. (To control this warning, see the rcParam `figure.max_open_warning`).\n",
      "  \n",
      "C:\\Users\\emyms\\anaconda3\\envs\\skiprnn-2017-telecombcn\\lib\\site-packages\\ipykernel_launcher.py:6: RuntimeWarning: More than 20 figures have been opened. Figures created through the pyplot interface (`matplotlib.pyplot.figure`) are retained until explicitly closed and may consume too much memory. (To control this warning, see the rcParam `figure.max_open_warning`).\n",
      "  \n",
      "C:\\Users\\emyms\\anaconda3\\envs\\skiprnn-2017-telecombcn\\lib\\site-packages\\ipykernel_launcher.py:6: RuntimeWarning: More than 20 figures have been opened. Figures created through the pyplot interface (`matplotlib.pyplot.figure`) are retained until explicitly closed and may consume too much memory. (To control this warning, see the rcParam `figure.max_open_warning`).\n",
      "  \n",
      "C:\\Users\\emyms\\anaconda3\\envs\\skiprnn-2017-telecombcn\\lib\\site-packages\\ipykernel_launcher.py:6: RuntimeWarning: More than 20 figures have been opened. Figures created through the pyplot interface (`matplotlib.pyplot.figure`) are retained until explicitly closed and may consume too much memory. (To control this warning, see the rcParam `figure.max_open_warning`).\n",
      "  \n",
      "C:\\Users\\emyms\\anaconda3\\envs\\skiprnn-2017-telecombcn\\lib\\site-packages\\ipykernel_launcher.py:6: RuntimeWarning: More than 20 figures have been opened. Figures created through the pyplot interface (`matplotlib.pyplot.figure`) are retained until explicitly closed and may consume too much memory. (To control this warning, see the rcParam `figure.max_open_warning`).\n",
      "  \n",
      "C:\\Users\\emyms\\anaconda3\\envs\\skiprnn-2017-telecombcn\\lib\\site-packages\\ipykernel_launcher.py:6: RuntimeWarning: More than 20 figures have been opened. Figures created through the pyplot interface (`matplotlib.pyplot.figure`) are retained until explicitly closed and may consume too much memory. (To control this warning, see the rcParam `figure.max_open_warning`).\n",
      "  \n",
      "C:\\Users\\emyms\\anaconda3\\envs\\skiprnn-2017-telecombcn\\lib\\site-packages\\ipykernel_launcher.py:6: RuntimeWarning: More than 20 figures have been opened. Figures created through the pyplot interface (`matplotlib.pyplot.figure`) are retained until explicitly closed and may consume too much memory. (To control this warning, see the rcParam `figure.max_open_warning`).\n",
      "  \n",
      "C:\\Users\\emyms\\anaconda3\\envs\\skiprnn-2017-telecombcn\\lib\\site-packages\\ipykernel_launcher.py:6: RuntimeWarning: More than 20 figures have been opened. Figures created through the pyplot interface (`matplotlib.pyplot.figure`) are retained until explicitly closed and may consume too much memory. (To control this warning, see the rcParam `figure.max_open_warning`).\n",
      "  \n",
      "C:\\Users\\emyms\\anaconda3\\envs\\skiprnn-2017-telecombcn\\lib\\site-packages\\ipykernel_launcher.py:6: RuntimeWarning: More than 20 figures have been opened. Figures created through the pyplot interface (`matplotlib.pyplot.figure`) are retained until explicitly closed and may consume too much memory. (To control this warning, see the rcParam `figure.max_open_warning`).\n",
      "  \n",
      "C:\\Users\\emyms\\anaconda3\\envs\\skiprnn-2017-telecombcn\\lib\\site-packages\\ipykernel_launcher.py:6: RuntimeWarning: More than 20 figures have been opened. Figures created through the pyplot interface (`matplotlib.pyplot.figure`) are retained until explicitly closed and may consume too much memory. (To control this warning, see the rcParam `figure.max_open_warning`).\n",
      "  \n",
      "C:\\Users\\emyms\\anaconda3\\envs\\skiprnn-2017-telecombcn\\lib\\site-packages\\ipykernel_launcher.py:6: RuntimeWarning: More than 20 figures have been opened. Figures created through the pyplot interface (`matplotlib.pyplot.figure`) are retained until explicitly closed and may consume too much memory. (To control this warning, see the rcParam `figure.max_open_warning`).\n",
      "  \n",
      "C:\\Users\\emyms\\anaconda3\\envs\\skiprnn-2017-telecombcn\\lib\\site-packages\\ipykernel_launcher.py:6: RuntimeWarning: More than 20 figures have been opened. Figures created through the pyplot interface (`matplotlib.pyplot.figure`) are retained until explicitly closed and may consume too much memory. (To control this warning, see the rcParam `figure.max_open_warning`).\n",
      "  \n",
      "C:\\Users\\emyms\\anaconda3\\envs\\skiprnn-2017-telecombcn\\lib\\site-packages\\ipykernel_launcher.py:6: RuntimeWarning: More than 20 figures have been opened. Figures created through the pyplot interface (`matplotlib.pyplot.figure`) are retained until explicitly closed and may consume too much memory. (To control this warning, see the rcParam `figure.max_open_warning`).\n",
      "  \n",
      "C:\\Users\\emyms\\anaconda3\\envs\\skiprnn-2017-telecombcn\\lib\\site-packages\\ipykernel_launcher.py:6: RuntimeWarning: More than 20 figures have been opened. Figures created through the pyplot interface (`matplotlib.pyplot.figure`) are retained until explicitly closed and may consume too much memory. (To control this warning, see the rcParam `figure.max_open_warning`).\n",
      "  \n"
     ]
    },
    {
     "data": {
      "text/plain": "<Figure size 1440x1080 with 0 Axes>"
     },
     "metadata": {},
     "output_type": "display_data"
    },
    {
     "data": {
      "text/plain": "<Figure size 1440x1080 with 0 Axes>"
     },
     "metadata": {},
     "output_type": "display_data"
    },
    {
     "data": {
      "text/plain": "<Figure size 1440x1080 with 0 Axes>"
     },
     "metadata": {},
     "output_type": "display_data"
    },
    {
     "data": {
      "text/plain": "<Figure size 1440x1080 with 0 Axes>"
     },
     "metadata": {},
     "output_type": "display_data"
    },
    {
     "data": {
      "text/plain": "<Figure size 1440x1080 with 0 Axes>"
     },
     "metadata": {},
     "output_type": "display_data"
    },
    {
     "data": {
      "text/plain": "<Figure size 1440x1080 with 0 Axes>"
     },
     "metadata": {},
     "output_type": "display_data"
    },
    {
     "data": {
      "text/plain": "<Figure size 1440x1080 with 0 Axes>"
     },
     "metadata": {},
     "output_type": "display_data"
    },
    {
     "data": {
      "text/plain": "<Figure size 1440x1080 with 0 Axes>"
     },
     "metadata": {},
     "output_type": "display_data"
    },
    {
     "data": {
      "text/plain": "<Figure size 1440x1080 with 0 Axes>"
     },
     "metadata": {},
     "output_type": "display_data"
    },
    {
     "data": {
      "text/plain": "<Figure size 1440x1080 with 0 Axes>"
     },
     "metadata": {},
     "output_type": "display_data"
    },
    {
     "data": {
      "text/plain": "<Figure size 1440x1080 with 0 Axes>"
     },
     "metadata": {},
     "output_type": "display_data"
    },
    {
     "data": {
      "text/plain": "<Figure size 1440x1080 with 0 Axes>"
     },
     "metadata": {},
     "output_type": "display_data"
    },
    {
     "data": {
      "text/plain": "<Figure size 1440x1080 with 0 Axes>"
     },
     "metadata": {},
     "output_type": "display_data"
    },
    {
     "data": {
      "text/plain": "<Figure size 1440x1080 with 0 Axes>"
     },
     "metadata": {},
     "output_type": "display_data"
    },
    {
     "data": {
      "text/plain": "<Figure size 1440x1080 with 0 Axes>"
     },
     "metadata": {},
     "output_type": "display_data"
    },
    {
     "data": {
      "text/plain": "<Figure size 1440x1080 with 0 Axes>"
     },
     "metadata": {},
     "output_type": "display_data"
    },
    {
     "data": {
      "text/plain": "<Figure size 1440x1080 with 0 Axes>"
     },
     "metadata": {},
     "output_type": "display_data"
    },
    {
     "data": {
      "text/plain": "<Figure size 1440x1080 with 0 Axes>"
     },
     "metadata": {},
     "output_type": "display_data"
    },
    {
     "data": {
      "text/plain": "<Figure size 1440x1080 with 0 Axes>"
     },
     "metadata": {},
     "output_type": "display_data"
    },
    {
     "data": {
      "text/plain": "<Figure size 1440x1080 with 0 Axes>"
     },
     "metadata": {},
     "output_type": "display_data"
    },
    {
     "data": {
      "text/plain": "<Figure size 1440x1080 with 0 Axes>"
     },
     "metadata": {},
     "output_type": "display_data"
    },
    {
     "data": {
      "text/plain": "<Figure size 1440x1080 with 0 Axes>"
     },
     "metadata": {},
     "output_type": "display_data"
    },
    {
     "data": {
      "text/plain": "<Figure size 1440x1080 with 0 Axes>"
     },
     "metadata": {},
     "output_type": "display_data"
    },
    {
     "data": {
      "text/plain": "<Figure size 1440x1080 with 0 Axes>"
     },
     "metadata": {},
     "output_type": "display_data"
    },
    {
     "data": {
      "text/plain": "<Figure size 1440x1080 with 0 Axes>"
     },
     "metadata": {},
     "output_type": "display_data"
    },
    {
     "data": {
      "text/plain": "<Figure size 1440x1080 with 0 Axes>"
     },
     "metadata": {},
     "output_type": "display_data"
    },
    {
     "data": {
      "text/plain": "<Figure size 1440x1080 with 0 Axes>"
     },
     "metadata": {},
     "output_type": "display_data"
    },
    {
     "data": {
      "text/plain": "<Figure size 1440x1080 with 0 Axes>"
     },
     "metadata": {},
     "output_type": "display_data"
    },
    {
     "data": {
      "text/plain": "<Figure size 1440x1080 with 0 Axes>"
     },
     "metadata": {},
     "output_type": "display_data"
    },
    {
     "data": {
      "text/plain": "<Figure size 1440x1080 with 0 Axes>"
     },
     "metadata": {},
     "output_type": "display_data"
    },
    {
     "data": {
      "text/plain": "<Figure size 1440x1080 with 0 Axes>"
     },
     "metadata": {},
     "output_type": "display_data"
    },
    {
     "data": {
      "text/plain": "<Figure size 1440x1080 with 0 Axes>"
     },
     "metadata": {},
     "output_type": "display_data"
    },
    {
     "data": {
      "text/plain": "<Figure size 1440x1080 with 0 Axes>"
     },
     "metadata": {},
     "output_type": "display_data"
    },
    {
     "data": {
      "text/plain": "<Figure size 1440x1080 with 0 Axes>"
     },
     "metadata": {},
     "output_type": "display_data"
    },
    {
     "data": {
      "text/plain": "<Figure size 1440x1080 with 0 Axes>"
     },
     "metadata": {},
     "output_type": "display_data"
    },
    {
     "data": {
      "text/plain": "<Figure size 1440x1080 with 0 Axes>"
     },
     "metadata": {},
     "output_type": "display_data"
    },
    {
     "data": {
      "text/plain": "<Figure size 1440x1080 with 0 Axes>"
     },
     "metadata": {},
     "output_type": "display_data"
    },
    {
     "data": {
      "text/plain": "<Figure size 1440x1080 with 0 Axes>"
     },
     "metadata": {},
     "output_type": "display_data"
    },
    {
     "data": {
      "text/plain": "<Figure size 1440x1080 with 0 Axes>"
     },
     "metadata": {},
     "output_type": "display_data"
    },
    {
     "data": {
      "text/plain": "<Figure size 1440x1080 with 0 Axes>"
     },
     "metadata": {},
     "output_type": "display_data"
    },
    {
     "data": {
      "text/plain": "<Figure size 1440x1080 with 0 Axes>"
     },
     "metadata": {},
     "output_type": "display_data"
    },
    {
     "data": {
      "text/plain": "<Figure size 1440x1080 with 0 Axes>"
     },
     "metadata": {},
     "output_type": "display_data"
    },
    {
     "data": {
      "text/plain": "<Figure size 1440x1080 with 0 Axes>"
     },
     "metadata": {},
     "output_type": "display_data"
    },
    {
     "data": {
      "text/plain": "<Figure size 1440x1080 with 0 Axes>"
     },
     "metadata": {},
     "output_type": "display_data"
    },
    {
     "data": {
      "text/plain": "<Figure size 1440x1080 with 0 Axes>"
     },
     "metadata": {},
     "output_type": "display_data"
    },
    {
     "data": {
      "text/plain": "<Figure size 1440x1080 with 0 Axes>"
     },
     "metadata": {},
     "output_type": "display_data"
    },
    {
     "data": {
      "text/plain": "<Figure size 1440x1080 with 0 Axes>"
     },
     "metadata": {},
     "output_type": "display_data"
    },
    {
     "data": {
      "text/plain": "<Figure size 1440x1080 with 0 Axes>"
     },
     "metadata": {},
     "output_type": "display_data"
    },
    {
     "data": {
      "text/plain": "<Figure size 1440x1080 with 0 Axes>"
     },
     "metadata": {},
     "output_type": "display_data"
    },
    {
     "data": {
      "text/plain": "<Figure size 1440x1080 with 0 Axes>"
     },
     "metadata": {},
     "output_type": "display_data"
    },
    {
     "data": {
      "text/plain": "<Figure size 1440x1080 with 0 Axes>"
     },
     "metadata": {},
     "output_type": "display_data"
    },
    {
     "data": {
      "text/plain": "<Figure size 1440x1080 with 0 Axes>"
     },
     "metadata": {},
     "output_type": "display_data"
    },
    {
     "data": {
      "text/plain": "<Figure size 1440x1080 with 0 Axes>"
     },
     "metadata": {},
     "output_type": "display_data"
    },
    {
     "data": {
      "text/plain": "<Figure size 1440x1080 with 0 Axes>"
     },
     "metadata": {},
     "output_type": "display_data"
    },
    {
     "data": {
      "text/plain": "<Figure size 1440x1080 with 0 Axes>"
     },
     "metadata": {},
     "output_type": "display_data"
    },
    {
     "data": {
      "text/plain": "<Figure size 1440x1080 with 0 Axes>"
     },
     "metadata": {},
     "output_type": "display_data"
    },
    {
     "data": {
      "text/plain": "<Figure size 1440x1080 with 0 Axes>"
     },
     "metadata": {},
     "output_type": "display_data"
    },
    {
     "data": {
      "text/plain": "<Figure size 1440x1080 with 0 Axes>"
     },
     "metadata": {},
     "output_type": "display_data"
    },
    {
     "data": {
      "text/plain": "<Figure size 1440x1080 with 0 Axes>"
     },
     "metadata": {},
     "output_type": "display_data"
    },
    {
     "data": {
      "text/plain": "<Figure size 1440x1080 with 0 Axes>"
     },
     "metadata": {},
     "output_type": "display_data"
    }
   ],
   "source": [
    "if not os.path.exists(f\"{folder}/plots\"):\n",
    "    os.makedirs(f\"{folder}/plots\")\n",
    "\n",
    "for i, df in enumerate(csvs):\n",
    "    # df.loc[:, ['val_updates', 'train_updates']] = df[['val_updates', 'train_updates']] / 2520\n",
    "    fig = plt.figure()\n",
    "    ax1 = fig.add_subplot(111)\n",
    "\n",
    "    a = df[['val_acc', 'train_acc']].plot(figsize= (20, 15), ax=ax1, legend=None)\n",
    "    ax1.set_ylim(0, 1.01)\n",
    "    ax1.set_ylabel(\"Accuracy\")\n",
    "    # ax1.legend(loc=2)\n",
    "    lns = ax1.get_lines()\n",
    "    ax2 = ax1.twinx()\n",
    "    b = df['val_updates'].plot(ax=ax2, c='r', label=\"val_updates\")\n",
    "    c = df['train_updates'].plot(ax=ax2, c='g', label=\"train_updates\")\n",
    "    ax2.set_ylabel(\"Updates\")\n",
    "    ax2.set_ylim(0, 1.01)\n",
    "    # lns.append(ax2.get_lines)\n",
    "    # labs = [l.get_label() for l in lns]\n",
    "    fig.legend(bbox_to_anchor=(1,1), bbox_transform=ax1.transAxes)\n",
    "    fig.savefig(f\"{folder}/plots/idx{i}_acc{round(best_accs[i], 2)}_cps{csvs[i].cost_per_sample[0]}_s{csvs[i].surprisal_cost[0]}_exp{csvs[i].exp[0]}.png\")\n",
    "    plt.clf()"
   ]
  },
  {
   "cell_type": "code",
   "execution_count": 541,
   "metadata": {
    "pycharm": {
     "name": "#%%\n"
    }
   },
   "outputs": [],
   "source": [
    "# if not os.path.exists(f\"{folder}/lrplots\"):\n",
    "#     os.makedirs(f\"{folder}/lrplots\")\n",
    "#\n",
    "# for i, df in enumerate(lr0001):\n",
    "#     df[['val_acc', 'train_acc']].plot().get_figure().savefig(f\"{folder}/lrplots/idx{i}.png\")\n",
    "#"
   ]
  },
  {
   "cell_type": "code",
   "execution_count": 542,
   "metadata": {
    "pycharm": {
     "name": "#%%\n"
    }
   },
   "outputs": [],
   "source": [
    "# best_hyper = pd.concat(lr0001)\n",
    "#\n",
    "# best_hyper_diff = best_hyper['val_acc'].diff(15)\n",
    "# best_hyper_diff.abs().mean()\n"
   ]
  },
  {
   "cell_type": "code",
   "execution_count": 543,
   "outputs": [
    {
     "ename": "FileNotFoundError",
     "evalue": "[WinError 3] Impossibile trovare il percorso specificato: '../../AfterFailure/analysis'",
     "output_type": "error",
     "traceback": [
      "\u001B[1;31m---------------------------------------------------------------------------\u001B[0m",
      "\u001B[1;31mFileNotFoundError\u001B[0m                         Traceback (most recent call last)",
      "\u001B[1;32m<ipython-input-543-884342673524>\u001B[0m in \u001B[0;36m<module>\u001B[1;34m\u001B[0m\n\u001B[0;32m      9\u001B[0m \u001B[0mns_skipped_surp\u001B[0m \u001B[1;33m=\u001B[0m \u001B[1;33m[\u001B[0m\u001B[1;33m]\u001B[0m\u001B[1;33m\u001B[0m\u001B[1;33m\u001B[0m\u001B[0m\n\u001B[0;32m     10\u001B[0m \u001B[1;33m\u001B[0m\u001B[0m\n\u001B[1;32m---> 11\u001B[1;33m \u001B[1;32mfor\u001B[0m \u001B[0mfile\u001B[0m \u001B[1;32min\u001B[0m \u001B[0mos\u001B[0m\u001B[1;33m.\u001B[0m\u001B[0mlistdir\u001B[0m\u001B[1;33m(\u001B[0m\u001B[0mfolder\u001B[0m \u001B[1;33m+\u001B[0m \u001B[1;34m'/analysis'\u001B[0m\u001B[1;33m)\u001B[0m\u001B[1;33m:\u001B[0m\u001B[1;33m\u001B[0m\u001B[1;33m\u001B[0m\u001B[0m\n\u001B[0m\u001B[0;32m     12\u001B[0m     \u001B[0mfile\u001B[0m \u001B[1;33m=\u001B[0m \u001B[0mfolder\u001B[0m \u001B[1;33m+\u001B[0m \u001B[1;34m'/analysis/'\u001B[0m \u001B[1;33m+\u001B[0m \u001B[0mfile\u001B[0m\u001B[1;33m\u001B[0m\u001B[1;33m\u001B[0m\u001B[0m\n\u001B[0;32m     13\u001B[0m     \u001B[1;32mif\u001B[0m \u001B[1;34m\"pkl\"\u001B[0m \u001B[1;32min\u001B[0m \u001B[0mfile\u001B[0m\u001B[1;33m:\u001B[0m\u001B[1;33m\u001B[0m\u001B[1;33m\u001B[0m\u001B[0m\n",
      "\u001B[1;31mFileNotFoundError\u001B[0m: [WinError 3] Impossibile trovare il percorso specificato: '../../AfterFailure/analysis'"
     ]
    }
   ],
   "source": [
    "s_read_vocab = []\n",
    "s_skipped_vocab = []\n",
    "ns_read_vocab = []\n",
    "ns_skipped_vocab = []\n",
    "\n",
    "s_read_surp = []\n",
    "s_skipped_surp = []\n",
    "ns_read_surp = []\n",
    "ns_skipped_surp = []\n",
    "\n",
    "for file in os.listdir(folder + '/analysis'):\n",
    "    file = folder + '/analysis/' + file\n",
    "    if \"pkl\" in file:\n",
    "        if \"SC0.01\" in file:\n",
    "            if \"non\" in file:\n",
    "                s_skipped_vocab.append(pickle.load(open(file, 'rb')))\n",
    "            else:\n",
    "                s_read_vocab.append(pickle.load(open(file, 'rb')))\n",
    "        else:\n",
    "            if \"non\" in file:\n",
    "                ns_skipped_vocab.append(pickle.load(open(file, 'rb')))\n",
    "            else:\n",
    "                ns_read_vocab.append(pickle.load(open(file, 'rb')))\n",
    "    else:\n",
    "        if \"SC0.01\" in file:\n",
    "            if \"non\" in file:\n",
    "                s_skipped_surp.append(np.load(open(file, 'rb')))\n",
    "            else:\n",
    "                s_read_surp.append(np.load(open(file, 'rb')))\n",
    "        else:\n",
    "            if \"non\" in file:\n",
    "                ns_skipped_surp.append(np.load(open(file, 'rb')))\n",
    "            else:\n",
    "                ns_read_surp.append(np.load(open(file, 'rb')))"
   ],
   "metadata": {
    "collapsed": false,
    "pycharm": {
     "name": "#%%\n"
    }
   }
  },
  {
   "cell_type": "code",
   "execution_count": null,
   "outputs": [],
   "source": [
    "# nsr_surp = ns_read_surp[0]\n",
    "# nss_surp = ns_skipped_surp[0]\n",
    "#\n",
    "# print(len(nss_surp))\n",
    "# print(len(nsr_surp))\n",
    "#\n",
    "# print(nsr_surp.mean())\n",
    "# print(nss_surp.mean())\n",
    "#\n",
    "# plt.hist(nsr_surp)\n",
    "# plt.hist(nss_surp)\n"
   ],
   "metadata": {
    "collapsed": false,
    "pycharm": {
     "name": "#%%\n"
    }
   }
  },
  {
   "cell_type": "code",
   "execution_count": null,
   "outputs": [],
   "source": [
    "sr_surp = s_read_surp[0]\n",
    "ss_surp = s_skipped_surp[0]\n",
    "\n",
    "print(f\"skipped length {len(ss_surp)}\")\n",
    "print(f\"read length {len(sr_surp)}\")\n",
    "\n",
    "print(f\"read surprisal {sr_surp.mean()}\")\n",
    "print(f\"skipped surprisal {ss_surp.mean()}\")\n",
    "\n",
    "plt.hist(sr_surp)\n",
    "# plt.hist(ss_surp)\n",
    "\n",
    "print(ss_surp)\n",
    "\n",
    "print(np.count_nonzero(sr_surp == 0))\n",
    "print(np.count_nonzero(ss_surp == 0))\n",
    "\n",
    "print(s_read_vocab)\n",
    "print(s_skipped_vocab)"
   ],
   "metadata": {
    "collapsed": false,
    "pycharm": {
     "name": "#%%\n"
    }
   }
  }
 ],
 "metadata": {
  "kernelspec": {
   "display_name": "Python 3",
   "language": "python",
   "name": "python3"
  },
  "language_info": {
   "codemirror_mode": {
    "name": "ipython",
    "version": 3
   },
   "file_extension": ".py",
   "mimetype": "text/x-python",
   "name": "python",
   "nbconvert_exporter": "python",
   "pygments_lexer": "ipython3",
   "version": "3.7.7"
  }
 },
 "nbformat": 4,
 "nbformat_minor": 1
}