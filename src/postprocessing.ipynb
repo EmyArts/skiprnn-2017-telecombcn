{
 "cells": [
  {
   "cell_type": "code",
   "execution_count": 222,
   "metadata": {
    "pycharm": {
     "name": "#%% Import files\n"
    }
   },
   "outputs": [
    {
     "name": "stdout",
     "output_type": "stream",
     "text": [
      "Total number of Nans: 0\n"
     ]
    }
   ],
   "source": [
    "import pandas as pd\n",
    "import os\n",
    "import numpy as np\n",
    "import matplotlib.pyplot as plt\n",
    "\n",
    "folder = '../../FinalResults'\n",
    "\n",
    "csvs = []\n",
    "\n",
    "count_nan = 0\n",
    "for i, file in enumerate(os.listdir(folder + '/csvs')):\n",
    "    df = pd.read_csv(folder + '/csvs' + '/' + file)\n",
    "    if (df.batch_size == 64).any():\n",
    "        df.rename(columns={'Unnamed: 0' : 'epoch'}, inplace=True)\n",
    "        count_nan += df.shape[0] * df.shape[1] - np.sum(df.count())\n",
    "        df['list_index'] = len(csvs)\n",
    "        filename = file.split(\"_\")\n",
    "        # print(filename[0][-2:].isdigit())\n",
    "        if filename[0][-2:].isdigit(): df['exp'] = filename[0][-2:]\n",
    "        else: df['exp'] = filename[0][-1]\n",
    "        csvs.append(df)\n",
    "\n",
    "print(f\"Total number of Nans: {count_nan}\")"
   ]
  },
  {
   "cell_type": "code",
   "execution_count": 223,
   "metadata": {
    "pycharm": {
     "name": "#%%\n"
    }
   },
   "outputs": [
    {
     "name": "stdout",
     "output_type": "stream",
     "text": [
      "[[], [], [], [], [], [], [], [], [], []]\n"
     ]
    }
   ],
   "source": [
    "nan_index = []\n",
    "for i, df in enumerate(csvs):\n",
    "    nan_index.append(list(df[(df['val_acc'].isnull()) | (df['train_acc'].isnull()) |(df['train_updates'].isnull()) | (df['val_updates'].isnull())].index))\n",
    "\n",
    "print(nan_index)"
   ]
  },
  {
   "cell_type": "code",
   "execution_count": 224,
   "metadata": {
    "pycharm": {
     "name": "#%%\n"
    }
   },
   "outputs": [],
   "source": [
    "# weird_acc = []\n",
    "# for i, df in enumerate(csvs):\n",
    "#     weird_acc.append(list(df[(df['val_acc']>1) | (df['val_acc']<0.1) | (df['train_acc']>1) | (df['train_acc']<0.1)].index))\n",
    "# # for df in csvs:\n",
    "# #     df.drop(df[(df['val_acc']>1) | (df['val_acc']<0)].index, inplace = True)\n",
    "#\n",
    "# see = [csvs[i].iloc[l[0]] for i, l in enumerate(weird_acc) if l]\n",
    "#\n",
    "# early_stopped_dfs = []\n",
    "# for i in range(len(csvs)):\n",
    "#     n = nan_index[i]\n",
    "#     v = weird_acc[i]\n",
    "#     if n and v:\n",
    "#         early_stopped_dfs.append(csvs[i].iloc[[min(min(v), min(n))]])\n",
    "#     elif n:\n",
    "#         early_stopped_dfs.append(csvs[i].iloc[[min(n)]])\n",
    "#     elif v:\n",
    "#         early_stopped_dfs.append(csvs[i].iloc[[min(v)]])\n",
    "#"
   ]
  },
  {
   "cell_type": "code",
   "execution_count": 225,
   "metadata": {
    "pycharm": {
     "name": "#%%\n"
    }
   },
   "outputs": [],
   "source": [
    "# early_stopped = pd.concat(early_stopped_dfs)\n",
    "# early_stopped.drop(columns=['val_acc', 'train_acc', 'val_updates', 'train_updates', 'early_stopping'], inplace=True)\n",
    "# print(\"Networks that stopped early\")\n",
    "# early_stopped\n",
    "# csvs[0].columns\n",
    "# csvs[2]\n",
    "# for df in csvs:\n",
    "#     print(len(df))"
   ]
  },
  {
   "cell_type": "code",
   "execution_count": 226,
   "metadata": {
    "pycharm": {
     "name": "#%%\n"
    }
   },
   "outputs": [],
   "source": [
    "# manual_early_stopping = {4: 36,5: 28, 12: 12, 14:27, 32:18, 35:23, 41:35, 46: 12,53:12}\n",
    "#\n",
    "# for key, val in manual_early_stopping.items():\n",
    "#     csvs[key].drop(labels = range(val, 40), inplace=True)"
   ]
  },
  {
   "cell_type": "code",
   "execution_count": 227,
   "metadata": {
    "pycharm": {
     "name": "#%%\n"
    }
   },
   "outputs": [
    {
     "data": {
      "text/plain": "             epoch  batch_size  cost_per_sample  hidden_units  learning_rate  \\\ncount  1004.000000      1004.0     1.004000e+03        1004.0   1.004000e+03   \nmean     50.962151        64.0     1.000000e-05          32.0   2.500000e-04   \nstd      31.105240         0.0     1.694910e-21           0.0   1.084743e-19   \nmin       0.000000        64.0     1.000000e-05          32.0   2.500000e-04   \n25%      25.000000        64.0     1.000000e-05          32.0   2.500000e-04   \n50%      50.000000        64.0     1.000000e-05          32.0   2.500000e-04   \n75%      75.000000        64.0     1.000000e-05          32.0   2.500000e-04   \nmax     124.000000        64.0     1.000000e-05          32.0   2.500000e-04   \n\n       surprisal_cost        trial      val_acc  val_updates    train_acc  \\\ncount     1004.000000  1004.000000  1004.000000  1004.000000  1004.000000   \nmean         0.037052     3.952191     0.807079   224.456783     0.829716   \nstd          0.048318     3.082078     0.076053    71.403205     0.088527   \nmin          0.000000     0.000000     0.487480     6.935897     0.487246   \n25%          0.000000     1.000000     0.808469   199.275211     0.829861   \n50%          0.000000     4.000000     0.833133   225.159157     0.857906   \n75%          0.100000     7.000000     0.845578   261.406349     0.874967   \nmax          0.100000     9.000000     0.857772  1349.269775     0.904447   \n\n       train_updates  entropy_loss  budget_loss   list_index  surprisal_loss  \ncount    1004.000000   1004.000000  1004.000000  1004.000000    3.720000e+02  \nmean      232.407454      0.369761     0.002324     4.350598    2.078149e-03  \nstd       123.503927      0.103609     0.001235     2.927606    1.628274e-02  \nmin         6.956998      0.253871     0.000070     0.000000    1.473045e-08  \n25%       199.112381      0.306057     0.001991     2.000000    4.607893e-05  \n50%       218.001068      0.336033     0.002180     4.000000    8.912831e-05  \n75%       263.411942      0.387984     0.002634     7.000000    1.322031e-04  \nmax      1728.122559      0.696676     0.017281     9.000000    1.780872e-01  ",
      "text/html": "<div>\n<style scoped>\n    .dataframe tbody tr th:only-of-type {\n        vertical-align: middle;\n    }\n\n    .dataframe tbody tr th {\n        vertical-align: top;\n    }\n\n    .dataframe thead th {\n        text-align: right;\n    }\n</style>\n<table border=\"1\" class=\"dataframe\">\n  <thead>\n    <tr style=\"text-align: right;\">\n      <th></th>\n      <th>epoch</th>\n      <th>batch_size</th>\n      <th>cost_per_sample</th>\n      <th>hidden_units</th>\n      <th>learning_rate</th>\n      <th>surprisal_cost</th>\n      <th>trial</th>\n      <th>val_acc</th>\n      <th>val_updates</th>\n      <th>train_acc</th>\n      <th>train_updates</th>\n      <th>entropy_loss</th>\n      <th>budget_loss</th>\n      <th>list_index</th>\n      <th>surprisal_loss</th>\n    </tr>\n  </thead>\n  <tbody>\n    <tr>\n      <th>count</th>\n      <td>1004.000000</td>\n      <td>1004.0</td>\n      <td>1.004000e+03</td>\n      <td>1004.0</td>\n      <td>1.004000e+03</td>\n      <td>1004.000000</td>\n      <td>1004.000000</td>\n      <td>1004.000000</td>\n      <td>1004.000000</td>\n      <td>1004.000000</td>\n      <td>1004.000000</td>\n      <td>1004.000000</td>\n      <td>1004.000000</td>\n      <td>1004.000000</td>\n      <td>3.720000e+02</td>\n    </tr>\n    <tr>\n      <th>mean</th>\n      <td>50.962151</td>\n      <td>64.0</td>\n      <td>1.000000e-05</td>\n      <td>32.0</td>\n      <td>2.500000e-04</td>\n      <td>0.037052</td>\n      <td>3.952191</td>\n      <td>0.807079</td>\n      <td>224.456783</td>\n      <td>0.829716</td>\n      <td>232.407454</td>\n      <td>0.369761</td>\n      <td>0.002324</td>\n      <td>4.350598</td>\n      <td>2.078149e-03</td>\n    </tr>\n    <tr>\n      <th>std</th>\n      <td>31.105240</td>\n      <td>0.0</td>\n      <td>1.694910e-21</td>\n      <td>0.0</td>\n      <td>1.084743e-19</td>\n      <td>0.048318</td>\n      <td>3.082078</td>\n      <td>0.076053</td>\n      <td>71.403205</td>\n      <td>0.088527</td>\n      <td>123.503927</td>\n      <td>0.103609</td>\n      <td>0.001235</td>\n      <td>2.927606</td>\n      <td>1.628274e-02</td>\n    </tr>\n    <tr>\n      <th>min</th>\n      <td>0.000000</td>\n      <td>64.0</td>\n      <td>1.000000e-05</td>\n      <td>32.0</td>\n      <td>2.500000e-04</td>\n      <td>0.000000</td>\n      <td>0.000000</td>\n      <td>0.487480</td>\n      <td>6.935897</td>\n      <td>0.487246</td>\n      <td>6.956998</td>\n      <td>0.253871</td>\n      <td>0.000070</td>\n      <td>0.000000</td>\n      <td>1.473045e-08</td>\n    </tr>\n    <tr>\n      <th>25%</th>\n      <td>25.000000</td>\n      <td>64.0</td>\n      <td>1.000000e-05</td>\n      <td>32.0</td>\n      <td>2.500000e-04</td>\n      <td>0.000000</td>\n      <td>1.000000</td>\n      <td>0.808469</td>\n      <td>199.275211</td>\n      <td>0.829861</td>\n      <td>199.112381</td>\n      <td>0.306057</td>\n      <td>0.001991</td>\n      <td>2.000000</td>\n      <td>4.607893e-05</td>\n    </tr>\n    <tr>\n      <th>50%</th>\n      <td>50.000000</td>\n      <td>64.0</td>\n      <td>1.000000e-05</td>\n      <td>32.0</td>\n      <td>2.500000e-04</td>\n      <td>0.000000</td>\n      <td>4.000000</td>\n      <td>0.833133</td>\n      <td>225.159157</td>\n      <td>0.857906</td>\n      <td>218.001068</td>\n      <td>0.336033</td>\n      <td>0.002180</td>\n      <td>4.000000</td>\n      <td>8.912831e-05</td>\n    </tr>\n    <tr>\n      <th>75%</th>\n      <td>75.000000</td>\n      <td>64.0</td>\n      <td>1.000000e-05</td>\n      <td>32.0</td>\n      <td>2.500000e-04</td>\n      <td>0.100000</td>\n      <td>7.000000</td>\n      <td>0.845578</td>\n      <td>261.406349</td>\n      <td>0.874967</td>\n      <td>263.411942</td>\n      <td>0.387984</td>\n      <td>0.002634</td>\n      <td>7.000000</td>\n      <td>1.322031e-04</td>\n    </tr>\n    <tr>\n      <th>max</th>\n      <td>124.000000</td>\n      <td>64.0</td>\n      <td>1.000000e-05</td>\n      <td>32.0</td>\n      <td>2.500000e-04</td>\n      <td>0.100000</td>\n      <td>9.000000</td>\n      <td>0.857772</td>\n      <td>1349.269775</td>\n      <td>0.904447</td>\n      <td>1728.122559</td>\n      <td>0.696676</td>\n      <td>0.017281</td>\n      <td>9.000000</td>\n      <td>1.780872e-01</td>\n    </tr>\n  </tbody>\n</table>\n</div>"
     },
     "execution_count": 227,
     "metadata": {},
     "output_type": "execute_result"
    }
   ],
   "source": [
    "big_df = pd.concat(csvs)\n",
    "big_df.describe()"
   ]
  },
  {
   "cell_type": "code",
   "execution_count": 228,
   "metadata": {
    "pycharm": {
     "name": "#%%\n"
    }
   },
   "outputs": [
    {
     "data": {
      "text/plain": "<matplotlib.axes._subplots.AxesSubplot at 0x24a00aee6c8>"
     },
     "execution_count": 228,
     "metadata": {},
     "output_type": "execute_result"
    },
    {
     "data": {
      "text/plain": "<Figure size 720x720 with 1 Axes>",
      "image/png": "[encoded data removed]"
     },
     "metadata": {
      "needs_background": "light"
     },
     "output_type": "display_data"
    }
   ],
   "source": [
    "big_df['val_acc'].hist(figsize=(10, 10))"
   ]
  },
  {
   "cell_type": "code",
   "execution_count": 229,
   "metadata": {
    "pycharm": {
     "name": "#%%\n"
    }
   },
   "outputs": [],
   "source": [
    "best_rows = []\n",
    "best_accs = []\n",
    "for df in csvs:\n",
    "    best_accs.append(df.loc[:, 'val_acc'].max())\n",
    "    best_rows.append(df.loc[df.loc[:, 'val_acc'].argmax()].to_dict())"
   ]
  },
  {
   "cell_type": "code",
   "execution_count": 230,
   "metadata": {
    "pycharm": {
     "name": "#%%\n"
    }
   },
   "outputs": [],
   "source": [
    "best_df = pd.DataFrame(best_rows)\n",
    "best_df = best_df.drop(columns= [\"learning_rate\", \"hidden_units\", \"batch_size\", \"early_stopping\"])\n",
    "\n",
    "original = best_df[best_df['surprisal_cost'] == 0]\n",
    "surprisal = best_df[best_df['surprisal_cost'] != 0]"
   ]
  },
  {
   "cell_type": "code",
   "execution_count": 231,
   "metadata": {
    "pycharm": {
     "name": "#%%\n"
    }
   },
   "outputs": [
    {
     "name": "stdout",
     "output_type": "stream",
     "text": [
      "No surprisal\n"
     ]
    },
    {
     "data": {
      "text/plain": "   epoch  cost_per_sample  surprisal_cost  trial   val_acc  val_updates  \\\n0     96          0.00001             0.0      0  0.851663   222.777542   \n1     94          0.00001             0.0      5  0.857372   218.716446   \n4     88          0.00001             0.0      9  0.855369   233.775040   \n6     71          0.00001             0.0      1  0.850761   223.350662   \n7    106          0.00001             0.0      2  0.854267   206.390228   \n9     81          0.00001             0.0      4  0.857372   232.174683   \n\n   train_acc  train_updates  entropy_loss  budget_loss  list_index exp  \\\n0   0.884882     216.632874      0.284951     0.002166           0   0   \n1   0.876469     192.403976      0.298512     0.001924           1  10   \n4   0.886685     221.660919      0.279359     0.002217           4  18   \n6   0.879741     211.905975      0.293194     0.002119           6   2   \n7   0.894231     210.115448      0.271994     0.002101           7   4   \n9   0.883547     216.794067      0.288798     0.002168           9   8   \n\n   surprisal_loss  \n0             NaN  \n1             NaN  \n4             NaN  \n6             NaN  \n7             NaN  \n9             NaN  ",
      "text/html": "<div>\n<style scoped>\n    .dataframe tbody tr th:only-of-type {\n        vertical-align: middle;\n    }\n\n    .dataframe tbody tr th {\n        vertical-align: top;\n    }\n\n    .dataframe thead th {\n        text-align: right;\n    }\n</style>\n<table border=\"1\" class=\"dataframe\">\n  <thead>\n    <tr style=\"text-align: right;\">\n      <th></th>\n      <th>epoch</th>\n      <th>cost_per_sample</th>\n      <th>surprisal_cost</th>\n      <th>trial</th>\n      <th>val_acc</th>\n      <th>val_updates</th>\n      <th>train_acc</th>\n      <th>train_updates</th>\n      <th>entropy_loss</th>\n      <th>budget_loss</th>\n      <th>list_index</th>\n      <th>exp</th>\n      <th>surprisal_loss</th>\n    </tr>\n  </thead>\n  <tbody>\n    <tr>\n      <th>0</th>\n      <td>96</td>\n      <td>0.00001</td>\n      <td>0.0</td>\n      <td>0</td>\n      <td>0.851663</td>\n      <td>222.777542</td>\n      <td>0.884882</td>\n      <td>216.632874</td>\n      <td>0.284951</td>\n      <td>0.002166</td>\n      <td>0</td>\n      <td>0</td>\n      <td>NaN</td>\n    </tr>\n    <tr>\n      <th>1</th>\n      <td>94</td>\n      <td>0.00001</td>\n      <td>0.0</td>\n      <td>5</td>\n      <td>0.857372</td>\n      <td>218.716446</td>\n      <td>0.876469</td>\n      <td>192.403976</td>\n      <td>0.298512</td>\n      <td>0.001924</td>\n      <td>1</td>\n      <td>10</td>\n      <td>NaN</td>\n    </tr>\n    <tr>\n      <th>4</th>\n      <td>88</td>\n      <td>0.00001</td>\n      <td>0.0</td>\n      <td>9</td>\n      <td>0.855369</td>\n      <td>233.775040</td>\n      <td>0.886685</td>\n      <td>221.660919</td>\n      <td>0.279359</td>\n      <td>0.002217</td>\n      <td>4</td>\n      <td>18</td>\n      <td>NaN</td>\n    </tr>\n    <tr>\n      <th>6</th>\n      <td>71</td>\n      <td>0.00001</td>\n      <td>0.0</td>\n      <td>1</td>\n      <td>0.850761</td>\n      <td>223.350662</td>\n      <td>0.879741</td>\n      <td>211.905975</td>\n      <td>0.293194</td>\n      <td>0.002119</td>\n      <td>6</td>\n      <td>2</td>\n      <td>NaN</td>\n    </tr>\n    <tr>\n      <th>7</th>\n      <td>106</td>\n      <td>0.00001</td>\n      <td>0.0</td>\n      <td>2</td>\n      <td>0.854267</td>\n      <td>206.390228</td>\n      <td>0.894231</td>\n      <td>210.115448</td>\n      <td>0.271994</td>\n      <td>0.002101</td>\n      <td>7</td>\n      <td>4</td>\n      <td>NaN</td>\n    </tr>\n    <tr>\n      <th>9</th>\n      <td>81</td>\n      <td>0.00001</td>\n      <td>0.0</td>\n      <td>4</td>\n      <td>0.857372</td>\n      <td>232.174683</td>\n      <td>0.883547</td>\n      <td>216.794067</td>\n      <td>0.288798</td>\n      <td>0.002168</td>\n      <td>9</td>\n      <td>8</td>\n      <td>NaN</td>\n    </tr>\n  </tbody>\n</table>\n</div>"
     },
     "execution_count": 231,
     "metadata": {},
     "output_type": "execute_result"
    }
   ],
   "source": [
    "print(\"No surprisal\")\n",
    "original"
   ]
  },
  {
   "cell_type": "code",
   "execution_count": 232,
   "outputs": [
    {
     "name": "stdout",
     "output_type": "stream",
     "text": [
      "With surprisal\n"
     ]
    },
    {
     "data": {
      "text/plain": "   epoch  cost_per_sample  surprisal_cost  trial   val_acc  val_updates  \\\n2    109          0.00001             0.1      7  0.857772   263.530945   \n3     62          0.00001             0.1      8  0.853065   264.717651   \n5     65          0.00001             0.1      0  0.852163   266.301483   \n8     72          0.00001             0.1      3  0.847155   262.919159   \n\n   train_acc  train_updates  entropy_loss  budget_loss  list_index exp  \\\n2   0.892762     263.332001      0.274146     0.002633           2  15   \n3   0.872796     263.974213      0.315785     0.002640           3  17   \n5   0.871728     267.325317      0.308729     0.002673           5   1   \n8   0.875334     263.671661      0.310771     0.002637           8   7   \n\n   surprisal_loss  \n2        0.000077  \n3        0.000065  \n5        0.000108  \n8        0.000221  ",
      "text/html": "<div>\n<style scoped>\n    .dataframe tbody tr th:only-of-type {\n        vertical-align: middle;\n    }\n\n    .dataframe tbody tr th {\n        vertical-align: top;\n    }\n\n    .dataframe thead th {\n        text-align: right;\n    }\n</style>\n<table border=\"1\" class=\"dataframe\">\n  <thead>\n    <tr style=\"text-align: right;\">\n      <th></th>\n      <th>epoch</th>\n      <th>cost_per_sample</th>\n      <th>surprisal_cost</th>\n      <th>trial</th>\n      <th>val_acc</th>\n      <th>val_updates</th>\n      <th>train_acc</th>\n      <th>train_updates</th>\n      <th>entropy_loss</th>\n      <th>budget_loss</th>\n      <th>list_index</th>\n      <th>exp</th>\n      <th>surprisal_loss</th>\n    </tr>\n  </thead>\n  <tbody>\n    <tr>\n      <th>2</th>\n      <td>109</td>\n      <td>0.00001</td>\n      <td>0.1</td>\n      <td>7</td>\n      <td>0.857772</td>\n      <td>263.530945</td>\n      <td>0.892762</td>\n      <td>263.332001</td>\n      <td>0.274146</td>\n      <td>0.002633</td>\n      <td>2</td>\n      <td>15</td>\n      <td>0.000077</td>\n    </tr>\n    <tr>\n      <th>3</th>\n      <td>62</td>\n      <td>0.00001</td>\n      <td>0.1</td>\n      <td>8</td>\n      <td>0.853065</td>\n      <td>264.717651</td>\n      <td>0.872796</td>\n      <td>263.974213</td>\n      <td>0.315785</td>\n      <td>0.002640</td>\n      <td>3</td>\n      <td>17</td>\n      <td>0.000065</td>\n    </tr>\n    <tr>\n      <th>5</th>\n      <td>65</td>\n      <td>0.00001</td>\n      <td>0.1</td>\n      <td>0</td>\n      <td>0.852163</td>\n      <td>266.301483</td>\n      <td>0.871728</td>\n      <td>267.325317</td>\n      <td>0.308729</td>\n      <td>0.002673</td>\n      <td>5</td>\n      <td>1</td>\n      <td>0.000108</td>\n    </tr>\n    <tr>\n      <th>8</th>\n      <td>72</td>\n      <td>0.00001</td>\n      <td>0.1</td>\n      <td>3</td>\n      <td>0.847155</td>\n      <td>262.919159</td>\n      <td>0.875334</td>\n      <td>263.671661</td>\n      <td>0.310771</td>\n      <td>0.002637</td>\n      <td>8</td>\n      <td>7</td>\n      <td>0.000221</td>\n    </tr>\n  </tbody>\n</table>\n</div>"
     },
     "execution_count": 232,
     "metadata": {},
     "output_type": "execute_result"
    }
   ],
   "source": [
    "print(\"With surprisal\")\n",
    "surprisal"
   ],
   "metadata": {
    "collapsed": false,
    "pycharm": {
     "name": "#%%\n"
    }
   }
  },
  {
   "cell_type": "code",
   "execution_count": 233,
   "outputs": [
    {
     "name": "stdout",
     "output_type": "stream",
     "text": [
      "Dataframe with all best epochs for Validation accuracy\n"
     ]
    },
    {
     "data": {
      "text/plain": "   epoch  cost_per_sample  surprisal_cost  trial   val_acc  val_updates  \\\n3     62          0.00001             0.1      8  0.853065   264.717651   \n5     65          0.00001             0.1      0  0.852163   266.301483   \n6     71          0.00001             0.0      1  0.850761   223.350662   \n8     72          0.00001             0.1      3  0.847155   262.919159   \n9     81          0.00001             0.0      4  0.857372   232.174683   \n4     88          0.00001             0.0      9  0.855369   233.775040   \n1     94          0.00001             0.0      5  0.857372   218.716446   \n0     96          0.00001             0.0      0  0.851663   222.777542   \n7    106          0.00001             0.0      2  0.854267   206.390228   \n2    109          0.00001             0.1      7  0.857772   263.530945   \n\n   train_acc  train_updates  entropy_loss  budget_loss  list_index exp  \\\n3   0.872796     263.974213      0.315785     0.002640           3  17   \n5   0.871728     267.325317      0.308729     0.002673           5   1   \n6   0.879741     211.905975      0.293194     0.002119           6   2   \n8   0.875334     263.671661      0.310771     0.002637           8   7   \n9   0.883547     216.794067      0.288798     0.002168           9   8   \n4   0.886685     221.660919      0.279359     0.002217           4  18   \n1   0.876469     192.403976      0.298512     0.001924           1  10   \n0   0.884882     216.632874      0.284951     0.002166           0   0   \n7   0.894231     210.115448      0.271994     0.002101           7   4   \n2   0.892762     263.332001      0.274146     0.002633           2  15   \n\n   surprisal_loss  \n3        0.000065  \n5        0.000108  \n6             NaN  \n8        0.000221  \n9             NaN  \n4             NaN  \n1             NaN  \n0             NaN  \n7             NaN  \n2        0.000077  ",
      "text/html": "<div>\n<style scoped>\n    .dataframe tbody tr th:only-of-type {\n        vertical-align: middle;\n    }\n\n    .dataframe tbody tr th {\n        vertical-align: top;\n    }\n\n    .dataframe thead th {\n        text-align: right;\n    }\n</style>\n<table border=\"1\" class=\"dataframe\">\n  <thead>\n    <tr style=\"text-align: right;\">\n      <th></th>\n      <th>epoch</th>\n      <th>cost_per_sample</th>\n      <th>surprisal_cost</th>\n      <th>trial</th>\n      <th>val_acc</th>\n      <th>val_updates</th>\n      <th>train_acc</th>\n      <th>train_updates</th>\n      <th>entropy_loss</th>\n      <th>budget_loss</th>\n      <th>list_index</th>\n      <th>exp</th>\n      <th>surprisal_loss</th>\n    </tr>\n  </thead>\n  <tbody>\n    <tr>\n      <th>3</th>\n      <td>62</td>\n      <td>0.00001</td>\n      <td>0.1</td>\n      <td>8</td>\n      <td>0.853065</td>\n      <td>264.717651</td>\n      <td>0.872796</td>\n      <td>263.974213</td>\n      <td>0.315785</td>\n      <td>0.002640</td>\n      <td>3</td>\n      <td>17</td>\n      <td>0.000065</td>\n    </tr>\n    <tr>\n      <th>5</th>\n      <td>65</td>\n      <td>0.00001</td>\n      <td>0.1</td>\n      <td>0</td>\n      <td>0.852163</td>\n      <td>266.301483</td>\n      <td>0.871728</td>\n      <td>267.325317</td>\n      <td>0.308729</td>\n      <td>0.002673</td>\n      <td>5</td>\n      <td>1</td>\n      <td>0.000108</td>\n    </tr>\n    <tr>\n      <th>6</th>\n      <td>71</td>\n      <td>0.00001</td>\n      <td>0.0</td>\n      <td>1</td>\n      <td>0.850761</td>\n      <td>223.350662</td>\n      <td>0.879741</td>\n      <td>211.905975</td>\n      <td>0.293194</td>\n      <td>0.002119</td>\n      <td>6</td>\n      <td>2</td>\n      <td>NaN</td>\n    </tr>\n    <tr>\n      <th>8</th>\n      <td>72</td>\n      <td>0.00001</td>\n      <td>0.1</td>\n      <td>3</td>\n      <td>0.847155</td>\n      <td>262.919159</td>\n      <td>0.875334</td>\n      <td>263.671661</td>\n      <td>0.310771</td>\n      <td>0.002637</td>\n      <td>8</td>\n      <td>7</td>\n      <td>0.000221</td>\n    </tr>\n    <tr>\n      <th>9</th>\n      <td>81</td>\n      <td>0.00001</td>\n      <td>0.0</td>\n      <td>4</td>\n      <td>0.857372</td>\n      <td>232.174683</td>\n      <td>0.883547</td>\n      <td>216.794067</td>\n      <td>0.288798</td>\n      <td>0.002168</td>\n      <td>9</td>\n      <td>8</td>\n      <td>NaN</td>\n    </tr>\n    <tr>\n      <th>4</th>\n      <td>88</td>\n      <td>0.00001</td>\n      <td>0.0</td>\n      <td>9</td>\n      <td>0.855369</td>\n      <td>233.775040</td>\n      <td>0.886685</td>\n      <td>221.660919</td>\n      <td>0.279359</td>\n      <td>0.002217</td>\n      <td>4</td>\n      <td>18</td>\n      <td>NaN</td>\n    </tr>\n    <tr>\n      <th>1</th>\n      <td>94</td>\n      <td>0.00001</td>\n      <td>0.0</td>\n      <td>5</td>\n      <td>0.857372</td>\n      <td>218.716446</td>\n      <td>0.876469</td>\n      <td>192.403976</td>\n      <td>0.298512</td>\n      <td>0.001924</td>\n      <td>1</td>\n      <td>10</td>\n      <td>NaN</td>\n    </tr>\n    <tr>\n      <th>0</th>\n      <td>96</td>\n      <td>0.00001</td>\n      <td>0.0</td>\n      <td>0</td>\n      <td>0.851663</td>\n      <td>222.777542</td>\n      <td>0.884882</td>\n      <td>216.632874</td>\n      <td>0.284951</td>\n      <td>0.002166</td>\n      <td>0</td>\n      <td>0</td>\n      <td>NaN</td>\n    </tr>\n    <tr>\n      <th>7</th>\n      <td>106</td>\n      <td>0.00001</td>\n      <td>0.0</td>\n      <td>2</td>\n      <td>0.854267</td>\n      <td>206.390228</td>\n      <td>0.894231</td>\n      <td>210.115448</td>\n      <td>0.271994</td>\n      <td>0.002101</td>\n      <td>7</td>\n      <td>4</td>\n      <td>NaN</td>\n    </tr>\n    <tr>\n      <th>2</th>\n      <td>109</td>\n      <td>0.00001</td>\n      <td>0.1</td>\n      <td>7</td>\n      <td>0.857772</td>\n      <td>263.530945</td>\n      <td>0.892762</td>\n      <td>263.332001</td>\n      <td>0.274146</td>\n      <td>0.002633</td>\n      <td>2</td>\n      <td>15</td>\n      <td>0.000077</td>\n    </tr>\n  </tbody>\n</table>\n</div>"
     },
     "execution_count": 233,
     "metadata": {},
     "output_type": "execute_result"
    }
   ],
   "source": [
    "print(\"Dataframe with all best epochs for Validation accuracy\")\n",
    "best_df.sort_values(by='epoch')\n"
   ],
   "metadata": {
    "collapsed": false,
    "pycharm": {
     "name": "#%%\n"
    }
   }
  },
  {
   "cell_type": "code",
   "execution_count": 234,
   "metadata": {
    "pycharm": {
     "name": "#%%\n"
    }
   },
   "outputs": [
    {
     "name": "stdout",
     "output_type": "stream",
     "text": [
      "Dataframe with one per trials\n"
     ]
    },
    {
     "data": {
      "text/plain": "                                epoch  trial   val_acc  val_updates  \\\ncost_per_sample surprisal_cost                                        \n0.00001         0.0                96      0  0.851663   222.777542   \n                0.1               109      7  0.857772   263.530945   \n\n                                train_acc  train_updates  entropy_loss  \\\ncost_per_sample surprisal_cost                                           \n0.00001         0.0              0.884882     216.632874      0.284951   \n                0.1              0.892762     263.332001      0.274146   \n\n                                budget_loss  list_index exp  surprisal_loss  \ncost_per_sample surprisal_cost                                               \n0.00001         0.0                0.002166           0   0             NaN  \n                0.1                0.002633           2  15        0.000077  ",
      "text/html": "<div>\n<style scoped>\n    .dataframe tbody tr th:only-of-type {\n        vertical-align: middle;\n    }\n\n    .dataframe tbody tr th {\n        vertical-align: top;\n    }\n\n    .dataframe thead th {\n        text-align: right;\n    }\n</style>\n<table border=\"1\" class=\"dataframe\">\n  <thead>\n    <tr style=\"text-align: right;\">\n      <th></th>\n      <th></th>\n      <th>epoch</th>\n      <th>trial</th>\n      <th>val_acc</th>\n      <th>val_updates</th>\n      <th>train_acc</th>\n      <th>train_updates</th>\n      <th>entropy_loss</th>\n      <th>budget_loss</th>\n      <th>list_index</th>\n      <th>exp</th>\n      <th>surprisal_loss</th>\n    </tr>\n    <tr>\n      <th>cost_per_sample</th>\n      <th>surprisal_cost</th>\n      <th></th>\n      <th></th>\n      <th></th>\n      <th></th>\n      <th></th>\n      <th></th>\n      <th></th>\n      <th></th>\n      <th></th>\n      <th></th>\n      <th></th>\n    </tr>\n  </thead>\n  <tbody>\n    <tr>\n      <th rowspan=\"2\" valign=\"top\">0.00001</th>\n      <th>0.0</th>\n      <td>96</td>\n      <td>0</td>\n      <td>0.851663</td>\n      <td>222.777542</td>\n      <td>0.884882</td>\n      <td>216.632874</td>\n      <td>0.284951</td>\n      <td>0.002166</td>\n      <td>0</td>\n      <td>0</td>\n      <td>NaN</td>\n    </tr>\n    <tr>\n      <th>0.1</th>\n      <td>109</td>\n      <td>7</td>\n      <td>0.857772</td>\n      <td>263.530945</td>\n      <td>0.892762</td>\n      <td>263.332001</td>\n      <td>0.274146</td>\n      <td>0.002633</td>\n      <td>2</td>\n      <td>15</td>\n      <td>0.000077</td>\n    </tr>\n  </tbody>\n</table>\n</div>"
     },
     "execution_count": 234,
     "metadata": {},
     "output_type": "execute_result"
    }
   ],
   "source": [
    "print(\"Dataframe with one per trials\")\n",
    "# mean_df = best_df.groupby(by=[\"cost_per_sample\", \"surprisal_cost\"])\n",
    "sorted = best_df.groupby([\"cost_per_sample\", \"surprisal_cost\"], sort=\"val_acc\")\n",
    "sorted.first()"
   ]
  },
  {
   "cell_type": "code",
   "execution_count": 234,
   "metadata": {
    "pycharm": {
     "name": "#%%\n"
    }
   },
   "outputs": [],
   "source": []
  },
  {
   "cell_type": "code",
   "execution_count": 235,
   "outputs": [
    {
     "name": "stdout",
     "output_type": "stream",
     "text": [
      "Clearer visualization\n"
     ]
    },
    {
     "data": {
      "text/plain": "                                count  acc_mean   acc_std  updates_mean  \\\ncost_per_sample surprisal_cost                                            \n0.00001         0.0                 6  0.854467  0.002804     222.86410   \n                0.1                 4  0.852539  0.004351     264.36731   \n\n                                updates_std  epoch_mean  \ncost_per_sample surprisal_cost                           \n0.00001         0.0                9.945565   89.333333  \n                0.1                1.490013   77.000000  ",
      "text/html": "<div>\n<style scoped>\n    .dataframe tbody tr th:only-of-type {\n        vertical-align: middle;\n    }\n\n    .dataframe tbody tr th {\n        vertical-align: top;\n    }\n\n    .dataframe thead th {\n        text-align: right;\n    }\n</style>\n<table border=\"1\" class=\"dataframe\">\n  <thead>\n    <tr style=\"text-align: right;\">\n      <th></th>\n      <th></th>\n      <th>count</th>\n      <th>acc_mean</th>\n      <th>acc_std</th>\n      <th>updates_mean</th>\n      <th>updates_std</th>\n      <th>epoch_mean</th>\n    </tr>\n    <tr>\n      <th>cost_per_sample</th>\n      <th>surprisal_cost</th>\n      <th></th>\n      <th></th>\n      <th></th>\n      <th></th>\n      <th></th>\n      <th></th>\n    </tr>\n  </thead>\n  <tbody>\n    <tr>\n      <th rowspan=\"2\" valign=\"top\">0.00001</th>\n      <th>0.0</th>\n      <td>6</td>\n      <td>0.854467</td>\n      <td>0.002804</td>\n      <td>222.86410</td>\n      <td>9.945565</td>\n      <td>89.333333</td>\n    </tr>\n    <tr>\n      <th>0.1</th>\n      <td>4</td>\n      <td>0.852539</td>\n      <td>0.004351</td>\n      <td>264.36731</td>\n      <td>1.490013</td>\n      <td>77.000000</td>\n    </tr>\n  </tbody>\n</table>\n</div>"
     },
     "execution_count": 235,
     "metadata": {},
     "output_type": "execute_result"
    }
   ],
   "source": [
    "# mean_df = mean_df.max()\n",
    "# mean_df.sort_values(by='val_acc')\n",
    "print(\"Clearer visualization\")\n",
    "# , axis=1, names=[\"acc_mean\", \"acc_std\", \"updates_mean\", \"updates_std\"])\n",
    "view = pd.DataFrame({'count': sorted.val_acc.count(),\n",
    "                     'acc_mean': sorted.val_acc.mean(),\n",
    "                     'acc_std': sorted.val_acc.std(),\n",
    "                     'updates_mean': sorted.val_updates.mean(),\n",
    "                     'updates_std': sorted.val_updates.std(),\n",
    "                     'epoch_mean': sorted.epoch.mean()})\n",
    "# view.rename(columns=[\"acc_mean\", \"acc_std\", \"updates_mean\", \"updates_std\"])\n",
    "view[view['acc_mean'] > 0.835]"
   ],
   "metadata": {
    "collapsed": false,
    "pycharm": {
     "name": "#%%\n"
    }
   }
  },
  {
   "cell_type": "code",
   "execution_count": 236,
   "outputs": [],
   "source": [
    "lr0001 = [csv for csv in csvs if csv['learning_rate'][0]==0.0001 and csv['hidden_units'][0]==32]\n",
    "\n",
    "# temp = bs64_best.loc[(best_df['hidden_units']==96)]"
   ],
   "metadata": {
    "collapsed": false,
    "pycharm": {
     "name": "#%%\n"
    }
   }
  },
  {
   "cell_type": "code",
   "execution_count": 237,
   "metadata": {
    "pycharm": {
     "name": "#%%\n"
    }
   },
   "outputs": [
    {
     "data": {
      "text/plain": "<Figure size 1440x1080 with 0 Axes>"
     },
     "metadata": {},
     "output_type": "display_data"
    },
    {
     "data": {
      "text/plain": "<Figure size 1440x1080 with 0 Axes>"
     },
     "metadata": {},
     "output_type": "display_data"
    },
    {
     "data": {
      "text/plain": "<Figure size 1440x1080 with 0 Axes>"
     },
     "metadata": {},
     "output_type": "display_data"
    },
    {
     "data": {
      "text/plain": "<Figure size 1440x1080 with 0 Axes>"
     },
     "metadata": {},
     "output_type": "display_data"
    },
    {
     "data": {
      "text/plain": "<Figure size 1440x1080 with 0 Axes>"
     },
     "metadata": {},
     "output_type": "display_data"
    },
    {
     "data": {
      "text/plain": "<Figure size 1440x1080 with 0 Axes>"
     },
     "metadata": {},
     "output_type": "display_data"
    },
    {
     "data": {
      "text/plain": "<Figure size 1440x1080 with 0 Axes>"
     },
     "metadata": {},
     "output_type": "display_data"
    },
    {
     "data": {
      "text/plain": "<Figure size 1440x1080 with 0 Axes>"
     },
     "metadata": {},
     "output_type": "display_data"
    },
    {
     "data": {
      "text/plain": "<Figure size 1440x1080 with 0 Axes>"
     },
     "metadata": {},
     "output_type": "display_data"
    },
    {
     "data": {
      "text/plain": "<Figure size 1440x1080 with 0 Axes>"
     },
     "metadata": {},
     "output_type": "display_data"
    }
   ],
   "source": [
    "if not os.path.exists(f\"{folder}/plots\"):\n",
    "    os.makedirs(f\"{folder}/plots\")\n",
    "\n",
    "for i, df in enumerate(csvs):\n",
    "    df.loc[:, ['val_updates', 'train_updates']] = df[['val_updates', 'train_updates']] / 2520\n",
    "    fig = plt.figure()\n",
    "    ax1 = fig.add_subplot(111)\n",
    "\n",
    "    a = df[['val_acc', 'train_acc']].plot(figsize= (20, 15), ax=ax1, legend=None)\n",
    "    ax1.set_ylim(0.4, 1)\n",
    "    ax1.set_ylabel(\"Accuracy\")\n",
    "    # ax1.legend(loc=2)\n",
    "    lns = ax1.get_lines()\n",
    "    ax2 = ax1.twinx()\n",
    "    b = df['val_updates'].plot(ax=ax2, c='r', label=\"val_updates\")\n",
    "    c = df['train_updates'].plot(ax=ax2, c='g', label=\"train_updates\")\n",
    "    ax2.set_ylabel(\"Updates\")\n",
    "    ax2.set_ylim(0, 0.5)\n",
    "    # lns.append(ax2.get_lines)\n",
    "    # labs = [l.get_label() for l in lns]\n",
    "    fig.legend(bbox_to_anchor=(1,1), bbox_transform=ax1.transAxes)\n",
    "    fig.savefig(f\"{folder}/plots/idx{i}_acc{round(best_accs[i], 2)}_cps{csvs[i].cost_per_sample[0]}_s{csvs[i].surprisal_cost[0]}_exp{csvs[i].exp[0]}.png\")\n",
    "    plt.clf()"
   ]
  },
  {
   "cell_type": "code",
   "execution_count": 238,
   "metadata": {
    "pycharm": {
     "name": "#%%\n"
    }
   },
   "outputs": [],
   "source": [
    "# if not os.path.exists(f\"{folder}/lrplots\"):\n",
    "#     os.makedirs(f\"{folder}/lrplots\")\n",
    "#\n",
    "# for i, df in enumerate(lr0001):\n",
    "#     df[['val_acc', 'train_acc']].plot().get_figure().savefig(f\"{folder}/lrplots/idx{i}.png\")\n",
    "#"
   ]
  },
  {
   "cell_type": "code",
   "execution_count": 239,
   "metadata": {
    "pycharm": {
     "name": "#%%\n"
    }
   },
   "outputs": [
    {
     "ename": "ValueError",
     "evalue": "No objects to concatenate",
     "output_type": "error",
     "traceback": [
      "\u001B[1;31m---------------------------------------------------------------------------\u001B[0m",
      "\u001B[1;31mValueError\u001B[0m                                Traceback (most recent call last)",
      "\u001B[1;32m<ipython-input-239-480a54a8c449>\u001B[0m in \u001B[0;36m<module>\u001B[1;34m\u001B[0m\n\u001B[1;32m----> 1\u001B[1;33m \u001B[0mbest_hyper\u001B[0m \u001B[1;33m=\u001B[0m \u001B[0mpd\u001B[0m\u001B[1;33m.\u001B[0m\u001B[0mconcat\u001B[0m\u001B[1;33m(\u001B[0m\u001B[0mlr0001\u001B[0m\u001B[1;33m)\u001B[0m\u001B[1;33m\u001B[0m\u001B[1;33m\u001B[0m\u001B[0m\n\u001B[0m\u001B[0;32m      2\u001B[0m \u001B[1;33m\u001B[0m\u001B[0m\n\u001B[0;32m      3\u001B[0m \u001B[0mbest_hyper_diff\u001B[0m \u001B[1;33m=\u001B[0m \u001B[0mbest_hyper\u001B[0m\u001B[1;33m[\u001B[0m\u001B[1;34m'val_acc'\u001B[0m\u001B[1;33m]\u001B[0m\u001B[1;33m.\u001B[0m\u001B[0mdiff\u001B[0m\u001B[1;33m(\u001B[0m\u001B[1;36m15\u001B[0m\u001B[1;33m)\u001B[0m\u001B[1;33m\u001B[0m\u001B[1;33m\u001B[0m\u001B[0m\n\u001B[0;32m      4\u001B[0m \u001B[0mbest_hyper_diff\u001B[0m\u001B[1;33m.\u001B[0m\u001B[0mabs\u001B[0m\u001B[1;33m(\u001B[0m\u001B[1;33m)\u001B[0m\u001B[1;33m.\u001B[0m\u001B[0mmean\u001B[0m\u001B[1;33m(\u001B[0m\u001B[1;33m)\u001B[0m\u001B[1;33m\u001B[0m\u001B[1;33m\u001B[0m\u001B[0m\n\u001B[0;32m      5\u001B[0m \u001B[1;33m\u001B[0m\u001B[0m\n",
      "\u001B[1;32m~\\anaconda3\\envs\\skiprnn-2017-telecombcn\\lib\\site-packages\\pandas\\core\\reshape\\concat.py\u001B[0m in \u001B[0;36mconcat\u001B[1;34m(objs, axis, join, ignore_index, keys, levels, names, verify_integrity, sort, copy)\u001B[0m\n\u001B[0;32m    279\u001B[0m         \u001B[0mverify_integrity\u001B[0m\u001B[1;33m=\u001B[0m\u001B[0mverify_integrity\u001B[0m\u001B[1;33m,\u001B[0m\u001B[1;33m\u001B[0m\u001B[1;33m\u001B[0m\u001B[0m\n\u001B[0;32m    280\u001B[0m         \u001B[0mcopy\u001B[0m\u001B[1;33m=\u001B[0m\u001B[0mcopy\u001B[0m\u001B[1;33m,\u001B[0m\u001B[1;33m\u001B[0m\u001B[1;33m\u001B[0m\u001B[0m\n\u001B[1;32m--> 281\u001B[1;33m         \u001B[0msort\u001B[0m\u001B[1;33m=\u001B[0m\u001B[0msort\u001B[0m\u001B[1;33m,\u001B[0m\u001B[1;33m\u001B[0m\u001B[1;33m\u001B[0m\u001B[0m\n\u001B[0m\u001B[0;32m    282\u001B[0m     )\n\u001B[0;32m    283\u001B[0m \u001B[1;33m\u001B[0m\u001B[0m\n",
      "\u001B[1;32m~\\anaconda3\\envs\\skiprnn-2017-telecombcn\\lib\\site-packages\\pandas\\core\\reshape\\concat.py\u001B[0m in \u001B[0;36m__init__\u001B[1;34m(self, objs, axis, join, keys, levels, names, ignore_index, verify_integrity, copy, sort)\u001B[0m\n\u001B[0;32m    327\u001B[0m \u001B[1;33m\u001B[0m\u001B[0m\n\u001B[0;32m    328\u001B[0m         \u001B[1;32mif\u001B[0m \u001B[0mlen\u001B[0m\u001B[1;33m(\u001B[0m\u001B[0mobjs\u001B[0m\u001B[1;33m)\u001B[0m \u001B[1;33m==\u001B[0m \u001B[1;36m0\u001B[0m\u001B[1;33m:\u001B[0m\u001B[1;33m\u001B[0m\u001B[1;33m\u001B[0m\u001B[0m\n\u001B[1;32m--> 329\u001B[1;33m             \u001B[1;32mraise\u001B[0m \u001B[0mValueError\u001B[0m\u001B[1;33m(\u001B[0m\u001B[1;34m\"No objects to concatenate\"\u001B[0m\u001B[1;33m)\u001B[0m\u001B[1;33m\u001B[0m\u001B[1;33m\u001B[0m\u001B[0m\n\u001B[0m\u001B[0;32m    330\u001B[0m \u001B[1;33m\u001B[0m\u001B[0m\n\u001B[0;32m    331\u001B[0m         \u001B[1;32mif\u001B[0m \u001B[0mkeys\u001B[0m \u001B[1;32mis\u001B[0m \u001B[1;32mNone\u001B[0m\u001B[1;33m:\u001B[0m\u001B[1;33m\u001B[0m\u001B[1;33m\u001B[0m\u001B[0m\n",
      "\u001B[1;31mValueError\u001B[0m: No objects to concatenate"
     ]
    }
   ],
   "source": [
    "best_hyper = pd.concat(lr0001)\n",
    "\n",
    "best_hyper_diff = best_hyper['val_acc'].diff(15)\n",
    "best_hyper_diff.abs().mean()\n"
   ]
  },
  {
   "cell_type": "code",
   "execution_count": null,
   "outputs": [],
   "source": [
    "csvs[11]\n",
    "\n",
    "best_df.sort_values(by='val_acc')"
   ],
   "metadata": {
    "collapsed": false,
    "pycharm": {
     "name": "#%%\n"
    }
   }
  }
 ],
 "metadata": {
  "kernelspec": {
   "display_name": "Python 3",
   "language": "python",
   "name": "python3"
  },
  "language_info": {
   "codemirror_mode": {
    "name": "ipython",
    "version": 3
   },
   "file_extension": ".py",
   "mimetype": "text/x-python",
   "name": "python",
   "nbconvert_exporter": "python",
   "pygments_lexer": "ipython3",
   "version": "3.7.7"
  }
 },
 "nbformat": 4,
 "nbformat_minor": 1
}