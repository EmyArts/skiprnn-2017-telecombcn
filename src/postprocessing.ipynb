{
 "cells": [
  {
   "cell_type": "code",
   "execution_count": 108,
   "metadata": {
    "pycharm": {
     "name": "#%% Import files\n"
    }
   },
   "outputs": [],
   "source": [
    "import pandas as pd\n",
    "import os\n",
    "import numpy as np\n",
    "import matplotlib.pyplot as plt\n",
    "import pickle\n",
    "import matplotlib\n",
    "from matplotlib.lines import Line2D\n",
    "\n",
    "folder = '../../AfterFailure'"
   ]
  },
  {
   "cell_type": "code",
   "execution_count": 109,
   "outputs": [
    {
     "name": "stdout",
     "output_type": "stream",
     "text": [
      "Total number of Nans: 0\n"
     ]
    }
   ],
   "source": [
    "csvs = []\n",
    "\n",
    "count_nan = 0\n",
    "for i, file in enumerate(os.listdir(folder + '/csvs')):\n",
    "    df = pd.read_csv(folder + '/csvs' + '/' + file)\n",
    "    if (df.batch_size == 64).any():\n",
    "        df.rename(columns={'Unnamed: 0' : 'epoch'}, inplace=True)\n",
    "        count_nan += df.shape[0] * df.shape[1] - np.sum(df.count())\n",
    "        df['list_index'] = len(csvs)\n",
    "        filename = file.split(\"_\")\n",
    "        # print(filename[0][-2:].isdigit())\n",
    "        if filename[0][-2:].isdigit(): df['exp'] = filename[0][-2:]\n",
    "        else: df['exp'] = filename[0][-1]\n",
    "        csvs.append(df)\n",
    "\n",
    "print(f\"Total number of Nans: {count_nan}\")"
   ],
   "metadata": {
    "collapsed": false,
    "pycharm": {
     "name": "#%%\n"
    }
   }
  },
  {
   "cell_type": "code",
   "execution_count": 110,
   "metadata": {
    "pycharm": {
     "name": "#%%\n"
    }
   },
   "outputs": [
    {
     "name": "stdout",
     "output_type": "stream",
     "text": [
      "[[], [], [], [], [], [], [], [], [], [], [], [], [], [], [], [], [], [], [], []]\n"
     ]
    }
   ],
   "source": [
    "nan_index = []\n",
    "for i, df in enumerate(csvs):\n",
    "    nan_index.append(list(df[(df['val_acc'].isnull()) | (df['train_acc'].isnull()) |(df['train_updates'].isnull()) | (df['val_updates'].isnull())].index))\n",
    "\n",
    "print(nan_index)"
   ]
  },
  {
   "cell_type": "code",
   "execution_count": 111,
   "metadata": {
    "pycharm": {
     "name": "#%%\n"
    }
   },
   "outputs": [],
   "source": [
    "# weird_acc = []\n",
    "# for i, df in enumerate(csvs):\n",
    "#     weird_acc.append(list(df[(df['val_acc']>1) | (df['val_acc']<0.1) | (df['train_acc']>1) | (df['train_acc']<0.1)].index))\n",
    "# # for df in csvs:\n",
    "# #     df.drop(df[(df['val_acc']>1) | (df['val_acc']<0)].index, inplace = True)\n",
    "#\n",
    "# see = [csvs[i].iloc[l[0]] for i, l in enumerate(weird_acc) if l]\n",
    "#\n",
    "# early_stopped_dfs = []\n",
    "# for i in range(len(csvs)):\n",
    "#     n = nan_index[i]\n",
    "#     v = weird_acc[i]\n",
    "#     if n and v:\n",
    "#         early_stopped_dfs.append(csvs[i].iloc[[min(min(v), min(n))]])\n",
    "#     elif n:\n",
    "#         early_stopped_dfs.append(csvs[i].iloc[[min(n)]])\n",
    "#     elif v:\n",
    "#         early_stopped_dfs.append(csvs[i].iloc[[min(v)]])\n",
    "#"
   ]
  },
  {
   "cell_type": "code",
   "execution_count": 112,
   "metadata": {
    "pycharm": {
     "name": "#%%\n"
    }
   },
   "outputs": [],
   "source": [
    "# early_stopped = pd.concat(early_stopped_dfs)\n",
    "# early_stopped.drop(columns=['val_acc', 'train_acc', 'val_updates', 'train_updates', 'early_stopping'], inplace=True)\n",
    "# print(\"Networks that stopped early\")\n",
    "# early_stopped\n",
    "# csvs[0].columns\n",
    "# csvs[2]\n",
    "# for df in csvs:\n",
    "#     print(len(df))"
   ]
  },
  {
   "cell_type": "code",
   "execution_count": 113,
   "metadata": {
    "pycharm": {
     "name": "#%%\n"
    }
   },
   "outputs": [],
   "source": [
    "# manual_early_stopping = {4: 36,5: 28, 12: 12, 14:27, 32:18, 35:23, 41:35, 46: 12,53:12}\n",
    "#\n",
    "# for key, val in manual_early_stopping.items():\n",
    "#     csvs[key].drop(labels = range(val, 40), inplace=True)"
   ]
  },
  {
   "cell_type": "code",
   "execution_count": 114,
   "metadata": {
    "pycharm": {
     "name": "#%%\n"
    }
   },
   "outputs": [
    {
     "data": {
      "text/plain": "         epoch  batch_size  cost_per_sample  hidden_units  learning_rate  \\\ncount 1.80E+03    1.80E+03         1.80E+03      1.80E+03       1.80E+03   \nmean  4.71E+01    6.40E+01         1.00E-03      3.20E+01       2.50E-04   \nstd   3.00E+01    0.00E+00         4.34E-19      0.00E+00       1.08E-19   \nmin   0.00E+00    6.40E+01         1.00E-03      3.20E+01       2.50E-04   \n25%   2.20E+01    6.40E+01         1.00E-03      3.20E+01       2.50E-04   \n50%   4.50E+01    6.40E+01         1.00E-03      3.20E+01       2.50E-04   \n75%   6.90E+01    6.40E+01         1.00E-03      3.20E+01       2.50E-04   \nmax   1.24E+02    6.40E+01         1.00E-03      3.20E+01       2.50E-04   \n\n       surprisal_cost    trial  val_acc  val_updates  train_acc  \\\ncount        1.80E+03 1.80E+03 1.80E+03     1.80E+03   1.80E+03   \nmean         4.65E-03 4.64E+00 7.55E-01     3.61E-01   7.66E-01   \nstd          4.99E-03 2.98E+00 8.45E-02     2.39E-01   9.20E-02   \nmin          0.00E+00 0.00E+00 4.96E-01     1.80E-02   4.84E-01   \n25%          0.00E+00 2.00E+00 7.45E-01     2.83E-01   7.49E-01   \n50%          0.00E+00 5.00E+00 7.88E-01     3.02E-01   8.04E-01   \n75%          1.00E-02 7.00E+00 8.07E-01     3.22E-01   8.24E-01   \nmax          1.00E-02 9.00E+00 8.35E-01     1.00E+00   8.50E-01   \n\n       train_updates  test_acc  test_updates  test_time  entropy_loss  \\\ncount       1.80E+03  1.80E+03      1.80E+03   1.80E+03      1.80E+03   \nmean        3.64E-01  7.51E-01      3.62E-01   1.12E+02      4.72E-01   \nstd         2.37E-01  8.40E-02      2.39E-01   2.59E+01      9.95E-02   \nmin         1.85E-02  4.98E-01      1.84E-02   4.11E+01      3.54E-01   \n25%         2.98E-01  7.39E-01      2.85E-01   9.69E+01      3.99E-01   \n50%         3.07E-01  7.85E-01      3.04E-01   1.22E+02      4.31E-01   \n75%         3.14E-01  8.04E-01      3.24E-01   1.32E+02      5.17E-01   \nmax         1.00E+00  8.28E-01      1.00E+00   1.50E+02      6.95E-01   \n\n       budget_loss  list_index  surprisal_loss  \ncount     1.80E+03    1.80E+03        8.38E+02  \nmean      8.38E-02    9.43E+00        5.75E-02  \nstd       5.47E-02    5.63E+00        2.14E-02  \nmin       4.26E-03    0.00E+00        0.00E+00  \n25%       6.87E-02    5.00E+00        6.85E-02  \n50%       7.06E-02    9.00E+00        6.86E-02  \n75%       7.23E-02    1.40E+01        6.87E-02  \nmax       2.30E-01    1.90E+01        6.89E-02  ",
      "text/html": "<div>\n<style scoped>\n    .dataframe tbody tr th:only-of-type {\n        vertical-align: middle;\n    }\n\n    .dataframe tbody tr th {\n        vertical-align: top;\n    }\n\n    .dataframe thead th {\n        text-align: right;\n    }\n</style>\n<table border=\"1\" class=\"dataframe\">\n  <thead>\n    <tr style=\"text-align: right;\">\n      <th></th>\n      <th>epoch</th>\n      <th>batch_size</th>\n      <th>cost_per_sample</th>\n      <th>hidden_units</th>\n      <th>learning_rate</th>\n      <th>surprisal_cost</th>\n      <th>trial</th>\n      <th>val_acc</th>\n      <th>val_updates</th>\n      <th>train_acc</th>\n      <th>train_updates</th>\n      <th>test_acc</th>\n      <th>test_updates</th>\n      <th>test_time</th>\n      <th>entropy_loss</th>\n      <th>budget_loss</th>\n      <th>list_index</th>\n      <th>surprisal_loss</th>\n    </tr>\n  </thead>\n  <tbody>\n    <tr>\n      <th>count</th>\n      <td>1.80E+03</td>\n      <td>1.80E+03</td>\n      <td>1.80E+03</td>\n      <td>1.80E+03</td>\n      <td>1.80E+03</td>\n      <td>1.80E+03</td>\n      <td>1.80E+03</td>\n      <td>1.80E+03</td>\n      <td>1.80E+03</td>\n      <td>1.80E+03</td>\n      <td>1.80E+03</td>\n      <td>1.80E+03</td>\n      <td>1.80E+03</td>\n      <td>1.80E+03</td>\n      <td>1.80E+03</td>\n      <td>1.80E+03</td>\n      <td>1.80E+03</td>\n      <td>8.38E+02</td>\n    </tr>\n    <tr>\n      <th>mean</th>\n      <td>4.71E+01</td>\n      <td>6.40E+01</td>\n      <td>1.00E-03</td>\n      <td>3.20E+01</td>\n      <td>2.50E-04</td>\n      <td>4.65E-03</td>\n      <td>4.64E+00</td>\n      <td>7.55E-01</td>\n      <td>3.61E-01</td>\n      <td>7.66E-01</td>\n      <td>3.64E-01</td>\n      <td>7.51E-01</td>\n      <td>3.62E-01</td>\n      <td>1.12E+02</td>\n      <td>4.72E-01</td>\n      <td>8.38E-02</td>\n      <td>9.43E+00</td>\n      <td>5.75E-02</td>\n    </tr>\n    <tr>\n      <th>std</th>\n      <td>3.00E+01</td>\n      <td>0.00E+00</td>\n      <td>4.34E-19</td>\n      <td>0.00E+00</td>\n      <td>1.08E-19</td>\n      <td>4.99E-03</td>\n      <td>2.98E+00</td>\n      <td>8.45E-02</td>\n      <td>2.39E-01</td>\n      <td>9.20E-02</td>\n      <td>2.37E-01</td>\n      <td>8.40E-02</td>\n      <td>2.39E-01</td>\n      <td>2.59E+01</td>\n      <td>9.95E-02</td>\n      <td>5.47E-02</td>\n      <td>5.63E+00</td>\n      <td>2.14E-02</td>\n    </tr>\n    <tr>\n      <th>min</th>\n      <td>0.00E+00</td>\n      <td>6.40E+01</td>\n      <td>1.00E-03</td>\n      <td>3.20E+01</td>\n      <td>2.50E-04</td>\n      <td>0.00E+00</td>\n      <td>0.00E+00</td>\n      <td>4.96E-01</td>\n      <td>1.80E-02</td>\n      <td>4.84E-01</td>\n      <td>1.85E-02</td>\n      <td>4.98E-01</td>\n      <td>1.84E-02</td>\n      <td>4.11E+01</td>\n      <td>3.54E-01</td>\n      <td>4.26E-03</td>\n      <td>0.00E+00</td>\n      <td>0.00E+00</td>\n    </tr>\n    <tr>\n      <th>25%</th>\n      <td>2.20E+01</td>\n      <td>6.40E+01</td>\n      <td>1.00E-03</td>\n      <td>3.20E+01</td>\n      <td>2.50E-04</td>\n      <td>0.00E+00</td>\n      <td>2.00E+00</td>\n      <td>7.45E-01</td>\n      <td>2.83E-01</td>\n      <td>7.49E-01</td>\n      <td>2.98E-01</td>\n      <td>7.39E-01</td>\n      <td>2.85E-01</td>\n      <td>9.69E+01</td>\n      <td>3.99E-01</td>\n      <td>6.87E-02</td>\n      <td>5.00E+00</td>\n      <td>6.85E-02</td>\n    </tr>\n    <tr>\n      <th>50%</th>\n      <td>4.50E+01</td>\n      <td>6.40E+01</td>\n      <td>1.00E-03</td>\n      <td>3.20E+01</td>\n      <td>2.50E-04</td>\n      <td>0.00E+00</td>\n      <td>5.00E+00</td>\n      <td>7.88E-01</td>\n      <td>3.02E-01</td>\n      <td>8.04E-01</td>\n      <td>3.07E-01</td>\n      <td>7.85E-01</td>\n      <td>3.04E-01</td>\n      <td>1.22E+02</td>\n      <td>4.31E-01</td>\n      <td>7.06E-02</td>\n      <td>9.00E+00</td>\n      <td>6.86E-02</td>\n    </tr>\n    <tr>\n      <th>75%</th>\n      <td>6.90E+01</td>\n      <td>6.40E+01</td>\n      <td>1.00E-03</td>\n      <td>3.20E+01</td>\n      <td>2.50E-04</td>\n      <td>1.00E-02</td>\n      <td>7.00E+00</td>\n      <td>8.07E-01</td>\n      <td>3.22E-01</td>\n      <td>8.24E-01</td>\n      <td>3.14E-01</td>\n      <td>8.04E-01</td>\n      <td>3.24E-01</td>\n      <td>1.32E+02</td>\n      <td>5.17E-01</td>\n      <td>7.23E-02</td>\n      <td>1.40E+01</td>\n      <td>6.87E-02</td>\n    </tr>\n    <tr>\n      <th>max</th>\n      <td>1.24E+02</td>\n      <td>6.40E+01</td>\n      <td>1.00E-03</td>\n      <td>3.20E+01</td>\n      <td>2.50E-04</td>\n      <td>1.00E-02</td>\n      <td>9.00E+00</td>\n      <td>8.35E-01</td>\n      <td>1.00E+00</td>\n      <td>8.50E-01</td>\n      <td>1.00E+00</td>\n      <td>8.28E-01</td>\n      <td>1.00E+00</td>\n      <td>1.50E+02</td>\n      <td>6.95E-01</td>\n      <td>2.30E-01</td>\n      <td>1.90E+01</td>\n      <td>6.89E-02</td>\n    </tr>\n  </tbody>\n</table>\n</div>"
     },
     "execution_count": 114,
     "metadata": {},
     "output_type": "execute_result"
    }
   ],
   "source": [
    "big_df = pd.concat(csvs)\n",
    "big_df.describe()"
   ]
  },
  {
   "cell_type": "code",
   "execution_count": 115,
   "metadata": {
    "pycharm": {
     "name": "#%%\n"
    }
   },
   "outputs": [
    {
     "data": {
      "text/plain": "<matplotlib.axes._subplots.AxesSubplot at 0x27228011888>"
     },
     "execution_count": 115,
     "metadata": {},
     "output_type": "execute_result"
    },
    {
     "data": {
      "text/plain": "<Figure size 720x720 with 1 Axes>",
      "image/png": "[encoded data removed]"
     },
     "metadata": {
      "needs_background": "light"
     },
     "output_type": "display_data"
    }
   ],
   "source": [
    "big_df['val_acc'].hist(figsize=(10, 10))"
   ]
  },
  {
   "cell_type": "code",
   "execution_count": 116,
   "metadata": {
    "pycharm": {
     "name": "#%%\n"
    }
   },
   "outputs": [],
   "source": [
    "best_rows = []\n",
    "best_accs = []\n",
    "for df in csvs:\n",
    "    best_accs.append(df.loc[:, 'test_acc'].max())\n",
    "    best_rows.append(df.loc[df.loc[:, 'test_acc'].argmax()].to_dict())"
   ]
  },
  {
   "cell_type": "code",
   "execution_count": 117,
   "metadata": {
    "pycharm": {
     "name": "#%%\n"
    }
   },
   "outputs": [],
   "source": [
    "best_df = pd.DataFrame(best_rows)\n",
    "best_df = best_df.drop(columns= [\"learning_rate\", \"hidden_units\", \"batch_size\", \"early_stopping\"])\n",
    "\n",
    "original = best_df[best_df['surprisal_cost'] == 0]\n",
    "surprisal = best_df[best_df['surprisal_cost'] != 0]"
   ]
  },
  {
   "cell_type": "code",
   "execution_count": 118,
   "metadata": {
    "pycharm": {
     "name": "#%%\n"
    }
   },
   "outputs": [
    {
     "name": "stdout",
     "output_type": "stream",
     "text": [
      "No surprisal\n"
     ]
    },
    {
     "data": {
      "text/plain": "    epoch  cost_per_sample  surprisal_cost  trial  val_acc  val_updates  \\\n0      79         1.00E-03        0.00E+00      0 8.28E-01     3.32E-01   \n1     103         1.00E-03        0.00E+00      5 8.23E-01     3.31E-01   \n3      73         1.00E-03        0.00E+00      6 8.12E-01     3.16E-01   \n5      46         1.00E-03        0.00E+00      7 7.99E-01     3.14E-01   \n7     103         1.00E-03        0.00E+00      8 8.29E-01     3.32E-01   \n9     124         1.00E-03        0.00E+00      9 8.35E-01     3.33E-01   \n12     72         1.00E-03        0.00E+00      1 8.23E-01     3.46E-01   \n14     93         1.00E-03        0.00E+00      2 8.35E-01     3.25E-01   \n16     62         1.00E-03        0.00E+00      3 8.11E-01     3.37E-01   \n18    103         1.00E-03        0.00E+00      4 8.31E-01     3.31E-01   \n\n    train_acc  train_updates  test_acc  test_updates  test_time  entropy_loss  \\\n0    8.36E-01       3.12E-01  8.23E-01      3.34E-01   1.43E+02      3.82E-01   \n1    8.38E-01       3.12E-01  8.25E-01      3.33E-01   7.38E+01      3.71E-01   \n3    8.24E-01       3.10E-01  8.15E-01      3.18E-01   1.02E+02      3.97E-01   \n5    8.09E-01       3.01E-01  7.98E-01      3.16E-01   9.48E+01      4.21E-01   \n7    8.41E-01       2.97E-01  8.27E-01      3.34E-01   4.94E+01      3.74E-01   \n9    8.50E-01       3.05E-01  8.28E-01      3.36E-01   4.64E+01      3.57E-01   \n12   8.30E-01       3.14E-01  8.21E-01      3.48E-01   9.24E+01      3.94E-01   \n14   8.39E-01       3.04E-01  8.28E-01      3.28E-01   5.60E+01      3.78E-01   \n16   8.18E-01       3.10E-01  8.09E-01      3.38E-01   1.10E+02      4.03E-01   \n18   8.35E-01       2.95E-01  8.23E-01      3.33E-01   6.82E+01      3.83E-01   \n\n    budget_loss  list_index exp  surprisal_loss  \n0      7.18E-02           0   0             NAN  \n1      7.18E-02           1  10             NAN  \n3      7.14E-02           3  12             NAN  \n5      6.94E-02           5  14             NAN  \n7      6.84E-02           7  16             NAN  \n9      7.03E-02           9  18             NAN  \n12     7.22E-02          12   2             NAN  \n14     7.01E-02          14   4             NAN  \n16     7.13E-02          16   6             NAN  \n18     6.79E-02          18   8             NAN  ",
      "text/html": "<div>\n<style scoped>\n    .dataframe tbody tr th:only-of-type {\n        vertical-align: middle;\n    }\n\n    .dataframe tbody tr th {\n        vertical-align: top;\n    }\n\n    .dataframe thead th {\n        text-align: right;\n    }\n</style>\n<table border=\"1\" class=\"dataframe\">\n  <thead>\n    <tr style=\"text-align: right;\">\n      <th></th>\n      <th>epoch</th>\n      <th>cost_per_sample</th>\n      <th>surprisal_cost</th>\n      <th>trial</th>\n      <th>val_acc</th>\n      <th>val_updates</th>\n      <th>train_acc</th>\n      <th>train_updates</th>\n      <th>test_acc</th>\n      <th>test_updates</th>\n      <th>test_time</th>\n      <th>entropy_loss</th>\n      <th>budget_loss</th>\n      <th>list_index</th>\n      <th>exp</th>\n      <th>surprisal_loss</th>\n    </tr>\n  </thead>\n  <tbody>\n    <tr>\n      <th>0</th>\n      <td>79</td>\n      <td>1.00E-03</td>\n      <td>0.00E+00</td>\n      <td>0</td>\n      <td>8.28E-01</td>\n      <td>3.32E-01</td>\n      <td>8.36E-01</td>\n      <td>3.12E-01</td>\n      <td>8.23E-01</td>\n      <td>3.34E-01</td>\n      <td>1.43E+02</td>\n      <td>3.82E-01</td>\n      <td>7.18E-02</td>\n      <td>0</td>\n      <td>0</td>\n      <td>NAN</td>\n    </tr>\n    <tr>\n      <th>1</th>\n      <td>103</td>\n      <td>1.00E-03</td>\n      <td>0.00E+00</td>\n      <td>5</td>\n      <td>8.23E-01</td>\n      <td>3.31E-01</td>\n      <td>8.38E-01</td>\n      <td>3.12E-01</td>\n      <td>8.25E-01</td>\n      <td>3.33E-01</td>\n      <td>7.38E+01</td>\n      <td>3.71E-01</td>\n      <td>7.18E-02</td>\n      <td>1</td>\n      <td>10</td>\n      <td>NAN</td>\n    </tr>\n    <tr>\n      <th>3</th>\n      <td>73</td>\n      <td>1.00E-03</td>\n      <td>0.00E+00</td>\n      <td>6</td>\n      <td>8.12E-01</td>\n      <td>3.16E-01</td>\n      <td>8.24E-01</td>\n      <td>3.10E-01</td>\n      <td>8.15E-01</td>\n      <td>3.18E-01</td>\n      <td>1.02E+02</td>\n      <td>3.97E-01</td>\n      <td>7.14E-02</td>\n      <td>3</td>\n      <td>12</td>\n      <td>NAN</td>\n    </tr>\n    <tr>\n      <th>5</th>\n      <td>46</td>\n      <td>1.00E-03</td>\n      <td>0.00E+00</td>\n      <td>7</td>\n      <td>7.99E-01</td>\n      <td>3.14E-01</td>\n      <td>8.09E-01</td>\n      <td>3.01E-01</td>\n      <td>7.98E-01</td>\n      <td>3.16E-01</td>\n      <td>9.48E+01</td>\n      <td>4.21E-01</td>\n      <td>6.94E-02</td>\n      <td>5</td>\n      <td>14</td>\n      <td>NAN</td>\n    </tr>\n    <tr>\n      <th>7</th>\n      <td>103</td>\n      <td>1.00E-03</td>\n      <td>0.00E+00</td>\n      <td>8</td>\n      <td>8.29E-01</td>\n      <td>3.32E-01</td>\n      <td>8.41E-01</td>\n      <td>2.97E-01</td>\n      <td>8.27E-01</td>\n      <td>3.34E-01</td>\n      <td>4.94E+01</td>\n      <td>3.74E-01</td>\n      <td>6.84E-02</td>\n      <td>7</td>\n      <td>16</td>\n      <td>NAN</td>\n    </tr>\n    <tr>\n      <th>9</th>\n      <td>124</td>\n      <td>1.00E-03</td>\n      <td>0.00E+00</td>\n      <td>9</td>\n      <td>8.35E-01</td>\n      <td>3.33E-01</td>\n      <td>8.50E-01</td>\n      <td>3.05E-01</td>\n      <td>8.28E-01</td>\n      <td>3.36E-01</td>\n      <td>4.64E+01</td>\n      <td>3.57E-01</td>\n      <td>7.03E-02</td>\n      <td>9</td>\n      <td>18</td>\n      <td>NAN</td>\n    </tr>\n    <tr>\n      <th>12</th>\n      <td>72</td>\n      <td>1.00E-03</td>\n      <td>0.00E+00</td>\n      <td>1</td>\n      <td>8.23E-01</td>\n      <td>3.46E-01</td>\n      <td>8.30E-01</td>\n      <td>3.14E-01</td>\n      <td>8.21E-01</td>\n      <td>3.48E-01</td>\n      <td>9.24E+01</td>\n      <td>3.94E-01</td>\n      <td>7.22E-02</td>\n      <td>12</td>\n      <td>2</td>\n      <td>NAN</td>\n    </tr>\n    <tr>\n      <th>14</th>\n      <td>93</td>\n      <td>1.00E-03</td>\n      <td>0.00E+00</td>\n      <td>2</td>\n      <td>8.35E-01</td>\n      <td>3.25E-01</td>\n      <td>8.39E-01</td>\n      <td>3.04E-01</td>\n      <td>8.28E-01</td>\n      <td>3.28E-01</td>\n      <td>5.60E+01</td>\n      <td>3.78E-01</td>\n      <td>7.01E-02</td>\n      <td>14</td>\n      <td>4</td>\n      <td>NAN</td>\n    </tr>\n    <tr>\n      <th>16</th>\n      <td>62</td>\n      <td>1.00E-03</td>\n      <td>0.00E+00</td>\n      <td>3</td>\n      <td>8.11E-01</td>\n      <td>3.37E-01</td>\n      <td>8.18E-01</td>\n      <td>3.10E-01</td>\n      <td>8.09E-01</td>\n      <td>3.38E-01</td>\n      <td>1.10E+02</td>\n      <td>4.03E-01</td>\n      <td>7.13E-02</td>\n      <td>16</td>\n      <td>6</td>\n      <td>NAN</td>\n    </tr>\n    <tr>\n      <th>18</th>\n      <td>103</td>\n      <td>1.00E-03</td>\n      <td>0.00E+00</td>\n      <td>4</td>\n      <td>8.31E-01</td>\n      <td>3.31E-01</td>\n      <td>8.35E-01</td>\n      <td>2.95E-01</td>\n      <td>8.23E-01</td>\n      <td>3.33E-01</td>\n      <td>6.82E+01</td>\n      <td>3.83E-01</td>\n      <td>6.79E-02</td>\n      <td>18</td>\n      <td>8</td>\n      <td>NAN</td>\n    </tr>\n  </tbody>\n</table>\n</div>"
     },
     "execution_count": 118,
     "metadata": {},
     "output_type": "execute_result"
    }
   ],
   "source": [
    "print(\"No surprisal\")\n",
    "original"
   ]
  },
  {
   "cell_type": "code",
   "execution_count": 119,
   "outputs": [
    {
     "name": "stdout",
     "output_type": "stream",
     "text": [
      "With surprisal\n"
     ]
    },
    {
     "data": {
      "text/plain": "    epoch  cost_per_sample  surprisal_cost  trial  val_acc  val_updates  \\\n2      40         1.00E-03        1.00E-02      5 6.80E-01     9.99E-01   \n4      59         1.00E-03        1.00E-02      6 8.15E-01     3.25E-01   \n6     122         1.00E-03        1.00E-02      7 8.26E-01     3.46E-01   \n8      67         1.00E-03        1.00E-02      8 7.22E-01     1.00E+00   \n10     92         1.00E-03        1.00E-02      9 8.23E-01     2.97E-01   \n11     90         1.00E-03        1.00E-02      0 8.16E-01     3.15E-01   \n13     84         1.00E-03        1.00E-02      1 8.26E-01     3.37E-01   \n15     77         1.00E-03        1.00E-02      2 8.19E-01     3.48E-01   \n17     51         1.00E-03        1.00E-02      3 7.23E-01     1.00E+00   \n19     62         1.00E-03        1.00E-02      4 8.15E-01     3.26E-01   \n\n    train_acc  train_updates  test_acc  test_updates  test_time  entropy_loss  \\\n2    6.46E-01       9.99E-01  6.76E-01      9.99E-01   1.32E+02      6.49E-01   \n4    8.17E-01       3.22E-01  8.18E-01      3.27E-01   1.36E+02      4.03E-01   \n6    8.48E-01       3.17E-01  8.25E-01      3.48E-01   4.15E+01      3.54E-01   \n8    7.02E-01       9.99E-01  7.17E-01      1.00E+00   1.38E+02      5.94E-01   \n10   8.39E-01       3.06E-01  8.21E-01      3.00E-01   5.63E+01      3.69E-01   \n11   8.35E-01       3.01E-01  8.18E-01      3.19E-01   7.53E+01      3.85E-01   \n13   8.36E-01       3.10E-01  8.21E-01      3.40E-01   1.18E+02      3.77E-01   \n15   8.28E-01       3.03E-01  8.18E-01      3.49E-01   1.48E+02      3.92E-01   \n17   7.18E-01       9.99E-01  7.16E-01      1.00E+00   1.32E+02      5.92E-01   \n19   8.17E-01       3.00E-01  8.14E-01      3.30E-01   7.65E+01      4.14E-01   \n\n    budget_loss  list_index exp  surprisal_loss  \n2      2.30E-01           2  11        3.77E-02  \n4      7.43E-02           4  13        6.86E-02  \n6      7.30E-02           6  15        6.85E-02  \n8      2.30E-01           8  17        3.90E-02  \n10     7.05E-02          10  19        6.86E-02  \n11     6.93E-02          11   1        6.86E-02  \n13     7.14E-02          13   3        6.85E-02  \n15     6.98E-02          15   5        6.86E-02  \n17     2.30E-01          17   7        3.91E-02  \n19     6.90E-02          19   9        6.86E-02  ",
      "text/html": "<div>\n<style scoped>\n    .dataframe tbody tr th:only-of-type {\n        vertical-align: middle;\n    }\n\n    .dataframe tbody tr th {\n        vertical-align: top;\n    }\n\n    .dataframe thead th {\n        text-align: right;\n    }\n</style>\n<table border=\"1\" class=\"dataframe\">\n  <thead>\n    <tr style=\"text-align: right;\">\n      <th></th>\n      <th>epoch</th>\n      <th>cost_per_sample</th>\n      <th>surprisal_cost</th>\n      <th>trial</th>\n      <th>val_acc</th>\n      <th>val_updates</th>\n      <th>train_acc</th>\n      <th>train_updates</th>\n      <th>test_acc</th>\n      <th>test_updates</th>\n      <th>test_time</th>\n      <th>entropy_loss</th>\n      <th>budget_loss</th>\n      <th>list_index</th>\n      <th>exp</th>\n      <th>surprisal_loss</th>\n    </tr>\n  </thead>\n  <tbody>\n    <tr>\n      <th>2</th>\n      <td>40</td>\n      <td>1.00E-03</td>\n      <td>1.00E-02</td>\n      <td>5</td>\n      <td>6.80E-01</td>\n      <td>9.99E-01</td>\n      <td>6.46E-01</td>\n      <td>9.99E-01</td>\n      <td>6.76E-01</td>\n      <td>9.99E-01</td>\n      <td>1.32E+02</td>\n      <td>6.49E-01</td>\n      <td>2.30E-01</td>\n      <td>2</td>\n      <td>11</td>\n      <td>3.77E-02</td>\n    </tr>\n    <tr>\n      <th>4</th>\n      <td>59</td>\n      <td>1.00E-03</td>\n      <td>1.00E-02</td>\n      <td>6</td>\n      <td>8.15E-01</td>\n      <td>3.25E-01</td>\n      <td>8.17E-01</td>\n      <td>3.22E-01</td>\n      <td>8.18E-01</td>\n      <td>3.27E-01</td>\n      <td>1.36E+02</td>\n      <td>4.03E-01</td>\n      <td>7.43E-02</td>\n      <td>4</td>\n      <td>13</td>\n      <td>6.86E-02</td>\n    </tr>\n    <tr>\n      <th>6</th>\n      <td>122</td>\n      <td>1.00E-03</td>\n      <td>1.00E-02</td>\n      <td>7</td>\n      <td>8.26E-01</td>\n      <td>3.46E-01</td>\n      <td>8.48E-01</td>\n      <td>3.17E-01</td>\n      <td>8.25E-01</td>\n      <td>3.48E-01</td>\n      <td>4.15E+01</td>\n      <td>3.54E-01</td>\n      <td>7.30E-02</td>\n      <td>6</td>\n      <td>15</td>\n      <td>6.85E-02</td>\n    </tr>\n    <tr>\n      <th>8</th>\n      <td>67</td>\n      <td>1.00E-03</td>\n      <td>1.00E-02</td>\n      <td>8</td>\n      <td>7.22E-01</td>\n      <td>1.00E+00</td>\n      <td>7.02E-01</td>\n      <td>9.99E-01</td>\n      <td>7.17E-01</td>\n      <td>1.00E+00</td>\n      <td>1.38E+02</td>\n      <td>5.94E-01</td>\n      <td>2.30E-01</td>\n      <td>8</td>\n      <td>17</td>\n      <td>3.90E-02</td>\n    </tr>\n    <tr>\n      <th>10</th>\n      <td>92</td>\n      <td>1.00E-03</td>\n      <td>1.00E-02</td>\n      <td>9</td>\n      <td>8.23E-01</td>\n      <td>2.97E-01</td>\n      <td>8.39E-01</td>\n      <td>3.06E-01</td>\n      <td>8.21E-01</td>\n      <td>3.00E-01</td>\n      <td>5.63E+01</td>\n      <td>3.69E-01</td>\n      <td>7.05E-02</td>\n      <td>10</td>\n      <td>19</td>\n      <td>6.86E-02</td>\n    </tr>\n    <tr>\n      <th>11</th>\n      <td>90</td>\n      <td>1.00E-03</td>\n      <td>1.00E-02</td>\n      <td>0</td>\n      <td>8.16E-01</td>\n      <td>3.15E-01</td>\n      <td>8.35E-01</td>\n      <td>3.01E-01</td>\n      <td>8.18E-01</td>\n      <td>3.19E-01</td>\n      <td>7.53E+01</td>\n      <td>3.85E-01</td>\n      <td>6.93E-02</td>\n      <td>11</td>\n      <td>1</td>\n      <td>6.86E-02</td>\n    </tr>\n    <tr>\n      <th>13</th>\n      <td>84</td>\n      <td>1.00E-03</td>\n      <td>1.00E-02</td>\n      <td>1</td>\n      <td>8.26E-01</td>\n      <td>3.37E-01</td>\n      <td>8.36E-01</td>\n      <td>3.10E-01</td>\n      <td>8.21E-01</td>\n      <td>3.40E-01</td>\n      <td>1.18E+02</td>\n      <td>3.77E-01</td>\n      <td>7.14E-02</td>\n      <td>13</td>\n      <td>3</td>\n      <td>6.85E-02</td>\n    </tr>\n    <tr>\n      <th>15</th>\n      <td>77</td>\n      <td>1.00E-03</td>\n      <td>1.00E-02</td>\n      <td>2</td>\n      <td>8.19E-01</td>\n      <td>3.48E-01</td>\n      <td>8.28E-01</td>\n      <td>3.03E-01</td>\n      <td>8.18E-01</td>\n      <td>3.49E-01</td>\n      <td>1.48E+02</td>\n      <td>3.92E-01</td>\n      <td>6.98E-02</td>\n      <td>15</td>\n      <td>5</td>\n      <td>6.86E-02</td>\n    </tr>\n    <tr>\n      <th>17</th>\n      <td>51</td>\n      <td>1.00E-03</td>\n      <td>1.00E-02</td>\n      <td>3</td>\n      <td>7.23E-01</td>\n      <td>1.00E+00</td>\n      <td>7.18E-01</td>\n      <td>9.99E-01</td>\n      <td>7.16E-01</td>\n      <td>1.00E+00</td>\n      <td>1.32E+02</td>\n      <td>5.92E-01</td>\n      <td>2.30E-01</td>\n      <td>17</td>\n      <td>7</td>\n      <td>3.91E-02</td>\n    </tr>\n    <tr>\n      <th>19</th>\n      <td>62</td>\n      <td>1.00E-03</td>\n      <td>1.00E-02</td>\n      <td>4</td>\n      <td>8.15E-01</td>\n      <td>3.26E-01</td>\n      <td>8.17E-01</td>\n      <td>3.00E-01</td>\n      <td>8.14E-01</td>\n      <td>3.30E-01</td>\n      <td>7.65E+01</td>\n      <td>4.14E-01</td>\n      <td>6.90E-02</td>\n      <td>19</td>\n      <td>9</td>\n      <td>6.86E-02</td>\n    </tr>\n  </tbody>\n</table>\n</div>"
     },
     "execution_count": 119,
     "metadata": {},
     "output_type": "execute_result"
    }
   ],
   "source": [
    "print(\"With surprisal\")\n",
    "surprisal"
   ],
   "metadata": {
    "collapsed": false,
    "pycharm": {
     "name": "#%%\n"
    }
   }
  },
  {
   "cell_type": "code",
   "execution_count": 120,
   "outputs": [
    {
     "name": "stdout",
     "output_type": "stream",
     "text": [
      "Dataframe with all best epochs for Validation accuracy\n"
     ]
    },
    {
     "data": {
      "text/plain": "    epoch  cost_per_sample  surprisal_cost  trial  val_acc  val_updates  \\\n2      40         1.00E-03        1.00E-02      5 6.80E-01     9.99E-01   \n5      46         1.00E-03        0.00E+00      7 7.99E-01     3.14E-01   \n17     51         1.00E-03        1.00E-02      3 7.23E-01     1.00E+00   \n4      59         1.00E-03        1.00E-02      6 8.15E-01     3.25E-01   \n19     62         1.00E-03        1.00E-02      4 8.15E-01     3.26E-01   \n16     62         1.00E-03        0.00E+00      3 8.11E-01     3.37E-01   \n8      67         1.00E-03        1.00E-02      8 7.22E-01     1.00E+00   \n12     72         1.00E-03        0.00E+00      1 8.23E-01     3.46E-01   \n3      73         1.00E-03        0.00E+00      6 8.12E-01     3.16E-01   \n15     77         1.00E-03        1.00E-02      2 8.19E-01     3.48E-01   \n0      79         1.00E-03        0.00E+00      0 8.28E-01     3.32E-01   \n13     84         1.00E-03        1.00E-02      1 8.26E-01     3.37E-01   \n11     90         1.00E-03        1.00E-02      0 8.16E-01     3.15E-01   \n10     92         1.00E-03        1.00E-02      9 8.23E-01     2.97E-01   \n14     93         1.00E-03        0.00E+00      2 8.35E-01     3.25E-01   \n18    103         1.00E-03        0.00E+00      4 8.31E-01     3.31E-01   \n7     103         1.00E-03        0.00E+00      8 8.29E-01     3.32E-01   \n1     103         1.00E-03        0.00E+00      5 8.23E-01     3.31E-01   \n6     122         1.00E-03        1.00E-02      7 8.26E-01     3.46E-01   \n9     124         1.00E-03        0.00E+00      9 8.35E-01     3.33E-01   \n\n    train_acc  train_updates  test_acc  test_updates  test_time  entropy_loss  \\\n2    6.46E-01       9.99E-01  6.76E-01      9.99E-01   1.32E+02      6.49E-01   \n5    8.09E-01       3.01E-01  7.98E-01      3.16E-01   9.48E+01      4.21E-01   \n17   7.18E-01       9.99E-01  7.16E-01      1.00E+00   1.32E+02      5.92E-01   \n4    8.17E-01       3.22E-01  8.18E-01      3.27E-01   1.36E+02      4.03E-01   \n19   8.17E-01       3.00E-01  8.14E-01      3.30E-01   7.65E+01      4.14E-01   \n16   8.18E-01       3.10E-01  8.09E-01      3.38E-01   1.10E+02      4.03E-01   \n8    7.02E-01       9.99E-01  7.17E-01      1.00E+00   1.38E+02      5.94E-01   \n12   8.30E-01       3.14E-01  8.21E-01      3.48E-01   9.24E+01      3.94E-01   \n3    8.24E-01       3.10E-01  8.15E-01      3.18E-01   1.02E+02      3.97E-01   \n15   8.28E-01       3.03E-01  8.18E-01      3.49E-01   1.48E+02      3.92E-01   \n0    8.36E-01       3.12E-01  8.23E-01      3.34E-01   1.43E+02      3.82E-01   \n13   8.36E-01       3.10E-01  8.21E-01      3.40E-01   1.18E+02      3.77E-01   \n11   8.35E-01       3.01E-01  8.18E-01      3.19E-01   7.53E+01      3.85E-01   \n10   8.39E-01       3.06E-01  8.21E-01      3.00E-01   5.63E+01      3.69E-01   \n14   8.39E-01       3.04E-01  8.28E-01      3.28E-01   5.60E+01      3.78E-01   \n18   8.35E-01       2.95E-01  8.23E-01      3.33E-01   6.82E+01      3.83E-01   \n7    8.41E-01       2.97E-01  8.27E-01      3.34E-01   4.94E+01      3.74E-01   \n1    8.38E-01       3.12E-01  8.25E-01      3.33E-01   7.38E+01      3.71E-01   \n6    8.48E-01       3.17E-01  8.25E-01      3.48E-01   4.15E+01      3.54E-01   \n9    8.50E-01       3.05E-01  8.28E-01      3.36E-01   4.64E+01      3.57E-01   \n\n    budget_loss  list_index exp  surprisal_loss  \n2      2.30E-01           2  11        3.77E-02  \n5      6.94E-02           5  14             NAN  \n17     2.30E-01          17   7        3.91E-02  \n4      7.43E-02           4  13        6.86E-02  \n19     6.90E-02          19   9        6.86E-02  \n16     7.13E-02          16   6             NAN  \n8      2.30E-01           8  17        3.90E-02  \n12     7.22E-02          12   2             NAN  \n3      7.14E-02           3  12             NAN  \n15     6.98E-02          15   5        6.86E-02  \n0      7.18E-02           0   0             NAN  \n13     7.14E-02          13   3        6.85E-02  \n11     6.93E-02          11   1        6.86E-02  \n10     7.05E-02          10  19        6.86E-02  \n14     7.01E-02          14   4             NAN  \n18     6.79E-02          18   8             NAN  \n7      6.84E-02           7  16             NAN  \n1      7.18E-02           1  10             NAN  \n6      7.30E-02           6  15        6.85E-02  \n9      7.03E-02           9  18             NAN  ",
      "text/html": "<div>\n<style scoped>\n    .dataframe tbody tr th:only-of-type {\n        vertical-align: middle;\n    }\n\n    .dataframe tbody tr th {\n        vertical-align: top;\n    }\n\n    .dataframe thead th {\n        text-align: right;\n    }\n</style>\n<table border=\"1\" class=\"dataframe\">\n  <thead>\n    <tr style=\"text-align: right;\">\n      <th></th>\n      <th>epoch</th>\n      <th>cost_per_sample</th>\n      <th>surprisal_cost</th>\n      <th>trial</th>\n      <th>val_acc</th>\n      <th>val_updates</th>\n      <th>train_acc</th>\n      <th>train_updates</th>\n      <th>test_acc</th>\n      <th>test_updates</th>\n      <th>test_time</th>\n      <th>entropy_loss</th>\n      <th>budget_loss</th>\n      <th>list_index</th>\n      <th>exp</th>\n      <th>surprisal_loss</th>\n    </tr>\n  </thead>\n  <tbody>\n    <tr>\n      <th>2</th>\n      <td>40</td>\n      <td>1.00E-03</td>\n      <td>1.00E-02</td>\n      <td>5</td>\n      <td>6.80E-01</td>\n      <td>9.99E-01</td>\n      <td>6.46E-01</td>\n      <td>9.99E-01</td>\n      <td>6.76E-01</td>\n      <td>9.99E-01</td>\n      <td>1.32E+02</td>\n      <td>6.49E-01</td>\n      <td>2.30E-01</td>\n      <td>2</td>\n      <td>11</td>\n      <td>3.77E-02</td>\n    </tr>\n    <tr>\n      <th>5</th>\n      <td>46</td>\n      <td>1.00E-03</td>\n      <td>0.00E+00</td>\n      <td>7</td>\n      <td>7.99E-01</td>\n      <td>3.14E-01</td>\n      <td>8.09E-01</td>\n      <td>3.01E-01</td>\n      <td>7.98E-01</td>\n      <td>3.16E-01</td>\n      <td>9.48E+01</td>\n      <td>4.21E-01</td>\n      <td>6.94E-02</td>\n      <td>5</td>\n      <td>14</td>\n      <td>NAN</td>\n    </tr>\n    <tr>\n      <th>17</th>\n      <td>51</td>\n      <td>1.00E-03</td>\n      <td>1.00E-02</td>\n      <td>3</td>\n      <td>7.23E-01</td>\n      <td>1.00E+00</td>\n      <td>7.18E-01</td>\n      <td>9.99E-01</td>\n      <td>7.16E-01</td>\n      <td>1.00E+00</td>\n      <td>1.32E+02</td>\n      <td>5.92E-01</td>\n      <td>2.30E-01</td>\n      <td>17</td>\n      <td>7</td>\n      <td>3.91E-02</td>\n    </tr>\n    <tr>\n      <th>4</th>\n      <td>59</td>\n      <td>1.00E-03</td>\n      <td>1.00E-02</td>\n      <td>6</td>\n      <td>8.15E-01</td>\n      <td>3.25E-01</td>\n      <td>8.17E-01</td>\n      <td>3.22E-01</td>\n      <td>8.18E-01</td>\n      <td>3.27E-01</td>\n      <td>1.36E+02</td>\n      <td>4.03E-01</td>\n      <td>7.43E-02</td>\n      <td>4</td>\n      <td>13</td>\n      <td>6.86E-02</td>\n    </tr>\n    <tr>\n      <th>19</th>\n      <td>62</td>\n      <td>1.00E-03</td>\n      <td>1.00E-02</td>\n      <td>4</td>\n      <td>8.15E-01</td>\n      <td>3.26E-01</td>\n      <td>8.17E-01</td>\n      <td>3.00E-01</td>\n      <td>8.14E-01</td>\n      <td>3.30E-01</td>\n      <td>7.65E+01</td>\n      <td>4.14E-01</td>\n      <td>6.90E-02</td>\n      <td>19</td>\n      <td>9</td>\n      <td>6.86E-02</td>\n    </tr>\n    <tr>\n      <th>16</th>\n      <td>62</td>\n      <td>1.00E-03</td>\n      <td>0.00E+00</td>\n      <td>3</td>\n      <td>8.11E-01</td>\n      <td>3.37E-01</td>\n      <td>8.18E-01</td>\n      <td>3.10E-01</td>\n      <td>8.09E-01</td>\n      <td>3.38E-01</td>\n      <td>1.10E+02</td>\n      <td>4.03E-01</td>\n      <td>7.13E-02</td>\n      <td>16</td>\n      <td>6</td>\n      <td>NAN</td>\n    </tr>\n    <tr>\n      <th>8</th>\n      <td>67</td>\n      <td>1.00E-03</td>\n      <td>1.00E-02</td>\n      <td>8</td>\n      <td>7.22E-01</td>\n      <td>1.00E+00</td>\n      <td>7.02E-01</td>\n      <td>9.99E-01</td>\n      <td>7.17E-01</td>\n      <td>1.00E+00</td>\n      <td>1.38E+02</td>\n      <td>5.94E-01</td>\n      <td>2.30E-01</td>\n      <td>8</td>\n      <td>17</td>\n      <td>3.90E-02</td>\n    </tr>\n    <tr>\n      <th>12</th>\n      <td>72</td>\n      <td>1.00E-03</td>\n      <td>0.00E+00</td>\n      <td>1</td>\n      <td>8.23E-01</td>\n      <td>3.46E-01</td>\n      <td>8.30E-01</td>\n      <td>3.14E-01</td>\n      <td>8.21E-01</td>\n      <td>3.48E-01</td>\n      <td>9.24E+01</td>\n      <td>3.94E-01</td>\n      <td>7.22E-02</td>\n      <td>12</td>\n      <td>2</td>\n      <td>NAN</td>\n    </tr>\n    <tr>\n      <th>3</th>\n      <td>73</td>\n      <td>1.00E-03</td>\n      <td>0.00E+00</td>\n      <td>6</td>\n      <td>8.12E-01</td>\n      <td>3.16E-01</td>\n      <td>8.24E-01</td>\n      <td>3.10E-01</td>\n      <td>8.15E-01</td>\n      <td>3.18E-01</td>\n      <td>1.02E+02</td>\n      <td>3.97E-01</td>\n      <td>7.14E-02</td>\n      <td>3</td>\n      <td>12</td>\n      <td>NAN</td>\n    </tr>\n    <tr>\n      <th>15</th>\n      <td>77</td>\n      <td>1.00E-03</td>\n      <td>1.00E-02</td>\n      <td>2</td>\n      <td>8.19E-01</td>\n      <td>3.48E-01</td>\n      <td>8.28E-01</td>\n      <td>3.03E-01</td>\n      <td>8.18E-01</td>\n      <td>3.49E-01</td>\n      <td>1.48E+02</td>\n      <td>3.92E-01</td>\n      <td>6.98E-02</td>\n      <td>15</td>\n      <td>5</td>\n      <td>6.86E-02</td>\n    </tr>\n    <tr>\n      <th>0</th>\n      <td>79</td>\n      <td>1.00E-03</td>\n      <td>0.00E+00</td>\n      <td>0</td>\n      <td>8.28E-01</td>\n      <td>3.32E-01</td>\n      <td>8.36E-01</td>\n      <td>3.12E-01</td>\n      <td>8.23E-01</td>\n      <td>3.34E-01</td>\n      <td>1.43E+02</td>\n      <td>3.82E-01</td>\n      <td>7.18E-02</td>\n      <td>0</td>\n      <td>0</td>\n      <td>NAN</td>\n    </tr>\n    <tr>\n      <th>13</th>\n      <td>84</td>\n      <td>1.00E-03</td>\n      <td>1.00E-02</td>\n      <td>1</td>\n      <td>8.26E-01</td>\n      <td>3.37E-01</td>\n      <td>8.36E-01</td>\n      <td>3.10E-01</td>\n      <td>8.21E-01</td>\n      <td>3.40E-01</td>\n      <td>1.18E+02</td>\n      <td>3.77E-01</td>\n      <td>7.14E-02</td>\n      <td>13</td>\n      <td>3</td>\n      <td>6.85E-02</td>\n    </tr>\n    <tr>\n      <th>11</th>\n      <td>90</td>\n      <td>1.00E-03</td>\n      <td>1.00E-02</td>\n      <td>0</td>\n      <td>8.16E-01</td>\n      <td>3.15E-01</td>\n      <td>8.35E-01</td>\n      <td>3.01E-01</td>\n      <td>8.18E-01</td>\n      <td>3.19E-01</td>\n      <td>7.53E+01</td>\n      <td>3.85E-01</td>\n      <td>6.93E-02</td>\n      <td>11</td>\n      <td>1</td>\n      <td>6.86E-02</td>\n    </tr>\n    <tr>\n      <th>10</th>\n      <td>92</td>\n      <td>1.00E-03</td>\n      <td>1.00E-02</td>\n      <td>9</td>\n      <td>8.23E-01</td>\n      <td>2.97E-01</td>\n      <td>8.39E-01</td>\n      <td>3.06E-01</td>\n      <td>8.21E-01</td>\n      <td>3.00E-01</td>\n      <td>5.63E+01</td>\n      <td>3.69E-01</td>\n      <td>7.05E-02</td>\n      <td>10</td>\n      <td>19</td>\n      <td>6.86E-02</td>\n    </tr>\n    <tr>\n      <th>14</th>\n      <td>93</td>\n      <td>1.00E-03</td>\n      <td>0.00E+00</td>\n      <td>2</td>\n      <td>8.35E-01</td>\n      <td>3.25E-01</td>\n      <td>8.39E-01</td>\n      <td>3.04E-01</td>\n      <td>8.28E-01</td>\n      <td>3.28E-01</td>\n      <td>5.60E+01</td>\n      <td>3.78E-01</td>\n      <td>7.01E-02</td>\n      <td>14</td>\n      <td>4</td>\n      <td>NAN</td>\n    </tr>\n    <tr>\n      <th>18</th>\n      <td>103</td>\n      <td>1.00E-03</td>\n      <td>0.00E+00</td>\n      <td>4</td>\n      <td>8.31E-01</td>\n      <td>3.31E-01</td>\n      <td>8.35E-01</td>\n      <td>2.95E-01</td>\n      <td>8.23E-01</td>\n      <td>3.33E-01</td>\n      <td>6.82E+01</td>\n      <td>3.83E-01</td>\n      <td>6.79E-02</td>\n      <td>18</td>\n      <td>8</td>\n      <td>NAN</td>\n    </tr>\n    <tr>\n      <th>7</th>\n      <td>103</td>\n      <td>1.00E-03</td>\n      <td>0.00E+00</td>\n      <td>8</td>\n      <td>8.29E-01</td>\n      <td>3.32E-01</td>\n      <td>8.41E-01</td>\n      <td>2.97E-01</td>\n      <td>8.27E-01</td>\n      <td>3.34E-01</td>\n      <td>4.94E+01</td>\n      <td>3.74E-01</td>\n      <td>6.84E-02</td>\n      <td>7</td>\n      <td>16</td>\n      <td>NAN</td>\n    </tr>\n    <tr>\n      <th>1</th>\n      <td>103</td>\n      <td>1.00E-03</td>\n      <td>0.00E+00</td>\n      <td>5</td>\n      <td>8.23E-01</td>\n      <td>3.31E-01</td>\n      <td>8.38E-01</td>\n      <td>3.12E-01</td>\n      <td>8.25E-01</td>\n      <td>3.33E-01</td>\n      <td>7.38E+01</td>\n      <td>3.71E-01</td>\n      <td>7.18E-02</td>\n      <td>1</td>\n      <td>10</td>\n      <td>NAN</td>\n    </tr>\n    <tr>\n      <th>6</th>\n      <td>122</td>\n      <td>1.00E-03</td>\n      <td>1.00E-02</td>\n      <td>7</td>\n      <td>8.26E-01</td>\n      <td>3.46E-01</td>\n      <td>8.48E-01</td>\n      <td>3.17E-01</td>\n      <td>8.25E-01</td>\n      <td>3.48E-01</td>\n      <td>4.15E+01</td>\n      <td>3.54E-01</td>\n      <td>7.30E-02</td>\n      <td>6</td>\n      <td>15</td>\n      <td>6.85E-02</td>\n    </tr>\n    <tr>\n      <th>9</th>\n      <td>124</td>\n      <td>1.00E-03</td>\n      <td>0.00E+00</td>\n      <td>9</td>\n      <td>8.35E-01</td>\n      <td>3.33E-01</td>\n      <td>8.50E-01</td>\n      <td>3.05E-01</td>\n      <td>8.28E-01</td>\n      <td>3.36E-01</td>\n      <td>4.64E+01</td>\n      <td>3.57E-01</td>\n      <td>7.03E-02</td>\n      <td>9</td>\n      <td>18</td>\n      <td>NAN</td>\n    </tr>\n  </tbody>\n</table>\n</div>"
     },
     "execution_count": 120,
     "metadata": {},
     "output_type": "execute_result"
    }
   ],
   "source": [
    "print(\"Dataframe with all best epochs for Validation accuracy\")\n",
    "best_df.sort_values(by='epoch')\n"
   ],
   "metadata": {
    "collapsed": false,
    "pycharm": {
     "name": "#%%\n"
    }
   }
  },
  {
   "cell_type": "code",
   "execution_count": 121,
   "metadata": {
    "pycharm": {
     "name": "#%%\n"
    }
   },
   "outputs": [
    {
     "name": "stdout",
     "output_type": "stream",
     "text": [
      "Dataframe with one per trials\n"
     ]
    },
    {
     "data": {
      "text/plain": "   cost_per_sample  surprisal_cost    epoch    trial  val_acc  val_updates  \\\n0         1.00E-03        0.00E+00 8.58E+01 4.50E+00 8.23E-01     3.30E-01   \n1         1.00E-03        1.00E-02 7.44E+01 4.50E+00 7.87E-01     5.29E-01   \n\n   train_acc  train_updates  test_acc  test_updates  test_time  entropy_loss  \\\n0   8.32E-01       3.06E-01  8.20E-01      3.32E-01   8.36E+01      3.86E-01   \n1   7.89E-01       5.16E-01  7.84E-01      5.31E-01   1.05E+02      4.53E-01   \n\n   budget_loss  list_index  surprisal_loss  \n0     7.05E-02    8.50E+00             NAN  \n1     1.19E-01    1.05E+01        5.96E-02  ",
      "text/html": "<div>\n<style scoped>\n    .dataframe tbody tr th:only-of-type {\n        vertical-align: middle;\n    }\n\n    .dataframe tbody tr th {\n        vertical-align: top;\n    }\n\n    .dataframe thead th {\n        text-align: right;\n    }\n</style>\n<table border=\"1\" class=\"dataframe\">\n  <thead>\n    <tr style=\"text-align: right;\">\n      <th></th>\n      <th>cost_per_sample</th>\n      <th>surprisal_cost</th>\n      <th>epoch</th>\n      <th>trial</th>\n      <th>val_acc</th>\n      <th>val_updates</th>\n      <th>train_acc</th>\n      <th>train_updates</th>\n      <th>test_acc</th>\n      <th>test_updates</th>\n      <th>test_time</th>\n      <th>entropy_loss</th>\n      <th>budget_loss</th>\n      <th>list_index</th>\n      <th>surprisal_loss</th>\n    </tr>\n  </thead>\n  <tbody>\n    <tr>\n      <th>0</th>\n      <td>1.00E-03</td>\n      <td>0.00E+00</td>\n      <td>8.58E+01</td>\n      <td>4.50E+00</td>\n      <td>8.23E-01</td>\n      <td>3.30E-01</td>\n      <td>8.32E-01</td>\n      <td>3.06E-01</td>\n      <td>8.20E-01</td>\n      <td>3.32E-01</td>\n      <td>8.36E+01</td>\n      <td>3.86E-01</td>\n      <td>7.05E-02</td>\n      <td>8.50E+00</td>\n      <td>NAN</td>\n    </tr>\n    <tr>\n      <th>1</th>\n      <td>1.00E-03</td>\n      <td>1.00E-02</td>\n      <td>7.44E+01</td>\n      <td>4.50E+00</td>\n      <td>7.87E-01</td>\n      <td>5.29E-01</td>\n      <td>7.89E-01</td>\n      <td>5.16E-01</td>\n      <td>7.84E-01</td>\n      <td>5.31E-01</td>\n      <td>1.05E+02</td>\n      <td>4.53E-01</td>\n      <td>1.19E-01</td>\n      <td>1.05E+01</td>\n      <td>5.96E-02</td>\n    </tr>\n  </tbody>\n</table>\n</div>"
     },
     "execution_count": 121,
     "metadata": {},
     "output_type": "execute_result"
    }
   ],
   "source": [
    "print(\"Dataframe with one per trials\")\n",
    "# mean_df = best_df.groupby(by=[\"cost_per_sample\", \"surprisal_cost\"])\n",
    "# sorted = best_df.groupby([\"cost_per_sample\", \"surprisal_cost\"], sort=\"val_acc\")\n",
    "sorted = best_df.groupby([\"cost_per_sample\", \"surprisal_cost\"], sort=\"test_acc\")\n",
    "# sorted = best_df.groupby([\"surprisal_cost\"], sort=\"val_acc\")\n",
    "trial_mean = sorted.mean().reset_index()\n",
    "# trial_cps_mean = best_df.groupby([\"surprisal_cost\"], sort=\"val_acc\").mean().reset_index()\n",
    "trial_mean"
   ]
  },
  {
   "cell_type": "code",
   "execution_count": 122,
   "metadata": {
    "pycharm": {
     "name": "#%%\n"
    }
   },
   "outputs": [
    {
     "data": {
      "text/plain": "Index(['cost_per_sample', 'surprisal_cost', 'epoch', 'trial', 'val_acc',\n       'val_updates', 'train_acc', 'train_updates', 'test_acc', 'test_updates',\n       'test_time', 'entropy_loss', 'budget_loss', 'list_index',\n       'surprisal_loss'],\n      dtype='object')"
     },
     "execution_count": 122,
     "metadata": {},
     "output_type": "execute_result"
    }
   ],
   "source": [
    "trial_mean.columns"
   ]
  },
  {
   "cell_type": "code",
   "execution_count": 123,
   "outputs": [],
   "source": [
    "# # Figure for last gridsearch.\n",
    "# pd.set_option('display.float_format', '{:.2E}'.format)\n",
    "# SMALL_SIZE = 14\n",
    "# MEDIUM_SIZE = 14\n",
    "# BIGGER_SIZE = 16\n",
    "#\n",
    "# plt.rc('font', size=SMALL_SIZE)          # controls default text sizes\n",
    "# plt.rc('axes', titlesize=SMALL_SIZE)     # fontsize of the axes title\n",
    "# plt.rc('axes', labelsize=MEDIUM_SIZE)    # fontsize of the x and y labels\n",
    "# plt.rc('xtick', labelsize=SMALL_SIZE)    # fontsize of the tick labels\n",
    "# plt.rc('ytick', labelsize=SMALL_SIZE)    # fontsize of the tick labels\n",
    "# plt.rc('legend', fontsize=SMALL_SIZE)    # legend fontsize\n",
    "# plt.rc('figure', titlesize=BIGGER_SIZE)\n",
    "#\n",
    "# # trial_mean['val_acc'].corr(trial_mean['surprisal_cost'], method='pearson')\n",
    "# fig, ax = plt.subplots(figsize=(20, 18))\n",
    "# cax = ax.scatter(x=np.log10(trial_mean['surprisal_cost']), y=trial_mean['val_acc'], c=np.log10(trial_mean['cost_per_sample']), marker='o', s=50)\n",
    "# # ax.plot(np.log10(trial_cps_mean['surprisal_cost']), (trial_cps_mean['val_updates']/2520)*100, c='orange', label=\"mean\")\n",
    "# min = np.log10(trial_mean['cost_per_sample'].min())\n",
    "# max = np.log10(trial_mean['cost_per_sample'].max())\n",
    "# print(min, max)\n",
    "# cmap = matplotlib.cm.get_cmap('viridis')\n",
    "# norm = matplotlib.colors.Normalize(vmin=min, vmax=max)\n",
    "# for id, row in trial_mean[trial_mean['surprisal_cost'] == 0].iterrows():\n",
    "#     print(id, norm(np.log10(row['cost_per_sample'])))\n",
    "#     ax.axhline(row['val_acc'], linestyle=':', color=cmap(norm(np.log10(row['cost_per_sample']))))\n",
    "# plt.xticks([-4, -3, -2, -1], [0.0001, 0.001, 0.01, 0.1])\n",
    "# plt.yticks([0.3, 0.4, 0.5, 0.6, 0.7, 0.8, 0.9, 1.0], [\"30%\", \"40%\", \"50%\", \"60%\", \"70%\", \"80%\", \"90%\", \"100%\"])\n",
    "# plt.ylim((0.3, 1.01))\n",
    "# cbar = fig.colorbar(cax, ticks=np.log10(trial_mean['cost_per_sample']))\n",
    "# cbar.ax.set_yticklabels(trial_mean['cost_per_sample'].apply(lambda x: '%1.0e'%x))\n",
    "# cbar.set_label(r\"$\\lambda$\", rotation=0, labelpad=15, size=MEDIUM_SIZE)\n",
    "# ax.set_xlabel(r\"$\\gamma$\")\n",
    "# ax.set_ylabel(\"Accuracy\")\n",
    "# fig.suptitle(r\"Influence of $\\lambda$, $\\gamma$ on words read\")\n",
    "# plt.legend([Line2D([0],[0],linestyle=':', c=\"black\")], ['no surprisal'])\n",
    "# plt.savefig(\"gridsearch_fig_accuracy.png\")\n"
   ],
   "metadata": {
    "collapsed": false,
    "pycharm": {
     "name": "#%%\n"
    }
   }
  },
  {
   "cell_type": "code",
   "execution_count": 124,
   "outputs": [
    {
     "name": "stdout",
     "output_type": "stream",
     "text": [
      "Clearer visualization\n"
     ]
    },
    {
     "data": {
      "text/plain": "                                count  acc_mean  acc_best  acc_worst  acc_std  \\\ncost_per_sample surprisal_cost                                                  \n1.00E-03        0.00E+00           10  8.20E-01  8.28E-01   7.98E-01 9.86E-03   \n                1.00E-02           10  7.84E-01  8.25E-01   6.76E-01 5.74E-02   \n\n                                updates_mean  updates_std  epoch_mean  \ncost_per_sample surprisal_cost                                         \n1.00E-03        0.00E+00            3.32E-01     9.48E-03    8.58E+01  \n                1.00E-02            5.31E-01     3.24E-01    7.44E+01  ",
      "text/html": "<div>\n<style scoped>\n    .dataframe tbody tr th:only-of-type {\n        vertical-align: middle;\n    }\n\n    .dataframe tbody tr th {\n        vertical-align: top;\n    }\n\n    .dataframe thead th {\n        text-align: right;\n    }\n</style>\n<table border=\"1\" class=\"dataframe\">\n  <thead>\n    <tr style=\"text-align: right;\">\n      <th></th>\n      <th></th>\n      <th>count</th>\n      <th>acc_mean</th>\n      <th>acc_best</th>\n      <th>acc_worst</th>\n      <th>acc_std</th>\n      <th>updates_mean</th>\n      <th>updates_std</th>\n      <th>epoch_mean</th>\n    </tr>\n    <tr>\n      <th>cost_per_sample</th>\n      <th>surprisal_cost</th>\n      <th></th>\n      <th></th>\n      <th></th>\n      <th></th>\n      <th></th>\n      <th></th>\n      <th></th>\n      <th></th>\n    </tr>\n  </thead>\n  <tbody>\n    <tr>\n      <th rowspan=\"2\" valign=\"top\">1.00E-03</th>\n      <th>0.00E+00</th>\n      <td>10</td>\n      <td>8.20E-01</td>\n      <td>8.28E-01</td>\n      <td>7.98E-01</td>\n      <td>9.86E-03</td>\n      <td>3.32E-01</td>\n      <td>9.48E-03</td>\n      <td>8.58E+01</td>\n    </tr>\n    <tr>\n      <th>1.00E-02</th>\n      <td>10</td>\n      <td>7.84E-01</td>\n      <td>8.25E-01</td>\n      <td>6.76E-01</td>\n      <td>5.74E-02</td>\n      <td>5.31E-01</td>\n      <td>3.24E-01</td>\n      <td>7.44E+01</td>\n    </tr>\n  </tbody>\n</table>\n</div>"
     },
     "execution_count": 124,
     "metadata": {},
     "output_type": "execute_result"
    }
   ],
   "source": [
    "# mean_df = mean_df.max()\n",
    "# mean_df.sort_values(by='val_acc')\n",
    "print(\"Clearer visualization\")\n",
    "# , axis=1, names=[\"acc_mean\", \"acc_std\", \"updates_mean\",\n",
    "# \"updates_std\"])\n",
    "view = pd.DataFrame({'count': sorted.test_acc.count(),\n",
    "                     'acc_mean': sorted.test_acc.mean(),\n",
    "                     'acc_best': sorted.test_acc.max(),\n",
    "                     'acc_worst': sorted.test_acc.min(),\n",
    "                     'acc_std': sorted.test_acc.std(),\n",
    "                     'updates_mean': sorted.test_updates.mean(),\n",
    "                     'updates_std': sorted.test_updates.std(),\n",
    "                     'epoch_mean': sorted.epoch.mean()})\n",
    "# view.rename(columns=[\"acc_mean\", \"acc_std\", \"updates_mean\", \"updates_std\"])\n",
    "view[view['acc_mean'] > 0.75]"
   ],
   "metadata": {
    "collapsed": false,
    "pycharm": {
     "name": "#%%\n"
    }
   }
  },
  {
   "cell_type": "code",
   "execution_count": 125,
   "outputs": [],
   "source": [
    "# lr0001 = [csv for csv in csvs if csv['learning_rate'][0]==0.0001 and csv['hidden_units'][0]==32]\n",
    "\n",
    "# temp = bs64_best.loc[(best_df['hidden_units']==96)]"
   ],
   "metadata": {
    "collapsed": false,
    "pycharm": {
     "name": "#%%\n"
    }
   }
  },
  {
   "cell_type": "code",
   "execution_count": 126,
   "metadata": {
    "pycharm": {
     "name": "#%%\n"
    }
   },
   "outputs": [
    {
     "data": {
      "text/plain": "<Figure size 1440x1080 with 0 Axes>"
     },
     "metadata": {},
     "output_type": "display_data"
    },
    {
     "data": {
      "text/plain": "<Figure size 1440x1080 with 0 Axes>"
     },
     "metadata": {},
     "output_type": "display_data"
    },
    {
     "data": {
      "text/plain": "<Figure size 1440x1080 with 0 Axes>"
     },
     "metadata": {},
     "output_type": "display_data"
    },
    {
     "data": {
      "text/plain": "<Figure size 1440x1080 with 0 Axes>"
     },
     "metadata": {},
     "output_type": "display_data"
    },
    {
     "data": {
      "text/plain": "<Figure size 1440x1080 with 0 Axes>"
     },
     "metadata": {},
     "output_type": "display_data"
    },
    {
     "data": {
      "text/plain": "<Figure size 1440x1080 with 0 Axes>"
     },
     "metadata": {},
     "output_type": "display_data"
    },
    {
     "data": {
      "text/plain": "<Figure size 1440x1080 with 0 Axes>"
     },
     "metadata": {},
     "output_type": "display_data"
    },
    {
     "data": {
      "text/plain": "<Figure size 1440x1080 with 0 Axes>"
     },
     "metadata": {},
     "output_type": "display_data"
    },
    {
     "data": {
      "text/plain": "<Figure size 1440x1080 with 0 Axes>"
     },
     "metadata": {},
     "output_type": "display_data"
    },
    {
     "data": {
      "text/plain": "<Figure size 1440x1080 with 0 Axes>"
     },
     "metadata": {},
     "output_type": "display_data"
    },
    {
     "data": {
      "text/plain": "<Figure size 1440x1080 with 0 Axes>"
     },
     "metadata": {},
     "output_type": "display_data"
    },
    {
     "data": {
      "text/plain": "<Figure size 1440x1080 with 0 Axes>"
     },
     "metadata": {},
     "output_type": "display_data"
    },
    {
     "data": {
      "text/plain": "<Figure size 1440x1080 with 0 Axes>"
     },
     "metadata": {},
     "output_type": "display_data"
    },
    {
     "data": {
      "text/plain": "<Figure size 1440x1080 with 0 Axes>"
     },
     "metadata": {},
     "output_type": "display_data"
    },
    {
     "data": {
      "text/plain": "<Figure size 1440x1080 with 0 Axes>"
     },
     "metadata": {},
     "output_type": "display_data"
    },
    {
     "data": {
      "text/plain": "<Figure size 1440x1080 with 0 Axes>"
     },
     "metadata": {},
     "output_type": "display_data"
    },
    {
     "data": {
      "text/plain": "<Figure size 1440x1080 with 0 Axes>"
     },
     "metadata": {},
     "output_type": "display_data"
    },
    {
     "data": {
      "text/plain": "<Figure size 1440x1080 with 0 Axes>"
     },
     "metadata": {},
     "output_type": "display_data"
    },
    {
     "data": {
      "text/plain": "<Figure size 1440x1080 with 0 Axes>"
     },
     "metadata": {},
     "output_type": "display_data"
    },
    {
     "data": {
      "text/plain": "<Figure size 1440x1080 with 0 Axes>"
     },
     "metadata": {},
     "output_type": "display_data"
    }
   ],
   "source": [
    "if not os.path.exists(f\"{folder}/plots\"):\n",
    "    os.makedirs(f\"{folder}/plots\")\n",
    "\n",
    "for i, df in enumerate(csvs):\n",
    "    # df.loc[:, ['val_updates', 'train_updates']] = df[['val_updates', 'train_updates']] / 2520\n",
    "    fig = plt.figure()\n",
    "    ax1 = fig.add_subplot(111)\n",
    "\n",
    "    a = df[['val_acc', 'train_acc']].plot(figsize= (20, 15), ax=ax1, legend=None)\n",
    "    ax1.set_ylim(0, 1.01)\n",
    "    ax1.set_ylabel(\"Accuracy\")\n",
    "    # ax1.legend(loc=2)\n",
    "    lns = ax1.get_lines()\n",
    "    ax2 = ax1.twinx()\n",
    "    b = df['val_updates'].plot(ax=ax2, c='r', label=\"val_updates\")\n",
    "    c = df['train_updates'].plot(ax=ax2, c='g', label=\"train_updates\")\n",
    "    ax2.set_ylabel(\"Updates\")\n",
    "    ax2.set_ylim(0, 1.01)\n",
    "    # lns.append(ax2.get_lines)\n",
    "    # labs = [l.get_label() for l in lns]\n",
    "    fig.legend(bbox_to_anchor=(1,1), bbox_transform=ax1.transAxes)\n",
    "    fig.savefig(f\"{folder}/plots/idx{i}_acc{round(best_accs[i], 2)}_cps{csvs[i].cost_per_sample[0]}_s{csvs[i].surprisal_cost[0]}_exp{csvs[i].exp[0]}.png\")\n",
    "    plt.clf()"
   ]
  },
  {
   "cell_type": "code",
   "execution_count": 127,
   "metadata": {
    "pycharm": {
     "name": "#%%\n"
    }
   },
   "outputs": [],
   "source": [
    "# if not os.path.exists(f\"{folder}/lrplots\"):\n",
    "#     os.makedirs(f\"{folder}/lrplots\")\n",
    "#\n",
    "# for i, df in enumerate(lr0001):\n",
    "#     df[['val_acc', 'train_acc']].plot().get_figure().savefig(f\"{folder}/lrplots/idx{i}.png\")\n",
    "#"
   ]
  },
  {
   "cell_type": "code",
   "execution_count": 128,
   "metadata": {
    "pycharm": {
     "name": "#%%\n"
    }
   },
   "outputs": [],
   "source": [
    "# best_hyper = pd.concat(lr0001)\n",
    "#\n",
    "# best_hyper_diff = best_hyper['val_acc'].diff(15)\n",
    "# best_hyper_diff.abs().mean()\n"
   ]
  },
  {
   "cell_type": "code",
   "execution_count": 132,
   "outputs": [
    {
     "name": "stdout",
     "output_type": "stream",
     "text": [
      "80 files were condsidered (20.0 experiments)\n"
     ]
    }
   ],
   "source": [
    "s_read_vocab = []\n",
    "s_skipped_vocab = []\n",
    "ns_read_vocab = []\n",
    "ns_skipped_vocab = []\n",
    "\n",
    "s_read_surp = []\n",
    "s_skipped_surp = []\n",
    "ns_read_surp = []\n",
    "ns_skipped_surp = []\n",
    "\n",
    "i=0\n",
    "for file in os.listdir(folder + '/analysis'):\n",
    "    file = folder + '/analysis/' + file\n",
    "    if \"pkl\" in file:\n",
    "        if \"SC0.01\" in file:\n",
    "            if \"non\" in file:\n",
    "                s_skipped_vocab.append(pickle.load(open(file, 'rb')))\n",
    "            else:\n",
    "                s_read_vocab.append(pickle.load(open(file, 'rb')))\n",
    "        else:\n",
    "            if \"non\" in file:\n",
    "                ns_skipped_vocab.append(pickle.load(open(file, 'rb')))\n",
    "            else:\n",
    "                ns_read_vocab.append(pickle.load(open(file, 'rb')))\n",
    "    else:\n",
    "        if \"SC0.01\" in file:\n",
    "            if \"non\" in file:\n",
    "                s_skipped_surp.append(np.load(open(file, 'rb')))\n",
    "            else:\n",
    "                s_read_surp.append(np.load(open(file, 'rb')))\n",
    "        else:\n",
    "            if \"non\" in file:\n",
    "                ns_skipped_surp.append(np.load(open(file, 'rb')))\n",
    "            else:\n",
    "                ns_read_surp.append(np.load(open(file, 'rb')))\n",
    "    i += 1\n",
    "\n",
    "print(f\"{i} files were condsidered ({i/4} experiments)\")"
   ],
   "metadata": {
    "collapsed": false,
    "pycharm": {
     "name": "#%%\n"
    }
   }
  },
  {
   "cell_type": "code",
   "execution_count": 133,
   "outputs": [
    {
     "name": "stdout",
     "output_type": "stream",
     "text": [
      "2237662\n",
      "1125253\n",
      "6.387508409219971\n",
      "6.365750948981571\n"
     ]
    },
    {
     "data": {
      "text/plain": "<Figure size 432x288 with 1 Axes>",
      "image/png": "[encoded data removed]"
     },
     "metadata": {
      "needs_background": "light"
     },
     "output_type": "display_data"
    }
   ],
   "source": [
    "nsr_surp = ns_read_surp[0]\n",
    "nss_surp = ns_skipped_surp[0]\n",
    "\n",
    "print(len(nss_surp))\n",
    "print(len(nsr_surp))\n",
    "\n",
    "print(nsr_surp.mean())\n",
    "print(nss_surp.mean())\n",
    "\n",
    "plt.hist(nss_surp)\n",
    "plt.hist(nsr_surp)\n",
    "plt.show()\n",
    "\n"
   ],
   "metadata": {
    "collapsed": false,
    "pycharm": {
     "name": "#%%\n"
    }
   }
  },
  {
   "cell_type": "code",
   "execution_count": 134,
   "outputs": [
    {
     "name": "stdout",
     "output_type": "stream",
     "text": [
      "skipped length 1837\n",
      "read length 3361078\n",
      "read surprisal 6.3743171089751565\n",
      "skipped surprisal 4.020141535111595\n"
     ]
    },
    {
     "data": {
      "text/plain": "<Figure size 432x288 with 1 Axes>",
      "image/png": "[encoded data removed]"
     },
     "metadata": {
      "needs_background": "light"
     },
     "output_type": "display_data"
    },
    {
     "name": "stderr",
     "output_type": "stream",
     "text": [
      "IOPub data rate exceeded.\n",
      "The notebook server will temporarily stop sending output\n",
      "to the client in order to avoid crashing it.\n",
      "To change this limit, set the config variable\n",
      "`--NotebookApp.iopub_data_rate_limit`.\n",
      "\n",
      "Current values:\n",
      "NotebookApp.iopub_data_rate_limit=1000000.0 (bytes/sec)\n",
      "NotebookApp.rate_limit_window=3.0 (secs)\n",
      "\n"
     ]
    }
   ],
   "source": [
    "sr_surp = s_read_surp[0]\n",
    "ss_surp = s_skipped_surp[0]\n",
    "\n",
    "print(f\"skipped length {len(ss_surp)}\")\n",
    "print(f\"read length {len(sr_surp)}\")\n",
    "\n",
    "print(f\"read surprisal {sr_surp.mean()}\")\n",
    "print(f\"skipped surprisal {ss_surp.mean()}\")\n",
    "\n",
    "plt.hist(ss_surp)\n",
    "plt.hist(sr_surp)\n",
    "plt.show()\n",
    "\n",
    "# print(ss_surp)\n",
    "\n",
    "print(np.count_nonzero(sr_surp == 0))\n",
    "print(np.count_nonzero(ss_surp == 0))\n",
    "\n",
    "print(s_skipped_vocab)\n",
    "print(s_read_vocab)\n"
   ],
   "metadata": {
    "collapsed": false,
    "pycharm": {
     "name": "#%%\n"
    }
   }
  }
 ],
 "metadata": {
  "kernelspec": {
   "display_name": "Python 3",
   "language": "python",
   "name": "python3"
  },
  "language_info": {
   "codemirror_mode": {
    "name": "ipython",
    "version": 3
   },
   "file_extension": ".py",
   "mimetype": "text/x-python",
   "name": "python",
   "nbconvert_exporter": "python",
   "pygments_lexer": "ipython3",
   "version": "3.7.7"
  }
 },
 "nbformat": 4,
 "nbformat_minor": 1
}