{
 "cells": [
  {
   "cell_type": "code",
   "execution_count": 136,
   "metadata": {
    "pycharm": {
     "name": "#%% Import files\n"
    }
   },
   "outputs": [
    {
     "name": "stdout",
     "output_type": "stream",
     "text": [
      "Total number of Nans: 0\n"
     ]
    }
   ],
   "source": [
    "import pandas as pd\n",
    "import os\n",
    "import numpy as np\n",
    "import matplotlib.pyplot as plt\n",
    "\n",
    "folder = '../../Gridsearch_260820'\n",
    "\n",
    "csvs = []\n",
    "\n",
    "count_nan = 0\n",
    "for i, file in enumerate(os.listdir(folder + '/csvs')):\n",
    "    df = pd.read_csv(folder + '/csvs' + '/' + file)\n",
    "    if (df.batch_size == 64).any():\n",
    "        df.rename(columns={'Unnamed: 0' : 'epoch'}, inplace=True)\n",
    "        count_nan += df.shape[0] * df.shape[1] - np.sum(df.count())\n",
    "        df['list_index'] = len(csvs)\n",
    "        filename = file.split(\"_\")\n",
    "        # print(filename[0][-2:].isdigit())\n",
    "        if filename[0][-2:].isdigit(): df['exp'] = filename[0][-2:]\n",
    "        else: df['exp'] = filename[0][-1]\n",
    "        csvs.append(df)\n",
    "\n",
    "print(f\"Total number of Nans: {count_nan}\")"
   ]
  },
  {
   "cell_type": "code",
   "execution_count": 137,
   "metadata": {
    "pycharm": {
     "name": "#%%\n"
    }
   },
   "outputs": [
    {
     "name": "stdout",
     "output_type": "stream",
     "text": [
      "[[], [], [], [], [], [], [], [], [], [], [], [], [], [], [], [], [], [], [], [], [], [], [], [], [], [], [], [], [], [], [], [], [], [], [], [], [], [], [], [], [], [], [], [], [], [], [], [], [], [], [], [], [], [], [], [], [], [], [], [], [], [], [], [], [], [], [], [], [], [], [], [], [], [], [], [], [], [], [], [], [], [], [], [], [], [], [], [], [], [], [], [], [], [], [], [], [], [], [], [], [], [], [], [], [], [], [], [], [], []]\n"
     ]
    }
   ],
   "source": [
    "nan_index = []\n",
    "for i, df in enumerate(csvs):\n",
    "    nan_index.append(list(df[(df['val_acc'].isnull()) | (df['train_acc'].isnull()) |(df['train_updates'].isnull()) | (df['val_updates'].isnull())].index))\n",
    "\n",
    "print(nan_index)"
   ]
  },
  {
   "cell_type": "code",
   "execution_count": 138,
   "metadata": {
    "pycharm": {
     "name": "#%%\n"
    }
   },
   "outputs": [],
   "source": [
    "# weird_acc = []\n",
    "# for i, df in enumerate(csvs):\n",
    "#     weird_acc.append(list(df[(df['val_acc']>1) | (df['val_acc']<0.1) | (df['train_acc']>1) | (df['train_acc']<0.1)].index))\n",
    "# # for df in csvs:\n",
    "# #     df.drop(df[(df['val_acc']>1) | (df['val_acc']<0)].index, inplace = True)\n",
    "#\n",
    "# see = [csvs[i].iloc[l[0]] for i, l in enumerate(weird_acc) if l]\n",
    "#\n",
    "# early_stopped_dfs = []\n",
    "# for i in range(len(csvs)):\n",
    "#     n = nan_index[i]\n",
    "#     v = weird_acc[i]\n",
    "#     if n and v:\n",
    "#         early_stopped_dfs.append(csvs[i].iloc[[min(min(v), min(n))]])\n",
    "#     elif n:\n",
    "#         early_stopped_dfs.append(csvs[i].iloc[[min(n)]])\n",
    "#     elif v:\n",
    "#         early_stopped_dfs.append(csvs[i].iloc[[min(v)]])\n",
    "#"
   ]
  },
  {
   "cell_type": "code",
   "execution_count": 139,
   "metadata": {
    "pycharm": {
     "name": "#%%\n"
    }
   },
   "outputs": [],
   "source": [
    "# early_stopped = pd.concat(early_stopped_dfs)\n",
    "# early_stopped.drop(columns=['val_acc', 'train_acc', 'val_updates', 'train_updates', 'early_stopping'], inplace=True)\n",
    "# print(\"Networks that stopped early\")\n",
    "# early_stopped\n",
    "# csvs[0].columns\n",
    "# csvs[2]\n",
    "# for df in csvs:\n",
    "#     print(len(df))"
   ]
  },
  {
   "cell_type": "code",
   "execution_count": 140,
   "metadata": {
    "pycharm": {
     "name": "#%%\n"
    }
   },
   "outputs": [],
   "source": [
    "# manual_early_stopping = {4: 36,5: 28, 12: 12, 14:27, 32:18, 35:23, 41:35, 46: 12,53:12}\n",
    "#\n",
    "# for key, val in manual_early_stopping.items():\n",
    "#     csvs[key].drop(labels = range(val, 40), inplace=True)"
   ]
  },
  {
   "cell_type": "code",
   "execution_count": 141,
   "metadata": {
    "pycharm": {
     "name": "#%%\n"
    }
   },
   "outputs": [
    {
     "data": {
      "text/plain": "             epoch  batch_size  cost_per_sample  hidden_units  learning_rate  \\\ncount  9725.000000      9725.0      9725.000000        9725.0   9.725000e+03   \nmean     47.366581        64.0         0.000264          32.0   1.000000e-04   \nstd      28.759496         0.0         0.000360           0.0   2.710645e-20   \nmin       0.000000        64.0         0.000001          32.0   1.000000e-04   \n25%      22.000000        64.0         0.000010          32.0   1.000000e-04   \n50%      47.000000        64.0         0.000050          32.0   1.000000e-04   \n75%      72.000000        64.0         0.000500          32.0   1.000000e-04   \nmax      99.000000        64.0         0.001000          32.0   1.000000e-04   \n\n       surprisal_cost        trial      val_acc  val_updates    train_acc  \\\ncount     9725.000000  9725.000000  9725.000000  9725.000000  9725.000000   \nmean         0.260775     0.662314     0.760865   216.916287     0.770878   \nstd          0.364695     0.655251     0.119262   161.205744     0.127875   \nmin          0.000000     0.000000     0.000000     0.000000     0.000000   \n25%          0.005000     0.000000     0.766627   132.756912     0.771167   \n50%          0.050000     1.000000     0.800681   248.588837     0.815905   \n75%          0.500000     1.000000     0.821715   263.448517     0.840011   \nmax          1.000000     2.000000     0.847656  2519.999512     0.868256   \n\n       train_updates   list_index  \ncount    9725.000000  9725.000000  \nmean      232.329400    54.442365  \nstd       223.380229    31.743970  \nmin         0.000000     0.000000  \n25%       140.186829    27.000000  \n50%       249.855698    55.000000  \n75%       262.826599    82.000000  \nmax      2519.999023   109.000000  ",
      "text/html": "<div>\n<style scoped>\n    .dataframe tbody tr th:only-of-type {\n        vertical-align: middle;\n    }\n\n    .dataframe tbody tr th {\n        vertical-align: top;\n    }\n\n    .dataframe thead th {\n        text-align: right;\n    }\n</style>\n<table border=\"1\" class=\"dataframe\">\n  <thead>\n    <tr style=\"text-align: right;\">\n      <th></th>\n      <th>epoch</th>\n      <th>batch_size</th>\n      <th>cost_per_sample</th>\n      <th>hidden_units</th>\n      <th>learning_rate</th>\n      <th>surprisal_cost</th>\n      <th>trial</th>\n      <th>val_acc</th>\n      <th>val_updates</th>\n      <th>train_acc</th>\n      <th>train_updates</th>\n      <th>list_index</th>\n    </tr>\n  </thead>\n  <tbody>\n    <tr>\n      <th>count</th>\n      <td>9725.000000</td>\n      <td>9725.0</td>\n      <td>9725.000000</td>\n      <td>9725.0</td>\n      <td>9.725000e+03</td>\n      <td>9725.000000</td>\n      <td>9725.000000</td>\n      <td>9725.000000</td>\n      <td>9725.000000</td>\n      <td>9725.000000</td>\n      <td>9725.000000</td>\n      <td>9725.000000</td>\n    </tr>\n    <tr>\n      <th>mean</th>\n      <td>47.366581</td>\n      <td>64.0</td>\n      <td>0.000264</td>\n      <td>32.0</td>\n      <td>1.000000e-04</td>\n      <td>0.260775</td>\n      <td>0.662314</td>\n      <td>0.760865</td>\n      <td>216.916287</td>\n      <td>0.770878</td>\n      <td>232.329400</td>\n      <td>54.442365</td>\n    </tr>\n    <tr>\n      <th>std</th>\n      <td>28.759496</td>\n      <td>0.0</td>\n      <td>0.000360</td>\n      <td>0.0</td>\n      <td>2.710645e-20</td>\n      <td>0.364695</td>\n      <td>0.655251</td>\n      <td>0.119262</td>\n      <td>161.205744</td>\n      <td>0.127875</td>\n      <td>223.380229</td>\n      <td>31.743970</td>\n    </tr>\n    <tr>\n      <th>min</th>\n      <td>0.000000</td>\n      <td>64.0</td>\n      <td>0.000001</td>\n      <td>32.0</td>\n      <td>1.000000e-04</td>\n      <td>0.000000</td>\n      <td>0.000000</td>\n      <td>0.000000</td>\n      <td>0.000000</td>\n      <td>0.000000</td>\n      <td>0.000000</td>\n      <td>0.000000</td>\n    </tr>\n    <tr>\n      <th>25%</th>\n      <td>22.000000</td>\n      <td>64.0</td>\n      <td>0.000010</td>\n      <td>32.0</td>\n      <td>1.000000e-04</td>\n      <td>0.005000</td>\n      <td>0.000000</td>\n      <td>0.766627</td>\n      <td>132.756912</td>\n      <td>0.771167</td>\n      <td>140.186829</td>\n      <td>27.000000</td>\n    </tr>\n    <tr>\n      <th>50%</th>\n      <td>47.000000</td>\n      <td>64.0</td>\n      <td>0.000050</td>\n      <td>32.0</td>\n      <td>1.000000e-04</td>\n      <td>0.050000</td>\n      <td>1.000000</td>\n      <td>0.800681</td>\n      <td>248.588837</td>\n      <td>0.815905</td>\n      <td>249.855698</td>\n      <td>55.000000</td>\n    </tr>\n    <tr>\n      <th>75%</th>\n      <td>72.000000</td>\n      <td>64.0</td>\n      <td>0.000500</td>\n      <td>32.0</td>\n      <td>1.000000e-04</td>\n      <td>0.500000</td>\n      <td>1.000000</td>\n      <td>0.821715</td>\n      <td>263.448517</td>\n      <td>0.840011</td>\n      <td>262.826599</td>\n      <td>82.000000</td>\n    </tr>\n    <tr>\n      <th>max</th>\n      <td>99.000000</td>\n      <td>64.0</td>\n      <td>0.001000</td>\n      <td>32.0</td>\n      <td>1.000000e-04</td>\n      <td>1.000000</td>\n      <td>2.000000</td>\n      <td>0.847656</td>\n      <td>2519.999512</td>\n      <td>0.868256</td>\n      <td>2519.999023</td>\n      <td>109.000000</td>\n    </tr>\n  </tbody>\n</table>\n</div>"
     },
     "execution_count": 141,
     "metadata": {},
     "output_type": "execute_result"
    }
   ],
   "source": [
    "big_df = pd.concat(csvs)\n",
    "big_df.describe()"
   ]
  },
  {
   "cell_type": "code",
   "execution_count": 142,
   "metadata": {
    "pycharm": {
     "name": "#%%\n"
    }
   },
   "outputs": [
    {
     "data": {
      "text/plain": "<matplotlib.axes._subplots.AxesSubplot at 0x137d98fddc8>"
     },
     "execution_count": 142,
     "metadata": {},
     "output_type": "execute_result"
    },
    {
     "data": {
      "text/plain": "<Figure size 720x720 with 1 Axes>",
      "image/png": "[encoded data removed]"
     },
     "metadata": {
      "needs_background": "light"
     },
     "output_type": "display_data"
    }
   ],
   "source": [
    "big_df['val_acc'].hist(figsize=(10, 10))"
   ]
  },
  {
   "cell_type": "code",
   "execution_count": 143,
   "metadata": {
    "pycharm": {
     "name": "#%%\n"
    }
   },
   "outputs": [],
   "source": [
    "best_rows = []\n",
    "best_accs = []\n",
    "for df in csvs:\n",
    "    best_accs.append(df.loc[:, 'val_acc'].max())\n",
    "    best_rows.append(df.loc[df.loc[:, 'val_acc'].argmax()].to_dict())"
   ]
  },
  {
   "cell_type": "code",
   "execution_count": 144,
   "metadata": {
    "pycharm": {
     "name": "#%%\n"
    }
   },
   "outputs": [],
   "source": [
    "best_df = pd.DataFrame(best_rows)\n",
    "best_df = best_df.drop(columns= [\"learning_rate\", \"hidden_units\", \"batch_size\", \"early_stopping\"])\n",
    "\n",
    "original = best_df[best_df['surprisal_cost'] == 0]\n",
    "surprisal = best_df[best_df['surprisal_cost'] != 0]"
   ]
  },
  {
   "cell_type": "code",
   "execution_count": 145,
   "metadata": {
    "pycharm": {
     "name": "#%%\n"
    }
   },
   "outputs": [
    {
     "name": "stdout",
     "output_type": "stream",
     "text": [
      "No surprisal\n"
     ]
    },
    {
     "data": {
      "text/plain": "     epoch  cost_per_sample  surprisal_cost  trial   val_acc  val_updates  \\\n0       72         0.001000             0.0      0  0.804187    89.769234   \n1       96         0.000050             0.0      1  0.838141   186.439301   \n2       93         0.000005             0.0      0  0.834535   206.321411   \n17      91         0.000100             0.0      0  0.833433   165.116791   \n18      64         0.001000             0.0      1  0.804788    87.910957   \n19      93         0.000005             0.0      1  0.830629   633.157776   \n45      97         0.000500             0.0      1  0.826222   105.633011   \n46      96         0.000001             0.0      1  0.838041   224.421478   \n47      93         0.000050             0.0      0  0.841246   166.170868   \n67      97         0.000100             0.0      1  0.834034   153.582840   \n68      99         0.000010             0.0      0  0.835837   190.328827   \n99      66         0.000500             0.0      0  0.818009   112.644531   \n100     96         0.000010             0.0      1  0.838642   211.505508   \n101     99         0.000001             0.0      0  0.828125   196.486282   \n\n     train_acc  train_updates  list_index exp  \n0     0.799613      79.969955           0   0  \n1     0.857038     178.382141           1   0  \n2     0.847690     190.650040           2   0  \n17    0.847089     155.927811          17  14  \n18    0.795072      81.790596          18  14  \n19    0.833734     546.385071          19  14  \n45    0.834802     104.637421          45  21  \n46    0.849359     207.887558          46  21  \n47    0.845820     160.858170          47  21  \n67    0.852831     163.461746          67  28  \n68    0.850561     190.488647          68  28  \n99    0.815304     101.365051          99   7  \n100   0.858173     208.563507         100   7  \n101   0.840144     193.080856         101   7  ",
      "text/html": "<div>\n<style scoped>\n    .dataframe tbody tr th:only-of-type {\n        vertical-align: middle;\n    }\n\n    .dataframe tbody tr th {\n        vertical-align: top;\n    }\n\n    .dataframe thead th {\n        text-align: right;\n    }\n</style>\n<table border=\"1\" class=\"dataframe\">\n  <thead>\n    <tr style=\"text-align: right;\">\n      <th></th>\n      <th>epoch</th>\n      <th>cost_per_sample</th>\n      <th>surprisal_cost</th>\n      <th>trial</th>\n      <th>val_acc</th>\n      <th>val_updates</th>\n      <th>train_acc</th>\n      <th>train_updates</th>\n      <th>list_index</th>\n      <th>exp</th>\n    </tr>\n  </thead>\n  <tbody>\n    <tr>\n      <th>0</th>\n      <td>72</td>\n      <td>0.001000</td>\n      <td>0.0</td>\n      <td>0</td>\n      <td>0.804187</td>\n      <td>89.769234</td>\n      <td>0.799613</td>\n      <td>79.969955</td>\n      <td>0</td>\n      <td>0</td>\n    </tr>\n    <tr>\n      <th>1</th>\n      <td>96</td>\n      <td>0.000050</td>\n      <td>0.0</td>\n      <td>1</td>\n      <td>0.838141</td>\n      <td>186.439301</td>\n      <td>0.857038</td>\n      <td>178.382141</td>\n      <td>1</td>\n      <td>0</td>\n    </tr>\n    <tr>\n      <th>2</th>\n      <td>93</td>\n      <td>0.000005</td>\n      <td>0.0</td>\n      <td>0</td>\n      <td>0.834535</td>\n      <td>206.321411</td>\n      <td>0.847690</td>\n      <td>190.650040</td>\n      <td>2</td>\n      <td>0</td>\n    </tr>\n    <tr>\n      <th>17</th>\n      <td>91</td>\n      <td>0.000100</td>\n      <td>0.0</td>\n      <td>0</td>\n      <td>0.833433</td>\n      <td>165.116791</td>\n      <td>0.847089</td>\n      <td>155.927811</td>\n      <td>17</td>\n      <td>14</td>\n    </tr>\n    <tr>\n      <th>18</th>\n      <td>64</td>\n      <td>0.001000</td>\n      <td>0.0</td>\n      <td>1</td>\n      <td>0.804788</td>\n      <td>87.910957</td>\n      <td>0.795072</td>\n      <td>81.790596</td>\n      <td>18</td>\n      <td>14</td>\n    </tr>\n    <tr>\n      <th>19</th>\n      <td>93</td>\n      <td>0.000005</td>\n      <td>0.0</td>\n      <td>1</td>\n      <td>0.830629</td>\n      <td>633.157776</td>\n      <td>0.833734</td>\n      <td>546.385071</td>\n      <td>19</td>\n      <td>14</td>\n    </tr>\n    <tr>\n      <th>45</th>\n      <td>97</td>\n      <td>0.000500</td>\n      <td>0.0</td>\n      <td>1</td>\n      <td>0.826222</td>\n      <td>105.633011</td>\n      <td>0.834802</td>\n      <td>104.637421</td>\n      <td>45</td>\n      <td>21</td>\n    </tr>\n    <tr>\n      <th>46</th>\n      <td>96</td>\n      <td>0.000001</td>\n      <td>0.0</td>\n      <td>1</td>\n      <td>0.838041</td>\n      <td>224.421478</td>\n      <td>0.849359</td>\n      <td>207.887558</td>\n      <td>46</td>\n      <td>21</td>\n    </tr>\n    <tr>\n      <th>47</th>\n      <td>93</td>\n      <td>0.000050</td>\n      <td>0.0</td>\n      <td>0</td>\n      <td>0.841246</td>\n      <td>166.170868</td>\n      <td>0.845820</td>\n      <td>160.858170</td>\n      <td>47</td>\n      <td>21</td>\n    </tr>\n    <tr>\n      <th>67</th>\n      <td>97</td>\n      <td>0.000100</td>\n      <td>0.0</td>\n      <td>1</td>\n      <td>0.834034</td>\n      <td>153.582840</td>\n      <td>0.852831</td>\n      <td>163.461746</td>\n      <td>67</td>\n      <td>28</td>\n    </tr>\n    <tr>\n      <th>68</th>\n      <td>99</td>\n      <td>0.000010</td>\n      <td>0.0</td>\n      <td>0</td>\n      <td>0.835837</td>\n      <td>190.328827</td>\n      <td>0.850561</td>\n      <td>190.488647</td>\n      <td>68</td>\n      <td>28</td>\n    </tr>\n    <tr>\n      <th>99</th>\n      <td>66</td>\n      <td>0.000500</td>\n      <td>0.0</td>\n      <td>0</td>\n      <td>0.818009</td>\n      <td>112.644531</td>\n      <td>0.815304</td>\n      <td>101.365051</td>\n      <td>99</td>\n      <td>7</td>\n    </tr>\n    <tr>\n      <th>100</th>\n      <td>96</td>\n      <td>0.000010</td>\n      <td>0.0</td>\n      <td>1</td>\n      <td>0.838642</td>\n      <td>211.505508</td>\n      <td>0.858173</td>\n      <td>208.563507</td>\n      <td>100</td>\n      <td>7</td>\n    </tr>\n    <tr>\n      <th>101</th>\n      <td>99</td>\n      <td>0.000001</td>\n      <td>0.0</td>\n      <td>0</td>\n      <td>0.828125</td>\n      <td>196.486282</td>\n      <td>0.840144</td>\n      <td>193.080856</td>\n      <td>101</td>\n      <td>7</td>\n    </tr>\n  </tbody>\n</table>\n</div>"
     },
     "execution_count": 145,
     "metadata": {},
     "output_type": "execute_result"
    }
   ],
   "source": [
    "print(\"No surprisal\")\n",
    "original"
   ]
  },
  {
   "cell_type": "code",
   "execution_count": 146,
   "outputs": [
    {
     "name": "stdout",
     "output_type": "stream",
     "text": [
      "With surprisal\n"
     ]
    },
    {
     "data": {
      "text/plain": "     epoch  cost_per_sample  surprisal_cost  trial   val_acc  val_updates  \\\n3       96         0.000100            0.10      2  0.839543   262.567596   \n4       96         0.000500            0.10      0  0.834235   120.830627   \n5       98         0.000010            0.10      1  0.840545   266.022125   \n6        0         0.000001            0.10      0  0.500401  1407.740845   \n7       98         0.000100            0.05      2  0.847656   249.025436   \n..     ...              ...             ...    ...       ...          ...   \n105     32         0.000001            1.00      0  0.506510   326.154053   \n106     52         0.000100            0.50      2  0.825120   258.348450   \n107     92         0.000500            0.50      0  0.838341   254.806290   \n108     91         0.000010            0.50      1  0.844351   305.213440   \n109      0         0.000001            0.50      0  0.500401  1419.858032   \n\n     train_acc  train_updates  list_index exp  \n3     0.855970     261.591949           3  10  \n4     0.840678     123.050148           4  10  \n5     0.861311     264.261414           5  10  \n6     0.499265    1949.320679           6  10  \n7     0.859509     250.454590           7  11  \n..         ...            ...         ...  ..  \n105   0.491052     326.294800         105   8  \n106   0.830195     258.055542         106   9  \n107   0.855970     254.926208         107   9  \n108   0.858507     299.523560         108   9  \n109   0.499199    2053.598633         109   9  \n\n[96 rows x 10 columns]",
      "text/html": "<div>\n<style scoped>\n    .dataframe tbody tr th:only-of-type {\n        vertical-align: middle;\n    }\n\n    .dataframe tbody tr th {\n        vertical-align: top;\n    }\n\n    .dataframe thead th {\n        text-align: right;\n    }\n</style>\n<table border=\"1\" class=\"dataframe\">\n  <thead>\n    <tr style=\"text-align: right;\">\n      <th></th>\n      <th>epoch</th>\n      <th>cost_per_sample</th>\n      <th>surprisal_cost</th>\n      <th>trial</th>\n      <th>val_acc</th>\n      <th>val_updates</th>\n      <th>train_acc</th>\n      <th>train_updates</th>\n      <th>list_index</th>\n      <th>exp</th>\n    </tr>\n  </thead>\n  <tbody>\n    <tr>\n      <th>3</th>\n      <td>96</td>\n      <td>0.000100</td>\n      <td>0.10</td>\n      <td>2</td>\n      <td>0.839543</td>\n      <td>262.567596</td>\n      <td>0.855970</td>\n      <td>261.591949</td>\n      <td>3</td>\n      <td>10</td>\n    </tr>\n    <tr>\n      <th>4</th>\n      <td>96</td>\n      <td>0.000500</td>\n      <td>0.10</td>\n      <td>0</td>\n      <td>0.834235</td>\n      <td>120.830627</td>\n      <td>0.840678</td>\n      <td>123.050148</td>\n      <td>4</td>\n      <td>10</td>\n    </tr>\n    <tr>\n      <th>5</th>\n      <td>98</td>\n      <td>0.000010</td>\n      <td>0.10</td>\n      <td>1</td>\n      <td>0.840545</td>\n      <td>266.022125</td>\n      <td>0.861311</td>\n      <td>264.261414</td>\n      <td>5</td>\n      <td>10</td>\n    </tr>\n    <tr>\n      <th>6</th>\n      <td>0</td>\n      <td>0.000001</td>\n      <td>0.10</td>\n      <td>0</td>\n      <td>0.500401</td>\n      <td>1407.740845</td>\n      <td>0.499265</td>\n      <td>1949.320679</td>\n      <td>6</td>\n      <td>10</td>\n    </tr>\n    <tr>\n      <th>7</th>\n      <td>98</td>\n      <td>0.000100</td>\n      <td>0.05</td>\n      <td>2</td>\n      <td>0.847656</td>\n      <td>249.025436</td>\n      <td>0.859509</td>\n      <td>250.454590</td>\n      <td>7</td>\n      <td>11</td>\n    </tr>\n    <tr>\n      <th>...</th>\n      <td>...</td>\n      <td>...</td>\n      <td>...</td>\n      <td>...</td>\n      <td>...</td>\n      <td>...</td>\n      <td>...</td>\n      <td>...</td>\n      <td>...</td>\n      <td>...</td>\n    </tr>\n    <tr>\n      <th>105</th>\n      <td>32</td>\n      <td>0.000001</td>\n      <td>1.00</td>\n      <td>0</td>\n      <td>0.506510</td>\n      <td>326.154053</td>\n      <td>0.491052</td>\n      <td>326.294800</td>\n      <td>105</td>\n      <td>8</td>\n    </tr>\n    <tr>\n      <th>106</th>\n      <td>52</td>\n      <td>0.000100</td>\n      <td>0.50</td>\n      <td>2</td>\n      <td>0.825120</td>\n      <td>258.348450</td>\n      <td>0.830195</td>\n      <td>258.055542</td>\n      <td>106</td>\n      <td>9</td>\n    </tr>\n    <tr>\n      <th>107</th>\n      <td>92</td>\n      <td>0.000500</td>\n      <td>0.50</td>\n      <td>0</td>\n      <td>0.838341</td>\n      <td>254.806290</td>\n      <td>0.855970</td>\n      <td>254.926208</td>\n      <td>107</td>\n      <td>9</td>\n    </tr>\n    <tr>\n      <th>108</th>\n      <td>91</td>\n      <td>0.000010</td>\n      <td>0.50</td>\n      <td>1</td>\n      <td>0.844351</td>\n      <td>305.213440</td>\n      <td>0.858507</td>\n      <td>299.523560</td>\n      <td>108</td>\n      <td>9</td>\n    </tr>\n    <tr>\n      <th>109</th>\n      <td>0</td>\n      <td>0.000001</td>\n      <td>0.50</td>\n      <td>0</td>\n      <td>0.500401</td>\n      <td>1419.858032</td>\n      <td>0.499199</td>\n      <td>2053.598633</td>\n      <td>109</td>\n      <td>9</td>\n    </tr>\n  </tbody>\n</table>\n<p>96 rows × 10 columns</p>\n</div>"
     },
     "execution_count": 146,
     "metadata": {},
     "output_type": "execute_result"
    }
   ],
   "source": [
    "print(\"With surprisal\")\n",
    "surprisal"
   ],
   "metadata": {
    "collapsed": false,
    "pycharm": {
     "name": "#%%\n"
    }
   }
  },
  {
   "cell_type": "code",
   "execution_count": 147,
   "outputs": [
    {
     "name": "stdout",
     "output_type": "stream",
     "text": [
      "Dataframe with all best epochs for Validation accuracy\n"
     ]
    },
    {
     "data": {
      "text/plain": "     epoch  cost_per_sample  surprisal_cost  trial   val_acc  val_updates  \\\n109      0         0.000001           0.500      0  0.500401  1419.858032   \n39       0         0.000001           1.000      2  0.500401  1417.187256   \n49       0         0.000010           1.000      2  0.500300   490.951416   \n92       0         0.000005           0.050      0  0.500401  2519.999268   \n6        0         0.000001           0.100      0  0.500401  1407.740845   \n..     ...              ...             ...    ...       ...          ...   \n60      99         0.000050           0.050      0  0.844752   272.022644   \n44      99         0.000005           0.005      1  0.824619   390.501709   \n36      99         0.000005           0.010      1  0.840745   221.089844   \n14      99         0.000500           0.005      0  0.823818   104.985680   \n78      99         0.000100           0.100      1  0.829026   258.368500   \n\n     train_acc  train_updates  list_index exp  \n109   0.499199    2053.598633         109   9  \n39    0.499933    2425.877197          39   1  \n49    0.491920    1870.902466          49  22  \n92    0.498064    2519.997314          92   4  \n6     0.499265    1949.320679           6  10  \n..         ...            ...         ...  ..  \n60    0.864517     272.932037          60  25  \n44    0.824119     398.756134          44  20  \n36    0.855569     221.813766          36  19  \n14    0.828125      99.430222          14  13  \n78    0.852230     258.291199          78  31  \n\n[110 rows x 10 columns]",
      "text/html": "<div>\n<style scoped>\n    .dataframe tbody tr th:only-of-type {\n        vertical-align: middle;\n    }\n\n    .dataframe tbody tr th {\n        vertical-align: top;\n    }\n\n    .dataframe thead th {\n        text-align: right;\n    }\n</style>\n<table border=\"1\" class=\"dataframe\">\n  <thead>\n    <tr style=\"text-align: right;\">\n      <th></th>\n      <th>epoch</th>\n      <th>cost_per_sample</th>\n      <th>surprisal_cost</th>\n      <th>trial</th>\n      <th>val_acc</th>\n      <th>val_updates</th>\n      <th>train_acc</th>\n      <th>train_updates</th>\n      <th>list_index</th>\n      <th>exp</th>\n    </tr>\n  </thead>\n  <tbody>\n    <tr>\n      <th>109</th>\n      <td>0</td>\n      <td>0.000001</td>\n      <td>0.500</td>\n      <td>0</td>\n      <td>0.500401</td>\n      <td>1419.858032</td>\n      <td>0.499199</td>\n      <td>2053.598633</td>\n      <td>109</td>\n      <td>9</td>\n    </tr>\n    <tr>\n      <th>39</th>\n      <td>0</td>\n      <td>0.000001</td>\n      <td>1.000</td>\n      <td>2</td>\n      <td>0.500401</td>\n      <td>1417.187256</td>\n      <td>0.499933</td>\n      <td>2425.877197</td>\n      <td>39</td>\n      <td>1</td>\n    </tr>\n    <tr>\n      <th>49</th>\n      <td>0</td>\n      <td>0.000010</td>\n      <td>1.000</td>\n      <td>2</td>\n      <td>0.500300</td>\n      <td>490.951416</td>\n      <td>0.491920</td>\n      <td>1870.902466</td>\n      <td>49</td>\n      <td>22</td>\n    </tr>\n    <tr>\n      <th>92</th>\n      <td>0</td>\n      <td>0.000005</td>\n      <td>0.050</td>\n      <td>0</td>\n      <td>0.500401</td>\n      <td>2519.999268</td>\n      <td>0.498064</td>\n      <td>2519.997314</td>\n      <td>92</td>\n      <td>4</td>\n    </tr>\n    <tr>\n      <th>6</th>\n      <td>0</td>\n      <td>0.000001</td>\n      <td>0.100</td>\n      <td>0</td>\n      <td>0.500401</td>\n      <td>1407.740845</td>\n      <td>0.499265</td>\n      <td>1949.320679</td>\n      <td>6</td>\n      <td>10</td>\n    </tr>\n    <tr>\n      <th>...</th>\n      <td>...</td>\n      <td>...</td>\n      <td>...</td>\n      <td>...</td>\n      <td>...</td>\n      <td>...</td>\n      <td>...</td>\n      <td>...</td>\n      <td>...</td>\n      <td>...</td>\n    </tr>\n    <tr>\n      <th>60</th>\n      <td>99</td>\n      <td>0.000050</td>\n      <td>0.050</td>\n      <td>0</td>\n      <td>0.844752</td>\n      <td>272.022644</td>\n      <td>0.864517</td>\n      <td>272.932037</td>\n      <td>60</td>\n      <td>25</td>\n    </tr>\n    <tr>\n      <th>44</th>\n      <td>99</td>\n      <td>0.000005</td>\n      <td>0.005</td>\n      <td>1</td>\n      <td>0.824619</td>\n      <td>390.501709</td>\n      <td>0.824119</td>\n      <td>398.756134</td>\n      <td>44</td>\n      <td>20</td>\n    </tr>\n    <tr>\n      <th>36</th>\n      <td>99</td>\n      <td>0.000005</td>\n      <td>0.010</td>\n      <td>1</td>\n      <td>0.840745</td>\n      <td>221.089844</td>\n      <td>0.855569</td>\n      <td>221.813766</td>\n      <td>36</td>\n      <td>19</td>\n    </tr>\n    <tr>\n      <th>14</th>\n      <td>99</td>\n      <td>0.000500</td>\n      <td>0.005</td>\n      <td>0</td>\n      <td>0.823818</td>\n      <td>104.985680</td>\n      <td>0.828125</td>\n      <td>99.430222</td>\n      <td>14</td>\n      <td>13</td>\n    </tr>\n    <tr>\n      <th>78</th>\n      <td>99</td>\n      <td>0.000100</td>\n      <td>0.100</td>\n      <td>1</td>\n      <td>0.829026</td>\n      <td>258.368500</td>\n      <td>0.852230</td>\n      <td>258.291199</td>\n      <td>78</td>\n      <td>31</td>\n    </tr>\n  </tbody>\n</table>\n<p>110 rows × 10 columns</p>\n</div>"
     },
     "execution_count": 147,
     "metadata": {},
     "output_type": "execute_result"
    }
   ],
   "source": [
    "print(\"Dataframe with all best epochs for Validation accuracy\")\n",
    "best_df.sort_values(by='epoch')\n"
   ],
   "metadata": {
    "collapsed": false,
    "pycharm": {
     "name": "#%%\n"
    }
   }
  },
  {
   "cell_type": "code",
   "execution_count": 148,
   "metadata": {
    "pycharm": {
     "name": "#%%\n"
    }
   },
   "outputs": [
    {
     "name": "stdout",
     "output_type": "stream",
     "text": [
      "Dataframe with one per trials\n"
     ]
    },
    {
     "data": {
      "text/plain": "                                epoch  trial   val_acc  val_updates  \\\ncost_per_sample surprisal_cost                                        \n0.000001        0.000              96      1  0.838041   224.421478   \n                0.005              94      0  0.836839   343.233063   \n                0.010              91      0  0.840445   205.022430   \n                0.050               2      0  0.500401  1410.807251   \n                0.100               0      0  0.500401  1407.740845   \n                0.500               2      1  0.500401  1427.055664   \n                1.000               0      2  0.500401  1417.187256   \n0.000005        0.000              93      0  0.834535   206.321411   \n                0.005              99      1  0.824619   390.501709   \n                0.010              99      1  0.840745   221.089844   \n                0.050              91      1  0.840345   269.713928   \n                0.100              94      1  0.836538   330.462433   \n                0.500              94      1  0.843450   262.025146   \n                1.000              12      1  0.508013   329.784058   \n0.000010        0.000              99      0  0.835837   190.328827   \n                0.005              97      1  0.840144   186.748093   \n                0.010              88      1  0.835737   272.230682   \n                0.050              98      1  0.843950   277.367798   \n                0.100              98      1  0.840545   266.022125   \n                0.500              91      0  0.836939   269.732178   \n                1.000               0      2  0.500300   490.951416   \n0.000050        0.000              96      1  0.838141   186.439301   \n                0.005              97      0  0.836238   170.484772   \n                0.010              95      0  0.841747   207.377899   \n                0.050              99      0  0.844752   272.022644   \n                0.100              82      0  0.840946   269.041260   \n                0.500               2      2  0.503606   305.711334   \n                1.000              98      2  0.840545   263.244690   \n0.000100        0.000              91      0  0.833433   165.116791   \n                0.005              80      0  0.839944   157.257004   \n                0.010              57      0  0.821214   162.461533   \n                0.050              98      2  0.847656   249.025436   \n                0.100              96      2  0.839543   262.567596   \n                0.500              89      0  0.839844   261.984863   \n                1.000              96      0  0.839243   262.076416   \n0.000500        0.000              97      1  0.826222   105.633011   \n                0.005              99      0  0.823818   104.985680   \n                0.010              86      0  0.823618   100.933792   \n                0.050              90      0  0.829928   127.139824   \n                0.100              96      0  0.834235   120.830627   \n                0.500              96      1  0.839243   254.629913   \n                1.000              94      2  0.841246   248.574417   \n0.001000        0.000              72      0  0.804187    89.769234   \n                0.005              93      1  0.807192    81.246193   \n                0.010              87      1  0.808894    85.298981   \n                0.050              75      1  0.806490    86.426285   \n                0.100              91      1  0.815204    96.762619   \n                0.500              99      1  0.841947   251.803986   \n                1.000              89      1  0.843149   253.769638   \n\n                                train_acc  train_updates  list_index exp  \ncost_per_sample surprisal_cost                                            \n0.000001        0.000            0.849359     207.887558          46  21  \n                0.005            0.840011     314.451324          16  13  \n                0.010            0.856838     199.037186          13  12  \n                0.050            0.488715    1412.578491          10  11  \n                0.100            0.499265    1949.320679           6  10  \n                0.500            0.490518    1426.515625          53  23  \n                1.000            0.499933    2425.877197          39   1  \n0.000005        0.000            0.847690     190.650040           2   0  \n                0.005            0.824119     398.756134          44  20  \n                0.010            0.855569     221.813766          36  19  \n                0.050            0.857973     269.637543          33  18  \n                0.100            0.837740     360.454926          30  17  \n                0.500            0.855235     260.868591          27  16  \n                1.000            0.491052     330.421021          23  15  \n0.000010        0.000            0.850561     190.488647          68  28  \n                0.005            0.851763     186.568436          15  13  \n                0.010            0.856637     274.531036          12  12  \n                0.050            0.858440     276.396088           9  11  \n                0.100            0.861311     264.261414           5  10  \n                0.500            0.857906     268.801605          77  30  \n                1.000            0.491920    1870.902466          49  22  \n0.000050        0.000            0.857038     178.382141           1   0  \n                0.005            0.850628     165.895370          66  27  \n                0.010            0.851696     202.977036          63  26  \n                0.050            0.864517     272.932037          60  25  \n                0.100            0.854300     268.939758          57  24  \n                0.500            0.492722     314.304565          26  16  \n                1.000            0.855435     261.360992          22  15  \n0.000100        0.000            0.847089     155.927811          17  14  \n                0.005            0.846154     156.628937          42  20  \n                0.010            0.823050     156.885880          34  19  \n                0.050            0.859509     250.454590           7  11  \n                0.100            0.855970     261.591949           3  10  \n                0.500            0.858240     261.192108          24  16  \n                1.000            0.856637     261.145905          20  15  \n0.000500        0.000            0.834802     104.637421          45  21  \n                0.005            0.828125      99.430222          14  13  \n                0.010            0.822850      98.991188          11  12  \n                0.050            0.838742     122.161728           8  11  \n                0.100            0.840678     123.050148           4  10  \n                0.500            0.854233     253.741058          52  23  \n                1.000            0.861512     248.182159          37   1  \n0.001000        0.000            0.799613      79.969955           0   0  \n                0.005            0.812366      77.503937          43  20  \n                0.010            0.809562      80.736649          35  19  \n                0.050            0.796007      80.950523          32  18  \n                0.100            0.817041      89.824852          29  17  \n                0.500            0.864717     250.748001          25  16  \n                1.000            0.846888     253.394836          21  15  ",
      "text/html": "<div>\n<style scoped>\n    .dataframe tbody tr th:only-of-type {\n        vertical-align: middle;\n    }\n\n    .dataframe tbody tr th {\n        vertical-align: top;\n    }\n\n    .dataframe thead th {\n        text-align: right;\n    }\n</style>\n<table border=\"1\" class=\"dataframe\">\n  <thead>\n    <tr style=\"text-align: right;\">\n      <th></th>\n      <th></th>\n      <th>epoch</th>\n      <th>trial</th>\n      <th>val_acc</th>\n      <th>val_updates</th>\n      <th>train_acc</th>\n      <th>train_updates</th>\n      <th>list_index</th>\n      <th>exp</th>\n    </tr>\n    <tr>\n      <th>cost_per_sample</th>\n      <th>surprisal_cost</th>\n      <th></th>\n      <th></th>\n      <th></th>\n      <th></th>\n      <th></th>\n      <th></th>\n      <th></th>\n      <th></th>\n    </tr>\n  </thead>\n  <tbody>\n    <tr>\n      <th rowspan=\"7\" valign=\"top\">0.000001</th>\n      <th>0.000</th>\n      <td>96</td>\n      <td>1</td>\n      <td>0.838041</td>\n      <td>224.421478</td>\n      <td>0.849359</td>\n      <td>207.887558</td>\n      <td>46</td>\n      <td>21</td>\n    </tr>\n    <tr>\n      <th>0.005</th>\n      <td>94</td>\n      <td>0</td>\n      <td>0.836839</td>\n      <td>343.233063</td>\n      <td>0.840011</td>\n      <td>314.451324</td>\n      <td>16</td>\n      <td>13</td>\n    </tr>\n    <tr>\n      <th>0.010</th>\n      <td>91</td>\n      <td>0</td>\n      <td>0.840445</td>\n      <td>205.022430</td>\n      <td>0.856838</td>\n      <td>199.037186</td>\n      <td>13</td>\n      <td>12</td>\n    </tr>\n    <tr>\n      <th>0.050</th>\n      <td>2</td>\n      <td>0</td>\n      <td>0.500401</td>\n      <td>1410.807251</td>\n      <td>0.488715</td>\n      <td>1412.578491</td>\n      <td>10</td>\n      <td>11</td>\n    </tr>\n    <tr>\n      <th>0.100</th>\n      <td>0</td>\n      <td>0</td>\n      <td>0.500401</td>\n      <td>1407.740845</td>\n      <td>0.499265</td>\n      <td>1949.320679</td>\n      <td>6</td>\n      <td>10</td>\n    </tr>\n    <tr>\n      <th>0.500</th>\n      <td>2</td>\n      <td>1</td>\n      <td>0.500401</td>\n      <td>1427.055664</td>\n      <td>0.490518</td>\n      <td>1426.515625</td>\n      <td>53</td>\n      <td>23</td>\n    </tr>\n    <tr>\n      <th>1.000</th>\n      <td>0</td>\n      <td>2</td>\n      <td>0.500401</td>\n      <td>1417.187256</td>\n      <td>0.499933</td>\n      <td>2425.877197</td>\n      <td>39</td>\n      <td>1</td>\n    </tr>\n    <tr>\n      <th rowspan=\"7\" valign=\"top\">0.000005</th>\n      <th>0.000</th>\n      <td>93</td>\n      <td>0</td>\n      <td>0.834535</td>\n      <td>206.321411</td>\n      <td>0.847690</td>\n      <td>190.650040</td>\n      <td>2</td>\n      <td>0</td>\n    </tr>\n    <tr>\n      <th>0.005</th>\n      <td>99</td>\n      <td>1</td>\n      <td>0.824619</td>\n      <td>390.501709</td>\n      <td>0.824119</td>\n      <td>398.756134</td>\n      <td>44</td>\n      <td>20</td>\n    </tr>\n    <tr>\n      <th>0.010</th>\n      <td>99</td>\n      <td>1</td>\n      <td>0.840745</td>\n      <td>221.089844</td>\n      <td>0.855569</td>\n      <td>221.813766</td>\n      <td>36</td>\n      <td>19</td>\n    </tr>\n    <tr>\n      <th>0.050</th>\n      <td>91</td>\n      <td>1</td>\n      <td>0.840345</td>\n      <td>269.713928</td>\n      <td>0.857973</td>\n      <td>269.637543</td>\n      <td>33</td>\n      <td>18</td>\n    </tr>\n    <tr>\n      <th>0.100</th>\n      <td>94</td>\n      <td>1</td>\n      <td>0.836538</td>\n      <td>330.462433</td>\n      <td>0.837740</td>\n      <td>360.454926</td>\n      <td>30</td>\n      <td>17</td>\n    </tr>\n    <tr>\n      <th>0.500</th>\n      <td>94</td>\n      <td>1</td>\n      <td>0.843450</td>\n      <td>262.025146</td>\n      <td>0.855235</td>\n      <td>260.868591</td>\n      <td>27</td>\n      <td>16</td>\n    </tr>\n    <tr>\n      <th>1.000</th>\n      <td>12</td>\n      <td>1</td>\n      <td>0.508013</td>\n      <td>329.784058</td>\n      <td>0.491052</td>\n      <td>330.421021</td>\n      <td>23</td>\n      <td>15</td>\n    </tr>\n    <tr>\n      <th rowspan=\"7\" valign=\"top\">0.000010</th>\n      <th>0.000</th>\n      <td>99</td>\n      <td>0</td>\n      <td>0.835837</td>\n      <td>190.328827</td>\n      <td>0.850561</td>\n      <td>190.488647</td>\n      <td>68</td>\n      <td>28</td>\n    </tr>\n    <tr>\n      <th>0.005</th>\n      <td>97</td>\n      <td>1</td>\n      <td>0.840144</td>\n      <td>186.748093</td>\n      <td>0.851763</td>\n      <td>186.568436</td>\n      <td>15</td>\n      <td>13</td>\n    </tr>\n    <tr>\n      <th>0.010</th>\n      <td>88</td>\n      <td>1</td>\n      <td>0.835737</td>\n      <td>272.230682</td>\n      <td>0.856637</td>\n      <td>274.531036</td>\n      <td>12</td>\n      <td>12</td>\n    </tr>\n    <tr>\n      <th>0.050</th>\n      <td>98</td>\n      <td>1</td>\n      <td>0.843950</td>\n      <td>277.367798</td>\n      <td>0.858440</td>\n      <td>276.396088</td>\n      <td>9</td>\n      <td>11</td>\n    </tr>\n    <tr>\n      <th>0.100</th>\n      <td>98</td>\n      <td>1</td>\n      <td>0.840545</td>\n      <td>266.022125</td>\n      <td>0.861311</td>\n      <td>264.261414</td>\n      <td>5</td>\n      <td>10</td>\n    </tr>\n    <tr>\n      <th>0.500</th>\n      <td>91</td>\n      <td>0</td>\n      <td>0.836939</td>\n      <td>269.732178</td>\n      <td>0.857906</td>\n      <td>268.801605</td>\n      <td>77</td>\n      <td>30</td>\n    </tr>\n    <tr>\n      <th>1.000</th>\n      <td>0</td>\n      <td>2</td>\n      <td>0.500300</td>\n      <td>490.951416</td>\n      <td>0.491920</td>\n      <td>1870.902466</td>\n      <td>49</td>\n      <td>22</td>\n    </tr>\n    <tr>\n      <th rowspan=\"7\" valign=\"top\">0.000050</th>\n      <th>0.000</th>\n      <td>96</td>\n      <td>1</td>\n      <td>0.838141</td>\n      <td>186.439301</td>\n      <td>0.857038</td>\n      <td>178.382141</td>\n      <td>1</td>\n      <td>0</td>\n    </tr>\n    <tr>\n      <th>0.005</th>\n      <td>97</td>\n      <td>0</td>\n      <td>0.836238</td>\n      <td>170.484772</td>\n      <td>0.850628</td>\n      <td>165.895370</td>\n      <td>66</td>\n      <td>27</td>\n    </tr>\n    <tr>\n      <th>0.010</th>\n      <td>95</td>\n      <td>0</td>\n      <td>0.841747</td>\n      <td>207.377899</td>\n      <td>0.851696</td>\n      <td>202.977036</td>\n      <td>63</td>\n      <td>26</td>\n    </tr>\n    <tr>\n      <th>0.050</th>\n      <td>99</td>\n      <td>0</td>\n      <td>0.844752</td>\n      <td>272.022644</td>\n      <td>0.864517</td>\n      <td>272.932037</td>\n      <td>60</td>\n      <td>25</td>\n    </tr>\n    <tr>\n      <th>0.100</th>\n      <td>82</td>\n      <td>0</td>\n      <td>0.840946</td>\n      <td>269.041260</td>\n      <td>0.854300</td>\n      <td>268.939758</td>\n      <td>57</td>\n      <td>24</td>\n    </tr>\n    <tr>\n      <th>0.500</th>\n      <td>2</td>\n      <td>2</td>\n      <td>0.503606</td>\n      <td>305.711334</td>\n      <td>0.492722</td>\n      <td>314.304565</td>\n      <td>26</td>\n      <td>16</td>\n    </tr>\n    <tr>\n      <th>1.000</th>\n      <td>98</td>\n      <td>2</td>\n      <td>0.840545</td>\n      <td>263.244690</td>\n      <td>0.855435</td>\n      <td>261.360992</td>\n      <td>22</td>\n      <td>15</td>\n    </tr>\n    <tr>\n      <th rowspan=\"7\" valign=\"top\">0.000100</th>\n      <th>0.000</th>\n      <td>91</td>\n      <td>0</td>\n      <td>0.833433</td>\n      <td>165.116791</td>\n      <td>0.847089</td>\n      <td>155.927811</td>\n      <td>17</td>\n      <td>14</td>\n    </tr>\n    <tr>\n      <th>0.005</th>\n      <td>80</td>\n      <td>0</td>\n      <td>0.839944</td>\n      <td>157.257004</td>\n      <td>0.846154</td>\n      <td>156.628937</td>\n      <td>42</td>\n      <td>20</td>\n    </tr>\n    <tr>\n      <th>0.010</th>\n      <td>57</td>\n      <td>0</td>\n      <td>0.821214</td>\n      <td>162.461533</td>\n      <td>0.823050</td>\n      <td>156.885880</td>\n      <td>34</td>\n      <td>19</td>\n    </tr>\n    <tr>\n      <th>0.050</th>\n      <td>98</td>\n      <td>2</td>\n      <td>0.847656</td>\n      <td>249.025436</td>\n      <td>0.859509</td>\n      <td>250.454590</td>\n      <td>7</td>\n      <td>11</td>\n    </tr>\n    <tr>\n      <th>0.100</th>\n      <td>96</td>\n      <td>2</td>\n      <td>0.839543</td>\n      <td>262.567596</td>\n      <td>0.855970</td>\n      <td>261.591949</td>\n      <td>3</td>\n      <td>10</td>\n    </tr>\n    <tr>\n      <th>0.500</th>\n      <td>89</td>\n      <td>0</td>\n      <td>0.839844</td>\n      <td>261.984863</td>\n      <td>0.858240</td>\n      <td>261.192108</td>\n      <td>24</td>\n      <td>16</td>\n    </tr>\n    <tr>\n      <th>1.000</th>\n      <td>96</td>\n      <td>0</td>\n      <td>0.839243</td>\n      <td>262.076416</td>\n      <td>0.856637</td>\n      <td>261.145905</td>\n      <td>20</td>\n      <td>15</td>\n    </tr>\n    <tr>\n      <th rowspan=\"7\" valign=\"top\">0.000500</th>\n      <th>0.000</th>\n      <td>97</td>\n      <td>1</td>\n      <td>0.826222</td>\n      <td>105.633011</td>\n      <td>0.834802</td>\n      <td>104.637421</td>\n      <td>45</td>\n      <td>21</td>\n    </tr>\n    <tr>\n      <th>0.005</th>\n      <td>99</td>\n      <td>0</td>\n      <td>0.823818</td>\n      <td>104.985680</td>\n      <td>0.828125</td>\n      <td>99.430222</td>\n      <td>14</td>\n      <td>13</td>\n    </tr>\n    <tr>\n      <th>0.010</th>\n      <td>86</td>\n      <td>0</td>\n      <td>0.823618</td>\n      <td>100.933792</td>\n      <td>0.822850</td>\n      <td>98.991188</td>\n      <td>11</td>\n      <td>12</td>\n    </tr>\n    <tr>\n      <th>0.050</th>\n      <td>90</td>\n      <td>0</td>\n      <td>0.829928</td>\n      <td>127.139824</td>\n      <td>0.838742</td>\n      <td>122.161728</td>\n      <td>8</td>\n      <td>11</td>\n    </tr>\n    <tr>\n      <th>0.100</th>\n      <td>96</td>\n      <td>0</td>\n      <td>0.834235</td>\n      <td>120.830627</td>\n      <td>0.840678</td>\n      <td>123.050148</td>\n      <td>4</td>\n      <td>10</td>\n    </tr>\n    <tr>\n      <th>0.500</th>\n      <td>96</td>\n      <td>1</td>\n      <td>0.839243</td>\n      <td>254.629913</td>\n      <td>0.854233</td>\n      <td>253.741058</td>\n      <td>52</td>\n      <td>23</td>\n    </tr>\n    <tr>\n      <th>1.000</th>\n      <td>94</td>\n      <td>2</td>\n      <td>0.841246</td>\n      <td>248.574417</td>\n      <td>0.861512</td>\n      <td>248.182159</td>\n      <td>37</td>\n      <td>1</td>\n    </tr>\n    <tr>\n      <th rowspan=\"7\" valign=\"top\">0.001000</th>\n      <th>0.000</th>\n      <td>72</td>\n      <td>0</td>\n      <td>0.804187</td>\n      <td>89.769234</td>\n      <td>0.799613</td>\n      <td>79.969955</td>\n      <td>0</td>\n      <td>0</td>\n    </tr>\n    <tr>\n      <th>0.005</th>\n      <td>93</td>\n      <td>1</td>\n      <td>0.807192</td>\n      <td>81.246193</td>\n      <td>0.812366</td>\n      <td>77.503937</td>\n      <td>43</td>\n      <td>20</td>\n    </tr>\n    <tr>\n      <th>0.010</th>\n      <td>87</td>\n      <td>1</td>\n      <td>0.808894</td>\n      <td>85.298981</td>\n      <td>0.809562</td>\n      <td>80.736649</td>\n      <td>35</td>\n      <td>19</td>\n    </tr>\n    <tr>\n      <th>0.050</th>\n      <td>75</td>\n      <td>1</td>\n      <td>0.806490</td>\n      <td>86.426285</td>\n      <td>0.796007</td>\n      <td>80.950523</td>\n      <td>32</td>\n      <td>18</td>\n    </tr>\n    <tr>\n      <th>0.100</th>\n      <td>91</td>\n      <td>1</td>\n      <td>0.815204</td>\n      <td>96.762619</td>\n      <td>0.817041</td>\n      <td>89.824852</td>\n      <td>29</td>\n      <td>17</td>\n    </tr>\n    <tr>\n      <th>0.500</th>\n      <td>99</td>\n      <td>1</td>\n      <td>0.841947</td>\n      <td>251.803986</td>\n      <td>0.864717</td>\n      <td>250.748001</td>\n      <td>25</td>\n      <td>16</td>\n    </tr>\n    <tr>\n      <th>1.000</th>\n      <td>89</td>\n      <td>1</td>\n      <td>0.843149</td>\n      <td>253.769638</td>\n      <td>0.846888</td>\n      <td>253.394836</td>\n      <td>21</td>\n      <td>15</td>\n    </tr>\n  </tbody>\n</table>\n</div>"
     },
     "execution_count": 148,
     "metadata": {},
     "output_type": "execute_result"
    }
   ],
   "source": [
    "print(\"Dataframe with one per trials\")\n",
    "# mean_df = best_df.groupby(by=[\"cost_per_sample\", \"surprisal_cost\"])\n",
    "sorted = best_df.groupby([\"cost_per_sample\", \"surprisal_cost\"], sort=\"val_acc\")\n",
    "sorted.first()"
   ]
  },
  {
   "cell_type": "code",
   "execution_count": 148,
   "metadata": {
    "pycharm": {
     "name": "#%%\n"
    }
   },
   "outputs": [],
   "source": []
  },
  {
   "cell_type": "code",
   "execution_count": 149,
   "outputs": [
    {
     "name": "stdout",
     "output_type": "stream",
     "text": [
      "Clearer visualization\n"
     ]
    },
    {
     "data": {
      "text/plain": "                                count  acc_mean   acc_std  updates_mean  \\\ncost_per_sample surprisal_cost                                            \n0.000005        0.010               2  0.841346  0.000850    223.308693   \n                0.100               2  0.838942  0.003400    303.365585   \n                0.500               2  0.841997  0.002054    267.434143   \n0.000010        0.000               2  0.837240  0.001983    200.917168   \n                0.005               2  0.841947  0.002550    207.625946   \n                0.010               2  0.839243  0.004958    262.400848   \n                0.050               2  0.841697  0.003187    269.481873   \n                0.100               2  0.838742  0.002550    263.560699   \n                0.500               2  0.840645  0.005241    287.472809   \n0.000050        0.000               2  0.839694  0.002196    176.305084   \n                0.005               2  0.837740  0.002125    171.869186   \n                0.010               2  0.839493  0.003187    207.012421   \n                0.100               2  0.843099  0.003045    267.032501   \n0.000100        0.005               2  0.839894  0.000071    155.518929   \n                0.050               3  0.840645  0.006459    223.080393   \n                0.500               3  0.837206  0.011007    261.212331   \n                1.000               3  0.839844  0.003445    262.832062   \n0.000500        0.500               2  0.838792  0.000637    254.718102   \n0.001000        0.500               3  0.840912  0.002802    249.604101   \n                1.000               3  0.842548  0.000722    252.851262   \n\n                                updates_std  epoch_mean  \ncost_per_sample surprisal_cost                           \n0.000005        0.010              3.137927   92.500000  \n                0.100             38.320729   95.000000  \n                0.500              7.649476   92.000000  \n0.000010        0.000             14.974175   97.500000  \n                0.005             29.525743   97.000000  \n                0.010             13.901485   91.000000  \n                0.050             11.152383   97.000000  \n                0.100              3.480982   93.000000  \n                0.500             25.089041   91.000000  \n0.000050        0.000             14.331946   94.500000  \n                0.005              1.957858   96.500000  \n                0.010              0.516865   92.000000  \n                0.100              2.840814   88.500000  \n0.000100        0.005              2.458010   88.000000  \n                0.050             27.264081   86.333333  \n                0.500              2.566356   77.000000  \n                1.000              2.339528   93.333333  \n0.000500        0.500              0.124717   94.000000  \n0.001000        0.500              2.575255   92.333333  \n                1.000              1.746450   92.000000  ",
      "text/html": "<div>\n<style scoped>\n    .dataframe tbody tr th:only-of-type {\n        vertical-align: middle;\n    }\n\n    .dataframe tbody tr th {\n        vertical-align: top;\n    }\n\n    .dataframe thead th {\n        text-align: right;\n    }\n</style>\n<table border=\"1\" class=\"dataframe\">\n  <thead>\n    <tr style=\"text-align: right;\">\n      <th></th>\n      <th></th>\n      <th>count</th>\n      <th>acc_mean</th>\n      <th>acc_std</th>\n      <th>updates_mean</th>\n      <th>updates_std</th>\n      <th>epoch_mean</th>\n    </tr>\n    <tr>\n      <th>cost_per_sample</th>\n      <th>surprisal_cost</th>\n      <th></th>\n      <th></th>\n      <th></th>\n      <th></th>\n      <th></th>\n      <th></th>\n    </tr>\n  </thead>\n  <tbody>\n    <tr>\n      <th rowspan=\"3\" valign=\"top\">0.000005</th>\n      <th>0.010</th>\n      <td>2</td>\n      <td>0.841346</td>\n      <td>0.000850</td>\n      <td>223.308693</td>\n      <td>3.137927</td>\n      <td>92.500000</td>\n    </tr>\n    <tr>\n      <th>0.100</th>\n      <td>2</td>\n      <td>0.838942</td>\n      <td>0.003400</td>\n      <td>303.365585</td>\n      <td>38.320729</td>\n      <td>95.000000</td>\n    </tr>\n    <tr>\n      <th>0.500</th>\n      <td>2</td>\n      <td>0.841997</td>\n      <td>0.002054</td>\n      <td>267.434143</td>\n      <td>7.649476</td>\n      <td>92.000000</td>\n    </tr>\n    <tr>\n      <th rowspan=\"6\" valign=\"top\">0.000010</th>\n      <th>0.000</th>\n      <td>2</td>\n      <td>0.837240</td>\n      <td>0.001983</td>\n      <td>200.917168</td>\n      <td>14.974175</td>\n      <td>97.500000</td>\n    </tr>\n    <tr>\n      <th>0.005</th>\n      <td>2</td>\n      <td>0.841947</td>\n      <td>0.002550</td>\n      <td>207.625946</td>\n      <td>29.525743</td>\n      <td>97.000000</td>\n    </tr>\n    <tr>\n      <th>0.010</th>\n      <td>2</td>\n      <td>0.839243</td>\n      <td>0.004958</td>\n      <td>262.400848</td>\n      <td>13.901485</td>\n      <td>91.000000</td>\n    </tr>\n    <tr>\n      <th>0.050</th>\n      <td>2</td>\n      <td>0.841697</td>\n      <td>0.003187</td>\n      <td>269.481873</td>\n      <td>11.152383</td>\n      <td>97.000000</td>\n    </tr>\n    <tr>\n      <th>0.100</th>\n      <td>2</td>\n      <td>0.838742</td>\n      <td>0.002550</td>\n      <td>263.560699</td>\n      <td>3.480982</td>\n      <td>93.000000</td>\n    </tr>\n    <tr>\n      <th>0.500</th>\n      <td>2</td>\n      <td>0.840645</td>\n      <td>0.005241</td>\n      <td>287.472809</td>\n      <td>25.089041</td>\n      <td>91.000000</td>\n    </tr>\n    <tr>\n      <th rowspan=\"4\" valign=\"top\">0.000050</th>\n      <th>0.000</th>\n      <td>2</td>\n      <td>0.839694</td>\n      <td>0.002196</td>\n      <td>176.305084</td>\n      <td>14.331946</td>\n      <td>94.500000</td>\n    </tr>\n    <tr>\n      <th>0.005</th>\n      <td>2</td>\n      <td>0.837740</td>\n      <td>0.002125</td>\n      <td>171.869186</td>\n      <td>1.957858</td>\n      <td>96.500000</td>\n    </tr>\n    <tr>\n      <th>0.010</th>\n      <td>2</td>\n      <td>0.839493</td>\n      <td>0.003187</td>\n      <td>207.012421</td>\n      <td>0.516865</td>\n      <td>92.000000</td>\n    </tr>\n    <tr>\n      <th>0.100</th>\n      <td>2</td>\n      <td>0.843099</td>\n      <td>0.003045</td>\n      <td>267.032501</td>\n      <td>2.840814</td>\n      <td>88.500000</td>\n    </tr>\n    <tr>\n      <th rowspan=\"4\" valign=\"top\">0.000100</th>\n      <th>0.005</th>\n      <td>2</td>\n      <td>0.839894</td>\n      <td>0.000071</td>\n      <td>155.518929</td>\n      <td>2.458010</td>\n      <td>88.000000</td>\n    </tr>\n    <tr>\n      <th>0.050</th>\n      <td>3</td>\n      <td>0.840645</td>\n      <td>0.006459</td>\n      <td>223.080393</td>\n      <td>27.264081</td>\n      <td>86.333333</td>\n    </tr>\n    <tr>\n      <th>0.500</th>\n      <td>3</td>\n      <td>0.837206</td>\n      <td>0.011007</td>\n      <td>261.212331</td>\n      <td>2.566356</td>\n      <td>77.000000</td>\n    </tr>\n    <tr>\n      <th>1.000</th>\n      <td>3</td>\n      <td>0.839844</td>\n      <td>0.003445</td>\n      <td>262.832062</td>\n      <td>2.339528</td>\n      <td>93.333333</td>\n    </tr>\n    <tr>\n      <th>0.000500</th>\n      <th>0.500</th>\n      <td>2</td>\n      <td>0.838792</td>\n      <td>0.000637</td>\n      <td>254.718102</td>\n      <td>0.124717</td>\n      <td>94.000000</td>\n    </tr>\n    <tr>\n      <th rowspan=\"2\" valign=\"top\">0.001000</th>\n      <th>0.500</th>\n      <td>3</td>\n      <td>0.840912</td>\n      <td>0.002802</td>\n      <td>249.604101</td>\n      <td>2.575255</td>\n      <td>92.333333</td>\n    </tr>\n    <tr>\n      <th>1.000</th>\n      <td>3</td>\n      <td>0.842548</td>\n      <td>0.000722</td>\n      <td>252.851262</td>\n      <td>1.746450</td>\n      <td>92.000000</td>\n    </tr>\n  </tbody>\n</table>\n</div>"
     },
     "execution_count": 149,
     "metadata": {},
     "output_type": "execute_result"
    }
   ],
   "source": [
    "# mean_df = mean_df.max()\n",
    "# mean_df.sort_values(by='val_acc')\n",
    "print(\"Clearer visualization\")\n",
    "# , axis=1, names=[\"acc_mean\", \"acc_std\", \"updates_mean\", \"updates_std\"])\n",
    "view = pd.DataFrame({'count': sorted.val_acc.count(),\n",
    "                     'acc_mean': sorted.val_acc.mean(),\n",
    "                     'acc_std': sorted.val_acc.std(),\n",
    "                     'updates_mean': sorted.val_updates.mean(),\n",
    "                     'updates_std': sorted.val_updates.std(),\n",
    "                     'epoch_mean': sorted.epoch.mean()})\n",
    "# view.rename(columns=[\"acc_mean\", \"acc_std\", \"updates_mean\", \"updates_std\"])\n",
    "view[view['acc_mean'] > 0.835]"
   ],
   "metadata": {
    "collapsed": false,
    "pycharm": {
     "name": "#%%\n"
    }
   }
  },
  {
   "cell_type": "code",
   "execution_count": 150,
   "outputs": [],
   "source": [
    "lr0001 = [csv for csv in csvs if csv['learning_rate'][0]==0.0001 and csv['hidden_units'][0]==32]\n",
    "\n",
    "# temp = bs64_best.loc[(best_df['hidden_units']==96)]"
   ],
   "metadata": {
    "collapsed": false,
    "pycharm": {
     "name": "#%%\n"
    }
   }
  },
  {
   "cell_type": "code",
   "execution_count": 151,
   "metadata": {
    "pycharm": {
     "name": "#%%\n"
    }
   },
   "outputs": [
    {
     "ename": "KeyError",
     "evalue": "('val_updates', 'train_updates')",
     "output_type": "error",
     "traceback": [
      "\u001B[1;31m---------------------------------------------------------------------------\u001B[0m",
      "\u001B[1;31mKeyError\u001B[0m                                  Traceback (most recent call last)",
      "\u001B[1;32m~\\anaconda3\\envs\\skiprnn-2017-telecombcn\\lib\\site-packages\\pandas\\core\\indexes\\base.py\u001B[0m in \u001B[0;36mget_loc\u001B[1;34m(self, key, method, tolerance)\u001B[0m\n\u001B[0;32m   2645\u001B[0m             \u001B[1;32mtry\u001B[0m\u001B[1;33m:\u001B[0m\u001B[1;33m\u001B[0m\u001B[1;33m\u001B[0m\u001B[0m\n\u001B[1;32m-> 2646\u001B[1;33m                 \u001B[1;32mreturn\u001B[0m \u001B[0mself\u001B[0m\u001B[1;33m.\u001B[0m\u001B[0m_engine\u001B[0m\u001B[1;33m.\u001B[0m\u001B[0mget_loc\u001B[0m\u001B[1;33m(\u001B[0m\u001B[0mkey\u001B[0m\u001B[1;33m)\u001B[0m\u001B[1;33m\u001B[0m\u001B[1;33m\u001B[0m\u001B[0m\n\u001B[0m\u001B[0;32m   2647\u001B[0m             \u001B[1;32mexcept\u001B[0m \u001B[0mKeyError\u001B[0m\u001B[1;33m:\u001B[0m\u001B[1;33m\u001B[0m\u001B[1;33m\u001B[0m\u001B[0m\n",
      "\u001B[1;32mpandas\\_libs\\index.pyx\u001B[0m in \u001B[0;36mpandas._libs.index.IndexEngine.get_loc\u001B[1;34m()\u001B[0m\n",
      "\u001B[1;32mpandas\\_libs\\index.pyx\u001B[0m in \u001B[0;36mpandas._libs.index.IndexEngine.get_loc\u001B[1;34m()\u001B[0m\n",
      "\u001B[1;32mpandas\\_libs\\hashtable_class_helper.pxi\u001B[0m in \u001B[0;36mpandas._libs.hashtable.PyObjectHashTable.get_item\u001B[1;34m()\u001B[0m\n",
      "\u001B[1;32mpandas\\_libs\\hashtable_class_helper.pxi\u001B[0m in \u001B[0;36mpandas._libs.hashtable.PyObjectHashTable.get_item\u001B[1;34m()\u001B[0m\n",
      "\u001B[1;31mKeyError\u001B[0m: ('val_updates', 'train_updates')",
      "\nDuring handling of the above exception, another exception occurred:\n",
      "\u001B[1;31mKeyError\u001B[0m                                  Traceback (most recent call last)",
      "\u001B[1;32m<ipython-input-151-1db4df7dca6a>\u001B[0m in \u001B[0;36m<module>\u001B[1;34m\u001B[0m\n\u001B[0;32m      3\u001B[0m \u001B[1;33m\u001B[0m\u001B[0m\n\u001B[0;32m      4\u001B[0m \u001B[1;32mfor\u001B[0m \u001B[0mi\u001B[0m\u001B[1;33m,\u001B[0m \u001B[0mdf\u001B[0m \u001B[1;32min\u001B[0m \u001B[0menumerate\u001B[0m\u001B[1;33m(\u001B[0m\u001B[0mcsvs\u001B[0m\u001B[1;33m)\u001B[0m\u001B[1;33m:\u001B[0m\u001B[1;33m\u001B[0m\u001B[1;33m\u001B[0m\u001B[0m\n\u001B[1;32m----> 5\u001B[1;33m     \u001B[0mdf\u001B[0m\u001B[1;33m.\u001B[0m\u001B[0mloc\u001B[0m\u001B[1;33m[\u001B[0m\u001B[1;33m[\u001B[0m\u001B[1;34m'val_updates'\u001B[0m\u001B[1;33m,\u001B[0m \u001B[1;34m'train_updates'\u001B[0m\u001B[1;33m]\u001B[0m\u001B[1;33m]\u001B[0m \u001B[1;33m=\u001B[0m \u001B[0mdf\u001B[0m\u001B[1;33m[\u001B[0m\u001B[1;34m'val_updates'\u001B[0m\u001B[1;33m,\u001B[0m \u001B[1;34m'train_updates'\u001B[0m\u001B[1;33m]\u001B[0m\u001B[1;33m/\u001B[0m\u001B[1;36m2520\u001B[0m\u001B[1;33m\u001B[0m\u001B[1;33m\u001B[0m\u001B[0m\n\u001B[0m\u001B[0;32m      6\u001B[0m     \u001B[0max\u001B[0m \u001B[1;33m=\u001B[0m \u001B[0mdf\u001B[0m\u001B[1;33m[\u001B[0m\u001B[1;33m[\u001B[0m\u001B[1;34m'val_acc'\u001B[0m\u001B[1;33m,\u001B[0m \u001B[1;34m'train_acc'\u001B[0m\u001B[1;33m,\u001B[0m \u001B[1;34m'val_updates'\u001B[0m\u001B[1;33m,\u001B[0m \u001B[1;34m'train_updates'\u001B[0m\u001B[1;33m]\u001B[0m\u001B[1;33m]\u001B[0m\u001B[1;33m.\u001B[0m\u001B[0mplot\u001B[0m\u001B[1;33m(\u001B[0m\u001B[1;33m)\u001B[0m\u001B[1;33m\u001B[0m\u001B[1;33m\u001B[0m\u001B[0m\n\u001B[0;32m      7\u001B[0m     \u001B[0max\u001B[0m\u001B[1;33m.\u001B[0m\u001B[0mset_ylim\u001B[0m\u001B[1;33m(\u001B[0m\u001B[1;36m0.4\u001B[0m\u001B[1;33m,\u001B[0m \u001B[1;36m1\u001B[0m\u001B[1;33m)\u001B[0m\u001B[1;33m\u001B[0m\u001B[1;33m\u001B[0m\u001B[0m\n",
      "\u001B[1;32m~\\anaconda3\\envs\\skiprnn-2017-telecombcn\\lib\\site-packages\\pandas\\core\\frame.py\u001B[0m in \u001B[0;36m__getitem__\u001B[1;34m(self, key)\u001B[0m\n\u001B[0;32m   2798\u001B[0m             \u001B[1;32mif\u001B[0m \u001B[0mself\u001B[0m\u001B[1;33m.\u001B[0m\u001B[0mcolumns\u001B[0m\u001B[1;33m.\u001B[0m\u001B[0mnlevels\u001B[0m \u001B[1;33m>\u001B[0m \u001B[1;36m1\u001B[0m\u001B[1;33m:\u001B[0m\u001B[1;33m\u001B[0m\u001B[1;33m\u001B[0m\u001B[0m\n\u001B[0;32m   2799\u001B[0m                 \u001B[1;32mreturn\u001B[0m \u001B[0mself\u001B[0m\u001B[1;33m.\u001B[0m\u001B[0m_getitem_multilevel\u001B[0m\u001B[1;33m(\u001B[0m\u001B[0mkey\u001B[0m\u001B[1;33m)\u001B[0m\u001B[1;33m\u001B[0m\u001B[1;33m\u001B[0m\u001B[0m\n\u001B[1;32m-> 2800\u001B[1;33m             \u001B[0mindexer\u001B[0m \u001B[1;33m=\u001B[0m \u001B[0mself\u001B[0m\u001B[1;33m.\u001B[0m\u001B[0mcolumns\u001B[0m\u001B[1;33m.\u001B[0m\u001B[0mget_loc\u001B[0m\u001B[1;33m(\u001B[0m\u001B[0mkey\u001B[0m\u001B[1;33m)\u001B[0m\u001B[1;33m\u001B[0m\u001B[1;33m\u001B[0m\u001B[0m\n\u001B[0m\u001B[0;32m   2801\u001B[0m             \u001B[1;32mif\u001B[0m \u001B[0mis_integer\u001B[0m\u001B[1;33m(\u001B[0m\u001B[0mindexer\u001B[0m\u001B[1;33m)\u001B[0m\u001B[1;33m:\u001B[0m\u001B[1;33m\u001B[0m\u001B[1;33m\u001B[0m\u001B[0m\n\u001B[0;32m   2802\u001B[0m                 \u001B[0mindexer\u001B[0m \u001B[1;33m=\u001B[0m \u001B[1;33m[\u001B[0m\u001B[0mindexer\u001B[0m\u001B[1;33m]\u001B[0m\u001B[1;33m\u001B[0m\u001B[1;33m\u001B[0m\u001B[0m\n",
      "\u001B[1;32m~\\anaconda3\\envs\\skiprnn-2017-telecombcn\\lib\\site-packages\\pandas\\core\\indexes\\base.py\u001B[0m in \u001B[0;36mget_loc\u001B[1;34m(self, key, method, tolerance)\u001B[0m\n\u001B[0;32m   2646\u001B[0m                 \u001B[1;32mreturn\u001B[0m \u001B[0mself\u001B[0m\u001B[1;33m.\u001B[0m\u001B[0m_engine\u001B[0m\u001B[1;33m.\u001B[0m\u001B[0mget_loc\u001B[0m\u001B[1;33m(\u001B[0m\u001B[0mkey\u001B[0m\u001B[1;33m)\u001B[0m\u001B[1;33m\u001B[0m\u001B[1;33m\u001B[0m\u001B[0m\n\u001B[0;32m   2647\u001B[0m             \u001B[1;32mexcept\u001B[0m \u001B[0mKeyError\u001B[0m\u001B[1;33m:\u001B[0m\u001B[1;33m\u001B[0m\u001B[1;33m\u001B[0m\u001B[0m\n\u001B[1;32m-> 2648\u001B[1;33m                 \u001B[1;32mreturn\u001B[0m \u001B[0mself\u001B[0m\u001B[1;33m.\u001B[0m\u001B[0m_engine\u001B[0m\u001B[1;33m.\u001B[0m\u001B[0mget_loc\u001B[0m\u001B[1;33m(\u001B[0m\u001B[0mself\u001B[0m\u001B[1;33m.\u001B[0m\u001B[0m_maybe_cast_indexer\u001B[0m\u001B[1;33m(\u001B[0m\u001B[0mkey\u001B[0m\u001B[1;33m)\u001B[0m\u001B[1;33m)\u001B[0m\u001B[1;33m\u001B[0m\u001B[1;33m\u001B[0m\u001B[0m\n\u001B[0m\u001B[0;32m   2649\u001B[0m         \u001B[0mindexer\u001B[0m \u001B[1;33m=\u001B[0m \u001B[0mself\u001B[0m\u001B[1;33m.\u001B[0m\u001B[0mget_indexer\u001B[0m\u001B[1;33m(\u001B[0m\u001B[1;33m[\u001B[0m\u001B[0mkey\u001B[0m\u001B[1;33m]\u001B[0m\u001B[1;33m,\u001B[0m \u001B[0mmethod\u001B[0m\u001B[1;33m=\u001B[0m\u001B[0mmethod\u001B[0m\u001B[1;33m,\u001B[0m \u001B[0mtolerance\u001B[0m\u001B[1;33m=\u001B[0m\u001B[0mtolerance\u001B[0m\u001B[1;33m)\u001B[0m\u001B[1;33m\u001B[0m\u001B[1;33m\u001B[0m\u001B[0m\n\u001B[0;32m   2650\u001B[0m         \u001B[1;32mif\u001B[0m \u001B[0mindexer\u001B[0m\u001B[1;33m.\u001B[0m\u001B[0mndim\u001B[0m \u001B[1;33m>\u001B[0m \u001B[1;36m1\u001B[0m \u001B[1;32mor\u001B[0m \u001B[0mindexer\u001B[0m\u001B[1;33m.\u001B[0m\u001B[0msize\u001B[0m \u001B[1;33m>\u001B[0m \u001B[1;36m1\u001B[0m\u001B[1;33m:\u001B[0m\u001B[1;33m\u001B[0m\u001B[1;33m\u001B[0m\u001B[0m\n",
      "\u001B[1;32mpandas\\_libs\\index.pyx\u001B[0m in \u001B[0;36mpandas._libs.index.IndexEngine.get_loc\u001B[1;34m()\u001B[0m\n",
      "\u001B[1;32mpandas\\_libs\\index.pyx\u001B[0m in \u001B[0;36mpandas._libs.index.IndexEngine.get_loc\u001B[1;34m()\u001B[0m\n",
      "\u001B[1;32mpandas\\_libs\\hashtable_class_helper.pxi\u001B[0m in \u001B[0;36mpandas._libs.hashtable.PyObjectHashTable.get_item\u001B[1;34m()\u001B[0m\n",
      "\u001B[1;32mpandas\\_libs\\hashtable_class_helper.pxi\u001B[0m in \u001B[0;36mpandas._libs.hashtable.PyObjectHashTable.get_item\u001B[1;34m()\u001B[0m\n",
      "\u001B[1;31mKeyError\u001B[0m: ('val_updates', 'train_updates')"
     ]
    }
   ],
   "source": [
    "if not os.path.exists(f\"{folder}/plots\"):\n",
    "    os.makedirs(f\"{folder}/plots\")\n",
    "\n",
    "for i, df in enumerate(csvs):\n",
    "    df.loc[['val_updates', 'train_updates']] = df['val_updates', 'train_updates']/2520\n",
    "    ax = df[['val_acc', 'train_acc', 'val_updates', 'train_updates']].plot()\n",
    "    ax.set_ylim(0.4, 1)\n",
    "    ax.get_figure().savefig(f\"{folder}/plots/idx{i}_acc{round(best_accs[i], 2)}_cps{csvs[i].cost_per_sample[0]}_s{csvs[i].surprisal_cost[0]}_exp{csvs[i].exp[0]}.png\")\n",
    "    plt.clf()"
   ]
  },
  {
   "cell_type": "code",
   "execution_count": null,
   "metadata": {
    "pycharm": {
     "name": "#%%\n"
    }
   },
   "outputs": [],
   "source": [
    "# if not os.path.exists(f\"{folder}/lrplots\"):\n",
    "#     os.makedirs(f\"{folder}/lrplots\")\n",
    "#\n",
    "# for i, df in enumerate(lr0001):\n",
    "#     df[['val_acc', 'train_acc']].plot().get_figure().savefig(f\"{folder}/lrplots/idx{i}.png\")\n",
    "#"
   ]
  },
  {
   "cell_type": "code",
   "execution_count": null,
   "metadata": {
    "pycharm": {
     "name": "#%%\n"
    }
   },
   "outputs": [],
   "source": [
    "best_hyper = pd.concat(lr0001)\n",
    "\n",
    "best_hyper_diff = best_hyper['val_acc'].diff(15)\n",
    "best_hyper_diff.abs().mean()\n"
   ]
  },
  {
   "cell_type": "code",
   "execution_count": null,
   "outputs": [],
   "source": [
    "csvs[11]\n",
    "\n",
    "best_df.sort_values(by='val_acc')"
   ],
   "metadata": {
    "collapsed": false,
    "pycharm": {
     "name": "#%%\n"
    }
   }
  }
 ],
 "metadata": {
  "kernelspec": {
   "display_name": "Python 3",
   "language": "python",
   "name": "python3"
  },
  "language_info": {
   "codemirror_mode": {
    "name": "ipython",
    "version": 3
   },
   "file_extension": ".py",
   "mimetype": "text/x-python",
   "name": "python",
   "nbconvert_exporter": "python",
   "pygments_lexer": "ipython3",
   "version": "3.7.7"
  }
 },
 "nbformat": 4,
 "nbformat_minor": 1
}