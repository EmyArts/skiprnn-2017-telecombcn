{
 "cells": [
  {
   "cell_type": "code",
   "execution_count": 68,
   "metadata": {
    "pycharm": {
     "name": "#%% Import files\n"
    }
   },
   "outputs": [],
   "source": [
    "import pandas as pd\n",
    "import os\n",
    "import numpy as np\n",
    "import matplotlib.pyplot as plt\n",
    "import pickle\n",
    "import matplotlib\n",
    "from matplotlib.lines import Line2D\n",
    "import matplotlib.ticker as ticker\n",
    "\n",
    "folder = '../../AfterFailure/Gridsearch'"
   ]
  },
  {
   "cell_type": "code",
   "execution_count": 69,
   "outputs": [
    {
     "name": "stdout",
     "output_type": "stream",
     "text": [
      "Total number of Nans: 23\n"
     ]
    }
   ],
   "source": [
    "test_val = 'val'\n",
    "csvs = []\n",
    "\n",
    "count_nan = 0\n",
    "for i, file in enumerate(os.listdir(folder + '/csvs')):\n",
    "    df = pd.read_csv(folder + '/csvs' + '/' + file)\n",
    "    if (df.batch_size == 64).any():\n",
    "        df.rename(columns={'Unnamed: 0' : 'epoch'}, inplace=True)\n",
    "        count_nan += df.shape[0] * df.shape[1] - np.sum(df.count())\n",
    "        df['list_index'] = len(csvs)\n",
    "        filename = file.split(\"_\")\n",
    "        # print(filename[0][-2:].isdigit())\n",
    "        if filename[0][-2:].isdigit(): df['exp'] = filename[0][-2:]\n",
    "        else: df['exp'] = filename[0][-1]\n",
    "        csvs.append(df)\n",
    "\n",
    "print(f\"Total number of Nans: {count_nan}\")"
   ],
   "metadata": {
    "collapsed": false,
    "pycharm": {
     "name": "#%%\n"
    }
   }
  },
  {
   "cell_type": "code",
   "execution_count": 70,
   "metadata": {
    "pycharm": {
     "name": "#%%\n"
    }
   },
   "outputs": [
    {
     "name": "stdout",
     "output_type": "stream",
     "text": [
      "[[], [], [], [], [], [], [], [], [], [], [], [], [], [], [], [], [], [], [], [], [], [], [], [], [], [], [], [], [], [], [], [], [], [], [], [], [], [], [], [], [], [], [], [], [], [], [], [], [], [], [], [], [], [], [], [], [], [], [], [], [], [], [], [], [], [], [], [], [], [], [], [], [], []]\n"
     ]
    }
   ],
   "source": [
    "nan_index = []\n",
    "for i, df in enumerate(csvs):\n",
    "    nan_index.append(list(df[(df['val_acc'].isnull()) | (df['train_acc'].isnull()) |(df['train_updates'].isnull()) | (df['val_updates'].isnull())].index))\n",
    "\n",
    "print(nan_index)"
   ]
  },
  {
   "cell_type": "code",
   "execution_count": 71,
   "metadata": {
    "pycharm": {
     "name": "#%%\n"
    }
   },
   "outputs": [],
   "source": [
    "# weird_acc = []\n",
    "# for i, df in enumerate(csvs):\n",
    "#     weird_acc.append(list(df[(df['val_acc']>1) | (df['val_acc']<0.1) | (df['train_acc']>1) | (df['train_acc']<0.1)].index))\n",
    "# # for df in csvs:\n",
    "# #     df.drop(df[(df['val_acc']>1) | (df['val_acc']<0)].index, inplace = True)\n",
    "#\n",
    "# see = [csvs[i].iloc[l[0]] for i, l in enumerate(weird_acc) if l]\n",
    "#\n",
    "# early_stopped_dfs = []\n",
    "# for i in range(len(csvs)):\n",
    "#     n = nan_index[i]\n",
    "#     v = weird_acc[i]\n",
    "#     if n and v:\n",
    "#         early_stopped_dfs.append(csvs[i].iloc[[min(min(v), min(n))]])\n",
    "#     elif n:\n",
    "#         early_stopped_dfs.append(csvs[i].iloc[[min(n)]])\n",
    "#     elif v:\n",
    "#         early_stopped_dfs.append(csvs[i].iloc[[min(v)]])\n",
    "#"
   ]
  },
  {
   "cell_type": "code",
   "execution_count": 72,
   "metadata": {
    "pycharm": {
     "name": "#%%\n"
    }
   },
   "outputs": [],
   "source": [
    "# early_stopped = pd.concat(early_stopped_dfs)\n",
    "# early_stopped.drop(columns=['val_acc', 'train_acc', 'val_updates', 'train_updates', 'early_stopping'], inplace=True)\n",
    "# print(\"Networks that stopped early\")\n",
    "# early_stopped\n",
    "# csvs[0].columns\n",
    "# csvs[2]\n",
    "# for df in csvs:\n",
    "#     print(len(df))"
   ]
  },
  {
   "cell_type": "code",
   "execution_count": 73,
   "metadata": {
    "pycharm": {
     "name": "#%%\n"
    }
   },
   "outputs": [],
   "source": [
    "# manual_early_stopping = {4: 36,5: 28, 12: 12, 14:27, 32:18, 35:23, 41:35, 46: 12,53:12}\n",
    "#\n",
    "# for key, val in manual_early_stopping.items():\n",
    "#     csvs[key].drop(labels = range(val, 40), inplace=True)"
   ]
  },
  {
   "cell_type": "code",
   "execution_count": 74,
   "metadata": {
    "pycharm": {
     "name": "#%%\n"
    }
   },
   "outputs": [
    {
     "data": {
      "text/plain": "             epoch  batch_size  cost_per_sample  hidden_units  learning_rate  \\\ncount  5309.000000      5309.0      5309.000000        5309.0   5.309000e+03   \nmean     42.825391        64.0         0.001366          32.0   2.500000e-04   \nstd      30.783309         0.0         0.003057           0.0   5.421521e-20   \nmin       0.000000        64.0         0.000001          32.0   2.500000e-04   \n25%      17.000000        64.0         0.000010          32.0   2.500000e-04   \n50%      36.000000        64.0         0.000100          32.0   2.500000e-04   \n75%      64.000000        64.0         0.001000          32.0   2.500000e-04   \nmax     124.000000        64.0         0.010000          32.0   2.500000e-04   \n\n       surprisal_cost        trial      val_acc  val_updates    train_acc  \\\ncount     5309.000000  5309.000000  5309.000000  5309.000000  5309.000000   \nmean         0.017200     1.007346     0.703087     0.597269     0.713208   \nstd          0.034958     0.799010     0.117814     0.351186     0.126893   \nmin          0.000000     0.000000     0.492889     0.009201     0.488448   \n25%          0.000100     0.000000     0.585938     0.300430     0.585804   \n50%          0.001000     1.000000     0.711538     0.650675     0.716613   \n75%          0.010000     2.000000     0.811198     0.999107     0.829527   \nmax          0.100000     2.000000     0.858474     1.000000     0.897970   \n\n       train_updates  entropy_loss  budget_loss  surprisal_loss   list_index  \ncount    5309.000000   5286.000000  5309.000000     5309.000000  5309.000000  \nmean        0.596962      0.525008     0.045674        0.056184    35.585986  \nstd         0.348246      0.139807     0.213782        0.143749    21.348068  \nmin         0.009239      0.260116     0.000022        0.000000     0.000000  \n25%         0.305104      0.390306     0.001575        0.000132    17.000000  \n50%         0.636548      0.583787     0.013160        0.001311    36.000000  \n75%         0.999167      0.667520     0.034306        0.039789    54.000000  \nmax         1.000000      0.717025     2.303688        0.687550    73.000000  ",
      "text/html": "<div>\n<style scoped>\n    .dataframe tbody tr th:only-of-type {\n        vertical-align: middle;\n    }\n\n    .dataframe tbody tr th {\n        vertical-align: top;\n    }\n\n    .dataframe thead th {\n        text-align: right;\n    }\n</style>\n<table border=\"1\" class=\"dataframe\">\n  <thead>\n    <tr style=\"text-align: right;\">\n      <th></th>\n      <th>epoch</th>\n      <th>batch_size</th>\n      <th>cost_per_sample</th>\n      <th>hidden_units</th>\n      <th>learning_rate</th>\n      <th>surprisal_cost</th>\n      <th>trial</th>\n      <th>val_acc</th>\n      <th>val_updates</th>\n      <th>train_acc</th>\n      <th>train_updates</th>\n      <th>entropy_loss</th>\n      <th>budget_loss</th>\n      <th>surprisal_loss</th>\n      <th>list_index</th>\n    </tr>\n  </thead>\n  <tbody>\n    <tr>\n      <th>count</th>\n      <td>5309.000000</td>\n      <td>5309.0</td>\n      <td>5309.000000</td>\n      <td>5309.0</td>\n      <td>5.309000e+03</td>\n      <td>5309.000000</td>\n      <td>5309.000000</td>\n      <td>5309.000000</td>\n      <td>5309.000000</td>\n      <td>5309.000000</td>\n      <td>5309.000000</td>\n      <td>5286.000000</td>\n      <td>5309.000000</td>\n      <td>5309.000000</td>\n      <td>5309.000000</td>\n    </tr>\n    <tr>\n      <th>mean</th>\n      <td>42.825391</td>\n      <td>64.0</td>\n      <td>0.001366</td>\n      <td>32.0</td>\n      <td>2.500000e-04</td>\n      <td>0.017200</td>\n      <td>1.007346</td>\n      <td>0.703087</td>\n      <td>0.597269</td>\n      <td>0.713208</td>\n      <td>0.596962</td>\n      <td>0.525008</td>\n      <td>0.045674</td>\n      <td>0.056184</td>\n      <td>35.585986</td>\n    </tr>\n    <tr>\n      <th>std</th>\n      <td>30.783309</td>\n      <td>0.0</td>\n      <td>0.003057</td>\n      <td>0.0</td>\n      <td>5.421521e-20</td>\n      <td>0.034958</td>\n      <td>0.799010</td>\n      <td>0.117814</td>\n      <td>0.351186</td>\n      <td>0.126893</td>\n      <td>0.348246</td>\n      <td>0.139807</td>\n      <td>0.213782</td>\n      <td>0.143749</td>\n      <td>21.348068</td>\n    </tr>\n    <tr>\n      <th>min</th>\n      <td>0.000000</td>\n      <td>64.0</td>\n      <td>0.000001</td>\n      <td>32.0</td>\n      <td>2.500000e-04</td>\n      <td>0.000000</td>\n      <td>0.000000</td>\n      <td>0.492889</td>\n      <td>0.009201</td>\n      <td>0.488448</td>\n      <td>0.009239</td>\n      <td>0.260116</td>\n      <td>0.000022</td>\n      <td>0.000000</td>\n      <td>0.000000</td>\n    </tr>\n    <tr>\n      <th>25%</th>\n      <td>17.000000</td>\n      <td>64.0</td>\n      <td>0.000010</td>\n      <td>32.0</td>\n      <td>2.500000e-04</td>\n      <td>0.000100</td>\n      <td>0.000000</td>\n      <td>0.585938</td>\n      <td>0.300430</td>\n      <td>0.585804</td>\n      <td>0.305104</td>\n      <td>0.390306</td>\n      <td>0.001575</td>\n      <td>0.000132</td>\n      <td>17.000000</td>\n    </tr>\n    <tr>\n      <th>50%</th>\n      <td>36.000000</td>\n      <td>64.0</td>\n      <td>0.000100</td>\n      <td>32.0</td>\n      <td>2.500000e-04</td>\n      <td>0.001000</td>\n      <td>1.000000</td>\n      <td>0.711538</td>\n      <td>0.650675</td>\n      <td>0.716613</td>\n      <td>0.636548</td>\n      <td>0.583787</td>\n      <td>0.013160</td>\n      <td>0.001311</td>\n      <td>36.000000</td>\n    </tr>\n    <tr>\n      <th>75%</th>\n      <td>64.000000</td>\n      <td>64.0</td>\n      <td>0.001000</td>\n      <td>32.0</td>\n      <td>2.500000e-04</td>\n      <td>0.010000</td>\n      <td>2.000000</td>\n      <td>0.811198</td>\n      <td>0.999107</td>\n      <td>0.829527</td>\n      <td>0.999167</td>\n      <td>0.667520</td>\n      <td>0.034306</td>\n      <td>0.039789</td>\n      <td>54.000000</td>\n    </tr>\n    <tr>\n      <th>max</th>\n      <td>124.000000</td>\n      <td>64.0</td>\n      <td>0.010000</td>\n      <td>32.0</td>\n      <td>2.500000e-04</td>\n      <td>0.100000</td>\n      <td>2.000000</td>\n      <td>0.858474</td>\n      <td>1.000000</td>\n      <td>0.897970</td>\n      <td>1.000000</td>\n      <td>0.717025</td>\n      <td>2.303688</td>\n      <td>0.687550</td>\n      <td>73.000000</td>\n    </tr>\n  </tbody>\n</table>\n</div>"
     },
     "execution_count": 74,
     "metadata": {},
     "output_type": "execute_result"
    }
   ],
   "source": [
    "big_df = pd.concat(csvs)\n",
    "big_df.describe()"
   ]
  },
  {
   "cell_type": "code",
   "execution_count": 75,
   "metadata": {
    "pycharm": {
     "name": "#%%\n"
    }
   },
   "outputs": [
    {
     "data": {
      "text/plain": "<matplotlib.axes._subplots.AxesSubplot at 0x29a92376bc8>"
     },
     "execution_count": 75,
     "metadata": {},
     "output_type": "execute_result"
    },
    {
     "data": {
      "text/plain": "<Figure size 720x720 with 1 Axes>",
      "image/png": "[encoded data removed]"
     },
     "metadata": {
      "needs_background": "light"
     },
     "output_type": "display_data"
    }
   ],
   "source": [
    "big_df['val_acc'].hist(figsize=(10, 10))"
   ]
  },
  {
   "cell_type": "code",
   "execution_count": 76,
   "metadata": {
    "pycharm": {
     "name": "#%%\n"
    }
   },
   "outputs": [],
   "source": [
    "best_rows = []\n",
    "best_accs = []\n",
    "for df in csvs:\n",
    "    best_accs.append(df.loc[:, (test_val + '_acc')].max())\n",
    "    best_rows.append(df.loc[df.loc[:, test_val + '_acc'].argmax()].to_dict())"
   ]
  },
  {
   "cell_type": "code",
   "execution_count": 77,
   "metadata": {
    "pycharm": {
     "name": "#%%\n"
    }
   },
   "outputs": [],
   "source": [
    "best_df = pd.DataFrame(best_rows)\n",
    "best_df = best_df.drop(columns= [\"learning_rate\", \"hidden_units\", \"batch_size\", \"early_stopping\"])\n",
    "\n",
    "original = best_df[best_df['surprisal_cost'] == 0]\n",
    "surprisal = best_df[best_df['surprisal_cost'] != 0]"
   ]
  },
  {
   "cell_type": "code",
   "execution_count": 78,
   "metadata": {
    "pycharm": {
     "name": "#%%\n"
    }
   },
   "outputs": [
    {
     "name": "stdout",
     "output_type": "stream",
     "text": [
      "No surprisal\n"
     ]
    },
    {
     "data": {
      "text/plain": "    epoch  cost_per_sample  surprisal_cost  trial   val_acc  val_updates  \\\n0      99         0.001000             0.0      0  0.825421     0.325568   \n1      99         0.001000             0.0      1  0.833133     0.324010   \n2      50         0.001000             0.0      2  0.804387     0.323899   \n3      22         0.010000             0.0      0  0.588041     0.012794   \n4      24         0.010000             0.0      2  0.582432     0.010479   \n5      49         0.000010             0.0      0  0.845453     0.711011   \n6      94         0.000010             0.0      1  0.855268     0.798062   \n7      98         0.000010             0.0      2  0.851763     0.800462   \n23    123         0.000001             0.0      0  0.855769     0.875970   \n24     34         0.000001             0.0      1  0.709535     0.914011   \n25     21         0.000001             0.0      2  0.664263     0.843289   \n54     62         0.000100             0.0      0  0.846955     0.589769   \n55     93         0.000100             0.0      1  0.853466     0.713798   \n56     76         0.000100             0.0      2  0.846955     0.633213   \n57     41         0.010000             0.0      1  0.592748     0.015043   \n\n    train_acc  train_updates  entropy_loss  budget_loss  surprisal_loss  \\\n0    0.840545       0.310575      0.373079     0.071547             0.0   \n1    0.840612       0.300526      0.370953     0.069232             0.0   \n2    0.807292       0.317303      0.423025     0.073097             0.0   \n3    0.577390       0.012584      0.673652     0.028990             0.0   \n4    0.571381       0.010645      0.675198     0.024523             0.0   \n5    0.844685       0.663304      0.359965     0.001528             0.0   \n6    0.880743       0.775913      0.290202     0.001787             0.0   \n7    0.867054       0.786517      0.326296     0.001812             0.0   \n23   0.889690       0.874434      0.280855     0.000201             0.0   \n24   0.692842       0.920133      0.608738     0.000212             0.0   \n25   0.675548       0.873485      0.621319     0.000201             0.0   \n54   0.850694       0.607837      0.342386     0.014003             0.0   \n55   0.867722       0.648041      0.313555     0.014929             0.0   \n56   0.868456       0.592319      0.315703     0.013645             0.0   \n57   0.585069       0.014018      0.665091     0.032294             0.0   \n\n    list_index exp  \n0            0   0  \n1            1   0  \n2            2   0  \n3            3   0  \n4            4  10  \n5            5  10  \n6            6  10  \n7            7  10  \n23          23  15  \n24          24  15  \n25          25  15  \n54          54   5  \n55          55   5  \n56          56   5  \n57          57   5  ",
      "text/html": "<div>\n<style scoped>\n    .dataframe tbody tr th:only-of-type {\n        vertical-align: middle;\n    }\n\n    .dataframe tbody tr th {\n        vertical-align: top;\n    }\n\n    .dataframe thead th {\n        text-align: right;\n    }\n</style>\n<table border=\"1\" class=\"dataframe\">\n  <thead>\n    <tr style=\"text-align: right;\">\n      <th></th>\n      <th>epoch</th>\n      <th>cost_per_sample</th>\n      <th>surprisal_cost</th>\n      <th>trial</th>\n      <th>val_acc</th>\n      <th>val_updates</th>\n      <th>train_acc</th>\n      <th>train_updates</th>\n      <th>entropy_loss</th>\n      <th>budget_loss</th>\n      <th>surprisal_loss</th>\n      <th>list_index</th>\n      <th>exp</th>\n    </tr>\n  </thead>\n  <tbody>\n    <tr>\n      <th>0</th>\n      <td>99</td>\n      <td>0.001000</td>\n      <td>0.0</td>\n      <td>0</td>\n      <td>0.825421</td>\n      <td>0.325568</td>\n      <td>0.840545</td>\n      <td>0.310575</td>\n      <td>0.373079</td>\n      <td>0.071547</td>\n      <td>0.0</td>\n      <td>0</td>\n      <td>0</td>\n    </tr>\n    <tr>\n      <th>1</th>\n      <td>99</td>\n      <td>0.001000</td>\n      <td>0.0</td>\n      <td>1</td>\n      <td>0.833133</td>\n      <td>0.324010</td>\n      <td>0.840612</td>\n      <td>0.300526</td>\n      <td>0.370953</td>\n      <td>0.069232</td>\n      <td>0.0</td>\n      <td>1</td>\n      <td>0</td>\n    </tr>\n    <tr>\n      <th>2</th>\n      <td>50</td>\n      <td>0.001000</td>\n      <td>0.0</td>\n      <td>2</td>\n      <td>0.804387</td>\n      <td>0.323899</td>\n      <td>0.807292</td>\n      <td>0.317303</td>\n      <td>0.423025</td>\n      <td>0.073097</td>\n      <td>0.0</td>\n      <td>2</td>\n      <td>0</td>\n    </tr>\n    <tr>\n      <th>3</th>\n      <td>22</td>\n      <td>0.010000</td>\n      <td>0.0</td>\n      <td>0</td>\n      <td>0.588041</td>\n      <td>0.012794</td>\n      <td>0.577390</td>\n      <td>0.012584</td>\n      <td>0.673652</td>\n      <td>0.028990</td>\n      <td>0.0</td>\n      <td>3</td>\n      <td>0</td>\n    </tr>\n    <tr>\n      <th>4</th>\n      <td>24</td>\n      <td>0.010000</td>\n      <td>0.0</td>\n      <td>2</td>\n      <td>0.582432</td>\n      <td>0.010479</td>\n      <td>0.571381</td>\n      <td>0.010645</td>\n      <td>0.675198</td>\n      <td>0.024523</td>\n      <td>0.0</td>\n      <td>4</td>\n      <td>10</td>\n    </tr>\n    <tr>\n      <th>5</th>\n      <td>49</td>\n      <td>0.000010</td>\n      <td>0.0</td>\n      <td>0</td>\n      <td>0.845453</td>\n      <td>0.711011</td>\n      <td>0.844685</td>\n      <td>0.663304</td>\n      <td>0.359965</td>\n      <td>0.001528</td>\n      <td>0.0</td>\n      <td>5</td>\n      <td>10</td>\n    </tr>\n    <tr>\n      <th>6</th>\n      <td>94</td>\n      <td>0.000010</td>\n      <td>0.0</td>\n      <td>1</td>\n      <td>0.855268</td>\n      <td>0.798062</td>\n      <td>0.880743</td>\n      <td>0.775913</td>\n      <td>0.290202</td>\n      <td>0.001787</td>\n      <td>0.0</td>\n      <td>6</td>\n      <td>10</td>\n    </tr>\n    <tr>\n      <th>7</th>\n      <td>98</td>\n      <td>0.000010</td>\n      <td>0.0</td>\n      <td>2</td>\n      <td>0.851763</td>\n      <td>0.800462</td>\n      <td>0.867054</td>\n      <td>0.786517</td>\n      <td>0.326296</td>\n      <td>0.001812</td>\n      <td>0.0</td>\n      <td>7</td>\n      <td>10</td>\n    </tr>\n    <tr>\n      <th>23</th>\n      <td>123</td>\n      <td>0.000001</td>\n      <td>0.0</td>\n      <td>0</td>\n      <td>0.855769</td>\n      <td>0.875970</td>\n      <td>0.889690</td>\n      <td>0.874434</td>\n      <td>0.280855</td>\n      <td>0.000201</td>\n      <td>0.0</td>\n      <td>23</td>\n      <td>15</td>\n    </tr>\n    <tr>\n      <th>24</th>\n      <td>34</td>\n      <td>0.000001</td>\n      <td>0.0</td>\n      <td>1</td>\n      <td>0.709535</td>\n      <td>0.914011</td>\n      <td>0.692842</td>\n      <td>0.920133</td>\n      <td>0.608738</td>\n      <td>0.000212</td>\n      <td>0.0</td>\n      <td>24</td>\n      <td>15</td>\n    </tr>\n    <tr>\n      <th>25</th>\n      <td>21</td>\n      <td>0.000001</td>\n      <td>0.0</td>\n      <td>2</td>\n      <td>0.664263</td>\n      <td>0.843289</td>\n      <td>0.675548</td>\n      <td>0.873485</td>\n      <td>0.621319</td>\n      <td>0.000201</td>\n      <td>0.0</td>\n      <td>25</td>\n      <td>15</td>\n    </tr>\n    <tr>\n      <th>54</th>\n      <td>62</td>\n      <td>0.000100</td>\n      <td>0.0</td>\n      <td>0</td>\n      <td>0.846955</td>\n      <td>0.589769</td>\n      <td>0.850694</td>\n      <td>0.607837</td>\n      <td>0.342386</td>\n      <td>0.014003</td>\n      <td>0.0</td>\n      <td>54</td>\n      <td>5</td>\n    </tr>\n    <tr>\n      <th>55</th>\n      <td>93</td>\n      <td>0.000100</td>\n      <td>0.0</td>\n      <td>1</td>\n      <td>0.853466</td>\n      <td>0.713798</td>\n      <td>0.867722</td>\n      <td>0.648041</td>\n      <td>0.313555</td>\n      <td>0.014929</td>\n      <td>0.0</td>\n      <td>55</td>\n      <td>5</td>\n    </tr>\n    <tr>\n      <th>56</th>\n      <td>76</td>\n      <td>0.000100</td>\n      <td>0.0</td>\n      <td>2</td>\n      <td>0.846955</td>\n      <td>0.633213</td>\n      <td>0.868456</td>\n      <td>0.592319</td>\n      <td>0.315703</td>\n      <td>0.013645</td>\n      <td>0.0</td>\n      <td>56</td>\n      <td>5</td>\n    </tr>\n    <tr>\n      <th>57</th>\n      <td>41</td>\n      <td>0.010000</td>\n      <td>0.0</td>\n      <td>1</td>\n      <td>0.592748</td>\n      <td>0.015043</td>\n      <td>0.585069</td>\n      <td>0.014018</td>\n      <td>0.665091</td>\n      <td>0.032294</td>\n      <td>0.0</td>\n      <td>57</td>\n      <td>5</td>\n    </tr>\n  </tbody>\n</table>\n</div>"
     },
     "execution_count": 78,
     "metadata": {},
     "output_type": "execute_result"
    }
   ],
   "source": [
    "print(\"No surprisal\")\n",
    "original"
   ]
  },
  {
   "cell_type": "code",
   "execution_count": 79,
   "outputs": [
    {
     "name": "stdout",
     "output_type": "stream",
     "text": [
      "With surprisal\n"
     ]
    },
    {
     "data": {
      "text/plain": "    epoch  cost_per_sample  surprisal_cost  trial   val_acc  val_updates  \\\n8      50         0.010000          0.1000      2  0.613081     0.018552   \n9      10         0.000010          0.1000      0  0.678786     1.000000   \n10     87         0.000010          0.1000      1  0.718049     0.999290   \n11     64         0.000010          0.1000      2  0.694311     0.999987   \n12     22         0.010000          0.0100      2  0.592748     0.013174   \n13     77         0.000010          0.0100      0  0.662159     0.999626   \n14    122         0.000010          0.0100      1  0.720152     0.998130   \n15     21         0.000010          0.0100      2  0.690505     0.999998   \n16     33         0.000010          0.0010      0  0.708333     0.999330   \n17     67         0.000010          0.0010      1  0.721054     0.999322   \n18     92         0.000010          0.0010      2  0.708133     0.998854   \n19     23         0.010000          0.0001      2  0.582933     0.011154   \n20     15         0.000010          0.0001      0  0.661358     0.362574   \n21    114         0.000010          0.0001      1  0.858474     0.712259   \n22    117         0.000010          0.0001      2  0.852163     0.780638   \n26     15         0.000001          0.1000      0  0.513622     0.999894   \n27     12         0.000001          0.1000      1  0.510417     0.999874   \n28     31         0.000001          0.1000      2  0.673878     0.999799   \n29     27         0.000001          0.0100      0  0.706330     0.999887   \n30     70         0.000001          0.0100      1  0.700321     0.999218   \n31     66         0.000001          0.0100      2  0.714343     0.999357   \n32     48         0.000001          0.0010      0  0.723357     0.999952   \n33    101         0.000001          0.0010      1  0.843349     0.756398   \n34     31         0.000001          0.0010      2  0.698718     0.999960   \n35     21         0.000001          0.0001      0  0.699519     0.628990   \n36    123         0.000001          0.0001      1  0.847456     0.911272   \n37     63         0.000001          0.0001      2  0.852664     0.816436   \n38     48         0.001000          0.1000      0  0.815805     0.344390   \n39     27         0.001000          0.1000      1  0.673377     0.999954   \n40     20         0.001000          0.1000      2  0.673778     0.999418   \n41     29         0.010000          0.1000      0  0.506510     0.999645   \n42     85         0.001000          0.0100      0  0.827424     0.353876   \n43     86         0.001000          0.0100      1  0.831931     0.353332   \n44     56         0.001000          0.0100      2  0.811599     0.318962   \n45     43         0.010000          0.0100      0  0.591146     0.013093   \n46    121         0.001000          0.0010      0  0.838141     0.327635   \n47     86         0.001000          0.0010      1  0.828826     0.332170   \n48     55         0.001000          0.0010      2  0.815505     0.336793   \n49     22         0.010000          0.0010      0  0.587841     0.012087   \n50     92         0.001000          0.0001      0  0.820312     0.318044   \n51     76         0.001000          0.0001      1  0.829127     0.325993   \n52     78         0.001000          0.0001      2  0.823317     0.314722   \n53     15         0.010000          0.0001      0  0.581030     0.011501   \n58     28         0.000100          0.1000      0  0.680389     0.999942   \n59     54         0.000100          0.1000      1  0.831030     0.999500   \n60     74         0.000100          0.1000      2  0.697616     0.999693   \n61      6         0.010000          0.1000      1  0.584235     0.013731   \n62     78         0.000100          0.0100      0  0.858474     0.657062   \n63     49         0.000100          0.0100      1  0.710938     0.999270   \n64     18         0.000100          0.0100      2  0.648037     0.172032   \n65     15         0.010000          0.0100      1  0.582332     0.012369   \n66     29         0.000100          0.0010      0  0.680990     0.997124   \n67     33         0.000100          0.0010      1  0.708333     0.999162   \n68    123         0.000100          0.0010      2  0.850060     0.743285   \n69     31         0.010000          0.0010      1  0.591246     0.011782   \n70    123         0.000100          0.0001      0  0.855869     0.680365   \n71     17         0.000100          0.0001      1  0.658053     0.236992   \n72     79         0.000100          0.0001      2  0.854868     0.656580   \n73     15         0.010000          0.0001      1  0.576823     0.009751   \n\n    train_acc  train_updates  entropy_loss  budget_loss  surprisal_loss  \\\n8    0.601429       0.018664      0.656518     0.042996        0.686658   \n9    0.667935       0.999998      0.634864     0.002304        0.016618   \n10   0.705395       0.999511      0.599830     0.002303        0.392359   \n11   0.689837       0.999886      0.612159     0.002303        0.092423   \n12   0.587607       0.012701      0.671316     0.029260        0.068657   \n13   0.646100       0.999258      0.641715     0.002302        0.040500   \n14   0.728098       0.998255      0.578905     0.002300        0.042786   \n15   0.681958       0.999999      0.620628     0.002304        0.000888   \n16   0.690772       0.999352      0.613294     0.002302        0.004043   \n17   0.710670       0.999204      0.594854     0.002302        0.004129   \n18   0.706130       0.998787      0.594479     0.002301        0.005119   \n19   0.576389       0.010682      0.673958     0.024607        0.000687   \n20   0.643096       0.289639      0.647239     0.000667        0.000687   \n21   0.889223       0.678831      0.280515     0.001564        0.000682   \n22   0.884882       0.775863      0.288565     0.001787        0.000685   \n26   0.513822       0.999874      0.688704     0.000230        0.485277   \n27   0.513021       0.999930      0.688635     0.000230        0.353730   \n28   0.668403       0.999790      0.633681     0.000230        0.371828   \n29   0.697316       0.999951      0.610662     0.000230        0.019398   \n30   0.682091       0.999241      0.620210     0.000230        0.037630   \n31   0.711538       0.999430      0.598560     0.000230        0.032759   \n32   0.716747       0.999962      0.589404     0.000230        0.001981   \n33   0.864583       0.727726      0.360084     0.000168        0.006870   \n34   0.684028       0.999959      0.620913     0.000230        0.002779   \n35   0.682692       0.726889      0.618008     0.000167        0.000670   \n36   0.879407       0.870021      0.314298     0.000200        0.000686   \n37   0.859241       0.825813      0.333312     0.000190        0.000697   \n38   0.810096       0.314335      0.417116     0.072413        0.684428   \n39   0.664463       0.999479      0.638601     0.230250        0.253199   \n40   0.664530       0.999916      0.636984     0.230351        0.303331   \n41   0.512420       0.999517      0.690491     2.302586        0.306928   \n42   0.834535       0.312422      0.381554     0.071973        0.068578   \n43   0.835737       0.318215      0.372856     0.073307        0.068544   \n44   0.810964       0.308029      0.417550     0.070961        0.068675   \n45   0.582732       0.012734      0.667858     0.029334        0.068657   \n46   0.842214       0.291738      0.369274     0.067208        0.006859   \n47   0.832599       0.294513      0.387923     0.067847        0.006857   \n48   0.818510       0.285521      0.411667     0.065775        0.006862   \n49   0.581330       0.011355      0.674210     0.026159        0.006866   \n50   0.835270       0.305310      0.378612     0.070334        0.000686   \n51   0.835737       0.304190      0.379761     0.070076        0.000687   \n52   0.831464       0.314229      0.388586     0.072389        0.000686   \n53   0.577324       0.010984      0.676664     0.025304        0.000687   \n58   0.635016       0.999879      0.636884     0.023034        0.345492   \n59   0.825321       0.999674      0.394328     0.023029        0.450966   \n60   0.685029       0.999359      0.618443     0.023022        0.412860   \n61   0.572249       0.013273      0.676222     0.030577        0.686543   \n62   0.870192       0.612886      0.309114     0.014119        0.068619   \n63   0.704394       0.999391      0.603715     0.023023        0.037278   \n64   0.639423       0.167365      0.647559     0.003856        0.068535   \n65   0.575855       0.011990      0.675256     0.027622        0.068653   \n66   0.671207       0.997477      0.629237     0.022979        0.006047   \n67   0.700321       0.999755      0.599425     0.023031        0.004677   \n68   0.890091       0.697158      0.273068     0.016060        0.006856   \n69   0.580128       0.011641      0.672541     0.026818        0.006865   \n70   0.884014       0.630347      0.289238     0.014521        0.000687   \n71   0.599426       0.208962      0.666853     0.004814        0.000685   \n72   0.865518       0.584586      0.321883     0.013467        0.000688   \n73   0.569712       0.009724      0.677849     0.022402        0.000686   \n\n    list_index exp  \n8            8  11  \n9            9  11  \n10          10  11  \n11          11  11  \n12          12  12  \n13          13  12  \n14          14  12  \n15          15  12  \n16          16  13  \n17          17  13  \n18          18  13  \n19          19  14  \n20          20  14  \n21          21  14  \n22          22  14  \n26          26  16  \n27          27  16  \n28          28  16  \n29          29  17  \n30          30  17  \n31          31  17  \n32          32  18  \n33          33  18  \n34          34  18  \n35          35  19  \n36          36  19  \n37          37  19  \n38          38   1  \n39          39   1  \n40          40   1  \n41          41   1  \n42          42   2  \n43          43   2  \n44          44   2  \n45          45   2  \n46          46   3  \n47          47   3  \n48          48   3  \n49          49   3  \n50          50   4  \n51          51   4  \n52          52   4  \n53          53   4  \n58          58   6  \n59          59   6  \n60          60   6  \n61          61   6  \n62          62   7  \n63          63   7  \n64          64   7  \n65          65   7  \n66          66   8  \n67          67   8  \n68          68   8  \n69          69   8  \n70          70   9  \n71          71   9  \n72          72   9  \n73          73   9  ",
      "text/html": "<div>\n<style scoped>\n    .dataframe tbody tr th:only-of-type {\n        vertical-align: middle;\n    }\n\n    .dataframe tbody tr th {\n        vertical-align: top;\n    }\n\n    .dataframe thead th {\n        text-align: right;\n    }\n</style>\n<table border=\"1\" class=\"dataframe\">\n  <thead>\n    <tr style=\"text-align: right;\">\n      <th></th>\n      <th>epoch</th>\n      <th>cost_per_sample</th>\n      <th>surprisal_cost</th>\n      <th>trial</th>\n      <th>val_acc</th>\n      <th>val_updates</th>\n      <th>train_acc</th>\n      <th>train_updates</th>\n      <th>entropy_loss</th>\n      <th>budget_loss</th>\n      <th>surprisal_loss</th>\n      <th>list_index</th>\n      <th>exp</th>\n    </tr>\n  </thead>\n  <tbody>\n    <tr>\n      <th>8</th>\n      <td>50</td>\n      <td>0.010000</td>\n      <td>0.1000</td>\n      <td>2</td>\n      <td>0.613081</td>\n      <td>0.018552</td>\n      <td>0.601429</td>\n      <td>0.018664</td>\n      <td>0.656518</td>\n      <td>0.042996</td>\n      <td>0.686658</td>\n      <td>8</td>\n      <td>11</td>\n    </tr>\n    <tr>\n      <th>9</th>\n      <td>10</td>\n      <td>0.000010</td>\n      <td>0.1000</td>\n      <td>0</td>\n      <td>0.678786</td>\n      <td>1.000000</td>\n      <td>0.667935</td>\n      <td>0.999998</td>\n      <td>0.634864</td>\n      <td>0.002304</td>\n      <td>0.016618</td>\n      <td>9</td>\n      <td>11</td>\n    </tr>\n    <tr>\n      <th>10</th>\n      <td>87</td>\n      <td>0.000010</td>\n      <td>0.1000</td>\n      <td>1</td>\n      <td>0.718049</td>\n      <td>0.999290</td>\n      <td>0.705395</td>\n      <td>0.999511</td>\n      <td>0.599830</td>\n      <td>0.002303</td>\n      <td>0.392359</td>\n      <td>10</td>\n      <td>11</td>\n    </tr>\n    <tr>\n      <th>11</th>\n      <td>64</td>\n      <td>0.000010</td>\n      <td>0.1000</td>\n      <td>2</td>\n      <td>0.694311</td>\n      <td>0.999987</td>\n      <td>0.689837</td>\n      <td>0.999886</td>\n      <td>0.612159</td>\n      <td>0.002303</td>\n      <td>0.092423</td>\n      <td>11</td>\n      <td>11</td>\n    </tr>\n    <tr>\n      <th>12</th>\n      <td>22</td>\n      <td>0.010000</td>\n      <td>0.0100</td>\n      <td>2</td>\n      <td>0.592748</td>\n      <td>0.013174</td>\n      <td>0.587607</td>\n      <td>0.012701</td>\n      <td>0.671316</td>\n      <td>0.029260</td>\n      <td>0.068657</td>\n      <td>12</td>\n      <td>12</td>\n    </tr>\n    <tr>\n      <th>13</th>\n      <td>77</td>\n      <td>0.000010</td>\n      <td>0.0100</td>\n      <td>0</td>\n      <td>0.662159</td>\n      <td>0.999626</td>\n      <td>0.646100</td>\n      <td>0.999258</td>\n      <td>0.641715</td>\n      <td>0.002302</td>\n      <td>0.040500</td>\n      <td>13</td>\n      <td>12</td>\n    </tr>\n    <tr>\n      <th>14</th>\n      <td>122</td>\n      <td>0.000010</td>\n      <td>0.0100</td>\n      <td>1</td>\n      <td>0.720152</td>\n      <td>0.998130</td>\n      <td>0.728098</td>\n      <td>0.998255</td>\n      <td>0.578905</td>\n      <td>0.002300</td>\n      <td>0.042786</td>\n      <td>14</td>\n      <td>12</td>\n    </tr>\n    <tr>\n      <th>15</th>\n      <td>21</td>\n      <td>0.000010</td>\n      <td>0.0100</td>\n      <td>2</td>\n      <td>0.690505</td>\n      <td>0.999998</td>\n      <td>0.681958</td>\n      <td>0.999999</td>\n      <td>0.620628</td>\n      <td>0.002304</td>\n      <td>0.000888</td>\n      <td>15</td>\n      <td>12</td>\n    </tr>\n    <tr>\n      <th>16</th>\n      <td>33</td>\n      <td>0.000010</td>\n      <td>0.0010</td>\n      <td>0</td>\n      <td>0.708333</td>\n      <td>0.999330</td>\n      <td>0.690772</td>\n      <td>0.999352</td>\n      <td>0.613294</td>\n      <td>0.002302</td>\n      <td>0.004043</td>\n      <td>16</td>\n      <td>13</td>\n    </tr>\n    <tr>\n      <th>17</th>\n      <td>67</td>\n      <td>0.000010</td>\n      <td>0.0010</td>\n      <td>1</td>\n      <td>0.721054</td>\n      <td>0.999322</td>\n      <td>0.710670</td>\n      <td>0.999204</td>\n      <td>0.594854</td>\n      <td>0.002302</td>\n      <td>0.004129</td>\n      <td>17</td>\n      <td>13</td>\n    </tr>\n    <tr>\n      <th>18</th>\n      <td>92</td>\n      <td>0.000010</td>\n      <td>0.0010</td>\n      <td>2</td>\n      <td>0.708133</td>\n      <td>0.998854</td>\n      <td>0.706130</td>\n      <td>0.998787</td>\n      <td>0.594479</td>\n      <td>0.002301</td>\n      <td>0.005119</td>\n      <td>18</td>\n      <td>13</td>\n    </tr>\n    <tr>\n      <th>19</th>\n      <td>23</td>\n      <td>0.010000</td>\n      <td>0.0001</td>\n      <td>2</td>\n      <td>0.582933</td>\n      <td>0.011154</td>\n      <td>0.576389</td>\n      <td>0.010682</td>\n      <td>0.673958</td>\n      <td>0.024607</td>\n      <td>0.000687</td>\n      <td>19</td>\n      <td>14</td>\n    </tr>\n    <tr>\n      <th>20</th>\n      <td>15</td>\n      <td>0.000010</td>\n      <td>0.0001</td>\n      <td>0</td>\n      <td>0.661358</td>\n      <td>0.362574</td>\n      <td>0.643096</td>\n      <td>0.289639</td>\n      <td>0.647239</td>\n      <td>0.000667</td>\n      <td>0.000687</td>\n      <td>20</td>\n      <td>14</td>\n    </tr>\n    <tr>\n      <th>21</th>\n      <td>114</td>\n      <td>0.000010</td>\n      <td>0.0001</td>\n      <td>1</td>\n      <td>0.858474</td>\n      <td>0.712259</td>\n      <td>0.889223</td>\n      <td>0.678831</td>\n      <td>0.280515</td>\n      <td>0.001564</td>\n      <td>0.000682</td>\n      <td>21</td>\n      <td>14</td>\n    </tr>\n    <tr>\n      <th>22</th>\n      <td>117</td>\n      <td>0.000010</td>\n      <td>0.0001</td>\n      <td>2</td>\n      <td>0.852163</td>\n      <td>0.780638</td>\n      <td>0.884882</td>\n      <td>0.775863</td>\n      <td>0.288565</td>\n      <td>0.001787</td>\n      <td>0.000685</td>\n      <td>22</td>\n      <td>14</td>\n    </tr>\n    <tr>\n      <th>26</th>\n      <td>15</td>\n      <td>0.000001</td>\n      <td>0.1000</td>\n      <td>0</td>\n      <td>0.513622</td>\n      <td>0.999894</td>\n      <td>0.513822</td>\n      <td>0.999874</td>\n      <td>0.688704</td>\n      <td>0.000230</td>\n      <td>0.485277</td>\n      <td>26</td>\n      <td>16</td>\n    </tr>\n    <tr>\n      <th>27</th>\n      <td>12</td>\n      <td>0.000001</td>\n      <td>0.1000</td>\n      <td>1</td>\n      <td>0.510417</td>\n      <td>0.999874</td>\n      <td>0.513021</td>\n      <td>0.999930</td>\n      <td>0.688635</td>\n      <td>0.000230</td>\n      <td>0.353730</td>\n      <td>27</td>\n      <td>16</td>\n    </tr>\n    <tr>\n      <th>28</th>\n      <td>31</td>\n      <td>0.000001</td>\n      <td>0.1000</td>\n      <td>2</td>\n      <td>0.673878</td>\n      <td>0.999799</td>\n      <td>0.668403</td>\n      <td>0.999790</td>\n      <td>0.633681</td>\n      <td>0.000230</td>\n      <td>0.371828</td>\n      <td>28</td>\n      <td>16</td>\n    </tr>\n    <tr>\n      <th>29</th>\n      <td>27</td>\n      <td>0.000001</td>\n      <td>0.0100</td>\n      <td>0</td>\n      <td>0.706330</td>\n      <td>0.999887</td>\n      <td>0.697316</td>\n      <td>0.999951</td>\n      <td>0.610662</td>\n      <td>0.000230</td>\n      <td>0.019398</td>\n      <td>29</td>\n      <td>17</td>\n    </tr>\n    <tr>\n      <th>30</th>\n      <td>70</td>\n      <td>0.000001</td>\n      <td>0.0100</td>\n      <td>1</td>\n      <td>0.700321</td>\n      <td>0.999218</td>\n      <td>0.682091</td>\n      <td>0.999241</td>\n      <td>0.620210</td>\n      <td>0.000230</td>\n      <td>0.037630</td>\n      <td>30</td>\n      <td>17</td>\n    </tr>\n    <tr>\n      <th>31</th>\n      <td>66</td>\n      <td>0.000001</td>\n      <td>0.0100</td>\n      <td>2</td>\n      <td>0.714343</td>\n      <td>0.999357</td>\n      <td>0.711538</td>\n      <td>0.999430</td>\n      <td>0.598560</td>\n      <td>0.000230</td>\n      <td>0.032759</td>\n      <td>31</td>\n      <td>17</td>\n    </tr>\n    <tr>\n      <th>32</th>\n      <td>48</td>\n      <td>0.000001</td>\n      <td>0.0010</td>\n      <td>0</td>\n      <td>0.723357</td>\n      <td>0.999952</td>\n      <td>0.716747</td>\n      <td>0.999962</td>\n      <td>0.589404</td>\n      <td>0.000230</td>\n      <td>0.001981</td>\n      <td>32</td>\n      <td>18</td>\n    </tr>\n    <tr>\n      <th>33</th>\n      <td>101</td>\n      <td>0.000001</td>\n      <td>0.0010</td>\n      <td>1</td>\n      <td>0.843349</td>\n      <td>0.756398</td>\n      <td>0.864583</td>\n      <td>0.727726</td>\n      <td>0.360084</td>\n      <td>0.000168</td>\n      <td>0.006870</td>\n      <td>33</td>\n      <td>18</td>\n    </tr>\n    <tr>\n      <th>34</th>\n      <td>31</td>\n      <td>0.000001</td>\n      <td>0.0010</td>\n      <td>2</td>\n      <td>0.698718</td>\n      <td>0.999960</td>\n      <td>0.684028</td>\n      <td>0.999959</td>\n      <td>0.620913</td>\n      <td>0.000230</td>\n      <td>0.002779</td>\n      <td>34</td>\n      <td>18</td>\n    </tr>\n    <tr>\n      <th>35</th>\n      <td>21</td>\n      <td>0.000001</td>\n      <td>0.0001</td>\n      <td>0</td>\n      <td>0.699519</td>\n      <td>0.628990</td>\n      <td>0.682692</td>\n      <td>0.726889</td>\n      <td>0.618008</td>\n      <td>0.000167</td>\n      <td>0.000670</td>\n      <td>35</td>\n      <td>19</td>\n    </tr>\n    <tr>\n      <th>36</th>\n      <td>123</td>\n      <td>0.000001</td>\n      <td>0.0001</td>\n      <td>1</td>\n      <td>0.847456</td>\n      <td>0.911272</td>\n      <td>0.879407</td>\n      <td>0.870021</td>\n      <td>0.314298</td>\n      <td>0.000200</td>\n      <td>0.000686</td>\n      <td>36</td>\n      <td>19</td>\n    </tr>\n    <tr>\n      <th>37</th>\n      <td>63</td>\n      <td>0.000001</td>\n      <td>0.0001</td>\n      <td>2</td>\n      <td>0.852664</td>\n      <td>0.816436</td>\n      <td>0.859241</td>\n      <td>0.825813</td>\n      <td>0.333312</td>\n      <td>0.000190</td>\n      <td>0.000697</td>\n      <td>37</td>\n      <td>19</td>\n    </tr>\n    <tr>\n      <th>38</th>\n      <td>48</td>\n      <td>0.001000</td>\n      <td>0.1000</td>\n      <td>0</td>\n      <td>0.815805</td>\n      <td>0.344390</td>\n      <td>0.810096</td>\n      <td>0.314335</td>\n      <td>0.417116</td>\n      <td>0.072413</td>\n      <td>0.684428</td>\n      <td>38</td>\n      <td>1</td>\n    </tr>\n    <tr>\n      <th>39</th>\n      <td>27</td>\n      <td>0.001000</td>\n      <td>0.1000</td>\n      <td>1</td>\n      <td>0.673377</td>\n      <td>0.999954</td>\n      <td>0.664463</td>\n      <td>0.999479</td>\n      <td>0.638601</td>\n      <td>0.230250</td>\n      <td>0.253199</td>\n      <td>39</td>\n      <td>1</td>\n    </tr>\n    <tr>\n      <th>40</th>\n      <td>20</td>\n      <td>0.001000</td>\n      <td>0.1000</td>\n      <td>2</td>\n      <td>0.673778</td>\n      <td>0.999418</td>\n      <td>0.664530</td>\n      <td>0.999916</td>\n      <td>0.636984</td>\n      <td>0.230351</td>\n      <td>0.303331</td>\n      <td>40</td>\n      <td>1</td>\n    </tr>\n    <tr>\n      <th>41</th>\n      <td>29</td>\n      <td>0.010000</td>\n      <td>0.1000</td>\n      <td>0</td>\n      <td>0.506510</td>\n      <td>0.999645</td>\n      <td>0.512420</td>\n      <td>0.999517</td>\n      <td>0.690491</td>\n      <td>2.302586</td>\n      <td>0.306928</td>\n      <td>41</td>\n      <td>1</td>\n    </tr>\n    <tr>\n      <th>42</th>\n      <td>85</td>\n      <td>0.001000</td>\n      <td>0.0100</td>\n      <td>0</td>\n      <td>0.827424</td>\n      <td>0.353876</td>\n      <td>0.834535</td>\n      <td>0.312422</td>\n      <td>0.381554</td>\n      <td>0.071973</td>\n      <td>0.068578</td>\n      <td>42</td>\n      <td>2</td>\n    </tr>\n    <tr>\n      <th>43</th>\n      <td>86</td>\n      <td>0.001000</td>\n      <td>0.0100</td>\n      <td>1</td>\n      <td>0.831931</td>\n      <td>0.353332</td>\n      <td>0.835737</td>\n      <td>0.318215</td>\n      <td>0.372856</td>\n      <td>0.073307</td>\n      <td>0.068544</td>\n      <td>43</td>\n      <td>2</td>\n    </tr>\n    <tr>\n      <th>44</th>\n      <td>56</td>\n      <td>0.001000</td>\n      <td>0.0100</td>\n      <td>2</td>\n      <td>0.811599</td>\n      <td>0.318962</td>\n      <td>0.810964</td>\n      <td>0.308029</td>\n      <td>0.417550</td>\n      <td>0.070961</td>\n      <td>0.068675</td>\n      <td>44</td>\n      <td>2</td>\n    </tr>\n    <tr>\n      <th>45</th>\n      <td>43</td>\n      <td>0.010000</td>\n      <td>0.0100</td>\n      <td>0</td>\n      <td>0.591146</td>\n      <td>0.013093</td>\n      <td>0.582732</td>\n      <td>0.012734</td>\n      <td>0.667858</td>\n      <td>0.029334</td>\n      <td>0.068657</td>\n      <td>45</td>\n      <td>2</td>\n    </tr>\n    <tr>\n      <th>46</th>\n      <td>121</td>\n      <td>0.001000</td>\n      <td>0.0010</td>\n      <td>0</td>\n      <td>0.838141</td>\n      <td>0.327635</td>\n      <td>0.842214</td>\n      <td>0.291738</td>\n      <td>0.369274</td>\n      <td>0.067208</td>\n      <td>0.006859</td>\n      <td>46</td>\n      <td>3</td>\n    </tr>\n    <tr>\n      <th>47</th>\n      <td>86</td>\n      <td>0.001000</td>\n      <td>0.0010</td>\n      <td>1</td>\n      <td>0.828826</td>\n      <td>0.332170</td>\n      <td>0.832599</td>\n      <td>0.294513</td>\n      <td>0.387923</td>\n      <td>0.067847</td>\n      <td>0.006857</td>\n      <td>47</td>\n      <td>3</td>\n    </tr>\n    <tr>\n      <th>48</th>\n      <td>55</td>\n      <td>0.001000</td>\n      <td>0.0010</td>\n      <td>2</td>\n      <td>0.815505</td>\n      <td>0.336793</td>\n      <td>0.818510</td>\n      <td>0.285521</td>\n      <td>0.411667</td>\n      <td>0.065775</td>\n      <td>0.006862</td>\n      <td>48</td>\n      <td>3</td>\n    </tr>\n    <tr>\n      <th>49</th>\n      <td>22</td>\n      <td>0.010000</td>\n      <td>0.0010</td>\n      <td>0</td>\n      <td>0.587841</td>\n      <td>0.012087</td>\n      <td>0.581330</td>\n      <td>0.011355</td>\n      <td>0.674210</td>\n      <td>0.026159</td>\n      <td>0.006866</td>\n      <td>49</td>\n      <td>3</td>\n    </tr>\n    <tr>\n      <th>50</th>\n      <td>92</td>\n      <td>0.001000</td>\n      <td>0.0001</td>\n      <td>0</td>\n      <td>0.820312</td>\n      <td>0.318044</td>\n      <td>0.835270</td>\n      <td>0.305310</td>\n      <td>0.378612</td>\n      <td>0.070334</td>\n      <td>0.000686</td>\n      <td>50</td>\n      <td>4</td>\n    </tr>\n    <tr>\n      <th>51</th>\n      <td>76</td>\n      <td>0.001000</td>\n      <td>0.0001</td>\n      <td>1</td>\n      <td>0.829127</td>\n      <td>0.325993</td>\n      <td>0.835737</td>\n      <td>0.304190</td>\n      <td>0.379761</td>\n      <td>0.070076</td>\n      <td>0.000687</td>\n      <td>51</td>\n      <td>4</td>\n    </tr>\n    <tr>\n      <th>52</th>\n      <td>78</td>\n      <td>0.001000</td>\n      <td>0.0001</td>\n      <td>2</td>\n      <td>0.823317</td>\n      <td>0.314722</td>\n      <td>0.831464</td>\n      <td>0.314229</td>\n      <td>0.388586</td>\n      <td>0.072389</td>\n      <td>0.000686</td>\n      <td>52</td>\n      <td>4</td>\n    </tr>\n    <tr>\n      <th>53</th>\n      <td>15</td>\n      <td>0.010000</td>\n      <td>0.0001</td>\n      <td>0</td>\n      <td>0.581030</td>\n      <td>0.011501</td>\n      <td>0.577324</td>\n      <td>0.010984</td>\n      <td>0.676664</td>\n      <td>0.025304</td>\n      <td>0.000687</td>\n      <td>53</td>\n      <td>4</td>\n    </tr>\n    <tr>\n      <th>58</th>\n      <td>28</td>\n      <td>0.000100</td>\n      <td>0.1000</td>\n      <td>0</td>\n      <td>0.680389</td>\n      <td>0.999942</td>\n      <td>0.635016</td>\n      <td>0.999879</td>\n      <td>0.636884</td>\n      <td>0.023034</td>\n      <td>0.345492</td>\n      <td>58</td>\n      <td>6</td>\n    </tr>\n    <tr>\n      <th>59</th>\n      <td>54</td>\n      <td>0.000100</td>\n      <td>0.1000</td>\n      <td>1</td>\n      <td>0.831030</td>\n      <td>0.999500</td>\n      <td>0.825321</td>\n      <td>0.999674</td>\n      <td>0.394328</td>\n      <td>0.023029</td>\n      <td>0.450966</td>\n      <td>59</td>\n      <td>6</td>\n    </tr>\n    <tr>\n      <th>60</th>\n      <td>74</td>\n      <td>0.000100</td>\n      <td>0.1000</td>\n      <td>2</td>\n      <td>0.697616</td>\n      <td>0.999693</td>\n      <td>0.685029</td>\n      <td>0.999359</td>\n      <td>0.618443</td>\n      <td>0.023022</td>\n      <td>0.412860</td>\n      <td>60</td>\n      <td>6</td>\n    </tr>\n    <tr>\n      <th>61</th>\n      <td>6</td>\n      <td>0.010000</td>\n      <td>0.1000</td>\n      <td>1</td>\n      <td>0.584235</td>\n      <td>0.013731</td>\n      <td>0.572249</td>\n      <td>0.013273</td>\n      <td>0.676222</td>\n      <td>0.030577</td>\n      <td>0.686543</td>\n      <td>61</td>\n      <td>6</td>\n    </tr>\n    <tr>\n      <th>62</th>\n      <td>78</td>\n      <td>0.000100</td>\n      <td>0.0100</td>\n      <td>0</td>\n      <td>0.858474</td>\n      <td>0.657062</td>\n      <td>0.870192</td>\n      <td>0.612886</td>\n      <td>0.309114</td>\n      <td>0.014119</td>\n      <td>0.068619</td>\n      <td>62</td>\n      <td>7</td>\n    </tr>\n    <tr>\n      <th>63</th>\n      <td>49</td>\n      <td>0.000100</td>\n      <td>0.0100</td>\n      <td>1</td>\n      <td>0.710938</td>\n      <td>0.999270</td>\n      <td>0.704394</td>\n      <td>0.999391</td>\n      <td>0.603715</td>\n      <td>0.023023</td>\n      <td>0.037278</td>\n      <td>63</td>\n      <td>7</td>\n    </tr>\n    <tr>\n      <th>64</th>\n      <td>18</td>\n      <td>0.000100</td>\n      <td>0.0100</td>\n      <td>2</td>\n      <td>0.648037</td>\n      <td>0.172032</td>\n      <td>0.639423</td>\n      <td>0.167365</td>\n      <td>0.647559</td>\n      <td>0.003856</td>\n      <td>0.068535</td>\n      <td>64</td>\n      <td>7</td>\n    </tr>\n    <tr>\n      <th>65</th>\n      <td>15</td>\n      <td>0.010000</td>\n      <td>0.0100</td>\n      <td>1</td>\n      <td>0.582332</td>\n      <td>0.012369</td>\n      <td>0.575855</td>\n      <td>0.011990</td>\n      <td>0.675256</td>\n      <td>0.027622</td>\n      <td>0.068653</td>\n      <td>65</td>\n      <td>7</td>\n    </tr>\n    <tr>\n      <th>66</th>\n      <td>29</td>\n      <td>0.000100</td>\n      <td>0.0010</td>\n      <td>0</td>\n      <td>0.680990</td>\n      <td>0.997124</td>\n      <td>0.671207</td>\n      <td>0.997477</td>\n      <td>0.629237</td>\n      <td>0.022979</td>\n      <td>0.006047</td>\n      <td>66</td>\n      <td>8</td>\n    </tr>\n    <tr>\n      <th>67</th>\n      <td>33</td>\n      <td>0.000100</td>\n      <td>0.0010</td>\n      <td>1</td>\n      <td>0.708333</td>\n      <td>0.999162</td>\n      <td>0.700321</td>\n      <td>0.999755</td>\n      <td>0.599425</td>\n      <td>0.023031</td>\n      <td>0.004677</td>\n      <td>67</td>\n      <td>8</td>\n    </tr>\n    <tr>\n      <th>68</th>\n      <td>123</td>\n      <td>0.000100</td>\n      <td>0.0010</td>\n      <td>2</td>\n      <td>0.850060</td>\n      <td>0.743285</td>\n      <td>0.890091</td>\n      <td>0.697158</td>\n      <td>0.273068</td>\n      <td>0.016060</td>\n      <td>0.006856</td>\n      <td>68</td>\n      <td>8</td>\n    </tr>\n    <tr>\n      <th>69</th>\n      <td>31</td>\n      <td>0.010000</td>\n      <td>0.0010</td>\n      <td>1</td>\n      <td>0.591246</td>\n      <td>0.011782</td>\n      <td>0.580128</td>\n      <td>0.011641</td>\n      <td>0.672541</td>\n      <td>0.026818</td>\n      <td>0.006865</td>\n      <td>69</td>\n      <td>8</td>\n    </tr>\n    <tr>\n      <th>70</th>\n      <td>123</td>\n      <td>0.000100</td>\n      <td>0.0001</td>\n      <td>0</td>\n      <td>0.855869</td>\n      <td>0.680365</td>\n      <td>0.884014</td>\n      <td>0.630347</td>\n      <td>0.289238</td>\n      <td>0.014521</td>\n      <td>0.000687</td>\n      <td>70</td>\n      <td>9</td>\n    </tr>\n    <tr>\n      <th>71</th>\n      <td>17</td>\n      <td>0.000100</td>\n      <td>0.0001</td>\n      <td>1</td>\n      <td>0.658053</td>\n      <td>0.236992</td>\n      <td>0.599426</td>\n      <td>0.208962</td>\n      <td>0.666853</td>\n      <td>0.004814</td>\n      <td>0.000685</td>\n      <td>71</td>\n      <td>9</td>\n    </tr>\n    <tr>\n      <th>72</th>\n      <td>79</td>\n      <td>0.000100</td>\n      <td>0.0001</td>\n      <td>2</td>\n      <td>0.854868</td>\n      <td>0.656580</td>\n      <td>0.865518</td>\n      <td>0.584586</td>\n      <td>0.321883</td>\n      <td>0.013467</td>\n      <td>0.000688</td>\n      <td>72</td>\n      <td>9</td>\n    </tr>\n    <tr>\n      <th>73</th>\n      <td>15</td>\n      <td>0.010000</td>\n      <td>0.0001</td>\n      <td>1</td>\n      <td>0.576823</td>\n      <td>0.009751</td>\n      <td>0.569712</td>\n      <td>0.009724</td>\n      <td>0.677849</td>\n      <td>0.022402</td>\n      <td>0.000686</td>\n      <td>73</td>\n      <td>9</td>\n    </tr>\n  </tbody>\n</table>\n</div>"
     },
     "execution_count": 79,
     "metadata": {},
     "output_type": "execute_result"
    }
   ],
   "source": [
    "print(\"With surprisal\")\n",
    "surprisal"
   ],
   "metadata": {
    "collapsed": false,
    "pycharm": {
     "name": "#%%\n"
    }
   }
  },
  {
   "cell_type": "code",
   "execution_count": 80,
   "outputs": [
    {
     "name": "stdout",
     "output_type": "stream",
     "text": [
      "Dataframe with all best epochs for Validation accuracy\n"
     ]
    },
    {
     "data": {
      "text/plain": "    epoch  cost_per_sample  surprisal_cost  trial   val_acc  val_updates  \\\n61      6         0.010000          0.1000      1  0.584235     0.013731   \n9      10         0.000010          0.1000      0  0.678786     1.000000   \n27     12         0.000001          0.1000      1  0.510417     0.999874   \n65     15         0.010000          0.0100      1  0.582332     0.012369   \n20     15         0.000010          0.0001      0  0.661358     0.362574   \n..    ...              ...             ...    ...       ...          ...   \n14    122         0.000010          0.0100      1  0.720152     0.998130   \n23    123         0.000001          0.0000      0  0.855769     0.875970   \n68    123         0.000100          0.0010      2  0.850060     0.743285   \n70    123         0.000100          0.0001      0  0.855869     0.680365   \n36    123         0.000001          0.0001      1  0.847456     0.911272   \n\n    train_acc  train_updates  entropy_loss  budget_loss  surprisal_loss  \\\n61   0.572249       0.013273      0.676222     0.030577        0.686543   \n9    0.667935       0.999998      0.634864     0.002304        0.016618   \n27   0.513021       0.999930      0.688635     0.000230        0.353730   \n65   0.575855       0.011990      0.675256     0.027622        0.068653   \n20   0.643096       0.289639      0.647239     0.000667        0.000687   \n..        ...            ...           ...          ...             ...   \n14   0.728098       0.998255      0.578905     0.002300        0.042786   \n23   0.889690       0.874434      0.280855     0.000201        0.000000   \n68   0.890091       0.697158      0.273068     0.016060        0.006856   \n70   0.884014       0.630347      0.289238     0.014521        0.000687   \n36   0.879407       0.870021      0.314298     0.000200        0.000686   \n\n    list_index exp  \n61          61   6  \n9            9  11  \n27          27  16  \n65          65   7  \n20          20  14  \n..         ...  ..  \n14          14  12  \n23          23  15  \n68          68   8  \n70          70   9  \n36          36  19  \n\n[74 rows x 13 columns]",
      "text/html": "<div>\n<style scoped>\n    .dataframe tbody tr th:only-of-type {\n        vertical-align: middle;\n    }\n\n    .dataframe tbody tr th {\n        vertical-align: top;\n    }\n\n    .dataframe thead th {\n        text-align: right;\n    }\n</style>\n<table border=\"1\" class=\"dataframe\">\n  <thead>\n    <tr style=\"text-align: right;\">\n      <th></th>\n      <th>epoch</th>\n      <th>cost_per_sample</th>\n      <th>surprisal_cost</th>\n      <th>trial</th>\n      <th>val_acc</th>\n      <th>val_updates</th>\n      <th>train_acc</th>\n      <th>train_updates</th>\n      <th>entropy_loss</th>\n      <th>budget_loss</th>\n      <th>surprisal_loss</th>\n      <th>list_index</th>\n      <th>exp</th>\n    </tr>\n  </thead>\n  <tbody>\n    <tr>\n      <th>61</th>\n      <td>6</td>\n      <td>0.010000</td>\n      <td>0.1000</td>\n      <td>1</td>\n      <td>0.584235</td>\n      <td>0.013731</td>\n      <td>0.572249</td>\n      <td>0.013273</td>\n      <td>0.676222</td>\n      <td>0.030577</td>\n      <td>0.686543</td>\n      <td>61</td>\n      <td>6</td>\n    </tr>\n    <tr>\n      <th>9</th>\n      <td>10</td>\n      <td>0.000010</td>\n      <td>0.1000</td>\n      <td>0</td>\n      <td>0.678786</td>\n      <td>1.000000</td>\n      <td>0.667935</td>\n      <td>0.999998</td>\n      <td>0.634864</td>\n      <td>0.002304</td>\n      <td>0.016618</td>\n      <td>9</td>\n      <td>11</td>\n    </tr>\n    <tr>\n      <th>27</th>\n      <td>12</td>\n      <td>0.000001</td>\n      <td>0.1000</td>\n      <td>1</td>\n      <td>0.510417</td>\n      <td>0.999874</td>\n      <td>0.513021</td>\n      <td>0.999930</td>\n      <td>0.688635</td>\n      <td>0.000230</td>\n      <td>0.353730</td>\n      <td>27</td>\n      <td>16</td>\n    </tr>\n    <tr>\n      <th>65</th>\n      <td>15</td>\n      <td>0.010000</td>\n      <td>0.0100</td>\n      <td>1</td>\n      <td>0.582332</td>\n      <td>0.012369</td>\n      <td>0.575855</td>\n      <td>0.011990</td>\n      <td>0.675256</td>\n      <td>0.027622</td>\n      <td>0.068653</td>\n      <td>65</td>\n      <td>7</td>\n    </tr>\n    <tr>\n      <th>20</th>\n      <td>15</td>\n      <td>0.000010</td>\n      <td>0.0001</td>\n      <td>0</td>\n      <td>0.661358</td>\n      <td>0.362574</td>\n      <td>0.643096</td>\n      <td>0.289639</td>\n      <td>0.647239</td>\n      <td>0.000667</td>\n      <td>0.000687</td>\n      <td>20</td>\n      <td>14</td>\n    </tr>\n    <tr>\n      <th>...</th>\n      <td>...</td>\n      <td>...</td>\n      <td>...</td>\n      <td>...</td>\n      <td>...</td>\n      <td>...</td>\n      <td>...</td>\n      <td>...</td>\n      <td>...</td>\n      <td>...</td>\n      <td>...</td>\n      <td>...</td>\n      <td>...</td>\n    </tr>\n    <tr>\n      <th>14</th>\n      <td>122</td>\n      <td>0.000010</td>\n      <td>0.0100</td>\n      <td>1</td>\n      <td>0.720152</td>\n      <td>0.998130</td>\n      <td>0.728098</td>\n      <td>0.998255</td>\n      <td>0.578905</td>\n      <td>0.002300</td>\n      <td>0.042786</td>\n      <td>14</td>\n      <td>12</td>\n    </tr>\n    <tr>\n      <th>23</th>\n      <td>123</td>\n      <td>0.000001</td>\n      <td>0.0000</td>\n      <td>0</td>\n      <td>0.855769</td>\n      <td>0.875970</td>\n      <td>0.889690</td>\n      <td>0.874434</td>\n      <td>0.280855</td>\n      <td>0.000201</td>\n      <td>0.000000</td>\n      <td>23</td>\n      <td>15</td>\n    </tr>\n    <tr>\n      <th>68</th>\n      <td>123</td>\n      <td>0.000100</td>\n      <td>0.0010</td>\n      <td>2</td>\n      <td>0.850060</td>\n      <td>0.743285</td>\n      <td>0.890091</td>\n      <td>0.697158</td>\n      <td>0.273068</td>\n      <td>0.016060</td>\n      <td>0.006856</td>\n      <td>68</td>\n      <td>8</td>\n    </tr>\n    <tr>\n      <th>70</th>\n      <td>123</td>\n      <td>0.000100</td>\n      <td>0.0001</td>\n      <td>0</td>\n      <td>0.855869</td>\n      <td>0.680365</td>\n      <td>0.884014</td>\n      <td>0.630347</td>\n      <td>0.289238</td>\n      <td>0.014521</td>\n      <td>0.000687</td>\n      <td>70</td>\n      <td>9</td>\n    </tr>\n    <tr>\n      <th>36</th>\n      <td>123</td>\n      <td>0.000001</td>\n      <td>0.0001</td>\n      <td>1</td>\n      <td>0.847456</td>\n      <td>0.911272</td>\n      <td>0.879407</td>\n      <td>0.870021</td>\n      <td>0.314298</td>\n      <td>0.000200</td>\n      <td>0.000686</td>\n      <td>36</td>\n      <td>19</td>\n    </tr>\n  </tbody>\n</table>\n<p>74 rows × 13 columns</p>\n</div>"
     },
     "execution_count": 80,
     "metadata": {},
     "output_type": "execute_result"
    }
   ],
   "source": [
    "print(\"Dataframe with all best epochs for Validation accuracy\")\n",
    "best_df.sort_values(by='epoch')\n"
   ],
   "metadata": {
    "collapsed": false,
    "pycharm": {
     "name": "#%%\n"
    }
   }
  },
  {
   "cell_type": "code",
   "execution_count": 81,
   "metadata": {
    "pycharm": {
     "name": "#%%\n"
    }
   },
   "outputs": [
    {
     "name": "stdout",
     "output_type": "stream",
     "text": [
      "Dataframe with one per trials\n"
     ]
    },
    {
     "data": {
      "text/plain": "    cost_per_sample  surprisal_cost  epoch  trial   val_acc  val_updates  \\\n0          0.000001          0.0000   34.0    1.0  0.709535     0.875970   \n1          0.000001          0.0001   63.0    1.0  0.847456     0.816436   \n2          0.000001          0.0010   48.0    1.0  0.723357     0.999952   \n3          0.000001          0.0100   66.0    1.0  0.706330     0.999357   \n4          0.000001          0.1000   15.0    1.0  0.513622     0.999874   \n5          0.000010          0.0000   94.0    1.0  0.851763     0.798062   \n6          0.000010          0.0001  114.0    1.0  0.852163     0.712259   \n7          0.000010          0.0010   67.0    1.0  0.708333     0.999322   \n8          0.000010          0.0100   77.0    1.0  0.690505     0.999626   \n9          0.000010          0.1000   64.0    1.0  0.694311     0.999987   \n10         0.000100          0.0000   76.0    1.0  0.846955     0.633213   \n11         0.000100          0.0001   79.0    1.0  0.854868     0.656580   \n12         0.000100          0.0010   33.0    1.0  0.708333     0.997124   \n13         0.000100          0.0100   49.0    1.0  0.710938     0.657062   \n14         0.000100          0.1000   54.0    1.0  0.697616     0.999693   \n15         0.001000          0.0000   99.0    1.0  0.825421     0.324010   \n16         0.001000          0.0001   78.0    1.0  0.823317     0.318044   \n17         0.001000          0.0010   86.0    1.0  0.828826     0.332170   \n18         0.001000          0.0100   85.0    1.0  0.827424     0.353332   \n19         0.001000          0.1000   27.0    1.0  0.673778     0.999418   \n20         0.010000          0.0000   24.0    1.0  0.588041     0.012794   \n21         0.010000          0.0001   15.0    1.0  0.581030     0.011154   \n22         0.010000          0.0010   26.5    0.5  0.589543     0.011934   \n23         0.010000          0.0100   22.0    1.0  0.591146     0.013093   \n24         0.010000          0.1000   29.0    1.0  0.584235     0.018552   \n\n    train_acc  train_updates  entropy_loss  budget_loss  surprisal_loss  \\\n0    0.692842       0.874434      0.608738     0.000201        0.000000   \n1    0.859241       0.825813      0.333312     0.000190        0.000686   \n2    0.716747       0.999959      0.589404     0.000230        0.002779   \n3    0.697316       0.999430      0.610662     0.000230        0.032759   \n4    0.513822       0.999874      0.688635     0.000230        0.371828   \n5    0.867054       0.775913      0.326296     0.001787        0.000000   \n6    0.884882       0.678831      0.288565     0.001564        0.000685   \n7    0.706130       0.999204      0.594854     0.002302        0.004129   \n8    0.681958       0.999258      0.620628     0.002302        0.040500   \n9    0.689837       0.999886      0.612159     0.002303        0.092423   \n10   0.867722       0.607837      0.315703     0.014003        0.000000   \n11   0.865518       0.584586      0.321883     0.013467        0.000687   \n12   0.700321       0.997477      0.599425     0.022979        0.006047   \n13   0.704394       0.612886      0.603715     0.014119        0.068535   \n14   0.685029       0.999674      0.618443     0.023029        0.412860   \n15   0.840545       0.310575      0.373079     0.071547        0.000000   \n16   0.835270       0.305310      0.379761     0.070334        0.000686   \n17   0.832599       0.291738      0.387923     0.067208        0.006859   \n18   0.834535       0.312422      0.381554     0.071973        0.068578   \n19   0.664530       0.999479      0.636984     0.230250        0.303331   \n20   0.577390       0.012584      0.673652     0.028990        0.000000   \n21   0.576389       0.010682      0.676664     0.024607        0.000687   \n22   0.580729       0.011498      0.673376     0.026488        0.006866   \n23   0.582732       0.012701      0.671316     0.029260        0.068657   \n24   0.572249       0.018664      0.676222     0.042996        0.686543   \n\n    list_index  \n0         24.0  \n1         36.0  \n2         33.0  \n3         30.0  \n4         27.0  \n5          6.0  \n6         21.0  \n7         17.0  \n8         14.0  \n9         10.0  \n10        55.0  \n11        71.0  \n12        67.0  \n13        63.0  \n14        59.0  \n15         1.0  \n16        51.0  \n17        47.0  \n18        43.0  \n19        39.0  \n20         4.0  \n21        53.0  \n22        59.0  \n23        45.0  \n24        41.0  ",
      "text/html": "<div>\n<style scoped>\n    .dataframe tbody tr th:only-of-type {\n        vertical-align: middle;\n    }\n\n    .dataframe tbody tr th {\n        vertical-align: top;\n    }\n\n    .dataframe thead th {\n        text-align: right;\n    }\n</style>\n<table border=\"1\" class=\"dataframe\">\n  <thead>\n    <tr style=\"text-align: right;\">\n      <th></th>\n      <th>cost_per_sample</th>\n      <th>surprisal_cost</th>\n      <th>epoch</th>\n      <th>trial</th>\n      <th>val_acc</th>\n      <th>val_updates</th>\n      <th>train_acc</th>\n      <th>train_updates</th>\n      <th>entropy_loss</th>\n      <th>budget_loss</th>\n      <th>surprisal_loss</th>\n      <th>list_index</th>\n    </tr>\n  </thead>\n  <tbody>\n    <tr>\n      <th>0</th>\n      <td>0.000001</td>\n      <td>0.0000</td>\n      <td>34.0</td>\n      <td>1.0</td>\n      <td>0.709535</td>\n      <td>0.875970</td>\n      <td>0.692842</td>\n      <td>0.874434</td>\n      <td>0.608738</td>\n      <td>0.000201</td>\n      <td>0.000000</td>\n      <td>24.0</td>\n    </tr>\n    <tr>\n      <th>1</th>\n      <td>0.000001</td>\n      <td>0.0001</td>\n      <td>63.0</td>\n      <td>1.0</td>\n      <td>0.847456</td>\n      <td>0.816436</td>\n      <td>0.859241</td>\n      <td>0.825813</td>\n      <td>0.333312</td>\n      <td>0.000190</td>\n      <td>0.000686</td>\n      <td>36.0</td>\n    </tr>\n    <tr>\n      <th>2</th>\n      <td>0.000001</td>\n      <td>0.0010</td>\n      <td>48.0</td>\n      <td>1.0</td>\n      <td>0.723357</td>\n      <td>0.999952</td>\n      <td>0.716747</td>\n      <td>0.999959</td>\n      <td>0.589404</td>\n      <td>0.000230</td>\n      <td>0.002779</td>\n      <td>33.0</td>\n    </tr>\n    <tr>\n      <th>3</th>\n      <td>0.000001</td>\n      <td>0.0100</td>\n      <td>66.0</td>\n      <td>1.0</td>\n      <td>0.706330</td>\n      <td>0.999357</td>\n      <td>0.697316</td>\n      <td>0.999430</td>\n      <td>0.610662</td>\n      <td>0.000230</td>\n      <td>0.032759</td>\n      <td>30.0</td>\n    </tr>\n    <tr>\n      <th>4</th>\n      <td>0.000001</td>\n      <td>0.1000</td>\n      <td>15.0</td>\n      <td>1.0</td>\n      <td>0.513622</td>\n      <td>0.999874</td>\n      <td>0.513822</td>\n      <td>0.999874</td>\n      <td>0.688635</td>\n      <td>0.000230</td>\n      <td>0.371828</td>\n      <td>27.0</td>\n    </tr>\n    <tr>\n      <th>5</th>\n      <td>0.000010</td>\n      <td>0.0000</td>\n      <td>94.0</td>\n      <td>1.0</td>\n      <td>0.851763</td>\n      <td>0.798062</td>\n      <td>0.867054</td>\n      <td>0.775913</td>\n      <td>0.326296</td>\n      <td>0.001787</td>\n      <td>0.000000</td>\n      <td>6.0</td>\n    </tr>\n    <tr>\n      <th>6</th>\n      <td>0.000010</td>\n      <td>0.0001</td>\n      <td>114.0</td>\n      <td>1.0</td>\n      <td>0.852163</td>\n      <td>0.712259</td>\n      <td>0.884882</td>\n      <td>0.678831</td>\n      <td>0.288565</td>\n      <td>0.001564</td>\n      <td>0.000685</td>\n      <td>21.0</td>\n    </tr>\n    <tr>\n      <th>7</th>\n      <td>0.000010</td>\n      <td>0.0010</td>\n      <td>67.0</td>\n      <td>1.0</td>\n      <td>0.708333</td>\n      <td>0.999322</td>\n      <td>0.706130</td>\n      <td>0.999204</td>\n      <td>0.594854</td>\n      <td>0.002302</td>\n      <td>0.004129</td>\n      <td>17.0</td>\n    </tr>\n    <tr>\n      <th>8</th>\n      <td>0.000010</td>\n      <td>0.0100</td>\n      <td>77.0</td>\n      <td>1.0</td>\n      <td>0.690505</td>\n      <td>0.999626</td>\n      <td>0.681958</td>\n      <td>0.999258</td>\n      <td>0.620628</td>\n      <td>0.002302</td>\n      <td>0.040500</td>\n      <td>14.0</td>\n    </tr>\n    <tr>\n      <th>9</th>\n      <td>0.000010</td>\n      <td>0.1000</td>\n      <td>64.0</td>\n      <td>1.0</td>\n      <td>0.694311</td>\n      <td>0.999987</td>\n      <td>0.689837</td>\n      <td>0.999886</td>\n      <td>0.612159</td>\n      <td>0.002303</td>\n      <td>0.092423</td>\n      <td>10.0</td>\n    </tr>\n    <tr>\n      <th>10</th>\n      <td>0.000100</td>\n      <td>0.0000</td>\n      <td>76.0</td>\n      <td>1.0</td>\n      <td>0.846955</td>\n      <td>0.633213</td>\n      <td>0.867722</td>\n      <td>0.607837</td>\n      <td>0.315703</td>\n      <td>0.014003</td>\n      <td>0.000000</td>\n      <td>55.0</td>\n    </tr>\n    <tr>\n      <th>11</th>\n      <td>0.000100</td>\n      <td>0.0001</td>\n      <td>79.0</td>\n      <td>1.0</td>\n      <td>0.854868</td>\n      <td>0.656580</td>\n      <td>0.865518</td>\n      <td>0.584586</td>\n      <td>0.321883</td>\n      <td>0.013467</td>\n      <td>0.000687</td>\n      <td>71.0</td>\n    </tr>\n    <tr>\n      <th>12</th>\n      <td>0.000100</td>\n      <td>0.0010</td>\n      <td>33.0</td>\n      <td>1.0</td>\n      <td>0.708333</td>\n      <td>0.997124</td>\n      <td>0.700321</td>\n      <td>0.997477</td>\n      <td>0.599425</td>\n      <td>0.022979</td>\n      <td>0.006047</td>\n      <td>67.0</td>\n    </tr>\n    <tr>\n      <th>13</th>\n      <td>0.000100</td>\n      <td>0.0100</td>\n      <td>49.0</td>\n      <td>1.0</td>\n      <td>0.710938</td>\n      <td>0.657062</td>\n      <td>0.704394</td>\n      <td>0.612886</td>\n      <td>0.603715</td>\n      <td>0.014119</td>\n      <td>0.068535</td>\n      <td>63.0</td>\n    </tr>\n    <tr>\n      <th>14</th>\n      <td>0.000100</td>\n      <td>0.1000</td>\n      <td>54.0</td>\n      <td>1.0</td>\n      <td>0.697616</td>\n      <td>0.999693</td>\n      <td>0.685029</td>\n      <td>0.999674</td>\n      <td>0.618443</td>\n      <td>0.023029</td>\n      <td>0.412860</td>\n      <td>59.0</td>\n    </tr>\n    <tr>\n      <th>15</th>\n      <td>0.001000</td>\n      <td>0.0000</td>\n      <td>99.0</td>\n      <td>1.0</td>\n      <td>0.825421</td>\n      <td>0.324010</td>\n      <td>0.840545</td>\n      <td>0.310575</td>\n      <td>0.373079</td>\n      <td>0.071547</td>\n      <td>0.000000</td>\n      <td>1.0</td>\n    </tr>\n    <tr>\n      <th>16</th>\n      <td>0.001000</td>\n      <td>0.0001</td>\n      <td>78.0</td>\n      <td>1.0</td>\n      <td>0.823317</td>\n      <td>0.318044</td>\n      <td>0.835270</td>\n      <td>0.305310</td>\n      <td>0.379761</td>\n      <td>0.070334</td>\n      <td>0.000686</td>\n      <td>51.0</td>\n    </tr>\n    <tr>\n      <th>17</th>\n      <td>0.001000</td>\n      <td>0.0010</td>\n      <td>86.0</td>\n      <td>1.0</td>\n      <td>0.828826</td>\n      <td>0.332170</td>\n      <td>0.832599</td>\n      <td>0.291738</td>\n      <td>0.387923</td>\n      <td>0.067208</td>\n      <td>0.006859</td>\n      <td>47.0</td>\n    </tr>\n    <tr>\n      <th>18</th>\n      <td>0.001000</td>\n      <td>0.0100</td>\n      <td>85.0</td>\n      <td>1.0</td>\n      <td>0.827424</td>\n      <td>0.353332</td>\n      <td>0.834535</td>\n      <td>0.312422</td>\n      <td>0.381554</td>\n      <td>0.071973</td>\n      <td>0.068578</td>\n      <td>43.0</td>\n    </tr>\n    <tr>\n      <th>19</th>\n      <td>0.001000</td>\n      <td>0.1000</td>\n      <td>27.0</td>\n      <td>1.0</td>\n      <td>0.673778</td>\n      <td>0.999418</td>\n      <td>0.664530</td>\n      <td>0.999479</td>\n      <td>0.636984</td>\n      <td>0.230250</td>\n      <td>0.303331</td>\n      <td>39.0</td>\n    </tr>\n    <tr>\n      <th>20</th>\n      <td>0.010000</td>\n      <td>0.0000</td>\n      <td>24.0</td>\n      <td>1.0</td>\n      <td>0.588041</td>\n      <td>0.012794</td>\n      <td>0.577390</td>\n      <td>0.012584</td>\n      <td>0.673652</td>\n      <td>0.028990</td>\n      <td>0.000000</td>\n      <td>4.0</td>\n    </tr>\n    <tr>\n      <th>21</th>\n      <td>0.010000</td>\n      <td>0.0001</td>\n      <td>15.0</td>\n      <td>1.0</td>\n      <td>0.581030</td>\n      <td>0.011154</td>\n      <td>0.576389</td>\n      <td>0.010682</td>\n      <td>0.676664</td>\n      <td>0.024607</td>\n      <td>0.000687</td>\n      <td>53.0</td>\n    </tr>\n    <tr>\n      <th>22</th>\n      <td>0.010000</td>\n      <td>0.0010</td>\n      <td>26.5</td>\n      <td>0.5</td>\n      <td>0.589543</td>\n      <td>0.011934</td>\n      <td>0.580729</td>\n      <td>0.011498</td>\n      <td>0.673376</td>\n      <td>0.026488</td>\n      <td>0.006866</td>\n      <td>59.0</td>\n    </tr>\n    <tr>\n      <th>23</th>\n      <td>0.010000</td>\n      <td>0.0100</td>\n      <td>22.0</td>\n      <td>1.0</td>\n      <td>0.591146</td>\n      <td>0.013093</td>\n      <td>0.582732</td>\n      <td>0.012701</td>\n      <td>0.671316</td>\n      <td>0.029260</td>\n      <td>0.068657</td>\n      <td>45.0</td>\n    </tr>\n    <tr>\n      <th>24</th>\n      <td>0.010000</td>\n      <td>0.1000</td>\n      <td>29.0</td>\n      <td>1.0</td>\n      <td>0.584235</td>\n      <td>0.018552</td>\n      <td>0.572249</td>\n      <td>0.018664</td>\n      <td>0.676222</td>\n      <td>0.042996</td>\n      <td>0.686543</td>\n      <td>41.0</td>\n    </tr>\n  </tbody>\n</table>\n</div>"
     },
     "execution_count": 81,
     "metadata": {},
     "output_type": "execute_result"
    }
   ],
   "source": [
    "print(\"Dataframe with one per trials\")\n",
    "# mean_df = best_df.groupby(by=[\"cost_per_sample\", \"surprisal_cost\"])\n",
    "# sorted = best_df.groupby([\"cost_per_sample\", \"surprisal_cost\"], sort=\"val_acc\")\n",
    "sorted = best_df.groupby([\"cost_per_sample\", \"surprisal_cost\"], sort=(test_val + \"_acc\"))\n",
    "# sorted = best_df.groupby([\"surprisal_cost\"], sort=\"val_acc\")\n",
    "trial_mean = sorted.median().reset_index()\n",
    "# trial_cps_mean = best_df.groupby([\"surprisal_cost\"], sort=\"val_acc\").mean().reset_index()\n",
    "trial_mean"
   ]
  },
  {
   "cell_type": "code",
   "execution_count": 82,
   "metadata": {
    "pycharm": {
     "name": "#%%\n"
    }
   },
   "outputs": [
    {
     "data": {
      "text/plain": "Index(['cost_per_sample', 'surprisal_cost', 'epoch', 'trial', 'val_acc',\n       'val_updates', 'train_acc', 'train_updates', 'entropy_loss',\n       'budget_loss', 'surprisal_loss', 'list_index'],\n      dtype='object')"
     },
     "execution_count": 82,
     "metadata": {},
     "output_type": "execute_result"
    }
   ],
   "source": [
    "trial_mean.columns"
   ]
  },
  {
   "cell_type": "code",
   "execution_count": 83,
   "outputs": [
    {
     "name": "stderr",
     "output_type": "stream",
     "text": [
      "C:\\Users\\emyms\\anaconda3\\envs\\skiprnn-2017-telecombcn\\lib\\site-packages\\pandas\\core\\series.py:679: RuntimeWarning: divide by zero encountered in log10\n",
      "  result = getattr(ufunc, method)(*inputs, **kwargs)\n"
     ]
    },
    {
     "name": "stdout",
     "output_type": "stream",
     "text": [
      "-6.0 -2.0\n",
      "0 0.0\n",
      "5 0.25\n",
      "10 0.5\n",
      "15 0.75\n",
      "20 1.0\n"
     ]
    },
    {
     "data": {
      "text/plain": "<Figure size 1080x1800 with 2 Axes>",
      "image/png": "[encoded data removed]"
     },
     "metadata": {
      "needs_background": "light"
     },
     "output_type": "display_data"
    }
   ],
   "source": [
    "# Figure for last gridsearch.\n",
    "# pd.set_option('display.float_format', '{:.2E}'.format)\n",
    "SMALL_SIZE = 16\n",
    "MEDIUM_SIZE = 16\n",
    "BIGGER_SIZE = 18\n",
    "\n",
    "def fmt(x, pos):\n",
    "    a, b = '{:.0e}'.format(x).split('e')\n",
    "    a = int(a)\n",
    "    return r'$10^{{{}}}$'.format(a)\n",
    "\n",
    "\n",
    "plt.rc('font', size=SMALL_SIZE)          # controls default text sizes\n",
    "plt.rc('axes', titlesize=SMALL_SIZE)     # fontsize of the axes title\n",
    "plt.rc('axes', labelsize=MEDIUM_SIZE)    # fontsize of the x and y labels\n",
    "plt.rc('xtick', labelsize=SMALL_SIZE)    # fontsize of the tick labels\n",
    "plt.rc('ytick', labelsize=SMALL_SIZE)    # fontsize of the tick labels\n",
    "plt.rc('legend', fontsize=SMALL_SIZE)    # legend fontsize\n",
    "plt.rc('figure', titlesize=BIGGER_SIZE)\n",
    "\n",
    "# trial_mean['val_acc'].corr(trial_mean['surprisal_cost'], method='pearson')\n",
    "fig, ax = plt.subplots(figsize=(15, 25))\n",
    "cax = ax.scatter(x=np.log10(trial_mean['surprisal_cost']), y=trial_mean['val_updates'], c=np.log10(trial_mean['cost_per_sample']), marker='o', s=150, cmap='viridis')\n",
    "# ax.plot(np.log10(trial_cps_mean['surprisal_cost']), (trial_cps_mean['val_updates']/2520)*100, c='orange', label=\"mean\")\n",
    "min = np.log10(trial_mean['cost_per_sample'].min())\n",
    "max = np.log10(trial_mean['cost_per_sample'].max())\n",
    "print(min, max)\n",
    "cmap = matplotlib.cm.get_cmap('viridis')\n",
    "norm = matplotlib.colors.Normalize(vmin=min, vmax=max)\n",
    "for id, row in trial_mean[trial_mean['surprisal_cost'] == 0].iterrows():\n",
    "    print(id, norm(np.log10(row['cost_per_sample'])))\n",
    "    ax.axhline(row['val_updates'], linestyle=':', color=cmap(norm(np.log10(row['cost_per_sample']))))\n",
    "plt.xticks([-4, -3, -2, -1], [0.0001, 0.001, 0.01, 0.1])\n",
    "plt.yticks([0, 0.1, 0.2, 0.3, 0.4, 0.5, 0.6, 0.7, 0.8, 0.9, 1.0], [\"0%\", \"10%\", \"20%\", \"30%\", \"40%\", \"50%\", \"60%\", \"70%\", \"80%\", \"90%\", \"100%\"])\n",
    "plt.ylim((0, 1.01))\n",
    "cbar = fig.colorbar(cax, ticks=np.log10(trial_mean['cost_per_sample']), format=ticker.FuncFormatter(fmt))\n",
    "# cbar.ax.set_yticklabels(trial_mean['cost_per_sample'].apply(lambda x: '%1.0e'%x))\n",
    "# cbar.ax.set_yticklabels(trial_mean['cost_per_sample'], format= '%.0e')\n",
    "cbar.set_label(r\"$\\lambda$\", rotation=0, labelpad=15, size=MEDIUM_SIZE)\n",
    "ax.set_xlabel(r\"$\\gamma$\")\n",
    "ax.set_ylabel(\"Words read\")\n",
    "fig.suptitle(r\"Influence of $\\lambda$, $\\gamma$ on words read\")\n",
    "plt.legend([Line2D([0],[0],linestyle=':', c=\"black\")], ['no surprisal'])\n",
    "plt.savefig(\"gridsearch_fig_updates.png\")\n"
   ],
   "metadata": {
    "collapsed": false,
    "pycharm": {
     "name": "#%%\n"
    }
   }
  },
  {
   "cell_type": "code",
   "execution_count": 84,
   "outputs": [
    {
     "name": "stdout",
     "output_type": "stream",
     "text": [
      "Clearer visualization\n"
     ]
    },
    {
     "data": {
      "text/plain": "                                count  acc_median  acc_best  acc_worst  \\\ncost_per_sample surprisal_cost                                           \n0.000001        0.0001              3    0.847456  0.852664   0.699519   \n0.000010        0.0000              3    0.851763  0.855268   0.845453   \n                0.0001              3    0.852163  0.858474   0.661358   \n0.000100        0.0000              3    0.846955  0.853466   0.846955   \n                0.0001              3    0.854868  0.855869   0.658053   \n0.001000        0.0000              3    0.825421  0.833133   0.804387   \n                0.0001              3    0.823317  0.829127   0.820312   \n                0.0010              3    0.828826  0.838141   0.815505   \n                0.0100              3    0.827424  0.831931   0.811599   \n\n                                 acc_std  updates_median  updates_std  \\\ncost_per_sample surprisal_cost                                          \n0.000001        0.0001          0.086954        0.816436     0.143651   \n0.000010        0.0000          0.004974        0.798062     0.050966   \n                0.0001          0.112027        0.712259     0.224252   \n0.000100        0.0000          0.003759        0.633213     0.062935   \n                0.0001          0.113921        0.656580     0.249399   \n0.001000        0.0000          0.014879        0.324010     0.000934   \n                0.0001          0.004481        0.318044     0.005791   \n                0.0010          0.011377        0.332170     0.004579   \n                0.0100          0.010678        0.353332     0.020003   \n\n                                epoch_mean  \ncost_per_sample surprisal_cost              \n0.000001        0.0001           69.000000  \n0.000010        0.0000           80.333333  \n                0.0001           82.000000  \n0.000100        0.0000           77.000000  \n                0.0001           73.000000  \n0.001000        0.0000           82.666667  \n                0.0001           82.000000  \n                0.0010           87.333333  \n                0.0100           75.666667  ",
      "text/html": "<div>\n<style scoped>\n    .dataframe tbody tr th:only-of-type {\n        vertical-align: middle;\n    }\n\n    .dataframe tbody tr th {\n        vertical-align: top;\n    }\n\n    .dataframe thead th {\n        text-align: right;\n    }\n</style>\n<table border=\"1\" class=\"dataframe\">\n  <thead>\n    <tr style=\"text-align: right;\">\n      <th></th>\n      <th></th>\n      <th>count</th>\n      <th>acc_median</th>\n      <th>acc_best</th>\n      <th>acc_worst</th>\n      <th>acc_std</th>\n      <th>updates_median</th>\n      <th>updates_std</th>\n      <th>epoch_mean</th>\n    </tr>\n    <tr>\n      <th>cost_per_sample</th>\n      <th>surprisal_cost</th>\n      <th></th>\n      <th></th>\n      <th></th>\n      <th></th>\n      <th></th>\n      <th></th>\n      <th></th>\n      <th></th>\n    </tr>\n  </thead>\n  <tbody>\n    <tr>\n      <th>0.000001</th>\n      <th>0.0001</th>\n      <td>3</td>\n      <td>0.847456</td>\n      <td>0.852664</td>\n      <td>0.699519</td>\n      <td>0.086954</td>\n      <td>0.816436</td>\n      <td>0.143651</td>\n      <td>69.000000</td>\n    </tr>\n    <tr>\n      <th rowspan=\"2\" valign=\"top\">0.000010</th>\n      <th>0.0000</th>\n      <td>3</td>\n      <td>0.851763</td>\n      <td>0.855268</td>\n      <td>0.845453</td>\n      <td>0.004974</td>\n      <td>0.798062</td>\n      <td>0.050966</td>\n      <td>80.333333</td>\n    </tr>\n    <tr>\n      <th>0.0001</th>\n      <td>3</td>\n      <td>0.852163</td>\n      <td>0.858474</td>\n      <td>0.661358</td>\n      <td>0.112027</td>\n      <td>0.712259</td>\n      <td>0.224252</td>\n      <td>82.000000</td>\n    </tr>\n    <tr>\n      <th rowspan=\"2\" valign=\"top\">0.000100</th>\n      <th>0.0000</th>\n      <td>3</td>\n      <td>0.846955</td>\n      <td>0.853466</td>\n      <td>0.846955</td>\n      <td>0.003759</td>\n      <td>0.633213</td>\n      <td>0.062935</td>\n      <td>77.000000</td>\n    </tr>\n    <tr>\n      <th>0.0001</th>\n      <td>3</td>\n      <td>0.854868</td>\n      <td>0.855869</td>\n      <td>0.658053</td>\n      <td>0.113921</td>\n      <td>0.656580</td>\n      <td>0.249399</td>\n      <td>73.000000</td>\n    </tr>\n    <tr>\n      <th rowspan=\"4\" valign=\"top\">0.001000</th>\n      <th>0.0000</th>\n      <td>3</td>\n      <td>0.825421</td>\n      <td>0.833133</td>\n      <td>0.804387</td>\n      <td>0.014879</td>\n      <td>0.324010</td>\n      <td>0.000934</td>\n      <td>82.666667</td>\n    </tr>\n    <tr>\n      <th>0.0001</th>\n      <td>3</td>\n      <td>0.823317</td>\n      <td>0.829127</td>\n      <td>0.820312</td>\n      <td>0.004481</td>\n      <td>0.318044</td>\n      <td>0.005791</td>\n      <td>82.000000</td>\n    </tr>\n    <tr>\n      <th>0.0010</th>\n      <td>3</td>\n      <td>0.828826</td>\n      <td>0.838141</td>\n      <td>0.815505</td>\n      <td>0.011377</td>\n      <td>0.332170</td>\n      <td>0.004579</td>\n      <td>87.333333</td>\n    </tr>\n    <tr>\n      <th>0.0100</th>\n      <td>3</td>\n      <td>0.827424</td>\n      <td>0.831931</td>\n      <td>0.811599</td>\n      <td>0.010678</td>\n      <td>0.353332</td>\n      <td>0.020003</td>\n      <td>75.666667</td>\n    </tr>\n  </tbody>\n</table>\n</div>"
     },
     "execution_count": 84,
     "metadata": {},
     "output_type": "execute_result"
    }
   ],
   "source": [
    "# mean_df = mean_df.max()\n",
    "# mean_df.sort_values(by='val_acc')\n",
    "print(\"Clearer visualization\")\n",
    "# , axis=1, names=[\"acc_mean\", \"acc_std\", \"updates_mean\",\n",
    "# \"updates_std\"])\n",
    "view = pd.DataFrame({'count': sorted[test_val + \"_acc\"].count(),\n",
    "                     'acc_median': sorted[test_val + \"_acc\"].median(),\n",
    "                     'acc_best': sorted[test_val + \"_acc\"].max(),\n",
    "                     'acc_worst': sorted[test_val + \"_acc\"].min(),\n",
    "                     'acc_std': sorted[test_val + \"_acc\"].std(),\n",
    "                     'updates_median': sorted[test_val + \"_updates\"].median(),\n",
    "                     'updates_std': sorted[test_val + \"_updates\"].std(),\n",
    "                     'epoch_mean': sorted.epoch.mean()})\n",
    "# view.rename(columns=[\"acc_mean\", \"acc_std\", \"updates_mean\", \"updates_std\"])\n",
    "view[view['acc_median'] > 0.75]"
   ],
   "metadata": {
    "collapsed": false,
    "pycharm": {
     "name": "#%%\n"
    }
   }
  },
  {
   "cell_type": "code",
   "execution_count": 85,
   "outputs": [],
   "source": [
    "# lr0001 = [csv for csv in csvs if csv['learning_rate'][0]==0.0001 and csv['hidden_units'][0]==32]\n",
    "\n",
    "# temp = bs64_best.loc[(best_df['hidden_units']==96)]"
   ],
   "metadata": {
    "collapsed": false,
    "pycharm": {
     "name": "#%%\n"
    }
   }
  },
  {
   "cell_type": "code",
   "execution_count": 86,
   "metadata": {
    "pycharm": {
     "name": "#%%\n"
    }
   },
   "outputs": [
    {
     "name": "stderr",
     "output_type": "stream",
     "text": [
      "C:\\Users\\emyms\\anaconda3\\envs\\skiprnn-2017-telecombcn\\lib\\site-packages\\ipykernel_launcher.py:6: RuntimeWarning: More than 20 figures have been opened. Figures created through the pyplot interface (`matplotlib.pyplot.figure`) are retained until explicitly closed and may consume too much memory. (To control this warning, see the rcParam `figure.max_open_warning`).\n",
      "  \n",
      "C:\\Users\\emyms\\anaconda3\\envs\\skiprnn-2017-telecombcn\\lib\\site-packages\\ipykernel_launcher.py:6: RuntimeWarning: More than 20 figures have been opened. Figures created through the pyplot interface (`matplotlib.pyplot.figure`) are retained until explicitly closed and may consume too much memory. (To control this warning, see the rcParam `figure.max_open_warning`).\n",
      "  \n",
      "C:\\Users\\emyms\\anaconda3\\envs\\skiprnn-2017-telecombcn\\lib\\site-packages\\ipykernel_launcher.py:6: RuntimeWarning: More than 20 figures have been opened. Figures created through the pyplot interface (`matplotlib.pyplot.figure`) are retained until explicitly closed and may consume too much memory. (To control this warning, see the rcParam `figure.max_open_warning`).\n",
      "  \n",
      "C:\\Users\\emyms\\anaconda3\\envs\\skiprnn-2017-telecombcn\\lib\\site-packages\\ipykernel_launcher.py:6: RuntimeWarning: More than 20 figures have been opened. Figures created through the pyplot interface (`matplotlib.pyplot.figure`) are retained until explicitly closed and may consume too much memory. (To control this warning, see the rcParam `figure.max_open_warning`).\n",
      "  \n",
      "C:\\Users\\emyms\\anaconda3\\envs\\skiprnn-2017-telecombcn\\lib\\site-packages\\ipykernel_launcher.py:6: RuntimeWarning: More than 20 figures have been opened. Figures created through the pyplot interface (`matplotlib.pyplot.figure`) are retained until explicitly closed and may consume too much memory. (To control this warning, see the rcParam `figure.max_open_warning`).\n",
      "  \n",
      "C:\\Users\\emyms\\anaconda3\\envs\\skiprnn-2017-telecombcn\\lib\\site-packages\\ipykernel_launcher.py:6: RuntimeWarning: More than 20 figures have been opened. Figures created through the pyplot interface (`matplotlib.pyplot.figure`) are retained until explicitly closed and may consume too much memory. (To control this warning, see the rcParam `figure.max_open_warning`).\n",
      "  \n",
      "C:\\Users\\emyms\\anaconda3\\envs\\skiprnn-2017-telecombcn\\lib\\site-packages\\ipykernel_launcher.py:6: RuntimeWarning: More than 20 figures have been opened. Figures created through the pyplot interface (`matplotlib.pyplot.figure`) are retained until explicitly closed and may consume too much memory. (To control this warning, see the rcParam `figure.max_open_warning`).\n",
      "  \n",
      "C:\\Users\\emyms\\anaconda3\\envs\\skiprnn-2017-telecombcn\\lib\\site-packages\\ipykernel_launcher.py:6: RuntimeWarning: More than 20 figures have been opened. Figures created through the pyplot interface (`matplotlib.pyplot.figure`) are retained until explicitly closed and may consume too much memory. (To control this warning, see the rcParam `figure.max_open_warning`).\n",
      "  \n",
      "C:\\Users\\emyms\\anaconda3\\envs\\skiprnn-2017-telecombcn\\lib\\site-packages\\ipykernel_launcher.py:6: RuntimeWarning: More than 20 figures have been opened. Figures created through the pyplot interface (`matplotlib.pyplot.figure`) are retained until explicitly closed and may consume too much memory. (To control this warning, see the rcParam `figure.max_open_warning`).\n",
      "  \n",
      "C:\\Users\\emyms\\anaconda3\\envs\\skiprnn-2017-telecombcn\\lib\\site-packages\\ipykernel_launcher.py:6: RuntimeWarning: More than 20 figures have been opened. Figures created through the pyplot interface (`matplotlib.pyplot.figure`) are retained until explicitly closed and may consume too much memory. (To control this warning, see the rcParam `figure.max_open_warning`).\n",
      "  \n",
      "C:\\Users\\emyms\\anaconda3\\envs\\skiprnn-2017-telecombcn\\lib\\site-packages\\ipykernel_launcher.py:6: RuntimeWarning: More than 20 figures have been opened. Figures created through the pyplot interface (`matplotlib.pyplot.figure`) are retained until explicitly closed and may consume too much memory. (To control this warning, see the rcParam `figure.max_open_warning`).\n",
      "  \n",
      "C:\\Users\\emyms\\anaconda3\\envs\\skiprnn-2017-telecombcn\\lib\\site-packages\\ipykernel_launcher.py:6: RuntimeWarning: More than 20 figures have been opened. Figures created through the pyplot interface (`matplotlib.pyplot.figure`) are retained until explicitly closed and may consume too much memory. (To control this warning, see the rcParam `figure.max_open_warning`).\n",
      "  \n",
      "C:\\Users\\emyms\\anaconda3\\envs\\skiprnn-2017-telecombcn\\lib\\site-packages\\ipykernel_launcher.py:6: RuntimeWarning: More than 20 figures have been opened. Figures created through the pyplot interface (`matplotlib.pyplot.figure`) are retained until explicitly closed and may consume too much memory. (To control this warning, see the rcParam `figure.max_open_warning`).\n",
      "  \n",
      "C:\\Users\\emyms\\anaconda3\\envs\\skiprnn-2017-telecombcn\\lib\\site-packages\\ipykernel_launcher.py:6: RuntimeWarning: More than 20 figures have been opened. Figures created through the pyplot interface (`matplotlib.pyplot.figure`) are retained until explicitly closed and may consume too much memory. (To control this warning, see the rcParam `figure.max_open_warning`).\n",
      "  \n",
      "C:\\Users\\emyms\\anaconda3\\envs\\skiprnn-2017-telecombcn\\lib\\site-packages\\ipykernel_launcher.py:6: RuntimeWarning: More than 20 figures have been opened. Figures created through the pyplot interface (`matplotlib.pyplot.figure`) are retained until explicitly closed and may consume too much memory. (To control this warning, see the rcParam `figure.max_open_warning`).\n",
      "  \n",
      "C:\\Users\\emyms\\anaconda3\\envs\\skiprnn-2017-telecombcn\\lib\\site-packages\\ipykernel_launcher.py:6: RuntimeWarning: More than 20 figures have been opened. Figures created through the pyplot interface (`matplotlib.pyplot.figure`) are retained until explicitly closed and may consume too much memory. (To control this warning, see the rcParam `figure.max_open_warning`).\n",
      "  \n",
      "C:\\Users\\emyms\\anaconda3\\envs\\skiprnn-2017-telecombcn\\lib\\site-packages\\ipykernel_launcher.py:6: RuntimeWarning: More than 20 figures have been opened. Figures created through the pyplot interface (`matplotlib.pyplot.figure`) are retained until explicitly closed and may consume too much memory. (To control this warning, see the rcParam `figure.max_open_warning`).\n",
      "  \n",
      "C:\\Users\\emyms\\anaconda3\\envs\\skiprnn-2017-telecombcn\\lib\\site-packages\\ipykernel_launcher.py:6: RuntimeWarning: More than 20 figures have been opened. Figures created through the pyplot interface (`matplotlib.pyplot.figure`) are retained until explicitly closed and may consume too much memory. (To control this warning, see the rcParam `figure.max_open_warning`).\n",
      "  \n",
      "C:\\Users\\emyms\\anaconda3\\envs\\skiprnn-2017-telecombcn\\lib\\site-packages\\ipykernel_launcher.py:6: RuntimeWarning: More than 20 figures have been opened. Figures created through the pyplot interface (`matplotlib.pyplot.figure`) are retained until explicitly closed and may consume too much memory. (To control this warning, see the rcParam `figure.max_open_warning`).\n",
      "  \n",
      "C:\\Users\\emyms\\anaconda3\\envs\\skiprnn-2017-telecombcn\\lib\\site-packages\\ipykernel_launcher.py:6: RuntimeWarning: More than 20 figures have been opened. Figures created through the pyplot interface (`matplotlib.pyplot.figure`) are retained until explicitly closed and may consume too much memory. (To control this warning, see the rcParam `figure.max_open_warning`).\n",
      "  \n",
      "C:\\Users\\emyms\\anaconda3\\envs\\skiprnn-2017-telecombcn\\lib\\site-packages\\ipykernel_launcher.py:6: RuntimeWarning: More than 20 figures have been opened. Figures created through the pyplot interface (`matplotlib.pyplot.figure`) are retained until explicitly closed and may consume too much memory. (To control this warning, see the rcParam `figure.max_open_warning`).\n",
      "  \n",
      "C:\\Users\\emyms\\anaconda3\\envs\\skiprnn-2017-telecombcn\\lib\\site-packages\\ipykernel_launcher.py:6: RuntimeWarning: More than 20 figures have been opened. Figures created through the pyplot interface (`matplotlib.pyplot.figure`) are retained until explicitly closed and may consume too much memory. (To control this warning, see the rcParam `figure.max_open_warning`).\n",
      "  \n",
      "C:\\Users\\emyms\\anaconda3\\envs\\skiprnn-2017-telecombcn\\lib\\site-packages\\ipykernel_launcher.py:6: RuntimeWarning: More than 20 figures have been opened. Figures created through the pyplot interface (`matplotlib.pyplot.figure`) are retained until explicitly closed and may consume too much memory. (To control this warning, see the rcParam `figure.max_open_warning`).\n",
      "  \n",
      "C:\\Users\\emyms\\anaconda3\\envs\\skiprnn-2017-telecombcn\\lib\\site-packages\\ipykernel_launcher.py:6: RuntimeWarning: More than 20 figures have been opened. Figures created through the pyplot interface (`matplotlib.pyplot.figure`) are retained until explicitly closed and may consume too much memory. (To control this warning, see the rcParam `figure.max_open_warning`).\n",
      "  \n",
      "C:\\Users\\emyms\\anaconda3\\envs\\skiprnn-2017-telecombcn\\lib\\site-packages\\ipykernel_launcher.py:6: RuntimeWarning: More than 20 figures have been opened. Figures created through the pyplot interface (`matplotlib.pyplot.figure`) are retained until explicitly closed and may consume too much memory. (To control this warning, see the rcParam `figure.max_open_warning`).\n",
      "  \n",
      "C:\\Users\\emyms\\anaconda3\\envs\\skiprnn-2017-telecombcn\\lib\\site-packages\\ipykernel_launcher.py:6: RuntimeWarning: More than 20 figures have been opened. Figures created through the pyplot interface (`matplotlib.pyplot.figure`) are retained until explicitly closed and may consume too much memory. (To control this warning, see the rcParam `figure.max_open_warning`).\n",
      "  \n",
      "C:\\Users\\emyms\\anaconda3\\envs\\skiprnn-2017-telecombcn\\lib\\site-packages\\ipykernel_launcher.py:6: RuntimeWarning: More than 20 figures have been opened. Figures created through the pyplot interface (`matplotlib.pyplot.figure`) are retained until explicitly closed and may consume too much memory. (To control this warning, see the rcParam `figure.max_open_warning`).\n",
      "  \n",
      "C:\\Users\\emyms\\anaconda3\\envs\\skiprnn-2017-telecombcn\\lib\\site-packages\\ipykernel_launcher.py:6: RuntimeWarning: More than 20 figures have been opened. Figures created through the pyplot interface (`matplotlib.pyplot.figure`) are retained until explicitly closed and may consume too much memory. (To control this warning, see the rcParam `figure.max_open_warning`).\n",
      "  \n",
      "C:\\Users\\emyms\\anaconda3\\envs\\skiprnn-2017-telecombcn\\lib\\site-packages\\ipykernel_launcher.py:6: RuntimeWarning: More than 20 figures have been opened. Figures created through the pyplot interface (`matplotlib.pyplot.figure`) are retained until explicitly closed and may consume too much memory. (To control this warning, see the rcParam `figure.max_open_warning`).\n",
      "  \n",
      "C:\\Users\\emyms\\anaconda3\\envs\\skiprnn-2017-telecombcn\\lib\\site-packages\\ipykernel_launcher.py:6: RuntimeWarning: More than 20 figures have been opened. Figures created through the pyplot interface (`matplotlib.pyplot.figure`) are retained until explicitly closed and may consume too much memory. (To control this warning, see the rcParam `figure.max_open_warning`).\n",
      "  \n",
      "C:\\Users\\emyms\\anaconda3\\envs\\skiprnn-2017-telecombcn\\lib\\site-packages\\ipykernel_launcher.py:6: RuntimeWarning: More than 20 figures have been opened. Figures created through the pyplot interface (`matplotlib.pyplot.figure`) are retained until explicitly closed and may consume too much memory. (To control this warning, see the rcParam `figure.max_open_warning`).\n",
      "  \n",
      "C:\\Users\\emyms\\anaconda3\\envs\\skiprnn-2017-telecombcn\\lib\\site-packages\\ipykernel_launcher.py:6: RuntimeWarning: More than 20 figures have been opened. Figures created through the pyplot interface (`matplotlib.pyplot.figure`) are retained until explicitly closed and may consume too much memory. (To control this warning, see the rcParam `figure.max_open_warning`).\n",
      "  \n",
      "C:\\Users\\emyms\\anaconda3\\envs\\skiprnn-2017-telecombcn\\lib\\site-packages\\ipykernel_launcher.py:6: RuntimeWarning: More than 20 figures have been opened. Figures created through the pyplot interface (`matplotlib.pyplot.figure`) are retained until explicitly closed and may consume too much memory. (To control this warning, see the rcParam `figure.max_open_warning`).\n",
      "  \n",
      "C:\\Users\\emyms\\anaconda3\\envs\\skiprnn-2017-telecombcn\\lib\\site-packages\\ipykernel_launcher.py:6: RuntimeWarning: More than 20 figures have been opened. Figures created through the pyplot interface (`matplotlib.pyplot.figure`) are retained until explicitly closed and may consume too much memory. (To control this warning, see the rcParam `figure.max_open_warning`).\n",
      "  \n",
      "C:\\Users\\emyms\\anaconda3\\envs\\skiprnn-2017-telecombcn\\lib\\site-packages\\ipykernel_launcher.py:6: RuntimeWarning: More than 20 figures have been opened. Figures created through the pyplot interface (`matplotlib.pyplot.figure`) are retained until explicitly closed and may consume too much memory. (To control this warning, see the rcParam `figure.max_open_warning`).\n",
      "  \n",
      "C:\\Users\\emyms\\anaconda3\\envs\\skiprnn-2017-telecombcn\\lib\\site-packages\\ipykernel_launcher.py:6: RuntimeWarning: More than 20 figures have been opened. Figures created through the pyplot interface (`matplotlib.pyplot.figure`) are retained until explicitly closed and may consume too much memory. (To control this warning, see the rcParam `figure.max_open_warning`).\n",
      "  \n",
      "C:\\Users\\emyms\\anaconda3\\envs\\skiprnn-2017-telecombcn\\lib\\site-packages\\ipykernel_launcher.py:6: RuntimeWarning: More than 20 figures have been opened. Figures created through the pyplot interface (`matplotlib.pyplot.figure`) are retained until explicitly closed and may consume too much memory. (To control this warning, see the rcParam `figure.max_open_warning`).\n",
      "  \n",
      "C:\\Users\\emyms\\anaconda3\\envs\\skiprnn-2017-telecombcn\\lib\\site-packages\\ipykernel_launcher.py:6: RuntimeWarning: More than 20 figures have been opened. Figures created through the pyplot interface (`matplotlib.pyplot.figure`) are retained until explicitly closed and may consume too much memory. (To control this warning, see the rcParam `figure.max_open_warning`).\n",
      "  \n",
      "C:\\Users\\emyms\\anaconda3\\envs\\skiprnn-2017-telecombcn\\lib\\site-packages\\ipykernel_launcher.py:6: RuntimeWarning: More than 20 figures have been opened. Figures created through the pyplot interface (`matplotlib.pyplot.figure`) are retained until explicitly closed and may consume too much memory. (To control this warning, see the rcParam `figure.max_open_warning`).\n",
      "  \n",
      "C:\\Users\\emyms\\anaconda3\\envs\\skiprnn-2017-telecombcn\\lib\\site-packages\\ipykernel_launcher.py:6: RuntimeWarning: More than 20 figures have been opened. Figures created through the pyplot interface (`matplotlib.pyplot.figure`) are retained until explicitly closed and may consume too much memory. (To control this warning, see the rcParam `figure.max_open_warning`).\n",
      "  \n",
      "C:\\Users\\emyms\\anaconda3\\envs\\skiprnn-2017-telecombcn\\lib\\site-packages\\ipykernel_launcher.py:6: RuntimeWarning: More than 20 figures have been opened. Figures created through the pyplot interface (`matplotlib.pyplot.figure`) are retained until explicitly closed and may consume too much memory. (To control this warning, see the rcParam `figure.max_open_warning`).\n",
      "  \n",
      "C:\\Users\\emyms\\anaconda3\\envs\\skiprnn-2017-telecombcn\\lib\\site-packages\\ipykernel_launcher.py:6: RuntimeWarning: More than 20 figures have been opened. Figures created through the pyplot interface (`matplotlib.pyplot.figure`) are retained until explicitly closed and may consume too much memory. (To control this warning, see the rcParam `figure.max_open_warning`).\n",
      "  \n",
      "C:\\Users\\emyms\\anaconda3\\envs\\skiprnn-2017-telecombcn\\lib\\site-packages\\ipykernel_launcher.py:6: RuntimeWarning: More than 20 figures have been opened. Figures created through the pyplot interface (`matplotlib.pyplot.figure`) are retained until explicitly closed and may consume too much memory. (To control this warning, see the rcParam `figure.max_open_warning`).\n",
      "  \n",
      "C:\\Users\\emyms\\anaconda3\\envs\\skiprnn-2017-telecombcn\\lib\\site-packages\\ipykernel_launcher.py:6: RuntimeWarning: More than 20 figures have been opened. Figures created through the pyplot interface (`matplotlib.pyplot.figure`) are retained until explicitly closed and may consume too much memory. (To control this warning, see the rcParam `figure.max_open_warning`).\n",
      "  \n",
      "C:\\Users\\emyms\\anaconda3\\envs\\skiprnn-2017-telecombcn\\lib\\site-packages\\ipykernel_launcher.py:6: RuntimeWarning: More than 20 figures have been opened. Figures created through the pyplot interface (`matplotlib.pyplot.figure`) are retained until explicitly closed and may consume too much memory. (To control this warning, see the rcParam `figure.max_open_warning`).\n",
      "  \n",
      "C:\\Users\\emyms\\anaconda3\\envs\\skiprnn-2017-telecombcn\\lib\\site-packages\\ipykernel_launcher.py:6: RuntimeWarning: More than 20 figures have been opened. Figures created through the pyplot interface (`matplotlib.pyplot.figure`) are retained until explicitly closed and may consume too much memory. (To control this warning, see the rcParam `figure.max_open_warning`).\n",
      "  \n",
      "C:\\Users\\emyms\\anaconda3\\envs\\skiprnn-2017-telecombcn\\lib\\site-packages\\ipykernel_launcher.py:6: RuntimeWarning: More than 20 figures have been opened. Figures created through the pyplot interface (`matplotlib.pyplot.figure`) are retained until explicitly closed and may consume too much memory. (To control this warning, see the rcParam `figure.max_open_warning`).\n",
      "  \n",
      "C:\\Users\\emyms\\anaconda3\\envs\\skiprnn-2017-telecombcn\\lib\\site-packages\\ipykernel_launcher.py:6: RuntimeWarning: More than 20 figures have been opened. Figures created through the pyplot interface (`matplotlib.pyplot.figure`) are retained until explicitly closed and may consume too much memory. (To control this warning, see the rcParam `figure.max_open_warning`).\n",
      "  \n",
      "C:\\Users\\emyms\\anaconda3\\envs\\skiprnn-2017-telecombcn\\lib\\site-packages\\ipykernel_launcher.py:6: RuntimeWarning: More than 20 figures have been opened. Figures created through the pyplot interface (`matplotlib.pyplot.figure`) are retained until explicitly closed and may consume too much memory. (To control this warning, see the rcParam `figure.max_open_warning`).\n",
      "  \n",
      "C:\\Users\\emyms\\anaconda3\\envs\\skiprnn-2017-telecombcn\\lib\\site-packages\\ipykernel_launcher.py:6: RuntimeWarning: More than 20 figures have been opened. Figures created through the pyplot interface (`matplotlib.pyplot.figure`) are retained until explicitly closed and may consume too much memory. (To control this warning, see the rcParam `figure.max_open_warning`).\n",
      "  \n",
      "C:\\Users\\emyms\\anaconda3\\envs\\skiprnn-2017-telecombcn\\lib\\site-packages\\ipykernel_launcher.py:6: RuntimeWarning: More than 20 figures have been opened. Figures created through the pyplot interface (`matplotlib.pyplot.figure`) are retained until explicitly closed and may consume too much memory. (To control this warning, see the rcParam `figure.max_open_warning`).\n",
      "  \n",
      "C:\\Users\\emyms\\anaconda3\\envs\\skiprnn-2017-telecombcn\\lib\\site-packages\\ipykernel_launcher.py:6: RuntimeWarning: More than 20 figures have been opened. Figures created through the pyplot interface (`matplotlib.pyplot.figure`) are retained until explicitly closed and may consume too much memory. (To control this warning, see the rcParam `figure.max_open_warning`).\n",
      "  \n",
      "C:\\Users\\emyms\\anaconda3\\envs\\skiprnn-2017-telecombcn\\lib\\site-packages\\ipykernel_launcher.py:6: RuntimeWarning: More than 20 figures have been opened. Figures created through the pyplot interface (`matplotlib.pyplot.figure`) are retained until explicitly closed and may consume too much memory. (To control this warning, see the rcParam `figure.max_open_warning`).\n",
      "  \n",
      "C:\\Users\\emyms\\anaconda3\\envs\\skiprnn-2017-telecombcn\\lib\\site-packages\\ipykernel_launcher.py:6: RuntimeWarning: More than 20 figures have been opened. Figures created through the pyplot interface (`matplotlib.pyplot.figure`) are retained until explicitly closed and may consume too much memory. (To control this warning, see the rcParam `figure.max_open_warning`).\n",
      "  \n"
     ]
    },
    {
     "data": {
      "text/plain": "<Figure size 1440x1080 with 0 Axes>"
     },
     "metadata": {},
     "output_type": "display_data"
    },
    {
     "data": {
      "text/plain": "<Figure size 1440x1080 with 0 Axes>"
     },
     "metadata": {},
     "output_type": "display_data"
    },
    {
     "data": {
      "text/plain": "<Figure size 1440x1080 with 0 Axes>"
     },
     "metadata": {},
     "output_type": "display_data"
    },
    {
     "data": {
      "text/plain": "<Figure size 1440x1080 with 0 Axes>"
     },
     "metadata": {},
     "output_type": "display_data"
    },
    {
     "data": {
      "text/plain": "<Figure size 1440x1080 with 0 Axes>"
     },
     "metadata": {},
     "output_type": "display_data"
    },
    {
     "data": {
      "text/plain": "<Figure size 1440x1080 with 0 Axes>"
     },
     "metadata": {},
     "output_type": "display_data"
    },
    {
     "data": {
      "text/plain": "<Figure size 1440x1080 with 0 Axes>"
     },
     "metadata": {},
     "output_type": "display_data"
    },
    {
     "data": {
      "text/plain": "<Figure size 1440x1080 with 0 Axes>"
     },
     "metadata": {},
     "output_type": "display_data"
    },
    {
     "data": {
      "text/plain": "<Figure size 1440x1080 with 0 Axes>"
     },
     "metadata": {},
     "output_type": "display_data"
    },
    {
     "data": {
      "text/plain": "<Figure size 1440x1080 with 0 Axes>"
     },
     "metadata": {},
     "output_type": "display_data"
    },
    {
     "data": {
      "text/plain": "<Figure size 1440x1080 with 0 Axes>"
     },
     "metadata": {},
     "output_type": "display_data"
    },
    {
     "data": {
      "text/plain": "<Figure size 1440x1080 with 0 Axes>"
     },
     "metadata": {},
     "output_type": "display_data"
    },
    {
     "data": {
      "text/plain": "<Figure size 1440x1080 with 0 Axes>"
     },
     "metadata": {},
     "output_type": "display_data"
    },
    {
     "data": {
      "text/plain": "<Figure size 1440x1080 with 0 Axes>"
     },
     "metadata": {},
     "output_type": "display_data"
    },
    {
     "data": {
      "text/plain": "<Figure size 1440x1080 with 0 Axes>"
     },
     "metadata": {},
     "output_type": "display_data"
    },
    {
     "data": {
      "text/plain": "<Figure size 1440x1080 with 0 Axes>"
     },
     "metadata": {},
     "output_type": "display_data"
    },
    {
     "data": {
      "text/plain": "<Figure size 1440x1080 with 0 Axes>"
     },
     "metadata": {},
     "output_type": "display_data"
    },
    {
     "data": {
      "text/plain": "<Figure size 1440x1080 with 0 Axes>"
     },
     "metadata": {},
     "output_type": "display_data"
    },
    {
     "data": {
      "text/plain": "<Figure size 1440x1080 with 0 Axes>"
     },
     "metadata": {},
     "output_type": "display_data"
    },
    {
     "data": {
      "text/plain": "<Figure size 1440x1080 with 0 Axes>"
     },
     "metadata": {},
     "output_type": "display_data"
    },
    {
     "data": {
      "text/plain": "<Figure size 1440x1080 with 0 Axes>"
     },
     "metadata": {},
     "output_type": "display_data"
    },
    {
     "data": {
      "text/plain": "<Figure size 1440x1080 with 0 Axes>"
     },
     "metadata": {},
     "output_type": "display_data"
    },
    {
     "data": {
      "text/plain": "<Figure size 1440x1080 with 0 Axes>"
     },
     "metadata": {},
     "output_type": "display_data"
    },
    {
     "data": {
      "text/plain": "<Figure size 1440x1080 with 0 Axes>"
     },
     "metadata": {},
     "output_type": "display_data"
    },
    {
     "data": {
      "text/plain": "<Figure size 1440x1080 with 0 Axes>"
     },
     "metadata": {},
     "output_type": "display_data"
    },
    {
     "data": {
      "text/plain": "<Figure size 1440x1080 with 0 Axes>"
     },
     "metadata": {},
     "output_type": "display_data"
    },
    {
     "data": {
      "text/plain": "<Figure size 1440x1080 with 0 Axes>"
     },
     "metadata": {},
     "output_type": "display_data"
    },
    {
     "data": {
      "text/plain": "<Figure size 1440x1080 with 0 Axes>"
     },
     "metadata": {},
     "output_type": "display_data"
    },
    {
     "data": {
      "text/plain": "<Figure size 1440x1080 with 0 Axes>"
     },
     "metadata": {},
     "output_type": "display_data"
    },
    {
     "data": {
      "text/plain": "<Figure size 1440x1080 with 0 Axes>"
     },
     "metadata": {},
     "output_type": "display_data"
    },
    {
     "data": {
      "text/plain": "<Figure size 1440x1080 with 0 Axes>"
     },
     "metadata": {},
     "output_type": "display_data"
    },
    {
     "data": {
      "text/plain": "<Figure size 1440x1080 with 0 Axes>"
     },
     "metadata": {},
     "output_type": "display_data"
    },
    {
     "data": {
      "text/plain": "<Figure size 1440x1080 with 0 Axes>"
     },
     "metadata": {},
     "output_type": "display_data"
    },
    {
     "data": {
      "text/plain": "<Figure size 1440x1080 with 0 Axes>"
     },
     "metadata": {},
     "output_type": "display_data"
    },
    {
     "data": {
      "text/plain": "<Figure size 1440x1080 with 0 Axes>"
     },
     "metadata": {},
     "output_type": "display_data"
    },
    {
     "data": {
      "text/plain": "<Figure size 1440x1080 with 0 Axes>"
     },
     "metadata": {},
     "output_type": "display_data"
    },
    {
     "data": {
      "text/plain": "<Figure size 1440x1080 with 0 Axes>"
     },
     "metadata": {},
     "output_type": "display_data"
    },
    {
     "data": {
      "text/plain": "<Figure size 1440x1080 with 0 Axes>"
     },
     "metadata": {},
     "output_type": "display_data"
    },
    {
     "data": {
      "text/plain": "<Figure size 1440x1080 with 0 Axes>"
     },
     "metadata": {},
     "output_type": "display_data"
    },
    {
     "data": {
      "text/plain": "<Figure size 1440x1080 with 0 Axes>"
     },
     "metadata": {},
     "output_type": "display_data"
    },
    {
     "data": {
      "text/plain": "<Figure size 1440x1080 with 0 Axes>"
     },
     "metadata": {},
     "output_type": "display_data"
    },
    {
     "data": {
      "text/plain": "<Figure size 1440x1080 with 0 Axes>"
     },
     "metadata": {},
     "output_type": "display_data"
    },
    {
     "data": {
      "text/plain": "<Figure size 1440x1080 with 0 Axes>"
     },
     "metadata": {},
     "output_type": "display_data"
    },
    {
     "data": {
      "text/plain": "<Figure size 1440x1080 with 0 Axes>"
     },
     "metadata": {},
     "output_type": "display_data"
    },
    {
     "data": {
      "text/plain": "<Figure size 1440x1080 with 0 Axes>"
     },
     "metadata": {},
     "output_type": "display_data"
    },
    {
     "data": {
      "text/plain": "<Figure size 1440x1080 with 0 Axes>"
     },
     "metadata": {},
     "output_type": "display_data"
    },
    {
     "data": {
      "text/plain": "<Figure size 1440x1080 with 0 Axes>"
     },
     "metadata": {},
     "output_type": "display_data"
    },
    {
     "data": {
      "text/plain": "<Figure size 1440x1080 with 0 Axes>"
     },
     "metadata": {},
     "output_type": "display_data"
    },
    {
     "data": {
      "text/plain": "<Figure size 1440x1080 with 0 Axes>"
     },
     "metadata": {},
     "output_type": "display_data"
    },
    {
     "data": {
      "text/plain": "<Figure size 1440x1080 with 0 Axes>"
     },
     "metadata": {},
     "output_type": "display_data"
    },
    {
     "data": {
      "text/plain": "<Figure size 1440x1080 with 0 Axes>"
     },
     "metadata": {},
     "output_type": "display_data"
    },
    {
     "data": {
      "text/plain": "<Figure size 1440x1080 with 0 Axes>"
     },
     "metadata": {},
     "output_type": "display_data"
    },
    {
     "data": {
      "text/plain": "<Figure size 1440x1080 with 0 Axes>"
     },
     "metadata": {},
     "output_type": "display_data"
    },
    {
     "data": {
      "text/plain": "<Figure size 1440x1080 with 0 Axes>"
     },
     "metadata": {},
     "output_type": "display_data"
    },
    {
     "data": {
      "text/plain": "<Figure size 1440x1080 with 0 Axes>"
     },
     "metadata": {},
     "output_type": "display_data"
    },
    {
     "data": {
      "text/plain": "<Figure size 1440x1080 with 0 Axes>"
     },
     "metadata": {},
     "output_type": "display_data"
    },
    {
     "data": {
      "text/plain": "<Figure size 1440x1080 with 0 Axes>"
     },
     "metadata": {},
     "output_type": "display_data"
    },
    {
     "data": {
      "text/plain": "<Figure size 1440x1080 with 0 Axes>"
     },
     "metadata": {},
     "output_type": "display_data"
    },
    {
     "data": {
      "text/plain": "<Figure size 1440x1080 with 0 Axes>"
     },
     "metadata": {},
     "output_type": "display_data"
    },
    {
     "data": {
      "text/plain": "<Figure size 1440x1080 with 0 Axes>"
     },
     "metadata": {},
     "output_type": "display_data"
    },
    {
     "data": {
      "text/plain": "<Figure size 1440x1080 with 0 Axes>"
     },
     "metadata": {},
     "output_type": "display_data"
    },
    {
     "data": {
      "text/plain": "<Figure size 1440x1080 with 0 Axes>"
     },
     "metadata": {},
     "output_type": "display_data"
    },
    {
     "data": {
      "text/plain": "<Figure size 1440x1080 with 0 Axes>"
     },
     "metadata": {},
     "output_type": "display_data"
    },
    {
     "data": {
      "text/plain": "<Figure size 1440x1080 with 0 Axes>"
     },
     "metadata": {},
     "output_type": "display_data"
    },
    {
     "data": {
      "text/plain": "<Figure size 1440x1080 with 0 Axes>"
     },
     "metadata": {},
     "output_type": "display_data"
    },
    {
     "data": {
      "text/plain": "<Figure size 1440x1080 with 0 Axes>"
     },
     "metadata": {},
     "output_type": "display_data"
    },
    {
     "data": {
      "text/plain": "<Figure size 1440x1080 with 0 Axes>"
     },
     "metadata": {},
     "output_type": "display_data"
    },
    {
     "data": {
      "text/plain": "<Figure size 1440x1080 with 0 Axes>"
     },
     "metadata": {},
     "output_type": "display_data"
    },
    {
     "data": {
      "text/plain": "<Figure size 1440x1080 with 0 Axes>"
     },
     "metadata": {},
     "output_type": "display_data"
    },
    {
     "data": {
      "text/plain": "<Figure size 1440x1080 with 0 Axes>"
     },
     "metadata": {},
     "output_type": "display_data"
    },
    {
     "data": {
      "text/plain": "<Figure size 1440x1080 with 0 Axes>"
     },
     "metadata": {},
     "output_type": "display_data"
    },
    {
     "data": {
      "text/plain": "<Figure size 1440x1080 with 0 Axes>"
     },
     "metadata": {},
     "output_type": "display_data"
    },
    {
     "data": {
      "text/plain": "<Figure size 1440x1080 with 0 Axes>"
     },
     "metadata": {},
     "output_type": "display_data"
    },
    {
     "data": {
      "text/plain": "<Figure size 1440x1080 with 0 Axes>"
     },
     "metadata": {},
     "output_type": "display_data"
    }
   ],
   "source": [
    "if not os.path.exists(f\"{folder}/plots\"):\n",
    "    os.makedirs(f\"{folder}/plots\")\n",
    "\n",
    "for i, df in enumerate(csvs):\n",
    "    # df.loc[:, ['val_updates', 'train_updates']] = df[['val_updates', 'train_updates']] / 2520\n",
    "    fig = plt.figure()\n",
    "    ax1 = fig.add_subplot(111)\n",
    "\n",
    "    a = df[['val_acc', 'train_acc']].plot(figsize= (20, 15), ax=ax1, legend=None)\n",
    "    ax1.set_ylim(0, 1.01)\n",
    "    ax1.set_ylabel(\"Accuracy\")\n",
    "    # ax1.legend(loc=2)\n",
    "    lns = ax1.get_lines()\n",
    "    ax2 = ax1.twinx()\n",
    "    b = df['val_updates'].plot(ax=ax2, c='r', label=\"val_updates\")\n",
    "    c = df['train_updates'].plot(ax=ax2, c='g', label=\"train_updates\")\n",
    "    ax2.set_ylabel(\"Updates\")\n",
    "    ax2.set_xlabel(\"Epoch\")\n",
    "    ax2.set_ylim(0, 1.01)\n",
    "    # lns.append(ax2.get_lines)\n",
    "    # labs = [l.get_label() for l in lns]\n",
    "    fig.legend(bbox_to_anchor=(1,1), bbox_transform=ax1.transAxes)\n",
    "    fig.savefig(f\"{folder}/plots/idx{i}_acc{round(best_accs[i], 2)}_cps{csvs[i].cost_per_sample[0]}_s{csvs[i].surprisal_cost[0]}_exp{csvs[i].exp[0]}.png\")\n",
    "    plt.clf()"
   ]
  },
  {
   "cell_type": "code",
   "execution_count": 87,
   "metadata": {
    "pycharm": {
     "name": "#%%\n"
    }
   },
   "outputs": [],
   "source": [
    "# if not os.path.exists(f\"{folder}/lrplots\"):\n",
    "#     os.makedirs(f\"{folder}/lrplots\")\n",
    "#\n",
    "# for i, df in enumerate(lr0001):\n",
    "#     df[['val_acc', 'train_acc']].plot().get_figure().savefig(f\"{folder}/lrplots/idx{i}.png\")\n",
    "#"
   ]
  },
  {
   "cell_type": "code",
   "execution_count": 88,
   "metadata": {
    "pycharm": {
     "name": "#%%\n"
    }
   },
   "outputs": [],
   "source": [
    "# best_hyper = pd.concat(lr0001)\n",
    "#\n",
    "# best_hyper_diff = best_hyper['val_acc'].diff(15)\n",
    "# best_hyper_diff.abs().mean()\n"
   ]
  },
  {
   "cell_type": "code",
   "execution_count": 89,
   "outputs": [],
   "source": [
    "# s_read_vocab = []\n",
    "# s_skipped_vocab = []\n",
    "# ns_read_vocab = []\n",
    "# ns_skipped_vocab = []\n",
    "#\n",
    "# s_read_surp = []\n",
    "# s_skipped_surp = []\n",
    "# ns_read_surp = []\n",
    "# ns_skipped_surp = []\n",
    "#\n",
    "# i=0\n",
    "# for file in os.listdir(folder + '/analysis'):\n",
    "#     file = folder + '/analysis/' + file\n",
    "#     if \"pkl\" in file:\n",
    "#         if \"SC0.01\" in file:\n",
    "#             if \"non\" in file:\n",
    "#                 s_skipped_vocab.append(pickle.load(open(file, 'rb')))\n",
    "#             else:\n",
    "#                 s_read_vocab.append(pickle.load(open(file, 'rb')))\n",
    "#         else:\n",
    "#             if \"non\" in file:\n",
    "#                 ns_skipped_vocab.append(pickle.load(open(file, 'rb')))\n",
    "#             else:\n",
    "#                 ns_read_vocab.append(pickle.load(open(file, 'rb')))\n",
    "#     else:\n",
    "#         if \"SC0.01\" in file:\n",
    "#             if \"non\" in file:\n",
    "#                 s_skipped_surp.append(np.load(open(file, 'rb')))\n",
    "#             else:\n",
    "#                 s_read_surp.append(np.load(open(file, 'rb')))\n",
    "#         else:\n",
    "#             if \"non\" in file:\n",
    "#                 ns_skipped_surp.append(np.load(open(file, 'rb')))\n",
    "#             else:\n",
    "#                 ns_read_surp.append(np.load(open(file, 'rb')))\n",
    "#     i += 1\n",
    "#\n",
    "# print(f\"{i} files were condsidered ({i/4} experiments)\")\n",
    "#"
   ],
   "metadata": {
    "collapsed": false,
    "pycharm": {
     "name": "#%%\n"
    }
   }
  },
  {
   "cell_type": "code",
   "execution_count": 90,
   "outputs": [],
   "source": [
    "# nsr_surp = ns_read_surp[0]\n",
    "# nss_surp = ns_skipped_surp[0]\n",
    "#\n",
    "# print(len(nss_surp))\n",
    "# print(len(nsr_surp))\n",
    "#\n",
    "# print(nsr_surp.mean())\n",
    "# print(nss_surp.mean())\n",
    "#\n",
    "# plt.hist(nss_surp)\n",
    "# plt.hist(nsr_surp)\n",
    "# plt.show()\n",
    "#\n",
    "#\n",
    "#"
   ],
   "metadata": {
    "collapsed": false,
    "pycharm": {
     "name": "#%%\n"
    }
   }
  },
  {
   "cell_type": "code",
   "execution_count": 91,
   "outputs": [],
   "source": [
    "# sr_surp = s_read_surp[0]\n",
    "# ss_surp = s_skipped_surp[0]\n",
    "#\n",
    "# print(f\"skipped length {len(ss_surp)}\")\n",
    "# print(f\"read length {len(sr_surp)}\")\n",
    "#\n",
    "# print(f\"read surprisal {sr_surp.mean()}\")\n",
    "# print(f\"skipped surprisal {ss_surp.mean()}\")\n",
    "#\n",
    "# plt.hist(ss_surp)\n",
    "# plt.hist(sr_surp)\n",
    "# plt.show()\n",
    "#\n",
    "# # print(ss_surp)\n",
    "#\n",
    "# print(np.count_nonzero(sr_surp == 0))\n",
    "# print(np.count_nonzero(ss_surp == 0))\n",
    "#\n",
    "# print(s_skipped_vocab)\n",
    "# print(s_read_vocab)\n",
    "#"
   ],
   "metadata": {
    "collapsed": false,
    "pycharm": {
     "name": "#%%\n"
    }
   }
  }
 ],
 "metadata": {
  "kernelspec": {
   "display_name": "Python 3",
   "language": "python",
   "name": "python3"
  },
  "language_info": {
   "codemirror_mode": {
    "name": "ipython",
    "version": 3
   },
   "file_extension": ".py",
   "mimetype": "text/x-python",
   "name": "python",
   "nbconvert_exporter": "python",
   "pygments_lexer": "ipython3",
   "version": "3.7.7"
  }
 },
 "nbformat": 4,
 "nbformat_minor": 1
}