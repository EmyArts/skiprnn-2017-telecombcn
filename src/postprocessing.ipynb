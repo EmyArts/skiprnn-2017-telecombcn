{
 "cells": [
  {
   "cell_type": "code",
   "execution_count": 42,
   "metadata": {
    "collapsed": true,
    "pycharm": {
     "name": "#%% Import files\n"
    }
   },
   "outputs": [],
   "source": [
    "import pandas as pd\n",
    "import os\n",
    "\n",
    "folder = '../../Gridsearch_300720/csvs'\n",
    "\n",
    "csvs = []\n",
    "\n",
    "\n",
    "for file in os.listdir(folder):\n",
    "    df = pd.read_csv(folder + '/' + file)\n",
    "    df.rename(columns={'Unnamed: 0' : 'epoch'}, inplace=True)\n",
    "    df.dropna(inplace=True)\n",
    "    csvs.append(df)"
   ]
  },
  {
   "cell_type": "code",
   "execution_count": 43,
   "outputs": [
    {
     "data": {
      "text/plain": "Index(['epoch', 'batch_size', 'cost_per_sample', 'hidden_units',\n       'learning_rate', 'surprisal_cost', 'val_acc', 'val_updates',\n       'train_acc', 'train_updates'],\n      dtype='object')"
     },
     "execution_count": 43,
     "metadata": {},
     "output_type": "execute_result"
    }
   ],
   "source": [
    "csvs[0].columns"
   ],
   "metadata": {
    "collapsed": false,
    "pycharm": {
     "name": "#%%\n"
    }
   }
  },
  {
   "cell_type": "code",
   "execution_count": 44,
   "outputs": [
    {
     "data": {
      "text/plain": "            epoch  batch_size  cost_per_sample  hidden_units  learning_rate  \\\ncount  960.000000       960.0       960.000000    960.000000     960.000000   \nmean    19.500000        64.0         0.003387     64.000000       0.004225   \nstd     11.549413         0.0         0.002099     22.639211       0.004487   \nmin      0.000000        64.0         0.000100     32.000000       0.000100   \n25%      9.750000        64.0         0.001000     56.000000       0.001000   \n50%     19.500000        64.0         0.005000     64.000000       0.001000   \n75%     29.250000        64.0         0.005000     72.000000       0.010000   \nmax     39.000000        64.0         0.005000     96.000000       0.010000   \n\n       surprisal_cost        val_acc    val_updates      train_acc  \\\ncount      960.000000   9.600000e+02   9.600000e+02   9.600000e+02   \nmean         0.048542 -1.788501e+233  1.489653e+134 -2.763780e+225   \nstd          0.047359            inf  4.516781e+135            inf   \nmin          0.005000 -1.526187e+236   0.000000e+00 -2.653229e+228   \n25%          0.005000  1.679823e-322  8.488289e-314  2.441157e-313   \n50%          0.005000  2.209320e-308  2.209863e-308   1.000000e-01   \n75%          0.100000   5.207833e-01   4.963780e+01   5.291800e-01   \nmax          0.100000  1.117787e+138  1.399165e+137  2.907355e+135   \n\n       train_updates  \ncount   9.600000e+02  \nmean  -1.589779e+233  \nstd              inf  \nmin   -1.526187e+236  \n25%    1.976263e-322  \n50%    2.209863e-308  \n75%     7.602090e+01  \nmax     2.520000e+03  ",
      "text/html": "<div>\n<style scoped>\n    .dataframe tbody tr th:only-of-type {\n        vertical-align: middle;\n    }\n\n    .dataframe tbody tr th {\n        vertical-align: top;\n    }\n\n    .dataframe thead th {\n        text-align: right;\n    }\n</style>\n<table border=\"1\" class=\"dataframe\">\n  <thead>\n    <tr style=\"text-align: right;\">\n      <th></th>\n      <th>epoch</th>\n      <th>batch_size</th>\n      <th>cost_per_sample</th>\n      <th>hidden_units</th>\n      <th>learning_rate</th>\n      <th>surprisal_cost</th>\n      <th>val_acc</th>\n      <th>val_updates</th>\n      <th>train_acc</th>\n      <th>train_updates</th>\n    </tr>\n  </thead>\n  <tbody>\n    <tr>\n      <th>count</th>\n      <td>960.000000</td>\n      <td>960.0</td>\n      <td>960.000000</td>\n      <td>960.000000</td>\n      <td>960.000000</td>\n      <td>960.000000</td>\n      <td>9.600000e+02</td>\n      <td>9.600000e+02</td>\n      <td>9.600000e+02</td>\n      <td>9.600000e+02</td>\n    </tr>\n    <tr>\n      <th>mean</th>\n      <td>19.500000</td>\n      <td>64.0</td>\n      <td>0.003387</td>\n      <td>64.000000</td>\n      <td>0.004225</td>\n      <td>0.048542</td>\n      <td>-1.788501e+233</td>\n      <td>1.489653e+134</td>\n      <td>-2.763780e+225</td>\n      <td>-1.589779e+233</td>\n    </tr>\n    <tr>\n      <th>std</th>\n      <td>11.549413</td>\n      <td>0.0</td>\n      <td>0.002099</td>\n      <td>22.639211</td>\n      <td>0.004487</td>\n      <td>0.047359</td>\n      <td>inf</td>\n      <td>4.516781e+135</td>\n      <td>inf</td>\n      <td>inf</td>\n    </tr>\n    <tr>\n      <th>min</th>\n      <td>0.000000</td>\n      <td>64.0</td>\n      <td>0.000100</td>\n      <td>32.000000</td>\n      <td>0.000100</td>\n      <td>0.005000</td>\n      <td>-1.526187e+236</td>\n      <td>0.000000e+00</td>\n      <td>-2.653229e+228</td>\n      <td>-1.526187e+236</td>\n    </tr>\n    <tr>\n      <th>25%</th>\n      <td>9.750000</td>\n      <td>64.0</td>\n      <td>0.001000</td>\n      <td>56.000000</td>\n      <td>0.001000</td>\n      <td>0.005000</td>\n      <td>1.679823e-322</td>\n      <td>8.488289e-314</td>\n      <td>2.441157e-313</td>\n      <td>1.976263e-322</td>\n    </tr>\n    <tr>\n      <th>50%</th>\n      <td>19.500000</td>\n      <td>64.0</td>\n      <td>0.005000</td>\n      <td>64.000000</td>\n      <td>0.001000</td>\n      <td>0.005000</td>\n      <td>2.209320e-308</td>\n      <td>2.209863e-308</td>\n      <td>1.000000e-01</td>\n      <td>2.209863e-308</td>\n    </tr>\n    <tr>\n      <th>75%</th>\n      <td>29.250000</td>\n      <td>64.0</td>\n      <td>0.005000</td>\n      <td>72.000000</td>\n      <td>0.010000</td>\n      <td>0.100000</td>\n      <td>5.207833e-01</td>\n      <td>4.963780e+01</td>\n      <td>5.291800e-01</td>\n      <td>7.602090e+01</td>\n    </tr>\n    <tr>\n      <th>max</th>\n      <td>39.000000</td>\n      <td>64.0</td>\n      <td>0.005000</td>\n      <td>96.000000</td>\n      <td>0.010000</td>\n      <td>0.100000</td>\n      <td>1.117787e+138</td>\n      <td>1.399165e+137</td>\n      <td>2.907355e+135</td>\n      <td>2.520000e+03</td>\n    </tr>\n  </tbody>\n</table>\n</div>"
     },
     "execution_count": 44,
     "metadata": {},
     "output_type": "execute_result"
    }
   ],
   "source": [
    "big_df = pd.concat(csvs)\n",
    "\n",
    "big_df.dropna(inplace = True)\n",
    "big_df.describe()"
   ],
   "metadata": {
    "collapsed": false,
    "pycharm": {
     "name": "#%%\n"
    }
   }
  },
  {
   "cell_type": "code",
   "execution_count": 62,
   "outputs": [],
   "source": [
    "best_rows = []\n",
    "for df in csvs:\n",
    "    best_rows.append(df.loc[df.loc[:, 'val_acc'].argmax()].to_dict())"
   ],
   "metadata": {
    "collapsed": false,
    "pycharm": {
     "name": "#%%\n"
    }
   }
  },
  {
   "cell_type": "code",
   "execution_count": 78,
   "outputs": [],
   "source": [
    "best_df = pd.DataFrame(best_rows)"
   ],
   "metadata": {
    "collapsed": false,
    "pycharm": {
     "name": "#%%\n"
    }
   }
  },
  {
   "cell_type": "code",
   "execution_count": 85,
   "outputs": [],
   "source": [
    "best_df\n",
    "\n",
    "bs64_best = best_df.loc[(best_df['batch_size'] == 64)]\n"
   ],
   "metadata": {
    "collapsed": false,
    "pycharm": {
     "name": "#%%\n"
    }
   }
  },
  {
   "cell_type": "code",
   "execution_count": 88,
   "outputs": [
    {
     "data": {
      "text/plain": "    epoch  batch_size  cost_per_sample  hidden_units  learning_rate  \\\n11    9.0        64.0           0.0010          32.0         0.0010   \n12    9.0        64.0           0.0050          32.0         0.0010   \n13    3.0        64.0           0.0050          32.0         0.0010   \n14   27.0        64.0           0.0010          32.0         0.0100   \n15    4.0        64.0           0.0050          32.0         0.0100   \n16    0.0        64.0           0.0050          32.0         0.0100   \n24    4.0        64.0           0.0050          64.0         0.0001   \n25    6.0        64.0           0.0050          64.0         0.0001   \n26    7.0        64.0           0.0001          64.0         0.0010   \n27    4.0        64.0           0.0010          64.0         0.0010   \n28   12.0        64.0           0.0010          64.0         0.0010   \n29    5.0        64.0           0.0050          64.0         0.0010   \n30    9.0        64.0           0.0050          64.0         0.0010   \n31    0.0        64.0           0.0001          64.0         0.0100   \n32    5.0        64.0           0.0010          64.0         0.0100   \n33    0.0        64.0           0.0010          64.0         0.0100   \n34    0.0        64.0           0.0050          64.0         0.0100   \n35   11.0        64.0           0.0050          64.0         0.0100   \n48    7.0        64.0           0.0050          96.0         0.0001   \n49   39.0        64.0           0.0050          96.0         0.0001   \n50    1.0        64.0           0.0001          96.0         0.0010   \n51    4.0        64.0           0.0050          96.0         0.0010   \n52    3.0        64.0           0.0050          96.0         0.0010   \n53    0.0        64.0           0.0050          96.0         0.0100   \n\n    surprisal_cost        val_acc    val_updates      train_acc  \\\n11           0.005   8.182091e-01   1.755817e+02   7.946047e-01   \n12           0.005   6.481370e-01   1.224399e+01   6.386218e-01   \n13           0.100   6.322115e-01   5.088261e+01   6.137821e-01   \n14           0.005  1.117787e+138  2.792172e-309   1.410593e-37   \n15           0.005   5.411659e-01   2.375100e+00   5.297142e-01   \n16           0.100   5.025040e-01   2.522736e+00   5.116854e-01   \n24           0.005   5.799279e-01   4.550982e+00   5.623665e-01   \n25           0.100   5.705128e-01   4.836138e+00   5.602297e-01   \n26           0.100   8.383413e-01   2.442091e+02   8.291266e-01   \n27           0.005   7.800481e-01   8.863732e+01   7.694979e-01   \n28           0.100   7.987780e-01   1.209298e+02   8.042201e-01   \n29           0.005   5.567909e-01   4.661559e+00   5.500134e-01   \n30           0.100   5.728165e-01   7.341937e+01   5.606303e-01   \n31           0.100   4.991987e-01   2.520000e+03   5.020032e-01   \n32           0.005   5.617989e-01   1.000000e+00   5.558894e-01   \n33           0.100   5.007011e-01   5.978743e+02   5.091480e-01   \n34           0.005   4.991987e-01   3.009938e+02   5.016026e-01   \n35           0.100   5.640024e-01   1.000000e+00   5.628339e-01   \n48           0.005   5.802284e-01   4.012921e+00   5.685764e-01   \n49           0.100   1.556993e+85  1.399165e+137  6.922000e-310   \n50           0.005   7.633213e-01   2.158507e+02   7.355101e-01   \n51           0.005   5.666066e-01   2.136418e+00   5.422676e-01   \n52           0.100   5.906450e-01   4.163362e+00   5.953526e-01   \n53           0.005   4.991987e-01   2.520000e+03   5.018029e-01   \n\n    train_updates early_stopping  \n11   1.469790e+02            yes  \n12   1.176689e+01            yes  \n13   1.605769e+01            yes  \n14  6.946698e-310            yes  \n15   2.183427e+00            yes  \n16   4.574192e+01            yes  \n24   4.581664e+00            yes  \n25   4.792001e+00            yes  \n26   2.492849e+02            yes  \n27   7.573071e+01            yes  \n28   1.055244e+02            yes  \n29   4.500334e+00            yes  \n30   8.329594e+00            yes  \n31   2.399295e+03            yes  \n32   1.000000e+00            yes  \n33   9.729347e+01            yes  \n34   2.352310e+02            yes  \n35   1.000000e+00            yes  \n48   4.179020e+00            yes  \n49  2.786776e-309            yes  \n50   1.202394e+02            yes  \n51   2.414530e+00            yes  \n52   6.054821e+00            yes  \n53   2.464004e+03            yes  ",
      "text/html": "<div>\n<style scoped>\n    .dataframe tbody tr th:only-of-type {\n        vertical-align: middle;\n    }\n\n    .dataframe tbody tr th {\n        vertical-align: top;\n    }\n\n    .dataframe thead th {\n        text-align: right;\n    }\n</style>\n<table border=\"1\" class=\"dataframe\">\n  <thead>\n    <tr style=\"text-align: right;\">\n      <th></th>\n      <th>epoch</th>\n      <th>batch_size</th>\n      <th>cost_per_sample</th>\n      <th>hidden_units</th>\n      <th>learning_rate</th>\n      <th>surprisal_cost</th>\n      <th>val_acc</th>\n      <th>val_updates</th>\n      <th>train_acc</th>\n      <th>train_updates</th>\n      <th>early_stopping</th>\n    </tr>\n  </thead>\n  <tbody>\n    <tr>\n      <th>11</th>\n      <td>9.0</td>\n      <td>64.0</td>\n      <td>0.0010</td>\n      <td>32.0</td>\n      <td>0.0010</td>\n      <td>0.005</td>\n      <td>8.182091e-01</td>\n      <td>1.755817e+02</td>\n      <td>7.946047e-01</td>\n      <td>1.469790e+02</td>\n      <td>yes</td>\n    </tr>\n    <tr>\n      <th>12</th>\n      <td>9.0</td>\n      <td>64.0</td>\n      <td>0.0050</td>\n      <td>32.0</td>\n      <td>0.0010</td>\n      <td>0.005</td>\n      <td>6.481370e-01</td>\n      <td>1.224399e+01</td>\n      <td>6.386218e-01</td>\n      <td>1.176689e+01</td>\n      <td>yes</td>\n    </tr>\n    <tr>\n      <th>13</th>\n      <td>3.0</td>\n      <td>64.0</td>\n      <td>0.0050</td>\n      <td>32.0</td>\n      <td>0.0010</td>\n      <td>0.100</td>\n      <td>6.322115e-01</td>\n      <td>5.088261e+01</td>\n      <td>6.137821e-01</td>\n      <td>1.605769e+01</td>\n      <td>yes</td>\n    </tr>\n    <tr>\n      <th>14</th>\n      <td>27.0</td>\n      <td>64.0</td>\n      <td>0.0010</td>\n      <td>32.0</td>\n      <td>0.0100</td>\n      <td>0.005</td>\n      <td>1.117787e+138</td>\n      <td>2.792172e-309</td>\n      <td>1.410593e-37</td>\n      <td>6.946698e-310</td>\n      <td>yes</td>\n    </tr>\n    <tr>\n      <th>15</th>\n      <td>4.0</td>\n      <td>64.0</td>\n      <td>0.0050</td>\n      <td>32.0</td>\n      <td>0.0100</td>\n      <td>0.005</td>\n      <td>5.411659e-01</td>\n      <td>2.375100e+00</td>\n      <td>5.297142e-01</td>\n      <td>2.183427e+00</td>\n      <td>yes</td>\n    </tr>\n    <tr>\n      <th>16</th>\n      <td>0.0</td>\n      <td>64.0</td>\n      <td>0.0050</td>\n      <td>32.0</td>\n      <td>0.0100</td>\n      <td>0.100</td>\n      <td>5.025040e-01</td>\n      <td>2.522736e+00</td>\n      <td>5.116854e-01</td>\n      <td>4.574192e+01</td>\n      <td>yes</td>\n    </tr>\n    <tr>\n      <th>24</th>\n      <td>4.0</td>\n      <td>64.0</td>\n      <td>0.0050</td>\n      <td>64.0</td>\n      <td>0.0001</td>\n      <td>0.005</td>\n      <td>5.799279e-01</td>\n      <td>4.550982e+00</td>\n      <td>5.623665e-01</td>\n      <td>4.581664e+00</td>\n      <td>yes</td>\n    </tr>\n    <tr>\n      <th>25</th>\n      <td>6.0</td>\n      <td>64.0</td>\n      <td>0.0050</td>\n      <td>64.0</td>\n      <td>0.0001</td>\n      <td>0.100</td>\n      <td>5.705128e-01</td>\n      <td>4.836138e+00</td>\n      <td>5.602297e-01</td>\n      <td>4.792001e+00</td>\n      <td>yes</td>\n    </tr>\n    <tr>\n      <th>26</th>\n      <td>7.0</td>\n      <td>64.0</td>\n      <td>0.0001</td>\n      <td>64.0</td>\n      <td>0.0010</td>\n      <td>0.100</td>\n      <td>8.383413e-01</td>\n      <td>2.442091e+02</td>\n      <td>8.291266e-01</td>\n      <td>2.492849e+02</td>\n      <td>yes</td>\n    </tr>\n    <tr>\n      <th>27</th>\n      <td>4.0</td>\n      <td>64.0</td>\n      <td>0.0010</td>\n      <td>64.0</td>\n      <td>0.0010</td>\n      <td>0.005</td>\n      <td>7.800481e-01</td>\n      <td>8.863732e+01</td>\n      <td>7.694979e-01</td>\n      <td>7.573071e+01</td>\n      <td>yes</td>\n    </tr>\n    <tr>\n      <th>28</th>\n      <td>12.0</td>\n      <td>64.0</td>\n      <td>0.0010</td>\n      <td>64.0</td>\n      <td>0.0010</td>\n      <td>0.100</td>\n      <td>7.987780e-01</td>\n      <td>1.209298e+02</td>\n      <td>8.042201e-01</td>\n      <td>1.055244e+02</td>\n      <td>yes</td>\n    </tr>\n    <tr>\n      <th>29</th>\n      <td>5.0</td>\n      <td>64.0</td>\n      <td>0.0050</td>\n      <td>64.0</td>\n      <td>0.0010</td>\n      <td>0.005</td>\n      <td>5.567909e-01</td>\n      <td>4.661559e+00</td>\n      <td>5.500134e-01</td>\n      <td>4.500334e+00</td>\n      <td>yes</td>\n    </tr>\n    <tr>\n      <th>30</th>\n      <td>9.0</td>\n      <td>64.0</td>\n      <td>0.0050</td>\n      <td>64.0</td>\n      <td>0.0010</td>\n      <td>0.100</td>\n      <td>5.728165e-01</td>\n      <td>7.341937e+01</td>\n      <td>5.606303e-01</td>\n      <td>8.329594e+00</td>\n      <td>yes</td>\n    </tr>\n    <tr>\n      <th>31</th>\n      <td>0.0</td>\n      <td>64.0</td>\n      <td>0.0001</td>\n      <td>64.0</td>\n      <td>0.0100</td>\n      <td>0.100</td>\n      <td>4.991987e-01</td>\n      <td>2.520000e+03</td>\n      <td>5.020032e-01</td>\n      <td>2.399295e+03</td>\n      <td>yes</td>\n    </tr>\n    <tr>\n      <th>32</th>\n      <td>5.0</td>\n      <td>64.0</td>\n      <td>0.0010</td>\n      <td>64.0</td>\n      <td>0.0100</td>\n      <td>0.005</td>\n      <td>5.617989e-01</td>\n      <td>1.000000e+00</td>\n      <td>5.558894e-01</td>\n      <td>1.000000e+00</td>\n      <td>yes</td>\n    </tr>\n    <tr>\n      <th>33</th>\n      <td>0.0</td>\n      <td>64.0</td>\n      <td>0.0010</td>\n      <td>64.0</td>\n      <td>0.0100</td>\n      <td>0.100</td>\n      <td>5.007011e-01</td>\n      <td>5.978743e+02</td>\n      <td>5.091480e-01</td>\n      <td>9.729347e+01</td>\n      <td>yes</td>\n    </tr>\n    <tr>\n      <th>34</th>\n      <td>0.0</td>\n      <td>64.0</td>\n      <td>0.0050</td>\n      <td>64.0</td>\n      <td>0.0100</td>\n      <td>0.005</td>\n      <td>4.991987e-01</td>\n      <td>3.009938e+02</td>\n      <td>5.016026e-01</td>\n      <td>2.352310e+02</td>\n      <td>yes</td>\n    </tr>\n    <tr>\n      <th>35</th>\n      <td>11.0</td>\n      <td>64.0</td>\n      <td>0.0050</td>\n      <td>64.0</td>\n      <td>0.0100</td>\n      <td>0.100</td>\n      <td>5.640024e-01</td>\n      <td>1.000000e+00</td>\n      <td>5.628339e-01</td>\n      <td>1.000000e+00</td>\n      <td>yes</td>\n    </tr>\n    <tr>\n      <th>48</th>\n      <td>7.0</td>\n      <td>64.0</td>\n      <td>0.0050</td>\n      <td>96.0</td>\n      <td>0.0001</td>\n      <td>0.005</td>\n      <td>5.802284e-01</td>\n      <td>4.012921e+00</td>\n      <td>5.685764e-01</td>\n      <td>4.179020e+00</td>\n      <td>yes</td>\n    </tr>\n    <tr>\n      <th>49</th>\n      <td>39.0</td>\n      <td>64.0</td>\n      <td>0.0050</td>\n      <td>96.0</td>\n      <td>0.0001</td>\n      <td>0.100</td>\n      <td>1.556993e+85</td>\n      <td>1.399165e+137</td>\n      <td>6.922000e-310</td>\n      <td>2.786776e-309</td>\n      <td>yes</td>\n    </tr>\n    <tr>\n      <th>50</th>\n      <td>1.0</td>\n      <td>64.0</td>\n      <td>0.0001</td>\n      <td>96.0</td>\n      <td>0.0010</td>\n      <td>0.005</td>\n      <td>7.633213e-01</td>\n      <td>2.158507e+02</td>\n      <td>7.355101e-01</td>\n      <td>1.202394e+02</td>\n      <td>yes</td>\n    </tr>\n    <tr>\n      <th>51</th>\n      <td>4.0</td>\n      <td>64.0</td>\n      <td>0.0050</td>\n      <td>96.0</td>\n      <td>0.0010</td>\n      <td>0.005</td>\n      <td>5.666066e-01</td>\n      <td>2.136418e+00</td>\n      <td>5.422676e-01</td>\n      <td>2.414530e+00</td>\n      <td>yes</td>\n    </tr>\n    <tr>\n      <th>52</th>\n      <td>3.0</td>\n      <td>64.0</td>\n      <td>0.0050</td>\n      <td>96.0</td>\n      <td>0.0010</td>\n      <td>0.100</td>\n      <td>5.906450e-01</td>\n      <td>4.163362e+00</td>\n      <td>5.953526e-01</td>\n      <td>6.054821e+00</td>\n      <td>yes</td>\n    </tr>\n    <tr>\n      <th>53</th>\n      <td>0.0</td>\n      <td>64.0</td>\n      <td>0.0050</td>\n      <td>96.0</td>\n      <td>0.0100</td>\n      <td>0.005</td>\n      <td>4.991987e-01</td>\n      <td>2.520000e+03</td>\n      <td>5.018029e-01</td>\n      <td>2.464004e+03</td>\n      <td>yes</td>\n    </tr>\n  </tbody>\n</table>\n</div>"
     },
     "execution_count": 88,
     "metadata": {},
     "output_type": "execute_result"
    }
   ],
   "source": [
    "bs64_best\n"
   ],
   "metadata": {
    "collapsed": false,
    "pycharm": {
     "name": "#%%\n"
    }
   }
  }
 ],
 "metadata": {
  "kernelspec": {
   "display_name": "Python 3",
   "language": "python",
   "name": "python3"
  },
  "language_info": {
   "codemirror_mode": {
    "name": "ipython",
    "version": 2
   },
   "file_extension": ".py",
   "mimetype": "text/x-python",
   "name": "python",
   "nbconvert_exporter": "python",
   "pygments_lexer": "ipython2",
   "version": "2.7.6"
  }
 },
 "nbformat": 4,
 "nbformat_minor": 0
}